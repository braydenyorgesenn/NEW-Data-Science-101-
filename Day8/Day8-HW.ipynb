{
 "cells": [
  {
   "cell_type": "markdown",
   "id": "a9215f5c-525b-4508-8b0d-700f55cbd252",
   "metadata": {},
   "source": [
    "## Introduction to Data Science\n",
    "\n",
    "#### University of Redlands - DATA 101\n",
    "#### Prof: Joanna Bieri [joanna_bieri@redlands.edu](mailto:joanna_bieri@redlands.edu)\n",
    "#### [Class Website: data101.joannabieri.com](https://joannabieri.com/data101.html)\n",
    "\n",
    "---------------------------------------\n",
    "# Homework Day 8\n",
    "---------------------------------------\n",
    "\n",
    "GOALS:\n",
    "\n",
    "1. Load data into Python that you find online\n",
    "2. Understand data types and fix some errors\n",
    "3. Find your own data to play with\n",
    "\n",
    "----------------------------------------------------------\n",
    "\n",
    "This homework has **5 questions** and **1 problem**.\n",
    "\n",
    "NOTE: Be kind to yourself. Working with data can be hard! Every data set is different. **Seriously** come get help! Come to lab!\n"
   ]
  },
  {
   "cell_type": "code",
   "execution_count": 2,
   "id": "049c24b6-a6c1-4ccc-b2de-5ea0366d09f8",
   "metadata": {},
   "outputs": [],
   "source": [
    "import numpy as np\n",
    "import pandas as pd\n",
    "\n",
    "import matplotlib.pyplot as plt\n",
    "import plotly.express as px\n",
    "from plotly.subplots import make_subplots\n",
    "import plotly.io as pio\n",
    "pio.renderers.defaule = 'colab'\n",
    "\n",
    "from itables import show"
   ]
  },
  {
   "cell_type": "markdown",
   "id": "9c942910-0e2f-4428-95b6-1ca89c228405",
   "metadata": {},
   "source": [
    "You might need to install lxml. If you get a \"ImportError: Missing optional dependency 'lxml'\" Then uncomment and run the cell below"
   ]
  },
  {
   "cell_type": "code",
   "execution_count": 3,
   "id": "3d4ea0c4-7b90-48a6-bd63-684f33d12d79",
   "metadata": {},
   "outputs": [
    {
     "name": "stdout",
     "output_type": "stream",
     "text": [
      "Jupyter detected...\n",
      "3 channel Terms of Service accepted\n",
      "Retrieving notices: done\n",
      "Channels:\n",
      " - conda-forge\n",
      " - defaults\n",
      "Platform: win-64\n",
      "Collecting package metadata (repodata.json): done\n",
      "Solving environment: done\n",
      "\n",
      "## Package Plan ##\n",
      "\n",
      "  environment location: C:\\Users\\brayd\\anaconda3\n",
      "\n",
      "  added / updated specs:\n",
      "    - lxml\n",
      "\n",
      "\n",
      "The following packages will be downloaded:\n",
      "\n",
      "    package                    |            build\n",
      "    ---------------------------|-----------------\n",
      "    ca-certificates-2025.10.5  |       h4c7d964_0         153 KB  conda-forge\n",
      "    certifi-2025.10.5          |     pyhd8ed1ab_0         156 KB  conda-forge\n",
      "    ------------------------------------------------------------\n",
      "                                           Total:         309 KB\n",
      "\n",
      "The following packages will be UPDATED:\n",
      "\n",
      "  ca-certificates                       2025.8.3-h4c7d964_0 --> 2025.10.5-h4c7d964_0 \n",
      "  certifi            pkgs/main/win-64::certifi-2025.8.3-py~ --> conda-forge/noarch::certifi-2025.10.5-pyhd8ed1ab_0 \n",
      "\n",
      "\n",
      "\n",
      "Downloading and Extracting Packages: ...working...\n",
      "certifi-2025.10.5    | 156 KB    |            |   0% \n",
      "\n",
      "ca-certificates-2025 | 153 KB    |            |   0% \u001b[A\n",
      "certifi-2025.10.5    | 156 KB    | #          |  10% \n",
      "\n",
      "ca-certificates-2025 | 153 KB    | #          |  10% \u001b[A\n",
      "certifi-2025.10.5    | 156 KB    | ########## | 100% \n",
      "\n",
      "ca-certificates-2025 | 153 KB    | ########## | 100% \u001b[A\n",
      "\n",
      "ca-certificates-2025 | 153 KB    | ########## | 100% \u001b[A\n",
      "\n",
      "ca-certificates-2025 | 153 KB    | ########## | 100% \u001b[A\n",
      "certifi-2025.10.5    | 156 KB    | ########## | 100% \n",
      "certifi-2025.10.5    | 156 KB    | ########## | 100% \n",
      "                                                     \n",
      "\n",
      "\n",
      "                                                     \u001b[A done\n",
      "Preparing transaction: done\n",
      "Verifying transaction: done\n",
      "Executing transaction: done\n"
     ]
    },
    {
     "name": "stderr",
     "output_type": "stream",
     "text": [
      "\n",
      "\n",
      "==> WARNING: A newer version of conda exists. <==\n",
      "    current version: 25.7.0\n",
      "    latest version: 25.9.0\n",
      "\n",
      "Please update conda by running\n",
      "\n",
      "    $ conda update -n base -c conda-forge conda\n",
      "\n",
      "\n"
     ]
    }
   ],
   "source": [
    "!conda install -y lxml"
   ]
  },
  {
   "cell_type": "markdown",
   "id": "23773272-c059-4148-a5a8-91e9da594c46",
   "metadata": {},
   "source": [
    "## Try reading in some data - csv\n",
    "\n",
    "Go to the [Cal Fire Website](https://www.fire.ca.gov/incidents) and scroll to the bottom to see the Incident Data. We will download the file named **ALL DATA AS CSV** this should put the data file into your Downloads folder. \n",
    "\n",
    "Next you need to move the file **mapdataall.csv** from your Downloads folder into your Day8 folder where you are doing your homework. You can open your Downloads folder and drag the file into JupyterLab side bar. Then I can run the command\n",
    "\n",
    "    DF_raw = pd.read_csv('mapdataall.csv')\n",
    "\n",
    "to load the data and look at the data frame."
   ]
  },
  {
   "cell_type": "code",
   "execution_count": 4,
   "id": "e90fdd5f-bd17-4c94-b3f4-7ddc998bd001",
   "metadata": {},
   "outputs": [],
   "source": [
    "DF = pd.read_csv('mapdataall.csv')"
   ]
  },
  {
   "cell_type": "code",
   "execution_count": 11,
   "id": "076c67c4-f2e9-4e15-b2a0-0cd035e50779",
   "metadata": {},
   "outputs": [
    {
     "data": {
      "text/html": [
       "<!--| quarto-html-table-processing: none -->\n",
       "<table id=\"itables_56851a08_8e27_457d_9b05_805d04c2f25e\"><tbody><tr>\n",
       "    <td style=\"vertical-align:middle; text-align:left\">\n",
       "    <a href=https://mwouts.github.io/itables/><svg class=\"main-svg\" xmlns=\"http://www.w3.org/2000/svg\" xmlns:xlink=\"http://www.w3.org/1999/xlink\"\n",
       "width=\"64\" viewBox=\"0 0 500 400\" style=\"font-family: 'Droid Sans', sans-serif;\">\n",
       "    <g style=\"fill:#d9d7fc\">\n",
       "        <path d=\"M100,400H500V357H100Z\" />\n",
       "        <path d=\"M100,300H400V257H100Z\" />\n",
       "        <path d=\"M0,200H400V157H0Z\" />\n",
       "        <path d=\"M100,100H500V57H100Z\" />\n",
       "        <path d=\"M100,350H500V307H100Z\" />\n",
       "        <path d=\"M100,250H400V207H100Z\" />\n",
       "        <path d=\"M0,150H400V107H0Z\" />\n",
       "        <path d=\"M100,50H500V7H100Z\" />\n",
       "    </g>\n",
       "    <g style=\"fill:#1a1366;stroke:#1a1366;\">\n",
       "   <rect x=\"100\" y=\"7\" width=\"400\" height=\"43\">\n",
       "    <animate\n",
       "      attributeName=\"width\"\n",
       "      values=\"0;400;0\"\n",
       "      dur=\"5s\"\n",
       "      repeatCount=\"indefinite\" />\n",
       "      <animate\n",
       "      attributeName=\"x\"\n",
       "      values=\"100;100;500\"\n",
       "      dur=\"5s\"\n",
       "      repeatCount=\"indefinite\" />\n",
       "  </rect>\n",
       "        <rect x=\"0\" y=\"107\" width=\"400\" height=\"43\">\n",
       "    <animate\n",
       "      attributeName=\"width\"\n",
       "      values=\"0;400;0\"\n",
       "      dur=\"3.5s\"\n",
       "      repeatCount=\"indefinite\" />\n",
       "    <animate\n",
       "      attributeName=\"x\"\n",
       "      values=\"0;0;400\"\n",
       "      dur=\"3.5s\"\n",
       "      repeatCount=\"indefinite\" />\n",
       "  </rect>\n",
       "        <rect x=\"100\" y=\"207\" width=\"300\" height=\"43\">\n",
       "    <animate\n",
       "      attributeName=\"width\"\n",
       "      values=\"0;300;0\"\n",
       "      dur=\"3s\"\n",
       "      repeatCount=\"indefinite\" />\n",
       "    <animate\n",
       "      attributeName=\"x\"\n",
       "      values=\"100;100;400\"\n",
       "      dur=\"3s\"\n",
       "      repeatCount=\"indefinite\" />\n",
       "  </rect>\n",
       "        <rect x=\"100\" y=\"307\" width=\"400\" height=\"43\">\n",
       "    <animate\n",
       "      attributeName=\"width\"\n",
       "      values=\"0;400;0\"\n",
       "      dur=\"4s\"\n",
       "      repeatCount=\"indefinite\" />\n",
       "      <animate\n",
       "      attributeName=\"x\"\n",
       "      values=\"100;100;500\"\n",
       "      dur=\"4s\"\n",
       "      repeatCount=\"indefinite\" />\n",
       "  </rect>\n",
       "        <g style=\"fill:transparent;stroke-width:8; stroke-linejoin:round\" rx=\"5\">\n",
       "            <g transform=\"translate(45 50) rotate(-45)\">\n",
       "                <circle r=\"33\" cx=\"0\" cy=\"0\" />\n",
       "                <rect x=\"-8\" y=\"32\" width=\"16\" height=\"30\" />\n",
       "            </g>\n",
       "\n",
       "            <g transform=\"translate(450 152)\">\n",
       "                <polyline points=\"-15,-20 -35,-20 -35,40 25,40 25,20\" />\n",
       "                <rect x=\"-15\" y=\"-40\" width=\"60\" height=\"60\" />\n",
       "            </g>\n",
       "\n",
       "            <g transform=\"translate(50 352)\">\n",
       "                <polygon points=\"-35,-5 0,-40 35,-5\" />\n",
       "                <polygon points=\"-35,10 0,45 35,10\" />\n",
       "            </g>\n",
       "\n",
       "            <g transform=\"translate(75 250)\">\n",
       "                <polyline points=\"-30,30 -60,0 -30,-30\" />\n",
       "                <polyline points=\"0,30 -30,0 0,-30\" />\n",
       "            </g>\n",
       "\n",
       "            <g transform=\"translate(425 250) rotate(180)\">\n",
       "                <polyline points=\"-30,30 -60,0 -30,-30\" />\n",
       "                <polyline points=\"0,30 -30,0 0,-30\" />\n",
       "            </g>\n",
       "        </g>\n",
       "    </g>\n",
       "</svg>\n",
       "</a>\n",
       "    Loading ITables v2.5.2 from the internet...\n",
       "    (need <a href=https://mwouts.github.io/itables/troubleshooting.html>help</a>?)</td>\n",
       "    </tr></tbody></table>\n",
       "<link href=\"https://www.unpkg.com/dt_for_itables@2.4.0/dt_bundle.css\" rel=\"stylesheet\">\n",
       "<script type=\"module\">\n",
       "    import { ITable, jQuery as $ } from 'https://www.unpkg.com/dt_for_itables@2.4.0/dt_bundle.js';\n",
       "\n",
       "    document.querySelectorAll(\"#itables_56851a08_8e27_457d_9b05_805d04c2f25e:not(.dataTable)\").forEach(table => {\n",
       "        if (!(table instanceof HTMLTableElement))\n",
       "            return;\n",
       "\n",
       "        let dt_args = {\"layout\": {\"topStart\": \"pageLength\", \"topEnd\": \"search\", \"bottomStart\": \"info\", \"bottomEnd\": \"paging\"}, \"order\": [], \"classes\": [\"display\", \"nowrap\"], \"style\": {\"table-layout\": \"auto\", \"width\": \"auto\", \"margin\": \"auto\", \"caption-side\": \"bottom\"}, \"text_in_header_can_be_selected\": true, \"downsampling_warning\": \"<a href=\\\"https://mwouts.github.io/itables/downsampling.html\\\">downsampled</a> from 3,340x23 to 385x23 as maxBytes=64KB\", \"filtered_row_count\": 2955, \"table_html\": \"<table><thead>\\n    <tr style=\\\"text-align: right;\\\">\\n      \\n      <th>incident_name</th>\\n      <th>incident_is_final</th>\\n      <th>incident_date_last_update</th>\\n      <th>incident_date_created</th>\\n      <th>incident_administrative_unit</th>\\n      <th>incident_administrative_unit_url</th>\\n      <th>incident_county</th>\\n      <th>incident_location</th>\\n      <th>incident_acres_burned</th>\\n      <th>incident_containment</th>\\n      <th>incident_control</th>\\n      <th>incident_cooperating_agencies</th>\\n      <th>incident_longitude</th>\\n      <th>incident_latitude</th>\\n      <th>incident_type</th>\\n      <th>incident_id</th>\\n      <th>incident_url</th>\\n      <th>incident_date_extinguished</th>\\n      <th>incident_dateonly_extinguished</th>\\n      <th>incident_dateonly_created</th>\\n      <th>is_active</th>\\n      <th>calfire_incident</th>\\n      <th>notification_desired</th>\\n    </tr>\\n  </thead></table>\", \"data_json\": \"[[\\\"Bridge Fire\\\", \\\"Y\\\", \\\"2018-01-09T13:46:00Z\\\", \\\"2017-10-31T11:22:00Z\\\", \\\"Shasta-Trinity National Forest\\\", \\\"___NaN___\\\", \\\"Shasta\\\", \\\"I-5 and Turntable Bay, 7 miles NE of Shasta Lake\\\", 37.0, 100.0, \\\"NaN\\\", \\\"Shasta-Trinity National Forest\\\", -122.309, 40.774, \\\"NaN\\\", \\\"2ca11d45-8139-4c16-8af0-880d99b21e82\\\", \\\"https://www.fire.ca.gov/incidents/2017/10/31/bridge-fire/\\\", \\\"2018-01-09T13:46:00Z\\\", \\\"2018-01-09\\\", \\\"2017-10-31\\\", \\\"N\\\", false, false], [\\\"Pala Fire\\\", \\\"Y\\\", \\\"2020-09-16T14:07:35Z\\\", \\\"2009-05-24T14:56:00Z\\\", \\\"CAL FIRE San Diego Unit\\\", \\\"___NaN___\\\", \\\"San Diego\\\", \\\"Hwy 76 and Pala Temecula, northwest of Pala\\\", 122.0, 100.0, \\\"NaN\\\", \\\"CAL FIRE San Diego Unit\\\", 1.0, 1.0, \\\"Wildfire\\\", \\\"8f61f461-552d-4538-b186-35ab030da416\\\", \\\"https://www.fire.ca.gov/incidents/2009/5/24/pala-fire/\\\", \\\"2009-05-25T00:00:00Z\\\", \\\"2009-05-25\\\", \\\"2009-05-24\\\", \\\"N\\\", true, false], [\\\"River Fire\\\", \\\"Y\\\", \\\"2022-10-24T11:39:23Z\\\", \\\"2013-02-24T08:16:00Z\\\", \\\"CAL FIRE San Bernardino Unit\\\", \\\"___NaN___\\\", \\\"Inyo\\\", \\\"south of Narrow Gauge Rd &amp; north of Hwy 136, east of Lone Pine\\\", 407.0, 100.0, \\\"NaN\\\", \\\"CAL FIRE San Bernardino Unit, Inyo County Sheriff, US Forest Service, BLM, LADWP, Lone Pine Volunteer Fire Department, Big Pine Volunteer Fire Department, Olancha Volunteer Fire Department, Independence Volunteer Fire Department.\\\", -118.01651, 36.602575, \\\"NaN\\\", \\\"094719ba-a47b-4abb-9ec5-a506b2b9fd23\\\", \\\"https://www.fire.ca.gov/incidents/2013/2/24/river-fire/\\\", \\\"2013-02-28T20:00:00Z\\\", \\\"2013-02-28\\\", \\\"2013-02-24\\\", \\\"N\\\", true, false], [\\\"Fawnskin Fire\\\", \\\"Y\\\", \\\"2013-04-22T09:00:00Z\\\", \\\"2013-04-20T17:30:00Z\\\", \\\"San Bernardino National Forest\\\", \\\"___NaN___\\\", \\\"San Bernardino\\\", \\\"west of Delamar Mountain, north of the community of Fawnskin, northside of Big Bear Lake\\\", 30.0, 100.0, \\\"NaN\\\", \\\"San Bernardino National Forest\\\", -116.941311, 34.288877, \\\"NaN\\\", \\\"58f89ff8-bd3e-4355-b1c0-8fa05c747d3f\\\", \\\"https://www.fire.ca.gov/incidents/2013/4/20/fawnskin-fire/\\\", \\\"2013-04-22T09:00:00Z\\\", \\\"2013-04-22\\\", \\\"2013-04-20\\\", \\\"N\\\", false, false], [\\\"Gold Fire\\\", \\\"Y\\\", \\\"2013-05-01T07:00:00Z\\\", \\\"2013-04-30T12:59:00Z\\\", \\\"CAL FIRE Madera-Mariposa-Merced Unit\\\", \\\"___NaN___\\\", \\\"Madera\\\", \\\"Between Road 210 and Road 200 near Fine Gold Creek in the community of O\\\", 274.0, 100.0, \\\"NaN\\\", \\\"CAL FIRE Madera-Mariposa-Merced Unit\\\", -119.635004, 37.116295, \\\"NaN\\\", \\\"357ffc13-bef9-48eb-810f-c5de851972eb\\\", \\\"https://www.fire.ca.gov/incidents/2013/4/30/gold-fire/\\\", \\\"2013-05-01T07:00:00Z\\\", \\\"2013-05-01\\\", \\\"2013-04-30\\\", \\\"N\\\", true, false], [\\\"Panther Fire\\\", \\\"Y\\\", \\\"2022-10-24T11:40:03Z\\\", \\\"2013-05-01T09:12:00Z\\\", \\\"CAL FIRE Butte Unit\\\", \\\"___NaN___\\\", \\\"Tehama\\\", \\\"140K3 Line, 8 miles northwest of Butte Meadows\\\", 6896.0, 100.0, \\\"NaN\\\", \\\"CAL FIRE Butte Unit, CAL FIRE, USFS (Lassen and Plumas NF), CDCR, SPI, Collins Pine, Chico Fire Department\\\", -121.595555, 40.190062, \\\"NaN\\\", \\\"53122f0f-fefc-4dbf-b2d8-566b42ced66d\\\", \\\"https://www.fire.ca.gov/incidents/2013/5/1/panther-fire/\\\", \\\"2013-05-09T09:00:00Z\\\", \\\"2013-05-09\\\", \\\"2013-05-01\\\", \\\"N\\\", true, false], [\\\"Silverado Fire\\\", \\\"Y\\\", \\\"2013-05-01T17:15:00Z\\\", \\\"2013-04-30T23:44:00Z\\\", \\\"CAL FIRE Sonoma-Lake-Napa Unit\\\", \\\"___NaN___\\\", \\\"Napa\\\", \\\"7300 block of Silverado Trail, north of Napa\\\", 75.0, 100.0, \\\"NaN\\\", \\\"CAL FIRE Sonoma-Lake-Napa Unit\\\", -122.350844, 38.441792, \\\"NaN\\\", \\\"d8d1c943-7b5d-4885-9043-f41075d6eded\\\", \\\"https://www.fire.ca.gov/incidents/2013/4/30/silverado-fire/\\\", \\\"2013-05-01T17:15:00Z\\\", \\\"2013-05-01\\\", \\\"2013-04-30\\\", \\\"N\\\", true, false], [\\\"Yellow Fire\\\", \\\"Y\\\", \\\"2013-05-03T06:15:00Z\\\", \\\"2013-05-01T02:01:00Z\\\", \\\"CAL FIRE Sonoma-Lake-Napa Unit\\\", \\\"___NaN___\\\", \\\"Sonoma\\\", \\\"Hwy 128 &amp; Yellow Jacket Ranch Rd in Knights Valley, northwest of Calistoga\\\", 125.0, 100.0, \\\"NaN\\\", \\\"CAL FIRE Sonoma-Lake-Napa Unit\\\", -122.655616, 38.638828, \\\"NaN\\\", \\\"64e4f81e-d872-44c4-ba8d-111fa77124ba\\\", \\\"https://www.fire.ca.gov/incidents/2013/5/1/yellow-fire/\\\", \\\"2013-05-03T06:15:00Z\\\", \\\"2013-05-03\\\", \\\"2013-05-01\\\", \\\"N\\\", true, false], [\\\"Summit Fire\\\", \\\"Y\\\", \\\"2022-10-24T11:40:42Z\\\", \\\"2013-05-01T12:38:00Z\\\", \\\"CAL FIRE/Riverside County Fire\\\", \\\"___NaN___\\\", \\\"Riverside\\\", \\\"Mias Canyon and Bluff Road in Banning\\\", 2956.0, 100.0, \\\"NaN\\\", \\\"CAL FIRE/Riverside County Fire\\\", -116.941311, 34.288877, \\\"NaN\\\", \\\"a1b14be5-a8cf-4e40-8588-96becf4c5879\\\", \\\"https://www.fire.ca.gov/incidents/2013/5/1/summit-fire/\\\", \\\"2013-05-04T18:30:00Z\\\", \\\"2013-05-04\\\", \\\"2013-05-01\\\", \\\"N\\\", true, false], [\\\"Tres Pinos Fire\\\", \\\"Y\\\", \\\"2013-05-03T18:45:00Z\\\", \\\"2013-05-03T11:42:00Z\\\", \\\"CAL FIRE San Benito-Monterey\\\", \\\"___NaN___\\\", \\\"San Benito\\\", \\\"Highway 25 and Horizon Rd, Community of Tres\\\", 354.0, 100.0, \\\"NaN\\\", \\\"CAL FIRE San Benito-Monterey\\\", -120.937494, 37.160346, \\\"NaN\\\", \\\"ca68f3c4-4906-4952-b794-4531d7da8369\\\", \\\"https://www.fire.ca.gov/incidents/2013/5/3/tres-pinos-fire/\\\", \\\"2013-05-03T18:45:00Z\\\", \\\"2013-05-03\\\", \\\"2013-05-03\\\", \\\"N\\\", true, false], [\\\"306 Fire\\\", \\\"Y\\\", \\\"2013-05-05T18:00:00Z\\\", \\\"2013-05-01T19:00:00Z\\\", \\\"CAL FIRE Tehama-Glenn Unit\\\", \\\"___NaN___\\\", \\\"Glenn\\\", \\\"2 miles south of the community of Elk Creek\\\", 217.0, 100.0, \\\"NaN\\\", \\\"CAL FIRE Tehama-Glenn Unit\\\", -122.560862, 39.514139, \\\"NaN\\\", \\\"5649e78d-7c26-4698-89a0-b0fa9a35cf78\\\", \\\"https://www.fire.ca.gov/incidents/2013/5/1/306-fire/\\\", \\\"2013-05-05T18:00:00Z\\\", \\\"2013-05-05\\\", \\\"2013-05-01\\\", \\\"N\\\", true, false], [\\\"Lytle Fire\\\", \\\"Y\\\", \\\"2013-05-15T08:15:00Z\\\", \\\"2013-05-13T13:30:00Z\\\", \\\"USFS San Bernardino National Forest, CAL FIRE San Bernardino Unit\\\", \\\"___NaN___\\\", \\\"San Bernardino\\\", \\\"I-15 at Sierra Ave, near Lytle Creek\\\", 75.0, 100.0, \\\"NaN\\\", \\\"USFS San Bernardino National Forest, CAL FIRE San Bernardino Unit, CAL FIRE, USFS, San Bernardino Co., San Bernardino City, Rialto, Rancho, Ontario, CHP, San Bernardino Sheriff's Office\\\", -117.4408, 34.1834, \\\"NaN\\\", \\\"e2c4b308-9a2d-483b-8434-999bef9adc7c\\\", \\\"https://www.fire.ca.gov/incidents/2013/5/13/lytle-fire/\\\", \\\"2013-05-15T08:15:00Z\\\", \\\"2013-05-15\\\", \\\"2013-05-13\\\", \\\"N\\\", true, false], [\\\"Gorgonio Fire\\\", \\\"Y\\\", \\\"2022-10-24T11:40:58Z\\\", \\\"2013-05-04T11:43:00Z\\\", \\\"CAL FIRE/Riverside County Fire\\\", \\\"___NaN___\\\", \\\"Riverside\\\", \\\"Highway 243, south of Banning and north of Pine Cove\\\", 650.0, 100.0, \\\"NaN\\\", \\\"CAL FIRE/Riverside County Fire\\\", -116.855019, 33.894055, \\\"NaN\\\", \\\"958ce6d2-97f9-4848-8620-d14ab87f329d\\\", \\\"https://www.fire.ca.gov/incidents/2013/5/4/gorgonio-fire/\\\", \\\"2013-05-05T18:45:00Z\\\", \\\"2013-05-05\\\", \\\"2013-05-04\\\", \\\"N\\\", true, false], [\\\"Grand Fire\\\", \\\"Y\\\", \\\"2013-05-21T19:45:00Z\\\", \\\"2013-05-15T12:50:00Z\\\", \\\"CAL FIRE / USFS Los Padres National Forest\\\", \\\"___NaN___\\\", \\\"Kern, Ventura\\\", \\\"South of Frazier Mountain Park Rd, South of Frazier Park\\\", 4346.0, 100.0, \\\"NaN\\\", \\\"CAL FIRE / USFS Los Padres National Forest, CAL FIRE, USFS, KERN CO FD, VENTURA CO FD, KERN COUNTY SO, VENTURA CO SO, LA CO SO, LAFD, CALEMA, BLM, KERN CO RD DEPT., CHP, CALIFORNIA STATE PARKS\\\", -118.9411, 34.7861, \\\"NaN\\\", \\\"e0d038e9-0926-4c05-8317-ec7075a04b12\\\", \\\"https://www.fire.ca.gov/incidents/2013/5/15/grand-fire/\\\", \\\"2013-05-21T19:45:00Z\\\", \\\"2013-05-21\\\", \\\"2013-05-15\\\", \\\"N\\\", true, false], [\\\"54 Fire\\\", \\\"Y\\\", \\\"2013-05-17T08:30:00Z\\\", \\\"2013-05-16T13:48:00Z\\\", \\\"CAL FIRE Riverside Unit\\\", \\\"___NaN___\\\", \\\"Riverside\\\", \\\"Avenue 54 and Tyler Street, near the community of Coachella\\\", 40.0, 100.0, \\\"NaN\\\", \\\"CAL FIRE Riverside Unit\\\", -116.161201, 33.655638, \\\"NaN\\\", \\\"e215290f-d0b4-48fd-be32-f599959347b1\\\", \\\"https://www.fire.ca.gov/incidents/2013/5/16/54-fire/\\\", \\\"2013-05-17T08:30:00Z\\\", \\\"2013-05-17\\\", \\\"2013-05-16\\\", \\\"N\\\", true, false], [\\\"Lake Fire\\\", \\\"Y\\\", \\\"2013-05-18T19:00:00Z\\\", \\\"2013-05-17T13:23:00Z\\\", \\\"CAL FIRE/Los Angeles County\\\", \\\"___NaN___\\\", \\\"Los Angeles\\\", \\\"I-5 Southbound at Lake Hughes Road\\\", 712.0, 100.0, \\\"NaN\\\", \\\"CAL FIRE/Los Angeles County\\\", -118.610044, 34.49149, \\\"NaN\\\", \\\"39af7eac-c188-411f-8c8a-d165c5fca4a9\\\", \\\"https://www.fire.ca.gov/incidents/2013/5/17/lake-fire/\\\", \\\"2013-05-18T19:00:00Z\\\", \\\"2013-05-18\\\", \\\"2013-05-17\\\", \\\"N\\\", true, false], [\\\"Lilly 2 Fire\\\", \\\"Y\\\", \\\"2013-05-20T19:10:00Z\\\", \\\"2013-05-19T15:07:00Z\\\", \\\"CAL FIRE Madera-Mariposa-Merced Unit\\\", \\\"___NaN___\\\", \\\"Madera\\\", \\\"Off Road 400 &amp; Sandy Beach Dr. in Yosemite Lakes\\\", 91.0, 100.0, \\\"NaN\\\", \\\"CAL FIRE Madera-Mariposa-Merced Unit\\\", -119.7917, 37.1927, \\\"NaN\\\", \\\"2b765a08-c770-4b19-baa8-00dffe3fa838\\\", \\\"https://www.fire.ca.gov/incidents/2013/5/19/lilly-2-fire/\\\", \\\"2013-05-20T19:10:00Z\\\", \\\"2013-05-20\\\", \\\"2013-05-19\\\", \\\"N\\\", true, false], [\\\"Cottontail Fire\\\", \\\"Y\\\", \\\"2013-05-20T19:10:00Z\\\", \\\"2013-05-20T15:45:00Z\\\", \\\"CAL FIRE San Luis Obispo Unit\\\", \\\"___NaN___\\\", \\\"San Luis Obispo\\\", \\\"Cayucos Creek Rd &amp; Thunder Canyon Rd north of Cayucos\\\", 35.0, 100.0, \\\"NaN\\\", \\\"CAL FIRE San Luis Obispo Unit\\\", -120.91375, 35.49864, \\\"NaN\\\", \\\"f17c523c-bf01-4245-899b-7c2331096dae\\\", \\\"https://www.fire.ca.gov/incidents/2013/5/20/cottontail-fire/\\\", \\\"2013-05-20T19:10:00Z\\\", \\\"2013-05-20\\\", \\\"2013-05-20\\\", \\\"N\\\", true, false], [\\\"Cherry Fire\\\", \\\"Y\\\", \\\"2013-05-20T18:50:00Z\\\", \\\"2013-05-20T13:47:00Z\\\", \\\"CAL FIRE Riverside Unit\\\", \\\"___NaN___\\\", \\\"Riverside\\\", \\\"Off Sunset Ave &amp; Mesa St in Banning\\\", 25.0, 100.0, \\\"NaN\\\", \\\"CAL FIRE Riverside Unit\\\", -116.907213, 33.96201, \\\"NaN\\\", \\\"a60e315c-23d5-4ba4-869c-5c1e22a25e7a\\\", \\\"https://www.fire.ca.gov/incidents/2013/5/20/cherry-fire/\\\", \\\"2013-05-20T18:50:00Z\\\", \\\"2013-05-20\\\", \\\"2013-05-20\\\", \\\"N\\\", true, false], [\\\"Water Fire\\\", \\\"Y\\\", \\\"2013-05-21T19:30:00Z\\\", \\\"2013-05-21T14:16:00Z\\\", \\\"CAL FIRE/Riverside County Fire\\\", \\\"___NaN___\\\", \\\"Riverside\\\", \\\"Off Whitewater Canyon Road in Whitewater\\\", 90.0, 100.0, \\\"NaN\\\", \\\"CAL FIRE/Riverside County Fire\\\", -116.6534, 33.9582, \\\"NaN\\\", \\\"13850faa-5bab-4fd7-bac3-433ce9250c4d\\\", \\\"https://www.fire.ca.gov/incidents/2013/5/21/water-fire/\\\", \\\"2013-05-21T19:30:00Z\\\", \\\"2013-05-21\\\", \\\"2013-05-21\\\", \\\"N\\\", true, false], [\\\"Shelton Fire\\\", \\\"Y\\\", \\\"2013-05-30T13:25:00Z\\\", \\\"2013-05-30T11:20:00Z\\\", \\\"CAL FIRE Tuolumne-Calaveras Unit\\\", \\\"___NaN___\\\", \\\"San Joaquin\\\", \\\"off North Shelton Rd in the Linden Peters area\\\", 303.0, 100.0, \\\"NaN\\\", \\\"CAL FIRE Tuolumne-Calaveras Unit\\\", -120.90325, 38.04993, \\\"NaN\\\", \\\"0b51d59b-457d-4a62-b066-55c2b8d400e2\\\", \\\"https://www.fire.ca.gov/incidents/2013/5/30/shelton-fire/\\\", \\\"2013-05-30T13:25:00Z\\\", \\\"2013-05-30\\\", \\\"2013-05-30\\\", \\\"N\\\", true, false], [\\\"Border Fire\\\", \\\"Y\\\", \\\"2013-05-23T08:30:00Z\\\", \\\"2013-05-22T16:14:00Z\\\", \\\"CAL FIRE San Diego Unit\\\", \\\"___NaN___\\\", \\\"San Diego\\\", \\\"Off Alta Rd in the Otay Mesa area\\\", 100.0, 100.0, \\\"NaN\\\", \\\"CAL FIRE San Diego Unit\\\", -116.900368, 32.564465, \\\"NaN\\\", \\\"e077e091-f890-477c-b948-eb23774b432e\\\", \\\"https://www.fire.ca.gov/incidents/2013/5/22/border-fire/\\\", \\\"2013-05-23T08:30:00Z\\\", \\\"2013-05-23\\\", \\\"2013-05-22\\\", \\\"N\\\", true, false], [\\\"San Felipe Fire\\\", \\\"Y\\\", \\\"2022-10-24T11:41:15Z\\\", \\\"2013-05-23T12:20:00Z\\\", \\\"CAL FIRE San Diego Unit\\\", \\\"___NaN___\\\", \\\"San Diego\\\", \\\"San Felipe Road, north of Highway 78, East of Julian\\\", 2650.0, 100.0, \\\"NaN\\\", \\\"CAL FIRE San Diego Unit, CALFIRE, USFS, BLM, SAN DIEGO SHERIFF'S OFFICE, AMR, CAL EMA, SAN DIEGO CITY, LOCAL GOVERNMENT, SAN DIEGO FIRE AUTHORITY, RESERVATION, CCC\\\", -116.52579, 33.12111, \\\"NaN\\\", \\\"859479e3-918c-42c6-bb74-5fdc17930a16\\\", \\\"https://www.fire.ca.gov/incidents/2013/5/23/san-felipe-fire/\\\", \\\"2013-05-26T17:45:00Z\\\", \\\"2013-05-26\\\", \\\"2013-05-23\\\", \\\"N\\\", true, false], [\\\"Homestead Fire\\\", \\\"Y\\\", \\\"2013-05-25T18:45:00Z\\\", \\\"2013-05-25T17:35:00Z\\\", \\\"CAL FIRE San Luis Obispo Unit\\\", \\\"___NaN___\\\", \\\"San Luis Obispo\\\", \\\"Homestead Rd &amp; Hwy 41, northeast of Atascadero\\\", 50.0, 100.0, \\\"NaN\\\", \\\"CAL FIRE San Luis Obispo Unit\\\", -120.6368, 35.5123, \\\"NaN\\\", \\\"5b5ce06d-7ea9-4d28-b564-715fd0d04f3f\\\", \\\"https://www.fire.ca.gov/incidents/2013/5/25/homestead-fire/\\\", \\\"2013-05-25T18:45:00Z\\\", \\\"2013-05-25\\\", \\\"2013-05-25\\\", \\\"N\\\", true, false], [\\\"Smiley Fire\\\", \\\"Y\\\", \\\"2013-05-25T23:00:00Z\\\", \\\"2013-05-25T14:59:00Z\\\", \\\"CAL FIRE/Riverside County Fire\\\", \\\"___NaN___\\\", \\\"Riverside\\\", \\\"Off Smiley Blvd &amp; Vista Suelto Rd, north of Moreno Valley\\\", 124.0, 100.0, \\\"NaN\\\", \\\"CAL FIRE/Riverside County Fire\\\", -117.187934, 33.963591, \\\"NaN\\\", \\\"9795afee-7e60-4ab3-b5c3-7df67f91c5f9\\\", \\\"https://www.fire.ca.gov/incidents/2013/5/25/smiley-fire/\\\", \\\"2013-05-25T23:00:00Z\\\", \\\"2013-05-25\\\", \\\"2013-05-25\\\", \\\"N\\\", true, false], [\\\"General Fire\\\", \\\"Y\\\", \\\"2022-10-24T11:41:51Z\\\", \\\"2013-05-26T12:04:00Z\\\", \\\"CAL FIRE San Diego Unit\\\", \\\"___NaN___\\\", \\\"San Diego\\\", \\\"Banner Grade area, south of Hwy 78 &amp; east of Hwy 79, southeast of Julian\\\", 2500.0, 100.0, \\\"NaN\\\", \\\"CAL FIRE San Diego Unit\\\", -116.5209, 33.04458, \\\"NaN\\\", \\\"07a5397c-a665-4f84-9a82-5f689cb2c8f3\\\", \\\"https://www.fire.ca.gov/incidents/2013/5/26/general-fire/\\\", \\\"2013-05-31T06:15:00Z\\\", \\\"2013-05-31\\\", \\\"2013-05-26\\\", \\\"N\\\", true, false], [\\\"White Fire\\\", \\\"Y\\\", \\\"2013-05-30T19:30:00Z\\\", \\\"2013-05-27T14:45:00Z\\\", \\\"USFS Los Padres National Forest\\\", \\\"___NaN___\\\", \\\"Santa Barbara\\\", \\\"Southeast of Lake Cachuma, approx. 12 miles southeast of Santa Ynez\\\", 1984.0, 100.0, \\\"NaN\\\", \\\"USFS Los Padres National Forest\\\", -119.82429, 34.55048, \\\"NaN\\\", \\\"abc61995-8bea-4be1-aa49-ee378ab3baaa\\\", \\\"https://www.fire.ca.gov/incidents/2013/5/27/white-fire/\\\", \\\"2013-05-30T19:30:00Z\\\", \\\"2013-05-30\\\", \\\"2013-05-27\\\", \\\"N\\\", false, false], [\\\"Magic Fire\\\", \\\"Y\\\", \\\"2013-05-29T15:30:00Z\\\", \\\"2013-05-28T11:30:00Z\\\", \\\"Los Angeles County Fire Department\\\", \\\"___NaN___\\\", \\\"Los Angeles\\\", \\\"off Magic Mtn Parkway in Valencia\\\", 149.0, 100.0, \\\"NaN\\\", \\\"Los Angeles County Fire Department\\\", -118.58688, 34.419284, \\\"NaN\\\", \\\"794412f2-1ba2-4217-ac38-49272a96fb6f\\\", \\\"https://www.fire.ca.gov/incidents/2013/5/28/magic-fire/\\\", \\\"2013-05-29T15:30:00Z\\\", \\\"2013-05-29\\\", \\\"2013-05-28\\\", \\\"N\\\", true, false], [\\\"Olive Fire\\\", \\\"Y\\\", \\\"2013-05-29T10:30:00Z\\\", \\\"2013-05-28T15:24:00Z\\\", \\\"Santa Barbara County Fire\\\", \\\"___NaN___\\\", \\\"Santa Barbara\\\", \\\"Hwy 246 and Meadowvale, East of Solvang\\\", 170.0, 100.0, \\\"NaN\\\", \\\"Santa Barbara County Fire\\\", -120.074655, 34.611824, \\\"NaN\\\", \\\"cb5f34a0-177e-445d-9349-dd94063a01d0\\\", \\\"https://www.fire.ca.gov/incidents/2013/5/28/olive-fire/\\\", \\\"2013-05-29T10:30:00Z\\\", \\\"2013-05-29\\\", \\\"2013-05-28\\\", \\\"N\\\", true, false], [\\\"Branch Fire\\\", \\\"Y\\\", \\\"2013-06-03T18:30:00Z\\\", \\\"2013-06-01T17:27:00Z\\\", \\\"Los Padres National Forest\\\", \\\"___NaN___\\\", \\\"San Luis Obispo\\\", \\\"west of the Carrizo Plain, Los Padres National Forest\\\", 500.0, 100.0, \\\"NaN\\\", \\\"Los Padres National Forest\\\", -120.05131, 35.15832, \\\"NaN\\\", \\\"213dc89e-9f29-4480-91a6-aec5fb694999\\\", \\\"https://www.fire.ca.gov/incidents/2013/6/1/branch-fire/\\\", \\\"2013-06-03T18:30:00Z\\\", \\\"2013-06-03\\\", \\\"2013-06-01\\\", \\\"N\\\", false, false], [\\\"Murphy Fire\\\", \\\"Y\\\", \\\"2013-06-02T16:55:00Z\\\", \\\"2013-06-02T13:30:00Z\\\", \\\"CAL FIRE Tuolumne-Calaveras Unit\\\", \\\"___NaN___\\\", \\\"Tuolumne\\\", \\\"off Lime Kiln Rd\\\", 100.0, 100.0, \\\"NaN\\\", \\\"CAL FIRE Tuolumne-Calaveras Unit\\\", -120.33313, 37.91529, \\\"NaN\\\", \\\"98bfbb7c-8446-4e2e-a268-7e961353723c\\\", \\\"https://www.fire.ca.gov/incidents/2013/6/2/murphy-fire/\\\", \\\"2013-06-02T16:55:00Z\\\", \\\"2013-06-02\\\", \\\"2013-06-02\\\", \\\"N\\\", true, false], [\\\"Lone Fire\\\", \\\"Y\\\", \\\"2013-06-03T20:00:00Z\\\", \\\"2013-06-03T13:49:00Z\\\", \\\"CAL FIRE Butte Unit\\\", \\\"___NaN___\\\", \\\"Butte\\\", \\\"Palermo Road and Lone Tree Road near Palermo\\\", 298.0, 100.0, \\\"All road closures have been lifted.\\\", \\\"CAL FIRE Butte Unit, CAL FIRE, El Medio Fire, Chico Fire Dept, Oroville Fire Dept, Butte Co. Sheriff's Dept, Butte Co. Public Works, PG&amp;E and CHP\\\", -121.576804, 39.434183, \\\"NaN\\\", \\\"1a5192f1-bc99-4130-8683-381e0534b76a\\\", \\\"https://www.fire.ca.gov/incidents/2013/6/3/lone-fire/\\\", \\\"2013-06-03T20:00:00Z\\\", \\\"2013-06-03\\\", \\\"2013-06-03\\\", \\\"N\\\", true, false], [\\\"Hathaway Fire\\\", \\\"Y\\\", \\\"2013-06-09T16:45:00Z\\\", \\\"2013-06-09T12:30:00Z\\\", \\\"USFS San Bernardino National Forest\\\", \\\"___NaN___\\\", \\\"Riverside\\\", \\\"Hathaway Canyon area, northeast of Banning\\\", 0.0, 100.0, \\\"NaN\\\", \\\"USFS San Bernardino National Forest\\\", -116.84137, 33.99647, \\\"NaN\\\", \\\"befb9d5c-c0ea-48b8-8589-2586be0275af\\\", \\\"https://www.fire.ca.gov/incidents/2013/6/9/hathaway-fire/\\\", \\\"2013-06-09T16:45:00Z\\\", \\\"2013-06-09\\\", \\\"2013-06-09\\\", \\\"N\\\", false, false], [\\\"Sonoma-Lake-Napa Unit Lightning Fires\\\", \\\"Y\\\", \\\"2013-06-14T15:45:00Z\\\", \\\"2013-06-10T00:46:00Z\\\", \\\"CAL FIRE Sonoma-Lake-Napa Unit\\\", \\\"___NaN___\\\", \\\"Sonoma, Solano, Lake, Colusa\\\", \\\"throughout Sonoma, Solano, Lake &amp; Colusa Counties\\\", 28.0, 100.0, \\\"NaN\\\", \\\"CAL FIRE Sonoma-Lake-Napa Unit\\\", -122.0437, 38.4229, \\\"NaN\\\", \\\"5ce45b6c-81b5-422c-9078-8c68dd872c8a\\\", \\\"https://www.fire.ca.gov/incidents/2013/6/10/sonoma-lake-napa-unit-lightning-fires/\\\", \\\"2013-06-14T15:45:00Z\\\", \\\"2013-06-14\\\", \\\"2013-06-10\\\", \\\"N\\\", true, false], [\\\"152 Fire\\\", \\\"Y\\\", \\\"2013-06-05T08:30:00Z\\\", \\\"2013-06-04T15:42:00Z\\\", \\\"CAL FIRE Madera-Mariposa-Merced Unit\\\", \\\"___NaN___\\\", \\\"Merced\\\", \\\"Hwy 152 in San Luis Creek Reservoir\\\", 124.0, 100.0, \\\"NaN\\\", \\\"CAL FIRE Madera-Mariposa-Merced Unit\\\", -121.006939, 37.03776, \\\"NaN\\\", \\\"f9e85371-fc46-4f54-822c-7dcdaadde551\\\", \\\"https://www.fire.ca.gov/incidents/2013/6/4/152-fire/\\\", \\\"2013-06-05T08:30:00Z\\\", \\\"2013-06-05\\\", \\\"2013-06-04\\\", \\\"N\\\", true, false], [\\\"Lake Fire\\\", \\\"Y\\\", \\\"2013-06-06T07:00:00Z\\\", \\\"2013-06-05T16:05:00Z\\\", \\\"CAL FIRE Sonoma-Lake-Napa Unit\\\", \\\"___NaN___\\\", \\\"Lake\\\", \\\"Lakeshore Drive and Patterson Drive in Clearlake Oaks\\\", 30.0, 100.0, \\\"NaN\\\", \\\"CAL FIRE Sonoma-Lake-Napa Unit\\\", -122.703193, 38.99233, \\\"NaN\\\", \\\"dcb21e64-9d38-47c2-848b-e8e0dea5c2de\\\", \\\"https://www.fire.ca.gov/incidents/2013/6/5/lake-fire/\\\", \\\"2013-06-06T07:00:00Z\\\", \\\"2013-06-06\\\", \\\"2013-06-05\\\", \\\"N\\\", true, false], [\\\"Powerhouse Fire\\\", \\\"Y\\\", \\\"2013-06-08T18:30:00Z\\\", \\\"2013-05-30T15:28:00Z\\\", \\\"USFS Angeles National Forest/Los Angeles County/CAL FIRE\\\", \\\"___NaN___\\\", \\\"Los Angeles\\\", \\\"Angeles National Forest\\\", 30274.0, 100.0, \\\"NaN\\\", \\\"USFS Angeles National Forest/Los Angeles County/CAL FIRE\\\", -118.423176, 34.585595, \\\"NaN\\\", \\\"bf37805e-1cc2-4208-9972-753e47874c87\\\", \\\"https://www.fire.ca.gov/incidents/2013/5/30/powerhouse-fire/\\\", \\\"2013-06-08T18:30:00Z\\\", \\\"2013-06-08\\\", \\\"2013-05-30\\\", \\\"N\\\", true, false], [\\\"Vasco Fire\\\", \\\"Y\\\", \\\"2013-06-08T13:25:00Z\\\", \\\"2013-06-08T10:16:00Z\\\", \\\"CAL FIRE Santa Clara Unit\\\", \\\"___NaN___\\\", \\\"Alameda\\\", \\\"off Vasco Road &amp; North Vasco Road, north of Livermore\\\", 240.0, 100.0, \\\"NaN\\\", \\\"CAL FIRE Santa Clara Unit\\\", -121.737213, 37.775057, \\\"NaN\\\", \\\"2ad509e4-99f1-4e1a-81eb-839f772f9c45\\\", \\\"https://www.fire.ca.gov/incidents/2013/6/8/vasco-fire/\\\", \\\"2013-06-08T13:25:00Z\\\", \\\"2013-06-08\\\", \\\"2013-06-08\\\", \\\"N\\\", true, false], [\\\"Viper Fire\\\", \\\"Y\\\", \\\"2013-06-08T19:00:00Z\\\", \\\"2013-06-08T15:37:00Z\\\", \\\"CAL FIRE/Riverside County Fire\\\", \\\"___NaN___\\\", \\\"Riverside\\\", \\\"off San Timoteo Canyon Rd and Viper Rd, north of Moreno Valley\\\", 42.0, 100.0, \\\"NaN\\\", \\\"CAL FIRE/Riverside County Fire\\\", -117.1265, 33.96936, \\\"NaN\\\", \\\"e9505435-e861-4f33-9069-b0040fb2a135\\\", \\\"https://www.fire.ca.gov/incidents/2013/6/8/viper-fire/\\\", \\\"2013-06-08T19:00:00Z\\\", \\\"2013-06-08\\\", \\\"2013-06-08\\\", \\\"N\\\", true, false], [\\\"Northern California Lightning Activity\\\", \\\"Y\\\", \\\"2013-06-14T16:30:00Z\\\", \\\"2013-06-10T00:46:00Z\\\", \\\"California Northern Region\\\", \\\"___NaN___\\\", \\\"NaN\\\", \\\"Across Northern California\\\", 60.0, 100.0, \\\"NaN\\\", \\\"California Northern Region\\\", -121.5747, 39.9845, \\\"NaN\\\", \\\"369e41d4-75a6-4be0-a38a-5f7450553631\\\", \\\"https://www.fire.ca.gov/incidents/2013/6/10/northern-california-lightning-activity/\\\", \\\"2013-06-14T16:30:00Z\\\", \\\"2013-06-14\\\", \\\"2013-06-10\\\", \\\"N\\\", true, false], [\\\"Roadrunner Fire\\\", \\\"Y\\\", \\\"2013-06-13T09:45:00Z\\\", \\\"2013-06-12T16:43:00Z\\\", \\\"CAL FIRE Amador-El Dorado Unit\\\", \\\"___NaN___\\\", \\\"Amador\\\", \\\"Roadrunner Drive, south of Ione\\\", 96.0, 100.0, \\\"NaN\\\", \\\"CAL FIRE Amador-El Dorado Unit\\\", -120.966016, 38.27783, \\\"NaN\\\", \\\"bf59bc5b-1398-4ae5-adef-6f61b9ee1b90\\\", \\\"https://www.fire.ca.gov/incidents/2013/6/12/roadrunner-fire/\\\", \\\"2013-06-13T09:45:00Z\\\", \\\"2013-06-13\\\", \\\"2013-06-12\\\", \\\"N\\\", true, false], [\\\"Revis Fire\\\", \\\"Y\\\", \\\"2013-06-14T16:30:00Z\\\", \\\"2013-06-12T16:40:00Z\\\", \\\"CAL FIRE Madera-Mariposa-Merced Unit\\\", \\\"___NaN___\\\", \\\"Madera\\\", \\\"Off Revis Road &amp; Yosemite Springs Parkway in Yosemite Lake Parks area in Coarsegold\\\", 75.0, 100.0, \\\"NaN\\\", \\\"CAL FIRE Madera-Mariposa-Merced Unit\\\", -119.75636, 37.169379, \\\"NaN\\\", \\\"7055a440-5d4c-4f58-bac9-2954ff6698a5\\\", \\\"https://www.fire.ca.gov/incidents/2013/6/12/revis-fire/\\\", \\\"2013-06-14T16:30:00Z\\\", \\\"2013-06-14\\\", \\\"2013-06-12\\\", \\\"N\\\", true, false], [\\\"Clinton Fire\\\", \\\"Y\\\", \\\"2013-06-13T21:30:00Z\\\", \\\"2013-06-13T11:54:00Z\\\", \\\"CAL FIRE/Fresno County Fire\\\", \\\"___NaN___\\\", \\\"Fresno\\\", \\\"Clinton and Highland, East of Fresno\\\", 108.0, 100.0, \\\"NaN\\\", \\\"CAL FIRE/Fresno County Fire\\\", -119.628389, 36.772425, \\\"NaN\\\", \\\"a2cfda2a-21c1-4e45-90b5-37d931b4a926\\\", \\\"https://www.fire.ca.gov/incidents/2013/6/13/clinton-fire/\\\", \\\"2013-06-13T21:30:00Z\\\", \\\"2013-06-13\\\", \\\"2013-06-13\\\", \\\"N\\\", true, false], [\\\"Carstens Fire\\\", \\\"Y\\\", \\\"2013-06-26T11:15:00Z\\\", \\\"2013-06-16T14:12:00Z\\\", \\\"CAL FIRE Madera-Mariposa-Merced Unit / Sierra National Forest\\\", \\\"___NaN___\\\", \\\"Mariposa\\\", \\\"Off Carstens Road, east of 140 in the Midpines area.\\\", 1708.0, 100.0, \\\"NaN\\\", \\\"CAL FIRE Madera-Mariposa-Merced Unit / Sierra National Forest , CAL FIRE, US Forest Service, California Highway Patrol, National Park Service, Mariposa County, Mariposa County Fire, Mariposa County Sheriff.\\\", -119.91071, 37.58202, \\\"NaN\\\", \\\"bb2eb175-43a3-4a5c-bff6-e3669e52c1d1\\\", \\\"https://www.fire.ca.gov/incidents/2013/6/16/carstens-fire/\\\", \\\"2013-06-26T11:15:00Z\\\", \\\"2013-06-26\\\", \\\"2013-06-16\\\", \\\"N\\\", true, false], [\\\"PFE Fire\\\", \\\"Y\\\", \\\"2013-06-13T14:15:00Z\\\", \\\"2013-06-13T11:28:00Z\\\", \\\"CAL FIRE/Placer County Fire\\\", \\\"___NaN___\\\", \\\"Placer\\\", \\\"PFE Road and Watt Avenue, West Roseville\\\", 237.0, 100.0, \\\"NaN\\\", \\\"CAL FIRE/Placer County Fire\\\", -121.380862, 38.729297, \\\"NaN\\\", \\\"fe47b1c2-b9c0-44be-8d10-f270056db35c\\\", \\\"https://www.fire.ca.gov/incidents/2013/6/13/pfe-fire/\\\", \\\"2013-06-13T14:15:00Z\\\", \\\"2013-06-13\\\", \\\"2013-06-13\\\", \\\"N\\\", true, false], [\\\"Michelle Fire\\\", \\\"Y\\\", \\\"2013-06-13T21:30:00Z\\\", \\\"2013-06-13T15:54:00Z\\\", \\\"CAL FIRE/Fresno County Fire\\\", \\\"___NaN___\\\", \\\"Fresno\\\", \\\"off McKinley Ave &amp; Academy Ave, north of Sanger\\\", 35.0, 100.0, \\\"NaN\\\", \\\"CAL FIRE/Fresno County Fire\\\", -119.558244, 36.763367, \\\"NaN\\\", \\\"953f17a1-2034-467b-b48c-28da1a9af60e\\\", \\\"https://www.fire.ca.gov/incidents/2013/6/13/michelle-fire/\\\", \\\"2013-06-13T21:30:00Z\\\", \\\"2013-06-13\\\", \\\"2013-06-13\\\", \\\"N\\\", true, false], [\\\"Palmyrita Fire\\\", \\\"Y\\\", \\\"2013-06-15T08:00:00Z\\\", \\\"2013-06-14T13:47:00Z\\\", \\\"CAL FIRE/Riverside County Fire\\\", \\\"___NaN___\\\", \\\"Riverside\\\", \\\"Highgrove Pass Rd and Pigeon Pass Rd, Community of Highgrove\\\", 40.0, 100.0, \\\"NaN\\\", \\\"CAL FIRE/Riverside County Fire\\\", -117.302057, 34.001745, \\\"NaN\\\", \\\"2d1f0c40-92e7-4540-991b-d353ed68ec6c\\\", \\\"https://www.fire.ca.gov/incidents/2013/6/14/palmyrita-fire/\\\", \\\"2013-06-15T08:00:00Z\\\", \\\"2013-06-15\\\", \\\"2013-06-14\\\", \\\"N\\\", true, false], [\\\"Rolling Fire\\\", \\\"Y\\\", \\\"2022-10-24T11:42:08Z\\\", \\\"2013-06-16T18:17:00Z\\\", \\\"CAL FIRE Madera-Mariposa-Merced Unit\\\", \\\"___NaN___\\\", \\\"Madera\\\", \\\"off Hwy 41 &amp; Road 145, northwest of Friant\\\", 480.0, 100.0, \\\"NaN\\\", \\\"CAL FIRE Madera-Mariposa-Merced Unit\\\", -119.78106, 37.015575, \\\"NaN\\\", \\\"05d0fed7-8502-4a6f-9c5c-b9cee0e75408\\\", \\\"https://www.fire.ca.gov/incidents/2013/6/16/rolling-fire/\\\", \\\"2013-06-18T19:30:00Z\\\", \\\"2013-06-18\\\", \\\"2013-06-16\\\", \\\"N\\\", true, false], [\\\"California Fire\\\", \\\"Y\\\", \\\"2013-06-18T22:30:00Z\\\", \\\"2013-06-18T15:18:00Z\\\", \\\"CAL FIRE Sanoma-Lake-Napa Unit\\\", \\\"___NaN___\\\", \\\"Solano\\\", \\\"Off Lake Herman Rd, west of Hwy 680 in Benicia\\\", 124.0, 100.0, \\\"NaN\\\", \\\"CAL FIRE Sanoma-Lake-Napa Unit\\\", -122.13802, 38.08744, \\\"NaN\\\", \\\"2b403f03-fe84-450a-90b7-befb8acc7e70\\\", \\\"https://www.fire.ca.gov/incidents/2013/6/18/california-fire/\\\", \\\"2013-06-18T22:30:00Z\\\", \\\"2013-06-18\\\", \\\"2013-06-18\\\", \\\"N\\\", true, false], [\\\"Sierra Fire\\\", \\\"Y\\\", \\\"2013-06-19T08:45:00Z\\\", \\\"2013-06-17T14:41:00Z\\\", \\\"CAL FIRE/Fresno County Fire\\\", \\\"___NaN___\\\", \\\"Fresno\\\", \\\"Black Mountain Road at Lodge Road near Sierra High School, southeast of Auberry\\\", 46.0, 100.0, \\\"NaN\\\", \\\"CAL FIRE/Fresno County Fire\\\", -119.463757, 37.03087, \\\"NaN\\\", \\\"15e7e15d-f707-473e-b0f3-6534cfd845b7\\\", \\\"https://www.fire.ca.gov/incidents/2013/6/17/sierra-fire/\\\", \\\"2013-06-19T08:45:00Z\\\", \\\"2013-06-19\\\", \\\"2013-06-17\\\", \\\"N\\\", true, false], [\\\"George Fire\\\", \\\"Y\\\", \\\"2013-06-25T17:15:00Z\\\", \\\"2013-06-25T13:36:00Z\\\", \\\"CAL FIRE/Fresno County Fire\\\", \\\"___NaN___\\\", \\\"Fresno\\\", \\\"off Bronco Lane in Squaw Valley\\\", 150.0, 100.0, \\\"NaN\\\", \\\"CAL FIRE/Fresno County Fire\\\", -119.2248, 36.7218, \\\"NaN\\\", \\\"23ec2f69-da30-4983-80c2-1f04bfea6f9a\\\", \\\"https://www.fire.ca.gov/incidents/2013/6/25/george-fire/\\\", \\\"2013-06-25T17:15:00Z\\\", \\\"2013-06-25\\\", \\\"2013-06-25\\\", \\\"N\\\", true, false], [\\\"Mount Fire\\\", \\\"Y\\\", \\\"2013-06-20T13:15:00Z\\\", \\\"2013-06-20T14:29:00Z\\\", \\\"CAL FIRE Sanoma-Lake-Napa Unit\\\", \\\"___NaN___\\\", \\\"Lake\\\", \\\"Off Konocti Rd &amp; Oak Hills Ln, east of Kelseyville\\\", 25.0, 100.0, \\\"NaN\\\", \\\"CAL FIRE Sanoma-Lake-Napa Unit\\\", -122.81796, 38.98058, \\\"NaN\\\", \\\"d489b45e-dcba-4eaa-8bb5-6a23255562da\\\", \\\"https://www.fire.ca.gov/incidents/2013/6/20/mount-fire/\\\", \\\"2013-06-20T13:15:00Z\\\", \\\"2013-06-20\\\", \\\"2013-06-20\\\", \\\"N\\\", true, false], [\\\"Mills Fire\\\", \\\"Y\\\", \\\"2022-10-24T11:35:12Z\\\", \\\"2013-06-28T14:30:00Z\\\", \\\"CAL FIRE San Bernardino Unit/ City of Redlands/San Bernardino Sheriff\\\", \\\"___NaN___\\\", \\\"San Bernardino\\\", \\\"south of Highway 38 &amp; Bryant Street, northwest of Yucaipa\\\", 534.0, 100.0, \\\"NaN\\\", \\\"CAL FIRE San Bernardino Unit/ City of Redlands/San Bernardino Sheriff\\\", -117.048397, 34.071556, \\\"NaN\\\", \\\"6011819c-19ac-46c2-aa48-0ee8be0e48c0\\\", \\\"https://www.fire.ca.gov/incidents/2013/6/28/mills-fire/\\\", \\\"2013-07-01T06:00:00Z\\\", \\\"2013-07-01\\\", \\\"2013-06-28\\\", \\\"N\\\", true, false], [\\\"Concord Fire\\\", \\\"Y\\\", \\\"2013-07-01T18:30:00Z\\\", \\\"2013-07-01T15:41:00Z\\\", \\\"CAL FIRE Santa Clara Unit\\\", \\\"___NaN___\\\", \\\"Contra Costa\\\", \\\"off Concord Ave &amp; Vineyard Parkway in Brentwood\\\", 274.0, 100.0, \\\"NaN\\\", \\\"CAL FIRE Santa Clara Unit\\\", -121.74367, 39.90465, \\\"NaN\\\", \\\"95399a9c-8b3e-4413-9f56-5ed57d3d81b3\\\", \\\"https://www.fire.ca.gov/incidents/2013/7/1/concord-fire/\\\", \\\"2013-07-01T18:30:00Z\\\", \\\"2013-07-01\\\", \\\"2013-07-01\\\", \\\"N\\\", true, false], [\\\"Freeman Fire\\\", \\\"Y\\\", \\\"2013-06-29T18:30:00Z\\\", \\\"2013-06-29T14:09:00Z\\\", \\\"CAL FIRE San Benito-Monterey Unit\\\", \\\"___NaN___\\\", \\\"Monterey\\\", \\\"off Hwy 198, 10 miles east of King City\\\", 105.0, 100.0, \\\"NaN\\\", \\\"CAL FIRE San Benito-Monterey Unit\\\", -120.8973, 36.1531, \\\"NaN\\\", \\\"58317b8d-7f4d-466f-b2c7-035c25fb00f0\\\", \\\"https://www.fire.ca.gov/incidents/2013/6/29/freeman-fire/\\\", \\\"2013-06-29T18:30:00Z\\\", \\\"2013-06-29\\\", \\\"2013-06-29\\\", \\\"N\\\", true, false], [\\\"Kirker Fire\\\", \\\"Y\\\", \\\"2022-10-24T11:37:51Z\\\", \\\"2013-07-01T13:19:00Z\\\", \\\"CAL FIRE Santa Clara Unit\\\", \\\"___NaN___\\\", \\\"Contra Costa\\\", \\\"Kirker Pass Road south of Pittsburg\\\", 492.0, 100.0, \\\"NaN\\\", \\\"CAL FIRE Santa Clara Unit\\\", -121.91453, 37.96866, \\\"NaN\\\", \\\"522114fe-ada8-49a9-9bb2-5891103ff0ca\\\", \\\"https://www.fire.ca.gov/incidents/2013/7/1/kirker-fire/\\\", \\\"2013-07-01T18:40:00Z\\\", \\\"2013-07-01\\\", \\\"2013-07-01\\\", \\\"N\\\", true, false], [\\\"Northern Region July Lightning\\\", \\\"Y\\\", \\\"2013-07-04T10:45:00Z\\\", \\\"2013-07-02T12:00:00Z\\\", \\\"CAL FIRE Northern Region\\\", \\\"___NaN___\\\", \\\"NaN\\\", \\\"Throughout northeastern California\\\", 754.0, 100.0, \\\"NaN\\\", \\\"CAL FIRE Northern Region\\\", -121.5747, 39.9845, \\\"NaN\\\", \\\"42690ee2-a5ed-4320-9a55-d5ff3d1a80f5\\\", \\\"https://www.fire.ca.gov/incidents/2013/7/2/northern-region-july-lightning/\\\", \\\"2013-07-04T10:45:00Z\\\", \\\"2013-07-04\\\", \\\"2013-07-02\\\", \\\"N\\\", true, false], [\\\"Fox Fire (formally 3-7 Fire)\\\", \\\"Y\\\", \\\"2013-07-05T18:30:00Z\\\", \\\"2013-07-03T22:56:00Z\\\", \\\"CAL FIRE Lassen-Modoc Unit\\\", \\\"___NaN___\\\", \\\"Modoc\\\", \\\"5 miles northwest of Aiden\\\", 502.0, 100.0, \\\"NaN\\\", \\\"CAL FIRE Lassen-Modoc Unit\\\", -121.035, 41.2415, \\\"NaN\\\", \\\"8b51033d-abc6-4ea4-8983-990ad4e1c45e\\\", \\\"https://www.fire.ca.gov/incidents/2013/7/3/fox-fire-formally-3-7-fire/\\\", \\\"2013-07-05T18:30:00Z\\\", \\\"2013-07-05\\\", \\\"2013-07-03\\\", \\\"N\\\", true, false], [\\\"Vina Fire\\\", \\\"Y\\\", \\\"2013-07-04T10:30:00Z\\\", \\\"2013-07-04T07:30:00Z\\\", \\\"CAL FIRE Tehama-Glenn Unit\\\", \\\"___NaN___\\\", \\\"Tehama\\\", \\\"Tehama-Vina Rd and Sherman Rd, Los Molinos\\\", 200.0, 100.0, \\\"NaN\\\", \\\"CAL FIRE Tehama-Glenn Unit\\\", -122.079871, 40.012398, \\\"NaN\\\", \\\"c94959d7-eb88-4724-8feb-ba0662afca10\\\", \\\"https://www.fire.ca.gov/incidents/2013/7/4/vina-fire/\\\", \\\"2013-07-04T10:30:00Z\\\", \\\"2013-07-04\\\", \\\"2013-07-04\\\", \\\"N\\\", true, false], [\\\"Grant Fire\\\", \\\"Y\\\", \\\"2013-07-04T11:30:00Z\\\", \\\"2013-07-04T10:00:00Z\\\", \\\"CAL FIRE Santa Clara Unit\\\", \\\"___NaN___\\\", \\\"Alameda\\\", \\\"off Grant Ln Rd &amp; I-580 in the Altamont Pass, 5 miles west of Tracy\\\", 50.0, 100.0, \\\"NaN\\\", \\\"CAL FIRE Santa Clara Unit\\\", -121.5869, 37.7393, \\\"NaN\\\", \\\"07fb8b11-f39b-4cd0-8a27-2d4fef7fe680\\\", \\\"https://www.fire.ca.gov/incidents/2013/7/4/grant-fire/\\\", \\\"2013-07-04T11:30:00Z\\\", \\\"2013-07-04\\\", \\\"2013-07-04\\\", \\\"N\\\", true, false], [\\\"Fallon Fire\\\", \\\"Y\\\", \\\"2013-07-06T14:30:00Z\\\", \\\"2013-07-06T13:09:00Z\\\", \\\"CAL FIRE Santa Clara Unit / Alameda County Fire\\\", \\\"___NaN___\\\", \\\"Alameda\\\", \\\"off Fallon Rd &amp; Camino Tassajara near Dublin\\\", 38.0, 100.0, \\\"NaN\\\", \\\"CAL FIRE Santa Clara Unit / Alameda County Fire\\\", -121.86216, 37.74241, \\\"NaN\\\", \\\"4c04a4e5-f580-4e62-bb53-2575c72d29dc\\\", \\\"https://www.fire.ca.gov/incidents/2013/7/6/fallon-fire/\\\", \\\"2013-07-06T14:30:00Z\\\", \\\"2013-07-06\\\", \\\"2013-07-06\\\", \\\"N\\\", true, false], [\\\"Chariot Fire\\\", \\\"Y\\\", \\\"2013-07-15T06:15:00Z\\\", \\\"2013-07-06T12:55:00Z\\\", \\\"CAL FIRE San Diego Unit / Cleveland National Forest\\\", \\\"___NaN___\\\", \\\"San Diego\\\", \\\"off Sunrise Hwy, 9 miles southeast of Julian\\\", 7055.0, 100.0, \\\"NaN\\\", \\\"CAL FIRE San Diego Unit / Cleveland National Forest, CAL FIRE, USFS Cleveland NF, CHP, San Diego County Fire Authority, San Diego County Sheriff, California State Parks\\\", -116.47381, 32.95435, \\\"NaN\\\", \\\"ee19b2ec-a96a-4738-994e-fb3ea016e053\\\", \\\"https://www.fire.ca.gov/incidents/2013/7/6/chariot-fire/\\\", \\\"2013-07-15T06:15:00Z\\\", \\\"2013-07-15\\\", \\\"2013-07-06\\\", \\\"N\\\", true, false], [\\\"Adelaida Fire\\\", \\\"Y\\\", \\\"2013-07-07T22:00:00Z\\\", \\\"2013-07-07T13:16:00Z\\\", \\\"CAL FIRE San Luis Obispo\\\", \\\"___NaN___\\\", \\\"San Luis Obispo\\\", \\\"off Adelaida Rd &amp; Vineyard Dr, west of Paso Robles\\\", 85.0, 100.0, \\\"NaN\\\", \\\"CAL FIRE San Luis Obispo\\\", -120.83417, 35.62743, \\\"NaN\\\", \\\"a97d2b3a-3a53-424f-852c-5f1b8d199cc3\\\", \\\"https://www.fire.ca.gov/incidents/2013/7/7/adelaida-fire/\\\", \\\"2013-07-07T22:00:00Z\\\", \\\"2013-07-07\\\", \\\"2013-07-07\\\", \\\"N\\\", true, false], [\\\"McGanney Fire\\\", \\\"Y\\\", \\\"2013-07-08T17:30:00Z\\\", \\\"2013-07-08T09:59:00Z\\\", \\\"CAL FIRE Nevada-Placer-Yuba Unit\\\", \\\"___NaN___\\\", \\\"Yuba\\\", \\\"off Highway 20 and McGanney Lane, west of Smartsville\\\", 73.0, 100.0, \\\"NaN\\\", \\\"CAL FIRE Nevada-Placer-Yuba Unit\\\", -121.31634, 39.206, \\\"NaN\\\", \\\"397ed8e6-6088-4e03-9316-8f50c65a83be\\\", \\\"https://www.fire.ca.gov/incidents/2013/7/8/mcganney-fire/\\\", \\\"2013-07-08T17:30:00Z\\\", \\\"2013-07-08\\\", \\\"2013-07-08\\\", \\\"N\\\", true, false], [\\\"Fiddler Fire\\\", \\\"Y\\\", \\\"2013-07-09T15:00:00Z\\\", \\\"2013-07-09T11:59:00Z\\\", \\\"CAL FIRE Shasta-Trinity Unit\\\", \\\"___NaN___\\\", \\\"Shasta\\\", \\\"off Fiddler\\\", 43.0, 100.0, \\\"NaN\\\", \\\"CAL FIRE Shasta-Trinity Unit\\\", -122.7338, 40.373, \\\"NaN\\\", \\\"3f64fc8a-8870-4e64-b60a-3e13c8532acd\\\", \\\"https://www.fire.ca.gov/incidents/2013/7/9/fiddler-fire/\\\", \\\"2013-07-09T15:00:00Z\\\", \\\"2013-07-09\\\", \\\"2013-07-09\\\", \\\"N\\\", true, false], [\\\"Kyburz Fire\\\", \\\"Y\\\", \\\"2013-07-11T18:30:00Z\\\", \\\"2013-07-08T12:45:00Z\\\", \\\"Eldorado National Forest\\\", \\\"___NaN___\\\", \\\"El Dorado\\\", \\\"Off Hwy 50 at 30 Mile Tract, Kyburz\\\", 572.0, 100.0, \\\"NaN\\\", \\\"Eldorado National Forest\\\", -120.298, 38.774, \\\"NaN\\\", \\\"d778a3f0-2d23-43c1-b9bc-1ea33898fab2\\\", \\\"https://www.fire.ca.gov/incidents/2013/7/8/kyburz-fire/\\\", \\\"2013-07-11T18:30:00Z\\\", \\\"2013-07-11\\\", \\\"2013-07-08\\\", \\\"N\\\", false, false], [\\\"Uvas Fire\\\", \\\"Y\\\", \\\"2013-07-12T17:45:00Z\\\", \\\"2013-07-12T13:09:00Z\\\", \\\"CAL FIRE Santa Clara Unit\\\", \\\"___NaN___\\\", \\\"Santa Clara\\\", \\\"Uvas Road and Casa Loma Road, near Calero County Park,  west of Morgan Hill\\\", 50.0, 100.0, \\\"NaN\\\", \\\"CAL FIRE Santa Clara Unit\\\", -121.7804, 37.1438, \\\"NaN\\\", \\\"e779a754-29fd-472f-8d29-46cfee32d3c2\\\", \\\"https://www.fire.ca.gov/incidents/2013/7/12/uvas-fire/\\\", \\\"2013-07-12T17:45:00Z\\\", \\\"2013-07-12\\\", \\\"2013-07-12\\\", \\\"N\\\", true, false], [\\\"Diablo Fire\\\", \\\"Y\\\", \\\"2013-07-13T21:45:00Z\\\", \\\"2013-07-12T15:35:00Z\\\", \\\"CAL FIRE Santa Clara Unit\\\", \\\"___NaN___\\\", \\\"Stanislaus\\\", \\\"off Diablo Grande Parkway, west of I-5, southwest of Patterson\\\", 150.0, 100.0, \\\"NaN\\\", \\\"CAL FIRE Santa Clara Unit\\\", -121.1955, 37.436, \\\"NaN\\\", \\\"873074c8-4b6d-417b-a78c-1d1430027805\\\", \\\"https://www.fire.ca.gov/incidents/2013/7/12/diablo-fire/\\\", \\\"2013-07-13T21:45:00Z\\\", \\\"2013-07-13\\\", \\\"2013-07-12\\\", \\\"N\\\", true, false], [\\\"Mountain Fire\\\", \\\"Y\\\", \\\"2022-10-24T11:38:10Z\\\", \\\"2013-07-15T13:43:00Z\\\", \\\"CAL FIRE Riverside Unit / San Bernardino National Forest\\\", \\\"___NaN___\\\", \\\"Riverside\\\", \\\"Hwy 243 &amp; Hwy 74 near Mountain Center\\\", 27531.0, 100.0, \\\"NaN\\\", \\\"CAL FIRE Riverside Unit / San Bernardino National Forest\\\", -116.72885, 33.7095, \\\"NaN\\\", \\\"a3149fec-4d48-427c-8b2c-59e8b79d59db\\\", \\\"https://www.fire.ca.gov/incidents/2013/7/15/mountain-fire/\\\", \\\"2013-07-30T18:00:00Z\\\", \\\"2013-07-30\\\", \\\"2013-07-15\\\", \\\"N\\\", true, false], [\\\"Orleans Complex\\\", \\\"Y\\\", \\\"2013-08-03T15:00:00Z\\\", \\\"2013-08-03T08:00:00Z\\\", \\\"Six Rivers National Forest\\\", \\\"___NaN___\\\", \\\"Humboldt\\\", \\\"10 miles east of Somes Bar, California\\\", 0.0, 100.0, \\\"NaN\\\", \\\"Six Rivers National Forest\\\", -123.376, 41.333, \\\"NaN\\\", \\\"7d4f107b-66a9-43d2-819d-ec855c2947bf\\\", \\\"https://www.fire.ca.gov/incidents/2013/8/3/orleans-complex/\\\", \\\"2013-08-03T15:00:00Z\\\", \\\"2013-08-03\\\", \\\"2013-08-03\\\", \\\"N\\\", false, false], [\\\"Silverwood Fire\\\", \\\"Y\\\", \\\"2013-07-26T18:15:00Z\\\", \\\"2013-07-25T15:09:00Z\\\", \\\"San Bernardino County Fire\\\", \\\"___NaN___\\\", \\\"San Bernardino\\\", \\\"Hwy 138 west of Hwy 173\\\", 75.0, 100.0, \\\"NaN\\\", \\\"San Bernardino County Fire\\\", -117.352, 34.316, \\\"NaN\\\", \\\"ed51bbd2-6f8e-4f46-9073-3673a583fada\\\", \\\"https://www.fire.ca.gov/incidents/2013/7/25/silverwood-fire/\\\", \\\"2013-07-26T18:15:00Z\\\", \\\"2013-07-26\\\", \\\"2013-07-25\\\", \\\"N\\\", true, false], [\\\"Flume Fire\\\", \\\"Y\\\", \\\"2013-07-28T17:50:00Z\\\", \\\"2013-07-28T09:43:00Z\\\", \\\"CAL FIRE San Diego Unit\\\", \\\"___NaN___\\\", \\\"San Diego\\\", \\\"Barrett Lake Road and Highway 94\\\", 25.0, 100.0, \\\"NaN\\\", \\\"CAL FIRE San Diego Unit\\\", -116.707335, 32.612773, \\\"NaN\\\", \\\"c6cfeed9-55bb-4fdb-8a52-e4d947dba721\\\", \\\"https://www.fire.ca.gov/incidents/2013/7/28/flume-fire/\\\", \\\"2013-07-28T17:50:00Z\\\", \\\"2013-07-28\\\", \\\"2013-07-28\\\", \\\"N\\\", true, false], [\\\"Aspen Fire\\\", \\\"Y\\\", \\\"2013-09-24T20:15:00Z\\\", \\\"2013-07-22T22:15:00Z\\\", \\\"Sierra National Forest\\\", \\\"___NaN___\\\", \\\"Fresno\\\", \\\"Seven miles north of Big Creek\\\", 22992.0, 100.0, \\\"NaN\\\", \\\"Sierra National Forest\\\", -119.318, 37.279, \\\"NaN\\\", \\\"bee8c339-4f26-4b78-a5b4-a8a0ebdb8786\\\", \\\"https://www.fire.ca.gov/incidents/2013/7/22/aspen-fire/\\\", \\\"2013-09-24T20:15:00Z\\\", \\\"2013-09-24\\\", \\\"2013-07-22\\\", \\\"N\\\", false, false], [\\\"Salmon River Complex\\\", \\\"Y\\\", \\\"2013-08-31T06:45:00Z\\\", \\\"2013-07-31T22:00:00Z\\\", \\\"Klamath National Forest\\\", \\\"___NaN___\\\", \\\"Siskiyou\\\", \\\"North Fork of the Salmon River, West of Sawyers Bar, Klamath National Forest\\\", 14754.0, 100.0, \\\"NaN\\\", \\\"Klamath National Forest\\\", -123.176, 41.32, \\\"NaN\\\", \\\"ba76c009-09c9-497c-b923-1ac8cf05c20d\\\", \\\"https://www.fire.ca.gov/incidents/2013/7/31/salmon-river-complex/\\\", \\\"2013-08-31T06:45:00Z\\\", \\\"2013-08-31\\\", \\\"2013-07-31\\\", \\\"N\\\", false, false], [\\\"Branch Fire\\\", \\\"Y\\\", \\\"2013-08-04T14:45:00Z\\\", \\\"2013-08-01T16:01:00Z\\\", \\\"CAL FIRE Butte Unit\\\", \\\"___NaN___\\\", \\\"Butte\\\", \\\"Near Rocky Peak - North Fork Lake Oroville near Cherokee\\\", 92.0, 100.0, \\\"NaN\\\", \\\"CAL FIRE Butte Unit\\\", -121.50354, 39.6612, \\\"NaN\\\", \\\"0b51d3d5-bb3a-426d-9c12-c1878a01d7cf\\\", \\\"https://www.fire.ca.gov/incidents/2013/8/1/branch-fire/\\\", \\\"2013-08-04T14:45:00Z\\\", \\\"2013-08-04\\\", \\\"2013-08-01\\\", \\\"N\\\", true, false], [\\\"Redlands Fire\\\", \\\"Y\\\", \\\"2013-07-17T07:45:00Z\\\", \\\"2013-07-16T17:48:00Z\\\", \\\"CAL FIRE / Riverside County Fire\\\", \\\"___NaN___\\\", \\\"Riverside\\\", \\\"Redlands Boulevard and San Timoteo Canyon Road, north of Moreno Valley\\\", 150.0, 100.0, \\\"NaN\\\", \\\"CAL FIRE / Riverside County Fire\\\", -117.164997, 33.990128, \\\"NaN\\\", \\\"d48a839f-d8da-44d7-9b35-b9f61aa28c61\\\", \\\"https://www.fire.ca.gov/incidents/2013/7/16/redlands-fire/\\\", \\\"2013-07-17T07:45:00Z\\\", \\\"2013-07-17\\\", \\\"2013-07-16\\\", \\\"N\\\", true, false], [\\\"Relay Fire\\\", \\\"Y\\\", \\\"2013-08-04T18:00:00Z\\\", \\\"2013-08-04T16:29:00Z\\\", \\\"CAL FIRE/Riverside County  Fire\\\", \\\"___NaN___\\\", \\\"Riverside\\\", \\\"near Mt. David, south of Beaumont\\\", 60.0, 100.0, \\\"NaN\\\", \\\"CAL FIRE/Riverside County  Fire\\\", -116.99895, 33.91027, \\\"NaN\\\", \\\"0658b1f8-5323-4152-b6d1-b208736587db\\\", \\\"https://www.fire.ca.gov/incidents/2013/8/4/relay-fire/\\\", \\\"2013-08-04T18:00:00Z\\\", \\\"2013-08-04\\\", \\\"2013-08-04\\\", \\\"N\\\", true, false], [\\\"Water Fire\\\", \\\"Y\\\", \\\"2013-07-25T18:30:00Z\\\", \\\"2013-07-23T09:15:00Z\\\", \\\"Kern County Fire\\\", \\\"___NaN___\\\", \\\"Kern\\\", \\\"West side of Interstate 5 at Tejon Ranch\\\", 612.0, 100.0, \\\"NaN\\\", \\\"Kern County Fire\\\", -118.93388, 34.90327, \\\"NaN\\\", \\\"86faecab-ed3a-4fce-95cf-89433a825c72\\\", \\\"https://www.fire.ca.gov/incidents/2013/7/23/water-fire/\\\", \\\"2013-07-25T18:30:00Z\\\", \\\"2013-07-25\\\", \\\"2013-07-23\\\", \\\"N\\\", true, false], [\\\"Pratt Fire\\\", \\\"Y\\\", \\\"2013-07-23T16:00:00Z\\\", \\\"2013-07-23T13:29:00Z\\\", \\\"CAL FIRE Mendocino Unit\\\", \\\"___NaN___\\\", \\\"Mendocino\\\", \\\"Hwy 175 &amp; Pratt Ranch Road, East of Hopland\\\", 45.0, 100.0, \\\"NaN\\\", \\\"CAL FIRE Mendocino Unit\\\", -123.067671, 38.980846, \\\"NaN\\\", \\\"f1d7f375-8aa3-4cb5-a864-bae9bb90cbd1\\\", \\\"https://www.fire.ca.gov/incidents/2013/7/23/pratt-fire/\\\", \\\"2013-07-23T16:00:00Z\\\", \\\"2013-07-23\\\", \\\"2013-07-23\\\", \\\"N\\\", true, false], [\\\"Rancho Fire\\\", \\\"Y\\\", \\\"2022-10-24T11:42:25Z\\\", \\\"2013-07-19T12:00:00Z\\\", \\\"CAL FIRE / Kern County Fire / State Parks / US Forest Service\\\", \\\"___NaN___\\\", \\\"Kern\\\", \\\"West side of Interstate 5 in Lebec (Kern County)\\\", 500.0, 100.0, \\\"Oak Knolls Road\\\", \\\"CAL FIRE / Kern County Fire / State Parks / US Forest Service, Cal Fire, United States Forest Service, Ventura County Fire, Kern County Sheriff Department, Calif State Parks, Calif Highway Patrol\\\", -118.9194, 34.882, \\\"NaN\\\", \\\"591a56a5-e9c0-45a0-96bd-34098588c39b\\\", \\\"https://www.fire.ca.gov/incidents/2013/7/19/rancho-fire/\\\", \\\"2013-07-22T18:45:00Z\\\", \\\"2013-07-22\\\", \\\"2013-07-19\\\", \\\"N\\\", true, false], [\\\"Paskenta Fire\\\", \\\"Y\\\", \\\"2013-07-19T15:00:00Z\\\", \\\"2013-07-19T13:32:00Z\\\", \\\"CAL FIRE Tehama-Glenn Unit\\\", \\\"___NaN___\\\", \\\"Tehama\\\", \\\"West of Corning\\\", 195.0, 100.0, \\\"NaN\\\", \\\"CAL FIRE Tehama-Glenn Unit\\\", -122.330879, 39.961309, \\\"NaN\\\", \\\"4423899b-6197-4ef5-9f73-bca1763f17e6\\\", \\\"https://www.fire.ca.gov/incidents/2013/7/19/paskenta-fire/\\\", \\\"2013-07-19T15:00:00Z\\\", \\\"2013-07-19\\\", \\\"2013-07-19\\\", \\\"N\\\", true, false], [\\\"Lakeville Fire\\\", \\\"Y\\\", \\\"2013-07-26T17:45:00Z\\\", \\\"2013-07-26T13:45:00Z\\\", \\\"CAL FIRE Sonoma-Lake-Napa Unit\\\", \\\"___NaN___\\\", \\\"Sonoma\\\", \\\"Off Lakeville Hwy, 6 miles SE of Petaluma\\\", 158.0, 100.0, \\\"NaN\\\", \\\"CAL FIRE Sonoma-Lake-Napa Unit\\\", -122.51253, 38.17693, \\\"NaN\\\", \\\"c9b5d1ff-c042-4b39-8bac-b10fb6fc6c13\\\", \\\"https://www.fire.ca.gov/incidents/2013/7/26/lakeville-fire/\\\", \\\"2013-07-26T17:45:00Z\\\", \\\"2013-07-26\\\", \\\"2013-07-26\\\", \\\"N\\\", true, false], [\\\"50 Fire\\\", \\\"Y\\\", \\\"2013-07-19T17:15:00Z\\\", \\\"2013-07-19T14:12:00Z\\\", \\\"CAL FIRE / Sacramento Metropolitan Fire\\\", \\\"___NaN___\\\", \\\"El Dorado, Sacramento\\\", \\\"South of Hwy 50 at the El Dorado and Sacramento County line\\\", 163.0, 100.0, \\\"NaN\\\", \\\"CAL FIRE / Sacramento Metropolitan Fire\\\", -121.08438, 38.63987, \\\"NaN\\\", \\\"4630e9ce-88ec-4159-9bc9-25ff5f8216cc\\\", \\\"https://www.fire.ca.gov/incidents/2013/7/19/50-fire/\\\", \\\"2013-07-19T17:15:00Z\\\", \\\"2013-07-19\\\", \\\"2013-07-19\\\", \\\"N\\\", true, false], [\\\"Heacock Fire\\\", \\\"Y\\\", \\\"2013-07-20T19:30:00Z\\\", \\\"2013-07-19T16:21:00Z\\\", \\\"CAL FIRE / Riverside County Fire\\\", \\\"___NaN___\\\", \\\"Riverside\\\", \\\"Heacock St &amp; Sandy Glade Ave in Moreno Valley\\\", 40.0, 100.0, \\\"NaN\\\", \\\"CAL FIRE / Riverside County Fire\\\", -117.2508, 33.9634, \\\"NaN\\\", \\\"8fb3a438-3146-4b8d-8f20-bfa8d6610f84\\\", \\\"https://www.fire.ca.gov/incidents/2013/7/19/heacock-fire/\\\", \\\"2013-07-20T19:30:00Z\\\", \\\"2013-07-20\\\", \\\"2013-07-19\\\", \\\"N\\\", true, false], [\\\"Gilman Fire\\\", \\\"Y\\\", \\\"2013-07-19T19:30:00Z\\\", \\\"2013-07-19T17:31:00Z\\\", \\\"CAL FIRE / Riverside County Fire\\\", \\\"___NaN___\\\", \\\"Riverside\\\", \\\"Hwy 60 east of Gilman Springs Rd, east of Moreno Valley\\\", 15.0, 100.0, \\\"NaN\\\", \\\"CAL FIRE / Riverside County Fire\\\", -117.09306, 33.94528, \\\"NaN\\\", \\\"2b300dd5-4474-4b8a-9b4c-3a3014afe27d\\\", \\\"https://www.fire.ca.gov/incidents/2013/7/19/gilman-fire/\\\", \\\"2013-07-19T19:30:00Z\\\", \\\"2013-07-19\\\", \\\"2013-07-19\\\", \\\"N\\\", true, false], [\\\"Chuckwagon Fire\\\", \\\"Y\\\", \\\"2013-07-23T15:10:00Z\\\", \\\"2013-07-22T12:34:00Z\\\", \\\"CAL FIRE Tuolumne-Calaveras Unit\\\", \\\"___NaN___\\\", \\\"Calaveras\\\", \\\"near the 4500 block of Chuckwagon Drive, Copperopolis\\\", 31.0, 100.0, \\\"NaN\\\", \\\"CAL FIRE Tuolumne-Calaveras Unit\\\", -120.696362, 37.965364, \\\"NaN\\\", \\\"68dadbb3-6a63-483a-add9-491a69d9e0ad\\\", \\\"https://www.fire.ca.gov/incidents/2013/7/22/chuckwagon-fire/\\\", \\\"2013-07-23T15:10:00Z\\\", \\\"2013-07-23\\\", \\\"2013-07-22\\\", \\\"N\\\", true, false], [\\\"Power Fire\\\", \\\"Y\\\", \\\"2013-08-14T08:30:00Z\\\", \\\"2013-08-05T06:00:00Z\\\", \\\"Stanislaus National Forest\\\", \\\"___NaN___\\\", \\\"Tuolumne\\\", \\\"Near Beardsley Lake, northeast of Sonora\\\", 1070.0, 100.0, \\\"NaN\\\", \\\"Stanislaus National Forest\\\", -120.02778, 38.25108, \\\"NaN\\\", \\\"1e8441c2-f426-40b4-9f4f-3de9f7e232b9\\\", \\\"https://www.fire.ca.gov/incidents/2013/8/5/power-fire/\\\", \\\"2013-08-14T08:30:00Z\\\", \\\"2013-08-14\\\", \\\"2013-08-05\\\", \\\"N\\\", false, false], [\\\"Falls Fire\\\", \\\"Y\\\", \\\"2013-08-09T18:45:00Z\\\", \\\"2013-08-05T10:10:00Z\\\", \\\"Cleveland National Forest / CAL FIRE Riverside Unit\\\", \\\"___NaN___\\\", \\\"Riverside\\\", \\\"Ortega Highway, west of Lake Elsinoire\\\", 1383.0, 100.0, \\\"NaN\\\", \\\"Cleveland National Forest / CAL FIRE Riverside Unit\\\", -117.40288, 33.62236, \\\"NaN\\\", \\\"4867ac70-663e-48f4-b9ae-ca0a486234ca\\\", \\\"https://www.fire.ca.gov/incidents/2013/8/5/falls-fire/\\\", \\\"2013-08-09T18:45:00Z\\\", \\\"2013-08-09\\\", \\\"2013-08-05\\\", \\\"N\\\", true, false], [\\\"Tram Fire\\\", \\\"Y\\\", \\\"2013-08-08T09:00:00Z\\\", \\\"2013-08-06T13:39:00Z\\\", \\\"San Bernardino National Forest\\\", \\\"___NaN___\\\", \\\"Riverside\\\", \\\"Off of Hwy 111 &amp; Tramway Rd in Palm Springs\\\", 60.0, 100.0, \\\"NaN\\\", \\\"San Bernardino National Forest\\\", -116.61, 38.838, \\\"NaN\\\", \\\"ac568737-dae6-4050-b1f4-62ab1f9ec930\\\", \\\"https://www.fire.ca.gov/incidents/2013/8/6/tram-fire/\\\", \\\"2013-08-08T09:00:00Z\\\", \\\"2013-08-08\\\", \\\"2013-08-06\\\", \\\"N\\\", false, false], [\\\"Indian Fire\\\", \\\"Y\\\", \\\"2013-08-07T18:30:00Z\\\", \\\"2013-08-07T12:35:00Z\\\", \\\"CAL FIRE Sanoma-Lake-Napa Unit\\\", \\\"___NaN___\\\", \\\"Lake\\\", \\\"Off Bartlett Springs Road near Indian Valley Reservoir, 10 miles northeast of Clearlake Oaks\\\", 38.0, 100.0, \\\"NaN\\\", \\\"CAL FIRE Sanoma-Lake-Napa Unit\\\", -122.5906, 39.1591, \\\"NaN\\\", \\\"b5b63934-923d-4504-a9b1-75c885477a8d\\\", \\\"https://www.fire.ca.gov/incidents/2013/8/7/indian-fire/\\\", \\\"2013-08-07T18:30:00Z\\\", \\\"2013-08-07\\\", \\\"2013-08-07\\\", \\\"N\\\", true, false], [\\\"Silver Fire\\\", \\\"Y\\\", \\\"2022-10-24T11:38:40Z\\\", \\\"2013-08-07T14:05:00Z\\\", \\\"CAL FIRE Riverside Unit / San Bernardino National Forest\\\", \\\"___NaN___\\\", \\\"Riverside\\\", \\\"Poppet Flats Rd near Hwy 243, south of Banning\\\", 20292.0, 100.0, \\\"Hwy 243 remains closed between Twin Pines Road and Westley Street in Banning due to road damage.\\\", \\\"CAL FIRE Riverside Unit / San Bernardino National Forest, Federal, State and Local Agencies from throughout the Western United States are assisting.\\\", -116.90427, 33.86157, \\\"NaN\\\", \\\"c400203b-a7fd-4bd8-803a-f3c74bc32a2b\\\", \\\"https://www.fire.ca.gov/incidents/2013/8/7/silver-fire/\\\", \\\"2013-08-12T18:00:00Z\\\", \\\"2013-08-12\\\", \\\"2013-08-07\\\", \\\"N\\\", true, false], [\\\"Corral Complex\\\", \\\"Y\\\", \\\"2013-08-12T12:00:00Z\\\", \\\"2013-08-10T11:40:00Z\\\", \\\"Six Rivers National Forest\\\", \\\"___NaN___\\\", \\\"Humboldt\\\", \\\"Tish Tang Ridge east of Hoopa Valley Reservation\\\", 12503.0, 100.0, \\\"NaN\\\", \\\"Six Rivers National Forest\\\", -123.488, 41.035, \\\"NaN\\\", \\\"f3dcbca8-f8ed-46d0-8f6e-9c7fc2fb03e6\\\", \\\"https://www.fire.ca.gov/incidents/2013/8/10/corral-complex/\\\", \\\"2013-08-12T12:00:00Z\\\", \\\"2013-08-12\\\", \\\"2013-08-10\\\", \\\"N\\\", false, false], [\\\"Cottonwood Fire\\\", \\\"Y\\\", \\\"2013-08-15T17:00:00Z\\\", \\\"2013-08-15T14:40:00Z\\\", \\\"CAL FIRE Siskiyou Unit\\\", \\\"___NaN___\\\", \\\"Siskiyou\\\", \\\"Cottonwood Creek Rd., 2 miles north of Hornbrook\\\", 50.0, 100.0, \\\"NaN\\\", \\\"CAL FIRE Siskiyou Unit\\\", -122.578393, 41.923323, \\\"NaN\\\", \\\"e16c204e-58d6-4f78-bc97-729b16ef9f83\\\", \\\"https://www.fire.ca.gov/incidents/2013/8/15/cottonwood-fire/\\\", \\\"2013-08-15T17:00:00Z\\\", \\\"2013-08-15\\\", \\\"2013-08-15\\\", \\\"N\\\", true, false], [\\\"Union Fire\\\", \\\"Y\\\", \\\"2013-08-16T17:55:00Z\\\", \\\"2013-08-16T13:55:00Z\\\", \\\"CAL FIRE Amador-El Dorado Unit\\\", \\\"___NaN___\\\", \\\"El Dorado\\\", \\\"off Koki Ln and Pleasant Valley Rd, northwest of Diamond Springs\\\", 116.0, 100.0, \\\"NaN\\\", \\\"CAL FIRE Amador-El Dorado Unit\\\", -120.839075, 38.682378, \\\"NaN\\\", \\\"db009f8f-8b9d-44bb-a3f6-83f319c84d72\\\", \\\"https://www.fire.ca.gov/incidents/2013/8/16/union-fire/\\\", \\\"2013-08-16T17:55:00Z\\\", \\\"2013-08-16\\\", \\\"2013-08-16\\\", \\\"N\\\", true, false], [\\\"Sharp Fire\\\", \\\"Y\\\", \\\"2013-08-13T23:45:00Z\\\", \\\"2013-08-08T12:15:00Z\\\", \\\"Angeles National Forest\\\", \\\"___NaN___\\\", \\\"San Bernardino\\\", \\\"Sheep canyon just south of Wrightwood\\\", 243.0, 100.0, \\\"NaN\\\", \\\"Angeles National Forest\\\", -117.62, 34.35, \\\"NaN\\\", \\\"62eabea3-40be-497d-94e4-150f011b925f\\\", \\\"https://www.fire.ca.gov/incidents/2013/8/8/sharp-fire/\\\", \\\"2013-08-13T23:45:00Z\\\", \\\"2013-08-13\\\", \\\"2013-08-08\\\", \\\"N\\\", false, false], [\\\"Cloverdale Fire\\\", \\\"Y\\\", \\\"2013-08-14T20:35:00Z\\\", \\\"2013-08-14T15:37:00Z\\\", \\\"CAL FIRE Shasta-Trinity Unit\\\", \\\"___NaN___\\\", \\\"Shasta\\\", \\\"Cloverdale Rd. and Dale Rd., Happy Valley, 9 miles SW of Redding\\\", 27.0, 100.0, \\\"NaN\\\", \\\"CAL FIRE Shasta-Trinity Unit\\\", -122.48259, 40.473356, \\\"NaN\\\", \\\"0537a175-8fe9-4f5f-b56f-77848fa195f4\\\", \\\"https://www.fire.ca.gov/incidents/2013/8/14/cloverdale-fire/\\\", \\\"2013-08-14T20:35:00Z\\\", \\\"2013-08-14\\\", \\\"2013-08-14\\\", \\\"N\\\", true, false], [\\\"Swedes Fire\\\", \\\"Y\\\", \\\"2022-10-24T11:43:04Z\\\", \\\"2013-08-16T16:37:00Z\\\", \\\"CAL FIRE Butte Unit\\\", \\\"___NaN___\\\", \\\"Butte\\\", \\\"southeast of Oroville\\\", 2264.0, 100.0, \\\"NaN\\\", \\\"CAL FIRE Butte Unit, United States Forest Service, Oroville Fire Department, El Medio Fire Department, Chico Fire Department, Butte County Sheriff, California Highway Patrol, California Office of Emergency Services, California Department of Corrections and Rehabilitation, Bureau of Land Management, South Feather Water and Power, Red Cross, North Valley Animal Rescue Group.\\\", -121.38236, 39.446268, \\\"NaN\\\", \\\"0758e1c0-95ea-47e7-b5c1-5f3ea96bc664\\\", \\\"https://www.fire.ca.gov/incidents/2013/8/16/swedes-fire/\\\", \\\"2013-08-22T18:00:00Z\\\", \\\"2013-08-22\\\", \\\"2013-08-16\\\", \\\"N\\\", true, false], [\\\"American Fire\\\", \\\"Y\\\", \\\"2013-08-30T08:00:00Z\\\", \\\"2013-08-10T16:30:00Z\\\", \\\"Tahoe National Forest\\\", \\\"___NaN___\\\", \\\"Placer\\\", \\\"Deadwood Ridge, northeast of Foresthill\\\", 27440.0, 100.0, \\\"NaN\\\", \\\"Tahoe National Forest\\\", -120.65, 39.12, \\\"NaN\\\", \\\"8213f5c7-34fa-403b-a4bc-da2ace6e6625\\\", \\\"https://www.fire.ca.gov/incidents/2013/8/10/american-fire/\\\", \\\"2013-08-30T08:00:00Z\\\", \\\"2013-08-30\\\", \\\"2013-08-10\\\", \\\"N\\\", false, false], [\\\"Coyote Fire\\\", \\\"Y\\\", \\\"2013-08-12T09:30:00Z\\\", \\\"2013-08-09T15:51:00Z\\\", \\\"CAL FIRE Lassen-Modoc Unit\\\", \\\"___NaN___\\\", \\\"Lassen\\\", \\\"Southeast of Coyote Reservoir, 20 miles southeast of Bieber\\\", 97.0, 100.0, \\\"NaN\\\", \\\"CAL FIRE Lassen-Modoc Unit\\\", -120.958126, 40.88886, \\\"NaN\\\", \\\"2b84c8a2-e2e8-45a2-9221-e8075608c218\\\", \\\"https://www.fire.ca.gov/incidents/2013/8/9/coyote-fire/\\\", \\\"2013-08-12T09:30:00Z\\\", \\\"2013-08-12\\\", \\\"2013-08-09\\\", \\\"N\\\", true, false], [\\\"Pierce Fire\\\", \\\"Y\\\", \\\"2013-08-16T21:00:00Z\\\", \\\"2013-08-16T13:31:00Z\\\", \\\"CAL FIRE/Riverside County Fire\\\", \\\"___NaN___\\\", \\\"Riverside\\\", \\\"Ave 66 and Pierce Street\\\", 40.0, 100.0, \\\"NaN\\\", \\\"CAL FIRE/Riverside County Fire\\\", -116.10815, 33.570291, \\\"NaN\\\", \\\"f23f8148-6ec4-4885-9729-0dad7c744485\\\", \\\"https://www.fire.ca.gov/incidents/2013/8/16/pierce-fire/\\\", \\\"2013-08-16T21:00:00Z\\\", \\\"2013-08-16\\\", \\\"2013-08-16\\\", \\\"N\\\", true, false], [\\\"Double Fire\\\", \\\"Y\\\", \\\"2013-08-18T18:30:00Z\\\", \\\"2013-08-16T17:57:00Z\\\", \\\"CAL FIRE Sonoma-Lake-Napa Unit\\\", \\\"___NaN___\\\", \\\"Lake\\\", \\\"Hwy 20 and Mule Skinner Rd., Clear Lake Oaks\\\", 70.0, 100.0, \\\"NaN\\\", \\\"CAL FIRE Sonoma-Lake-Napa Unit\\\", -122.491894, 39.013682, \\\"NaN\\\", \\\"ae025ba5-8b5d-48de-ad5e-3037de3d18e9\\\", \\\"https://www.fire.ca.gov/incidents/2013/8/16/double-fire/\\\", \\\"2013-08-18T18:30:00Z\\\", \\\"2013-08-18\\\", \\\"2013-08-16\\\", \\\"N\\\", true, false], [\\\"Bridges Fire\\\", \\\"Y\\\", \\\"2013-08-19T07:10:00Z\\\", \\\"2013-08-17T10:11:00Z\\\", \\\"CAL FIRE Tuolumne-Calaveras Unit\\\", \\\"___NaN___\\\", \\\"Calaveras\\\", \\\"Parrott's Ferry Road north of the bridge, near Vallecito &amp; New Melones Lake\\\", 46.0, 100.0, \\\"NaN\\\", \\\"CAL FIRE Tuolumne-Calaveras Unit, Altaville/Melones Fire; Angels City Fire; Murphys Fire; West Point Fire; Central Fire; San Joaquin County; Stanislaus County; Stanislaus National Forest; Los Angeles County Fire.\\\", -120.45233, 38.06231, \\\"NaN\\\", \\\"10445e2c-979d-49a2-82c2-c3789bd2449a\\\", \\\"https://www.fire.ca.gov/incidents/2013/8/17/bridges-fire/\\\", \\\"2013-08-19T07:10:00Z\\\", \\\"2013-08-19\\\", \\\"2013-08-17\\\", \\\"N\\\", true, false], [\\\"Cleghorn Fire\\\", \\\"Y\\\", \\\"2013-08-18T20:55:00Z\\\", \\\"2013-08-17T17:25:00Z\\\", \\\"San Bernardino National Forest\\\", \\\"___NaN___\\\", \\\"San Bernardino\\\", \\\"I-15 Cajon Pass south of Cleghorn Road\\\", 110.0, 100.0, \\\"NaN\\\", \\\"San Bernardino National Forest\\\", -117.451, 34.287, \\\"NaN\\\", \\\"c7f05927-66a4-403c-9048-aeb42eca0211\\\", \\\"https://www.fire.ca.gov/incidents/2013/8/17/cleghorn-fire/\\\", \\\"2013-08-18T20:55:00Z\\\", \\\"2013-08-18\\\", \\\"2013-08-17\\\", \\\"N\\\", false, false], [\\\"Clover Fire\\\", \\\"Y\\\", \\\"2013-09-15T07:30:00Z\\\", \\\"2013-09-09T12:32:00Z\\\", \\\"CAL FIRE Shasta-Trinity Unit\\\", \\\"___NaN___\\\", \\\"Shasta\\\", \\\"Community of Igo, 10 miles southwest of Redding\\\", 8073.0, 100.0, \\\"NaN\\\", \\\"CAL FIRE Shasta-Trinity Unit, USFS, City of Redding, Anderson Fire Protection District, Burney Fire Protection District, Cottonwood Fire Protection District, Happy Valley Fire Protection District, Shasta County Sheriffs Dept., CHP, Redding Police Dept., Cal OES, PG&amp;E\\\", -122.535496, 40.498332, \\\"NaN\\\", \\\"92af9783-eda9-4186-afe9-447f61a92636\\\", \\\"https://www.fire.ca.gov/incidents/2013/9/9/clover-fire/\\\", \\\"2013-09-15T07:30:00Z\\\", \\\"2013-09-15\\\", \\\"2013-09-09\\\", \\\"N\\\", true, false], [\\\"Plumas Lightning Complex (Hough)\\\", \\\"Y\\\", \\\"2013-08-25T13:15:00Z\\\", \\\"2013-08-18T18:30:00Z\\\", \\\"Plumas National Forest\\\", \\\"___NaN___\\\", \\\"Plumas\\\", \\\"Keddie Ridge/North Arm areas of Indian Valley near Taylorsville\\\", 513.0, 100.0, \\\"NaN\\\", \\\"Plumas National Forest\\\", -120.764666, 40.00842, \\\"NaN\\\", \\\"5015b3c2-2bae-4cce-9bf8-f1b25b0ce1e6\\\", \\\"https://www.fire.ca.gov/incidents/2013/8/18/plumas-lightning-complex-hough/\\\", \\\"2013-08-25T13:15:00Z\\\", \\\"2013-08-25\\\", \\\"2013-08-18\\\", \\\"N\\\", false, false], [\\\"Shirley Fire\\\", \\\"Y\\\", \\\"2013-08-24T13:45:00Z\\\", \\\"2013-08-18T23:12:00Z\\\", \\\"Sequoia National Forest\\\", \\\"___NaN___\\\", \\\"Kern\\\", \\\"Lower Kern River Canyon area off Highway 178\\\", 794.0, 100.0, \\\"NaN\\\", \\\"Sequoia National Forest\\\", -118.588, 35.707, \\\"NaN\\\", \\\"5421868e-52ba-4737-8169-325e0aa040e4\\\", \\\"https://www.fire.ca.gov/incidents/2013/8/18/shirley-fire/\\\", \\\"2013-08-24T13:45:00Z\\\", \\\"2013-08-24\\\", \\\"2013-08-18\\\", \\\"N\\\", false, false], [\\\"Burney Lightning Series (Warner Fire)\\\", \\\"Y\\\", \\\"2013-08-23T19:15:00Z\\\", \\\"2013-08-19T17:48:00Z\\\", \\\"CAL FIRE Shasta Unit\\\", \\\"___NaN___\\\", \\\"Shasta\\\", \\\"Fall River Mills and McAruther area\\\", 196.0, 100.0, \\\"NaN\\\", \\\"CAL FIRE Shasta Unit\\\", -121.3754, 40.5445, \\\"NaN\\\", \\\"f21a41c6-0905-4531-9bdf-2456d0051eed\\\", \\\"https://www.fire.ca.gov/incidents/2013/8/19/burney-lightning-series-warner-fire/\\\", \\\"2013-08-23T19:15:00Z\\\", \\\"2013-08-23\\\", \\\"2013-08-19\\\", \\\"N\\\", true, false], [\\\"Sierra Fire\\\", \\\"Y\\\", \\\"2013-09-30T08:30:00Z\\\", \\\"2013-09-24T15:51:00Z\\\", \\\"San Bernardino National Forest/CAL FIRE San Bernardino Unit\\\", \\\"___NaN___\\\", \\\"San Bernardino\\\", \\\"in the Cajon Pass west of I-15 near Glen Helen Road\\\", 200.0, 100.0, \\\"NaN\\\", \\\"San Bernardino National Forest/CAL FIRE San Bernardino Unit\\\", -117.417, 34.2, \\\"NaN\\\", \\\"f7358513-329f-4dba-8980-4cd3a19b469a\\\", \\\"https://www.fire.ca.gov/incidents/2013/9/24/sierra-fire/\\\", \\\"2013-09-30T08:30:00Z\\\", \\\"2013-09-30\\\", \\\"2013-09-24\\\", \\\"N\\\", false, false], [\\\"Deer Fire\\\", \\\"Y\\\", \\\"2013-08-29T16:45:00Z\\\", \\\"2013-08-23T14:15:00Z\\\", \\\"CAL FIRE Tehama-Glenn Unit\\\", \\\"___NaN___\\\", \\\"Tehama\\\", \\\"Near Deer Creek, 12 miles east of Los Molinos.\\\", 11429.0, 100.0, \\\"NaN\\\", \\\"CAL FIRE Tehama-Glenn Unit, CDCR, USFS, California Fish &amp; Wildlife, California National Guard, Tehama County Sheriff's Office, PG&amp;E\\\", -121.85397, 40.04263, \\\"NaN\\\", \\\"956dbcf6-db40-4b61-b235-4ede14738f1e\\\", \\\"https://www.fire.ca.gov/incidents/2013/8/23/deer-fire/\\\", \\\"2013-08-29T16:45:00Z\\\", \\\"2013-08-29\\\", \\\"2013-08-23\\\", \\\"N\\\", true, false], [\\\"Gobblers Fire\\\", \\\"Y\\\", \\\"2013-08-20T13:32:00Z\\\", \\\"2013-08-20T13:32:00Z\\\", \\\"San Bernardino National Forest\\\", \\\"___NaN___\\\", \\\"San Bernardino\\\", \\\"upper end of Lytle Creek\\\", 413.0, 100.0, \\\"NaN\\\", \\\"San Bernardino National Forest\\\", -117.598, 34.302, \\\"NaN\\\", \\\"b202bd85-c5ef-4bdf-8270-d556f95c3742\\\", \\\"https://www.fire.ca.gov/incidents/2013/8/20/gobblers-fire/\\\", \\\"2013-08-20T13:32:00Z\\\", \\\"2013-08-20\\\", \\\"2013-08-20\\\", \\\"N\\\", false, false], [\\\"Fish Fire\\\", \\\"Y\\\", \\\"2013-09-24T20:15:00Z\\\", \\\"2013-08-24T14:31:00Z\\\", \\\"Sequoia National Forest\\\", \\\"___NaN___\\\", \\\"Tulare\\\", \\\"Golden Trout Wilderness on the Sequoia National Forest.\\\", 2060.0, 100.0, \\\"NaN\\\", \\\"Sequoia National Forest\\\", -118.444, 36.208, \\\"NaN\\\", \\\"a4de6058-c68c-4924-bfb5-dc8ecc3b54c0\\\", \\\"https://www.fire.ca.gov/incidents/2013/8/24/fish-fire/\\\", \\\"2013-09-24T20:15:00Z\\\", \\\"2013-09-24\\\", \\\"2013-08-24\\\", \\\"N\\\", false, false], [\\\"Empire Fire\\\", \\\"Y\\\", \\\"2013-08-24T11:45:00Z\\\", \\\"2013-08-24T14:54:00Z\\\", \\\"CAL FIRE Amador-El Dorado Unit\\\", \\\"___NaN___\\\", \\\"El Dorado\\\", \\\"off Hwy 193 &amp; Empire Creek Cir near Georgetown\\\", 38.0, 100.0, \\\"NaN\\\", \\\"CAL FIRE Amador-El Dorado Unit\\\", -120.84716, 38.89555, \\\"NaN\\\", \\\"fea7802f-ba70-450a-9ad1-96e2751293a9\\\", \\\"https://www.fire.ca.gov/incidents/2013/8/24/empire-fire/\\\", \\\"2013-08-24T11:45:00Z\\\", \\\"2013-08-24\\\", \\\"2013-08-24\\\", \\\"N\\\", true, false], [\\\"Little Fire\\\", \\\"Y\\\", \\\"2013-08-30T08:00:00Z\\\", \\\"2013-08-24T15:09:00Z\\\", \\\"San Bernardino National Forest\\\", \\\"___NaN___\\\", \\\"San Bernardino\\\", \\\"near Thomas Mountain south of Lake Hemet on the San Jacinto Ranger District.\\\", 97.0, 100.0, \\\"NaN\\\", \\\"San Bernardino National Forest\\\", -116.706, 33.642, \\\"NaN\\\", \\\"b5109726-5e91-4c10-96f8-2a5bb72e5a59\\\", \\\"https://www.fire.ca.gov/incidents/2013/8/24/little-fire/\\\", \\\"2013-08-30T08:00:00Z\\\", \\\"2013-08-30\\\", \\\"2013-08-24\\\", \\\"N\\\", false, false], [\\\"Chestnut Fire\\\", \\\"Y\\\", \\\"2013-09-07T20:00:00Z\\\", \\\"2013-09-07T13:55:00Z\\\", \\\"CAL FIRE San Mateo-Santa Cruz Unit\\\", \\\"___NaN___\\\", \\\"San Mateo\\\", \\\"Chestnut Ave and Hillside Blvd, San Bruno Mountain, South San Francisco\\\", 41.0, 100.0, \\\"NaN\\\", \\\"CAL FIRE San Mateo-Santa Cruz Unit\\\", -122.427285, 37.667295, \\\"NaN\\\", \\\"b30ee931-f349-4d21-a38a-d346c516b104\\\", \\\"https://www.fire.ca.gov/incidents/2013/9/7/chestnut-fire/\\\", \\\"2013-09-07T20:00:00Z\\\", \\\"2013-09-07\\\", \\\"2013-09-07\\\", \\\"N\\\", true, false], [\\\"Morgan Fire\\\", \\\"Y\\\", \\\"2013-09-14T17:30:00Z\\\", \\\"2013-09-08T13:08:00Z\\\", \\\"CAL FIRE Santa-Clara Unit\\\", \\\"___NaN___\\\", \\\"Contra Costa\\\", \\\"off Morgan Territory Road, Southeast of Clayton\\\", 3111.0, 100.0, \\\"NaN\\\", \\\"CAL FIRE Santa-Clara Unit, CAL FIRE, East Contra Costa Fire Protection District, Contra Costa Fire Protection District, San Ramon Valley Fire, East Bay Regional Parks, CALOES, CDCR, California State Parks, California Highway Patorl, CalTrans, Contra Costa County Sheriff's Department, Contra Costa Public Works, Clayton PD, PG&amp;E, America Red Cross and the Salvation Army.\\\", -121.882582, 37.90757, \\\"NaN\\\", \\\"e33b2d80-7fec-4470-9e79-440d349b0d95\\\", \\\"https://www.fire.ca.gov/incidents/2013/9/8/morgan-fire/\\\", \\\"2013-09-14T17:30:00Z\\\", \\\"2013-09-14\\\", \\\"2013-09-08\\\", \\\"N\\\", true, false], [\\\"Angora Fire\\\", \\\"Y\\\", \\\"2013-09-24T20:15:00Z\\\", \\\"2013-09-08T11:53:00Z\\\", \\\"Sequoia National Forest\\\", \\\"___NaN___\\\", \\\"Tulare\\\", \\\"Golden Trout Wilderness\\\", 134.0, 100.0, \\\"NaN\\\", \\\"Sequoia National Forest\\\", -118.459, 36.258, \\\"NaN\\\", \\\"d332a628-6290-4e91-b8d0-4dc663b80c38\\\", \\\"https://www.fire.ca.gov/incidents/2013/9/8/angora-fire/\\\", \\\"2013-09-24T20:15:00Z\\\", \\\"2013-09-24\\\", \\\"2013-09-08\\\", \\\"N\\\", false, false], [\\\"Liveoak Fire\\\", \\\"Y\\\", \\\"2013-09-12T08:45:00Z\\\", \\\"2013-09-11T16:57:00Z\\\", \\\"CAL FIRE San Bernardino Unit\\\", \\\"___NaN___\\\", \\\"San Bernardino\\\", \\\"Live Oak Canyon Rd, South of I-10 near cities of Redlands and Yucaipa.\\\", 73.0, 100.0, \\\"NaN\\\", \\\"CAL FIRE San Bernardino Unit\\\", -117.106075, 34.003151, \\\"NaN\\\", \\\"31f21c59-8a94-4b17-91aa-88ca14817162\\\", \\\"https://www.fire.ca.gov/incidents/2013/9/11/liveoak-fire/\\\", \\\"2013-09-12T08:45:00Z\\\", \\\"2013-09-12\\\", \\\"2013-09-11\\\", \\\"N\\\", true, false], [\\\"Madre Fire\\\", \\\"Y\\\", \\\"2013-09-28T08:00:00Z\\\", \\\"2013-09-23T18:00:00Z\\\", \\\"Angeles National Forest/Los Angeles County Fire\\\", \\\"___NaN___\\\", \\\"Los Angeles\\\", \\\"San Gabriel Canyon 1/4 mile west of the entrance station\\\", 268.0, 100.0, \\\"NaN\\\", \\\"Angeles National Forest/Los Angeles County Fire\\\", -117.908, 34.149, \\\"NaN\\\", \\\"eb5a3f2a-0c25-417a-af78-bb0d643247c7\\\", \\\"https://www.fire.ca.gov/incidents/2013/9/23/madre-fire/\\\", \\\"2013-09-28T08:00:00Z\\\", \\\"2013-09-28\\\", \\\"2013-09-23\\\", \\\"N\\\", false, false], [\\\"Davis Creek Complex\\\", \\\"Y\\\", \\\"2013-09-24T20:15:00Z\\\", \\\"2013-09-05T15:57:00Z\\\", \\\"Modoc National Forest\\\", \\\"___NaN___\\\", \\\"Modoc\\\", \\\"Both sides of Davis Creek near Hwy 395, south of Goose Lake\\\", 97.0, 100.0, \\\"NaN\\\", \\\"Modoc National Forest\\\", -120.375, 41.73325, \\\"NaN\\\", \\\"308ce8d5-67c8-4edb-9e2f-bf6295f98d7e\\\", \\\"https://www.fire.ca.gov/incidents/2013/9/5/davis-creek-complex/\\\", \\\"2013-09-24T20:15:00Z\\\", \\\"2013-09-24\\\", \\\"2013-09-05\\\", \\\"N\\\", false, false], [\\\"Tyler Fire\\\", \\\"Y\\\", \\\"2013-08-31T21:30:00Z\\\", \\\"2013-08-31T14:42:00Z\\\", \\\"CAL FIRE Nevada-Yuba-Placer Unit\\\", \\\"___NaN___\\\", \\\"Nevada\\\", \\\"North San Juan Area, Highway 49 and Tyler Foote Road\\\", 52.0, 100.0, \\\"NaN\\\", \\\"CAL FIRE Nevada-Yuba-Placer Unit\\\", -121.107022, 39.333401, \\\"NaN\\\", \\\"1476673c-df55-4c39-b117-d9d067f8a020\\\", \\\"https://www.fire.ca.gov/incidents/2013/8/31/tyler-fire/\\\", \\\"2013-08-31T21:30:00Z\\\", \\\"2013-08-31\\\", \\\"2013-08-31\\\", \\\"N\\\", true, false], [\\\"Centerville Fire\\\", \\\"Y\\\", \\\"2013-09-01T18:00:00Z\\\", \\\"2013-08-31T17:23:00Z\\\", \\\"CAL FIRE Butte Unit\\\", \\\"___NaN___\\\", \\\"Butte\\\", \\\"Off Centerville Rd in the Butte Creek Canyon in the community of Centerville, west of Magalia\\\", 80.0, 100.0, \\\"NaN\\\", \\\"CAL FIRE Butte Unit, CDCR, PG&amp;E, El Medio Fire\\\", -121.713938, 39.731878, \\\"NaN\\\", \\\"dd374f36-e7cb-4a48-91ee-e8be101e0f88\\\", \\\"https://www.fire.ca.gov/incidents/2013/8/31/centerville-fire/\\\", \\\"2013-09-01T18:00:00Z\\\", \\\"2013-09-01\\\", \\\"2013-08-31\\\", \\\"N\\\", true, false], [\\\"Rail Fire\\\", \\\"Y\\\", \\\"2013-09-05T21:00:00Z\\\", \\\"2013-09-07T17:30:00Z\\\", \\\"Modoc National Forest\\\", \\\"___NaN___\\\", \\\"Modoc\\\", \\\"Rail Mountain, 7 miles NW of Canby\\\", 68.0, 100.0, \\\"NaN\\\", \\\"Modoc National Forest\\\", -120.959, 41.569, \\\"NaN\\\", \\\"0875cf4e-9948-45ed-a76d-d74564319b49\\\", \\\"https://www.fire.ca.gov/incidents/2013/9/7/rail-fire/\\\", \\\"2013-09-05T21:00:00Z\\\", \\\"2013-09-05\\\", \\\"2013-09-07\\\", \\\"N\\\", false, false], [\\\"Rim Fire\\\", \\\"Y\\\", \\\"2013-09-06T18:30:00Z\\\", \\\"2013-08-17T15:25:00Z\\\", \\\"Stanislaus National Forest/Yosemite National Park\\\", \\\"___NaN___\\\", \\\"Tuolumne\\\", \\\"3 miles east of Groveland along Hwy 120\\\", 257314.0, 100.0, \\\"NaN\\\", \\\"Stanislaus National Forest/Yosemite National Park\\\", -120.086, 37.857, \\\"NaN\\\", \\\"5fb18d4d-213f-4d83-a179-daaf11939e78\\\", \\\"https://www.fire.ca.gov/incidents/2013/8/17/rim-fire/\\\", \\\"2013-09-06T18:30:00Z\\\", \\\"2013-09-06\\\", \\\"2013-08-17\\\", \\\"N\\\", true, false], [\\\"Lyon Fire\\\", \\\"Y\\\", \\\"2013-09-12T18:15:00Z\\\", \\\"2013-09-09T13:09:00Z\\\", \\\"CAL FIRE San Diego Unit / Cleveland National Forest\\\", \\\"___NaN___\\\", \\\"San Diego\\\", \\\"Four Corners, Lyons Valley Road, east of Lyons Peak\\\", 263.0, 100.0, \\\"NaN\\\", \\\"CAL FIRE San Diego Unit / Cleveland National Forest, CAL FIRE, USFS, CHP, San Diego Co. Sheriff, County Animal Control, SDG&amp;E, Red Cross, SDCO Fire Authority\\\", -116.746023, 32.710918, \\\"NaN\\\", \\\"f6f6fefa-ac4e-466f-815e-492416e37b98\\\", \\\"https://www.fire.ca.gov/incidents/2013/9/9/lyon-fire/\\\", \\\"2013-09-12T18:15:00Z\\\", \\\"2013-09-12\\\", \\\"2013-09-09\\\", \\\"N\\\", true, false], [\\\"Lakeshore Fire\\\", \\\"Y\\\", \\\"2013-09-15T17:14:00Z\\\", \\\"2013-09-15T19:45:00Z\\\", \\\"CAL FIRE Sonoma-Lake-Napa Unit\\\", \\\"___NaN___\\\", \\\"Lake\\\", \\\"near the community of Clearlake\\\", 30.0, 100.0, \\\"NaN\\\", \\\"CAL FIRE Sonoma-Lake-Napa Unit\\\", -122.683, 38.9777, \\\"NaN\\\", \\\"51e00abb-53d0-4014-9224-2a853b1d6bcf\\\", \\\"https://www.fire.ca.gov/incidents/2013/9/15/lakeshore-fire/\\\", \\\"2013-09-15T17:14:00Z\\\", \\\"2013-09-15\\\", \\\"2013-09-15\\\", \\\"N\\\", true, false], [\\\"Creek Fire\\\", \\\"Y\\\", \\\"2013-09-24T17:30:00Z\\\", \\\"2013-09-24T03:20:00Z\\\", \\\"CAL FIRE San Luis Obispo Unit\\\", \\\"___NaN___\\\", \\\"San Luis Obispo\\\", \\\"off Toro Creek Rd, east of Cayucos\\\", 94.0, 100.0, \\\"NaN\\\", \\\"CAL FIRE San Luis Obispo Unit\\\", -120.8358, 35.4393, \\\"NaN\\\", \\\"ac469123-da14-4821-b824-c6cf66138514\\\", \\\"https://www.fire.ca.gov/incidents/2013/9/24/creek-fire/\\\", \\\"2013-09-24T17:30:00Z\\\", \\\"2013-09-24\\\", \\\"2013-09-24\\\", \\\"N\\\", true, false], [\\\"Highland Fire\\\", \\\"Y\\\", \\\"2013-09-29T18:15:00Z\\\", \\\"2013-09-28T13:57:00Z\\\", \\\"CAL FIRE Mendocino Unit\\\", \\\"___NaN___\\\", \\\"Mendocino\\\", \\\"off Highland Springs Rd, southeast of Kelseyville\\\", 98.0, 100.0, \\\"NaN\\\", \\\"CAL FIRE Mendocino Unit\\\", -122.966, 38.9252, \\\"NaN\\\", \\\"b20a2031-12c9-4e9c-9f44-ac82c26e6c66\\\", \\\"https://www.fire.ca.gov/incidents/2013/9/28/highland-fire/\\\", \\\"2013-09-29T18:15:00Z\\\", \\\"2013-09-29\\\", \\\"2013-09-28\\\", \\\"N\\\", true, false], [\\\"Putah Fire\\\", \\\"Y\\\", \\\"2013-10-04T16:55:00Z\\\", \\\"2013-10-03T20:33:00Z\\\", \\\"CAL FIRE Sonoma-Lake-Napa Unit\\\", \\\"___NaN___\\\", \\\"Napa\\\", \\\"off Berryessa Knoxville Rd near Lake Berryessa\\\", 376.0, 100.0, \\\"NaN\\\", \\\"CAL FIRE Sonoma-Lake-Napa Unit, CAL FIRE, Bureau of Reclamation\\\", -122.289, 38.628, \\\"NaN\\\", \\\"1f94fce5-49a5-4220-bc99-f003ab4d3e60\\\", \\\"https://www.fire.ca.gov/incidents/2013/10/3/putah-fire/\\\", \\\"2013-10-04T16:55:00Z\\\", \\\"2013-10-04\\\", \\\"2013-10-03\\\", \\\"N\\\", true, false], [\\\"Crane Fire\\\", \\\"Y\\\", \\\"2013-10-05T07:45:00Z\\\", \\\"2013-10-04T12:25:00Z\\\", \\\"CAL FIRE Sonoma-Lake-Napa Unit\\\", \\\"___NaN___\\\", \\\"Sonoma\\\", \\\"near Crane Creek Regional Park off Pressley Rd, east of Rohnert Park\\\", 159.0, 100.0, \\\"NaN\\\", \\\"CAL FIRE Sonoma-Lake-Napa Unit\\\", -122.6503, 38.34599, \\\"NaN\\\", \\\"1460f2d9-853b-4901-bed3-ac196e00bb3a\\\", \\\"https://www.fire.ca.gov/incidents/2013/10/4/crane-fire/\\\", \\\"2013-10-05T07:45:00Z\\\", \\\"2013-10-05\\\", \\\"2013-10-04\\\", \\\"N\\\", true, false], [\\\"DeLuz Fire\\\", \\\"Y\\\", \\\"2013-10-09T19:00:00Z\\\", \\\"2013-10-05T12:45:00Z\\\", \\\"Camp Pendleton Marine Corps Base\\\", \\\"___NaN___\\\", \\\"San Diego\\\", \\\"On Camp Pendleton, west of Fallbrook\\\", 2236.0, 100.0, \\\"NaN\\\", \\\"Camp Pendleton Marine Corps Base\\\", -117.3092, 33.341, \\\"NaN\\\", \\\"9fb847ce-44c7-4a11-a733-a6cc82838671\\\", \\\"https://www.fire.ca.gov/incidents/2013/10/5/deluz-fire/\\\", \\\"2013-10-09T19:00:00Z\\\", \\\"2013-10-09\\\", \\\"2013-10-05\\\", \\\"N\\\", false, false], [\\\"Summit Fire\\\", \\\"Y\\\", \\\"2013-10-05T22:00:00Z\\\", \\\"2013-10-04T17:37:00Z\\\", \\\"CAL FIRE Butte Unit\\\", \\\"___NaN___\\\", \\\"Butte\\\", \\\"off District Center Dr &amp; Fortune Way in Palermo\\\", 305.0, 100.0, \\\"NaN\\\", \\\"CAL FIRE Butte Unit\\\", -121.497, 39.439, \\\"NaN\\\", \\\"d922e7c8-814a-412b-a40b-53072d0983ea\\\", \\\"https://www.fire.ca.gov/incidents/2013/10/4/summit-fire/\\\", \\\"2013-10-05T22:00:00Z\\\", \\\"2013-10-05\\\", \\\"2013-10-04\\\", \\\"N\\\", true, false], [\\\"Baker Fire\\\", \\\"Y\\\", \\\"2013-10-09T08:00:00Z\\\", \\\"2013-10-06T10:52:00Z\\\", \\\"Orange County Fire Authority\\\", \\\"___NaN___\\\", \\\"Orange\\\", \\\"Off Baker Canyon Rd, Silverado Canyon area, east of Irvine\\\", 40.0, 100.0, \\\"NaN\\\", \\\"Orange County Fire Authority\\\", -117.6649, 33.7655, \\\"NaN\\\", \\\"9a110003-2f4c-4ac7-a3e5-b4e713f8d1fe\\\", \\\"https://www.fire.ca.gov/incidents/2013/10/6/baker-fire/\\\", \\\"2013-10-09T08:00:00Z\\\", \\\"2013-10-09\\\", \\\"2013-10-06\\\", \\\"N\\\", true, false], [\\\"Capay Fire\\\", \\\"Y\\\", \\\"2013-11-04T15:35:00Z\\\", \\\"2013-11-04T11:41:00Z\\\", \\\"CAL FIRE Sonoma-Lake-Napa Unit\\\", \\\"___NaN___\\\", \\\"Yolo\\\", \\\"Off County Road 23 &amp; County Road 81, Southwest of Esparto\\\", 163.0, 100.0, \\\"NaN\\\", \\\"CAL FIRE Sonoma-Lake-Napa Unit\\\", -122.08725, 38.67479, \\\"NaN\\\", \\\"0aa08938-eaab-4a60-8891-946197328f94\\\", \\\"https://www.fire.ca.gov/incidents/2013/11/4/capay-fire/\\\", \\\"2013-11-04T15:35:00Z\\\", \\\"2013-11-04\\\", \\\"2013-11-04\\\", \\\"N\\\", true, false], [\\\"Dersch Fire\\\", \\\"Y\\\", \\\"2013-11-07T19:45:00Z\\\", \\\"2013-11-07T16:10:00Z\\\", \\\"CAL FIRE Shasta-Trinity Unit\\\", \\\"___NaN___\\\", \\\"Shasta\\\", \\\"Off Dersch Rd and Hyrax, Millville\\\", 33.0, 100.0, \\\"NaN\\\", \\\"CAL FIRE Shasta-Trinity Unit\\\", -122.140914, 40.483662, \\\"NaN\\\", \\\"29a2efda-c28f-4a41-9c6d-8cb8f763d464\\\", \\\"https://www.fire.ca.gov/incidents/2013/11/7/dersch-fire/\\\", \\\"2013-11-07T19:45:00Z\\\", \\\"2013-11-07\\\", \\\"2013-11-07\\\", \\\"N\\\", true, false], [\\\"Toro Fire\\\", \\\"Y\\\", \\\"2013-11-09T17:00:00Z\\\", \\\"2013-11-08T10:30:00Z\\\", \\\"CAL FIRE San Luis Obispo Unit\\\", \\\"___NaN___\\\", \\\"San Luis Obispo\\\", \\\"Toro Creek Rd. and Hwy 41 West, Morro Bay\\\", 51.0, 100.0, \\\"Toro Creek Road remains closed to non-emergency traffic at Summit Road North of Highway 41.\\\", \\\"CAL FIRE San Luis Obispo Unit, United States Forest Service, Atascadero City Fire, Paso Robles Fire, San Luis Obispo City Fire, Templeton Fire, Morro Bay City Fire and Cayucos Fire Departments. As well as San Luis Obispo County Sheriff\\\\u2019s Department, and the California Highway Patrol.\\\", -120.751555, 35.457978, \\\"NaN\\\", \\\"587c03e3-4831-47c1-8c03-c08176e91b11\\\", \\\"https://www.fire.ca.gov/incidents/2013/11/8/toro-fire/\\\", \\\"2013-11-09T17:00:00Z\\\", \\\"2013-11-09\\\", \\\"2013-11-08\\\", \\\"N\\\", true, false], [\\\"Cantwell Fire\\\", \\\"Y\\\", \\\"2013-11-10T18:30:00Z\\\", \\\"2013-11-08T13:42:00Z\\\", \\\"CAL FIRE Sonoma-Lake-Napa Unit\\\", \\\"___NaN___\\\", \\\"Lake\\\", \\\"South of Morgan Valley Rd and East of Hwy 29, Community of Lower Lake\\\", 120.0, 100.0, \\\"NaN\\\", \\\"CAL FIRE Sonoma-Lake-Napa Unit\\\", -122.567525, 38.882214, \\\"NaN\\\", \\\"20ba8b6b-78d4-46a7-995b-d8fa38cbf3b8\\\", \\\"https://www.fire.ca.gov/incidents/2013/11/8/cantwell-fire/\\\", \\\"2013-11-10T18:30:00Z\\\", \\\"2013-11-10\\\", \\\"2013-11-08\\\", \\\"N\\\", true, false], [\\\"Silverado Fire\\\", \\\"Y\\\", \\\"2013-11-23T18:30:00Z\\\", \\\"2013-11-21T21:39:00Z\\\", \\\"CAL FIRE Sonoma-Lake-Napa Unit\\\", \\\"___NaN___\\\", \\\"Napa\\\", \\\"Off Silverado Trail in the Soda Canyon area near Napa\\\", 190.0, 100.0, \\\"NaN\\\", \\\"CAL FIRE Sonoma-Lake-Napa Unit, CAL FIRE, Napa County Fire, Rutherford VFD, Soda Canyon VFD, Napa County Sheriff\\\\u2019s Office, and California Dept. of Corrections and Rehabilitation\\\", -122.311, 38.382, \\\"NaN\\\", \\\"79d476e5-0b4d-48e2-a105-2bba5c1140e9\\\", \\\"https://www.fire.ca.gov/incidents/2013/11/21/silverado-fire/\\\", \\\"2013-11-23T18:30:00Z\\\", \\\"2013-11-23\\\", \\\"2013-11-21\\\", \\\"N\\\", true, false], [\\\"Wheeler Fire\\\", \\\"Y\\\", \\\"2013-11-15T16:00:00Z\\\", \\\"2013-11-14T11:05:00Z\\\", \\\"Ventura County Fire Department\\\", \\\"___NaN___\\\", \\\"Ventura\\\", \\\"Wheeler Canyon, north of Santa Paula\\\", 64.0, 100.0, \\\"NaN\\\", \\\"Ventura County Fire Department\\\", -119.13249, 34.384, \\\"NaN\\\", \\\"0adb968c-eb85-41c5-8e08-04c0ec386c79\\\", \\\"https://www.fire.ca.gov/incidents/2013/11/14/wheeler-fire/\\\", \\\"2013-11-15T16:00:00Z\\\", \\\"2013-11-15\\\", \\\"2013-11-14\\\", \\\"N\\\", true, false], [\\\"Retek Fire\\\", \\\"Y\\\", \\\"2013-11-22T17:30:00Z\\\", \\\"2013-11-22T10:06:00Z\\\", \\\"CAL FIRE Mendocino Unit\\\", \\\"___NaN___\\\", \\\"Mendocino\\\", \\\"Off Hwy 101 at Henry Station Rd, north of Hopland\\\", 82.0, 100.0, \\\"NaN\\\", \\\"CAL FIRE Mendocino Unit\\\", -123.1478, 39.0442, \\\"NaN\\\", \\\"e9e43213-b2fc-47bc-92cd-117ccd6e4780\\\", \\\"https://www.fire.ca.gov/incidents/2013/11/22/retek-fire/\\\", \\\"2013-11-22T17:30:00Z\\\", \\\"2013-11-22\\\", \\\"2013-11-22\\\", \\\"N\\\", true, false], [\\\"McCabe Fire\\\", \\\"Y\\\", \\\"2013-11-27T18:15:00Z\\\", \\\"2013-11-22T02:04:00Z\\\", \\\"CAL FIRE Sonoma-Lake-Napa Unit\\\", \\\"___NaN___\\\", \\\"Sonoma\\\", \\\"The Geysers area, 10 miles northeast of Geyserville\\\", 3505.0, 100.0, \\\"NaN\\\", \\\"CAL FIRE Sonoma-Lake-Napa Unit, CAL FIRE, Napa County Fire, Geyserville FPD, Healdsburg FD, Cloverdale FPD, Santa Rosa FD, Sonoma Valley FRA, Glen Ellen FPD, Schell-Vista FPD, Forestville FPD, Graton FPD, Gold Ridge FPD, Occidental CSD, Bennett Valley FPD, Sebastopol FD, Rancho Adobe FPD, CHP, Cal Trans, Sonoma County Sheriff\\\\u2019s, CAL OES, California Department of Correction and Rehabilitation, Sonoma County Fire Services, Bureau of Land Management, United States Forest Service.\\\", -122.8498, 38.8167, \\\"NaN\\\", \\\"b4bc1480-cbb8-4ef2-8d5f-88a496d21d10\\\", \\\"https://www.fire.ca.gov/incidents/2013/11/22/mccabe-fire/\\\", \\\"2013-11-27T18:15:00Z\\\", \\\"2013-11-27\\\", \\\"2013-11-22\\\", \\\"N\\\", true, false], [\\\"Bruner Fire\\\", \\\"Y\\\", \\\"2013-11-24T08:45:00Z\\\", \\\"2013-11-23T12:04:00Z\\\", \\\"CAL FIRE Sonoma-Lake-Napa Unit\\\", \\\"___NaN___\\\", \\\"Lake\\\", \\\"Off Bruner Drive &amp; Al Drive, Clearlake Oaks\\\", 50.0, 100.0, \\\"NaN\\\", \\\"CAL FIRE Sonoma-Lake-Napa Unit\\\", -122.7656, 39.0448, \\\"NaN\\\", \\\"3f3e234c-04e1-4941-a79f-23ddc419bf59\\\", \\\"https://www.fire.ca.gov/incidents/2013/11/23/bruner-fire/\\\", \\\"2013-11-24T08:45:00Z\\\", \\\"2013-11-24\\\", \\\"2013-11-23\\\", \\\"N\\\", true, false], [\\\"Dam Fire\\\", \\\"Y\\\", \\\"2013-11-24T18:45:00Z\\\", \\\"2013-11-23T14:17:00Z\\\", \\\"CAL FIRE Sonoma-Lake-Napa Unit\\\", \\\"___NaN___\\\", \\\"Lake\\\", \\\"Off Dam Rd, southeast of Clear Lake\\\", 23.0, 100.0, \\\"NaN\\\", \\\"CAL FIRE Sonoma-Lake-Napa Unit\\\", -122.5818, 38.9289, \\\"NaN\\\", \\\"720f1d0a-81b7-4a00-85db-be3d9587ea3e\\\", \\\"https://www.fire.ca.gov/incidents/2013/11/23/dam-fire/\\\", \\\"2013-11-24T18:45:00Z\\\", \\\"2013-11-24\\\", \\\"2013-11-23\\\", \\\"N\\\", true, false], [\\\"Grant Fire\\\", \\\"Y\\\", \\\"2013-12-31T16:00:00Z\\\", \\\"2013-12-31T05:30:00Z\\\", \\\"CAL FIRE Santa Clara Unit\\\", \\\"___NaN___\\\", \\\"Santa Clara\\\", \\\"off Mount Hamilton Road near Grant Ranch County Park\\\", 40.0, 100.0, \\\"NaN\\\", \\\"CAL FIRE Santa Clara Unit\\\", -121.717706, 37.342186, \\\"NaN\\\", \\\"7a168690-06e5-4056-97c8-73b834204744\\\", \\\"https://www.fire.ca.gov/incidents/2013/12/31/grant-fire/\\\", \\\"2013-12-31T16:00:00Z\\\", \\\"2013-12-31\\\", \\\"2013-12-31\\\", \\\"N\\\", true, false], [\\\"Campbell Fire\\\", \\\"Y\\\", \\\"2014-01-10T18:30:00Z\\\", \\\"2014-01-02T20:00:00Z\\\", \\\"Lassen National Forest\\\", \\\"___NaN___\\\", \\\"Tehama\\\", \\\"Ishi Wilderness, north of Campbellville in the Lassen National Forest\\\", 865.0, 100.0, \\\"NaN\\\", \\\"Lassen National Forest\\\", -121.790183, 40.134597, \\\"NaN\\\", \\\"353e7df7-440c-4c41-a27c-b35bb1e2831c\\\", \\\"https://www.fire.ca.gov/incidents/2014/1/2/campbell-fire/\\\", \\\"2014-01-10T18:30:00Z\\\", \\\"2014-01-10\\\", \\\"2014-01-02\\\", \\\"N\\\", false, false], [\\\"Colby Fire\\\", \\\"Y\\\", \\\"2014-01-27T10:00:00Z\\\", \\\"2014-01-16T05:50:00Z\\\", \\\"Angeles National Forest and LA County Fire Department\\\", \\\"___NaN___\\\", \\\"Los Angeles\\\", \\\"near Morris Reservoir, north of Glendora\\\", 1952.0, 100.0, \\\"NaN\\\", \\\"Angeles National Forest and LA County Fire Department\\\", -117.8816, 34.1703, \\\"NaN\\\", \\\"1fe0ea01-23e8-47a1-8fbd-ced6cf655e4d\\\", \\\"https://www.fire.ca.gov/incidents/2014/1/16/colby-fire/\\\", \\\"2014-01-27T10:00:00Z\\\", \\\"2014-01-27\\\", \\\"2014-01-16\\\", \\\"N\\\", false, false], [\\\"Red Fire\\\", \\\"Y\\\", \\\"2014-01-08T19:15:00Z\\\", \\\"2014-01-04T12:00:00Z\\\", \\\"CAL FIRE Humboldt Del-Norte Unit\\\", \\\"___NaN___\\\", \\\"Humboldt\\\", \\\"South of Berry Summit, west of Willow Creek\\\", 333.0, 100.0, \\\"NaN\\\", \\\"CAL FIRE Humboldt Del-Norte Unit\\\", -123.773779, 40.884415, \\\"NaN\\\", \\\"6d75c6a4-12cb-4f18-8951-f2737e980916\\\", \\\"https://www.fire.ca.gov/incidents/2014/1/4/red-fire/\\\", \\\"2014-01-08T19:15:00Z\\\", \\\"2014-01-08\\\", \\\"2014-01-04\\\", \\\"N\\\", true, false], [\\\"Lake Fire\\\", \\\"Y\\\", \\\"2014-01-26T18:00:00Z\\\", \\\"2014-01-25T06:37:00Z\\\", \\\"CAL FIRE Fresno-Kings Unit\\\", \\\"___NaN___\\\", \\\"Fresno\\\", \\\"off Trimmer Springs Rd &amp; Sunnyslope Rd near Pine Flat Lake\\\", 106.0, 100.0, \\\"NaN\\\", \\\"CAL FIRE Fresno-Kings Unit\\\", -119.3415, 36.8266, \\\"NaN\\\", \\\"d529636e-33d0-484b-9c6f-093ba33736b7\\\", \\\"https://www.fire.ca.gov/incidents/2014/1/25/lake-fire/\\\", \\\"2014-01-26T18:00:00Z\\\", \\\"2014-01-26\\\", \\\"2014-01-25\\\", \\\"N\\\", true, false], [\\\"Gun Fire\\\", \\\"Y\\\", \\\"2014-03-11T11:00:00Z\\\", \\\"2014-03-08T12:30:00Z\\\", \\\"USFS - Cleveland National Forest\\\", \\\"___NaN___\\\", \\\"San Diego\\\", \\\"Off Interstate 8 &amp; Sunrise Hwy, near Pine Valley\\\", 125.0, 100.0, \\\"NaN\\\", \\\"USFS - Cleveland National Forest\\\", -116.49, 32.81, \\\"NaN\\\", \\\"a67fe9bc-b8ec-4ed1-a2e8-06623aab7039\\\", \\\"https://www.fire.ca.gov/incidents/2014/3/8/gun-fire/\\\", \\\"2014-03-11T11:00:00Z\\\", \\\"2014-03-11\\\", \\\"2014-03-08\\\", \\\"N\\\", false, false], [\\\"Encinal Fire\\\", \\\"Y\\\", \\\"2014-03-21T18:00:00Z\\\", \\\"2014-03-19T16:45:00Z\\\", \\\"CAL FIRE San Benito-Monterey Unit\\\", \\\"___NaN___\\\", \\\"Monterey\\\", \\\"Off Encinal Rd, 8 miles southeast of Salinas\\\", 400.0, 100.0, \\\"NaN\\\", \\\"CAL FIRE San Benito-Monterey Unit\\\", -121.4819, 36.6313, \\\"NaN\\\", \\\"cb580f06-5d43-46aa-8b2c-f2b5a21eff02\\\", \\\"https://www.fire.ca.gov/incidents/2014/3/19/encinal-fire/\\\", \\\"2014-03-21T18:00:00Z\\\", \\\"2014-03-21\\\", \\\"2014-03-19\\\", \\\"N\\\", true, false], [\\\"Van Buren Fire\\\", \\\"Y\\\", \\\"2014-03-29T17:15:00Z\\\", \\\"2014-03-28T14:31:00Z\\\", \\\"CAL FIRE / Riverside County Fire\\\", \\\"___NaN___\\\", \\\"Riverside\\\", \\\"Off Ave 62 and Van Buren St in Thermal\\\", 57.0, 100.0, \\\"NaN\\\", \\\"CAL FIRE / Riverside County Fire\\\", -116.1985, 33.5982, \\\"NaN\\\", \\\"edff6f87-80b8-4c0d-8f6a-45c6e798b7fa\\\", \\\"https://www.fire.ca.gov/incidents/2014/3/28/van-buren-fire/\\\", \\\"2014-03-29T17:15:00Z\\\", \\\"2014-03-29\\\", \\\"2014-03-28\\\", \\\"N\\\", true, false], [\\\"Bridges Fire\\\", \\\"Y\\\", \\\"2014-04-21T19:15:00Z\\\", \\\"2014-04-19T15:54:00Z\\\", \\\"CAL FIRE San Bernardino Unit\\\", \\\"___NaN___\\\", \\\"Inyo\\\", \\\"off Highway 6 &amp; 5 Bridges Rd, 5 miles northeast of Bishop\\\", 113.0, 100.0, \\\"NaN\\\", \\\"CAL FIRE San Bernardino Unit, Bishop Fire Dept, Inyo National Forest, Los Angeles Dept of Water and Power (LADWP), BLM - Desert District, CHP and Inyo Sheriff\\\", -118.352, 37.399, \\\"NaN\\\", \\\"1faad916-32b9-4cd0-94b8-dacfe71fa9f8\\\", \\\"https://www.fire.ca.gov/incidents/2014/4/19/bridges-fire/\\\", \\\"2014-04-21T19:15:00Z\\\", \\\"2014-04-21\\\", \\\"2014-04-19\\\", \\\"N\\\", true, false], [\\\"Etiwanda Fire\\\", \\\"Y\\\", \\\"2014-05-05T17:30:00Z\\\", \\\"2014-04-30T08:00:00Z\\\", \\\"CAL FIRE San Bernardino / USFS / Rancho Cucamonga Fire\\\", \\\"___NaN___\\\", \\\"San Bernardino\\\", \\\"North of Rancho Cucamonga\\\", 2143.0, 100.0, \\\"NaN\\\", \\\"CAL FIRE San Bernardino / USFS / Rancho Cucamonga Fire, CAL FIRE, US Forest Service and Rancho Cucamonga Fire\\\", -117.547374, 34.169346, \\\"NaN\\\", \\\"13bfff2c-cb2f-4ed9-a7f8-6985646a2d5d\\\", \\\"https://www.fire.ca.gov/incidents/2014/4/30/etiwanda-fire/\\\", \\\"2014-05-05T17:30:00Z\\\", \\\"2014-05-05\\\", \\\"2014-04-30\\\", \\\"N\\\", true, false], [\\\"Jacumba Fire\\\", \\\"Y\\\", \\\"2014-05-06T10:20:00Z\\\", \\\"2014-05-05T16:36:00Z\\\", \\\"CAL FIRE San Diego Unit\\\", \\\"___NaN___\\\", \\\"San Diego\\\", \\\"Off Interstate 8, east of McCain Valley Rd, east of Boulevard\\\", 29.0, 100.0, \\\"NaN\\\", \\\"CAL FIRE San Diego Unit\\\", -116.222, 32.665, \\\"NaN\\\", \\\"d5cb2477-6627-4ef6-bab1-d0eecc4ad12a\\\", \\\"https://www.fire.ca.gov/incidents/2014/5/5/jacumba-fire/\\\", \\\"2014-05-06T10:20:00Z\\\", \\\"2014-05-06\\\", \\\"2014-05-05\\\", \\\"N\\\", true, false], [\\\"Bernardo Fire\\\", \\\"Y\\\", \\\"2014-05-17T20:14:00Z\\\", \\\"2014-05-13T11:00:00Z\\\", \\\"CAL FIRE San Diego Unit/San Diego City Fire/Rancho Santa Fe Fire District\\\", \\\"___NaN___\\\", \\\"San Diego\\\", \\\"off Nighthawk Lane, southwest of Rancho Bernardo\\\", 1548.0, 100.0, \\\"NaN\\\", \\\"CAL FIRE San Diego Unit/San Diego City Fire/Rancho Santa Fe Fire District\\\", -117.133, 33.003, \\\"NaN\\\", \\\"9e5ee790-ee7e-4b40-b300-7a3046901162\\\", \\\"https://www.fire.ca.gov/incidents/2014/5/13/bernardo-fire/\\\", \\\"2014-05-17T20:14:00Z\\\", \\\"2014-05-17\\\", \\\"2014-05-13\\\", \\\"N\\\", true, false], [\\\"San Lucas Fire\\\", \\\"Y\\\", \\\"2014-05-01T19:00:00Z\\\", \\\"2014-04-30T14:25:00Z\\\", \\\"CAL FIRE San Benito-Monterey Unit\\\", \\\"___NaN___\\\", \\\"Monterey\\\", \\\"San Lucas &amp; Jolon Rd, west of King City\\\", 75.0, 100.0, \\\"NaN\\\", \\\"CAL FIRE San Benito-Monterey Unit\\\", -121.117, 36.103, \\\"NaN\\\", \\\"91c3081d-33b4-46f2-8774-032c57f0f6a2\\\", \\\"https://www.fire.ca.gov/incidents/2014/4/30/san-lucas-fire/\\\", \\\"2014-05-01T19:00:00Z\\\", \\\"2014-05-01\\\", \\\"2014-04-30\\\", \\\"N\\\", true, false], [\\\"Miguelito Fire\\\", \\\"Y\\\", \\\"2014-05-19T09:20:00Z\\\", \\\"2014-05-13T14:00:00Z\\\", \\\"Santa Barbara County Fire\\\", \\\"___NaN___\\\", \\\"Santa Barbara\\\", \\\"Off Santa Miguelito Canyon Road in Lompoc\\\", 632.0, 100.0, \\\"NaN\\\", \\\"Santa Barbara County Fire, San Diego City, USFS, OES, Red Cross, San Diego PD, San Diego SO, San Diego School PD, CHP, CCC.\\\", -120.454, 34.609, \\\"NaN\\\", \\\"d08b0c4e-35d3-43fb-8af8-1756b1789172\\\", \\\"https://www.fire.ca.gov/incidents/2014/5/13/miguelito-fire/\\\", \\\"2014-05-19T09:20:00Z\\\", \\\"2014-05-19\\\", \\\"2014-05-13\\\", \\\"N\\\", true, false], [\\\"Tomahawk Fire\\\", \\\"Y\\\", \\\"2014-05-19T09:20:00Z\\\", \\\"2014-05-14T09:45:00Z\\\", \\\"Marine Corps Base Camp Pendleton\\\", \\\"___NaN___\\\", \\\"San Diego\\\", \\\"Traveled from Naval Weapons Station, Fallbrook and is now on Camp Pendleton\\\", 5367.0, 100.0, \\\"NaN\\\", \\\"Marine Corps Base Camp Pendleton\\\", -117.284889, 33.3529, \\\"NaN\\\", \\\"2b35bd0d-169f-4a81-835b-13bf527031a6\\\", \\\"https://www.fire.ca.gov/incidents/2014/5/14/tomahawk-fire/\\\", \\\"2014-05-19T09:20:00Z\\\", \\\"2014-05-19\\\", \\\"2014-05-14\\\", \\\"N\\\", false, false], [\\\"San Mateo Fire\\\", \\\"Y\\\", \\\"2014-05-20T23:30:00Z\\\", \\\"2014-05-16T11:24:00Z\\\", \\\"Marine Corps Base Camp Pendleton\\\", \\\"___NaN___\\\", \\\"San Diego\\\", \\\"in the Talega area of Marine Corps Base Camp Pendleton\\\", 1457.0, 100.0, \\\"NaN\\\", \\\"Marine Corps Base Camp Pendleton\\\", -117.550567, 33.417572, \\\"NaN\\\", \\\"b0b5efed-3edc-4a4b-97c8-95a79d12d0c6\\\", \\\"https://www.fire.ca.gov/incidents/2014/5/16/san-mateo-fire/\\\", \\\"2014-05-20T23:30:00Z\\\", \\\"2014-05-20\\\", \\\"2014-05-16\\\", \\\"N\\\", false, false], [\\\"Highway Fire\\\", \\\"Y\\\", \\\"2014-05-15T18:30:00Z\\\", \\\"2014-05-14T13:00:00Z\\\", \\\"CAL FIRE San Diego Unit\\\", \\\"___NaN___\\\", \\\"San Diego\\\", \\\"off Old Hwy 395 and I-15 in the Deer Springs area\\\", 380.0, 100.0, \\\"Interstate 15 is closed 3 1/2 miles south of Hwy 76 to .7 miles north of Hwy 76\\\", \\\"CAL FIRE San Diego Unit\\\", -117.162, 33.312, \\\"NaN\\\", \\\"ebea3cc2-c0ad-4de2-829a-0b544183461b\\\", \\\"https://www.fire.ca.gov/incidents/2014/5/14/highway-fire/\\\", \\\"2014-05-15T18:30:00Z\\\", \\\"2014-05-15\\\", \\\"2014-05-14\\\", \\\"N\\\", true, false], [\\\"Fiddler Fire\\\", \\\"Y\\\", \\\"2014-05-15T11:30:00Z\\\", \\\"2014-05-14T14:00:00Z\\\", \\\"CAL FIRE Shasta-Trinity Unit\\\", \\\"___NaN___\\\", \\\"Shasta\\\", \\\"Off Perla Rd &amp; Fiddlers Rd in Igo\\\", 50.0, 100.0, \\\"NaN\\\", \\\"CAL FIRE Shasta-Trinity Unit\\\", -122.721, 40.39, \\\"NaN\\\", \\\"2c241790-d062-4b15-9a25-8e511c0febab\\\", \\\"https://www.fire.ca.gov/incidents/2014/5/14/fiddler-fire/\\\", \\\"2014-05-15T11:30:00Z\\\", \\\"2014-05-15\\\", \\\"2014-05-14\\\", \\\"N\\\", true, false], [\\\"Cocos Fire\\\", \\\"Y\\\", \\\"2014-05-22T18:15:00Z\\\", \\\"2014-05-14T16:00:00Z\\\", \\\"San Marcos Fire / CAL FIRE San Diego Unit / Elfin Forest Fire Dept\\\", \\\"___NaN___\\\", \\\"San Diego\\\", \\\"Village Drive and Twin Oaks Road, San Marcos\\\", 1995.0, 100.0, \\\"NaN\\\", \\\"San Marcos Fire / CAL FIRE San Diego Unit / Elfin Forest Fire Dept\\\", -117.1599, 33.1137, \\\"NaN\\\", \\\"1b1cba8f-7893-4eea-82d9-dc78663fd911\\\", \\\"https://www.fire.ca.gov/incidents/2014/5/14/cocos-fire/\\\", \\\"2014-05-22T18:15:00Z\\\", \\\"2014-05-22\\\", \\\"2014-05-14\\\", \\\"N\\\", true, false], [\\\"Poinsettia Fire\\\", \\\"Y\\\", \\\"2014-05-17T00:00:00Z\\\", \\\"2014-05-14T10:30:00Z\\\", \\\"Carlsbad Fire Department\\\", \\\"___NaN___\\\", \\\"San Diego\\\", \\\"off Poinsettia Ln &amp; Alicante Rd in Carlsbad\\\", 600.0, 100.0, \\\"NaN\\\", \\\"Carlsbad Fire Department\\\", -117.279, 33.1109, \\\"NaN\\\", \\\"cc18296d-573a-4737-8e4e-1221d75d1e7b\\\", \\\"https://www.fire.ca.gov/incidents/2014/5/14/poinsettia-fire/\\\", \\\"2014-05-17T00:00:00Z\\\", \\\"2014-05-17\\\", \\\"2014-05-14\\\", \\\"N\\\", false, false], [\\\"Indian Fire\\\", \\\"Y\\\", \\\"2014-05-26T08:45:00Z\\\", \\\"2014-05-25T12:20:00Z\\\", \\\"CAL FIRE Sonoma-Lake-Napa Unit\\\", \\\"___NaN___\\\", \\\"Lake\\\", \\\"Near Indian Valley Reservoir, East of Clearlake Oaks\\\", 175.0, 100.0, \\\"NaN\\\", \\\"CAL FIRE Sonoma-Lake-Napa Unit\\\", -122.5983, 39.1647, \\\"NaN\\\", \\\"b454456c-1fa9-4766-b179-6df36b4d844b\\\", \\\"https://www.fire.ca.gov/incidents/2014/5/25/indian-fire/\\\", \\\"2014-05-26T08:45:00Z\\\", \\\"2014-05-26\\\", \\\"2014-05-25\\\", \\\"N\\\", true, false], [\\\"59 Fire\\\", \\\"Y\\\", \\\"2022-10-24T11:30:50Z\\\", \\\"2014-06-04T11:45:00Z\\\", \\\"CAL FIRE Tuolumne-Calaveras Unit\\\", \\\"___NaN___\\\", \\\"Tuolumne\\\", \\\"near Bonds Flat Rd &amp; La Grange Rd (J59), west of Don Pedro Reservoir\\\", 402.0, 100.0, \\\"NaN\\\", \\\"CAL FIRE Tuolumne-Calaveras Unit\\\", -120.45087, 37.76617, \\\"NaN\\\", \\\"1a0bbf7e-7f9b-4359-9c91-85dec2e2869a\\\", \\\"https://www.fire.ca.gov/incidents/2014/6/4/59-fire/\\\", \\\"2014-06-05T20:00:00Z\\\", \\\"2014-06-05\\\", \\\"2014-06-04\\\", \\\"N\\\", true, false], [\\\"Hetch Hetchy Fire\\\", \\\"Y\\\", \\\"2014-06-06T09:30:00Z\\\", \\\"2014-06-05T13:04:00Z\\\", \\\"CAL FIRE Tuolumne-Calaveras Unit\\\", \\\"___NaN___\\\", \\\"Tuolumne\\\", \\\"off La Grange Rd (J59) at Hetch Hetchy power lines, northwest shore of Don Pedro Reservoir\\\", 269.0, 100.0, \\\"NaN\\\", \\\"CAL FIRE Tuolumne-Calaveras Unit\\\", -120.452, 37.787, \\\"NaN\\\", \\\"b5d32131-cf00-4e34-9e08-b74d68a3174f\\\", \\\"https://www.fire.ca.gov/incidents/2014/6/5/hetch-hetchy-fire/\\\", \\\"2014-06-06T09:30:00Z\\\", \\\"2014-06-06\\\", \\\"2014-06-05\\\", \\\"N\\\", true, false], [\\\"Hall Fire\\\", \\\"Y\\\", \\\"2014-06-09T19:15:00Z\\\", \\\"2014-06-11T07:30:00Z\\\", \\\"CAL FIRE Fresno-Kings Unit\\\", \\\"___NaN___\\\", \\\"Fresno\\\", \\\"near Hwy 180 &amp; Hall Lane near Squaw Valley\\\", 25.0, 100.0, \\\"NaN\\\", \\\"CAL FIRE Fresno-Kings Unit\\\", -119.241493, 36.742747, \\\"NaN\\\", \\\"ccc2ec2b-4941-4bbd-ae60-be6706d97f13\\\", \\\"https://www.fire.ca.gov/incidents/2014/6/11/hall-fire/\\\", \\\"2014-06-09T19:15:00Z\\\", \\\"2014-06-09\\\", \\\"2014-06-11\\\", \\\"N\\\", true, false], [\\\"Morgan Fire\\\", \\\"Y\\\", \\\"2014-06-11T07:30:00Z\\\", \\\"2014-06-09T15:15:00Z\\\", \\\"CAL FIRE Fresno-Kings Unit\\\", \\\"___NaN___\\\", \\\"Fresno\\\", \\\"near the 16,000 block of Highway 168 near Prather\\\", 40.0, 100.0, \\\"Highway 168 has been reopened.\\\", \\\"CAL FIRE Fresno-Kings Unit\\\", -119.525506, 36.991825, \\\"NaN\\\", \\\"857e832f-17bd-4ad2-8789-99b003187049\\\", \\\"https://www.fire.ca.gov/incidents/2014/6/9/morgan-fire/\\\", \\\"2014-06-11T07:30:00Z\\\", \\\"2014-06-11\\\", \\\"2014-06-09\\\", \\\"N\\\", true, false], [\\\"Norman Fire\\\", \\\"Y\\\", \\\"2014-06-13T08:00:00Z\\\", \\\"2014-06-12T14:29:00Z\\\", \\\"CAL FIRE Sonoma-Lake-Napa Unit\\\", \\\"___NaN___\\\", \\\"Solano\\\", \\\"off Rolling Hills Lane, north of Vacaville\\\", 70.0, 100.0, \\\"NaN\\\", \\\"CAL FIRE Sonoma-Lake-Napa Unit\\\", 38.453, 121.999, \\\"NaN\\\", \\\"45cf54ae-c166-4f81-816f-2e0ef959a56e\\\", \\\"https://www.fire.ca.gov/incidents/2014/6/12/norman-fire/\\\", \\\"2014-06-13T08:00:00Z\\\", \\\"2014-06-13\\\", \\\"2014-06-12\\\", \\\"N\\\", true, false], [\\\"Haigh Fire\\\", \\\"Y\\\", \\\"2014-06-13T18:30:00Z\\\", \\\"2014-06-10T15:11:00Z\\\", \\\"CAL FIRE Madera-Mariposa-Merced Unit\\\", \\\"___NaN___\\\", \\\"Mariposa\\\", \\\"Highway 49 and Haigh Rd., north of Coulterville\\\", 130.0, 100.0, \\\"NaN\\\", \\\"CAL FIRE Madera-Mariposa-Merced Unit\\\", -120.197, 37.7103, \\\"NaN\\\", \\\"50567f4a-c56d-4d73-9855-f5d81fa74025\\\", \\\"https://www.fire.ca.gov/incidents/2014/6/10/haigh-fire/\\\", \\\"2014-06-13T18:30:00Z\\\", \\\"2014-06-13\\\", \\\"2014-06-10\\\", \\\"N\\\", true, false], [\\\"Shirley Fire\\\", \\\"Y\\\", \\\"2014-06-20T08:30:00Z\\\", \\\"2014-06-13T17:00:00Z\\\", \\\"Sequoia National Forest\\\", \\\"___NaN___\\\", \\\"Kern\\\", \\\"3 Miles south of Shirley Meadows\\\", 3895.0, 100.0, \\\"NaN\\\", \\\"Sequoia National Forest\\\", -118.555527, 35.70683, \\\"NaN\\\", \\\"8ede9823-938e-4786-97b8-a0f42b852cb2\\\", \\\"https://www.fire.ca.gov/incidents/2014/6/13/shirley-fire/\\\", \\\"2014-06-20T08:30:00Z\\\", \\\"2014-06-20\\\", \\\"2014-06-13\\\", \\\"N\\\", false, false], [\\\"Tehama Fire\\\", \\\"Y\\\", \\\"2014-06-13T13:50:00Z\\\", \\\"2014-06-13T12:23:00Z\\\", \\\"CAL FIRE Tehama-Glenn Unit\\\", \\\"___NaN___\\\", \\\"Tehama\\\", \\\"Rancho Tehama, southwest of Red Bluff\\\", 225.0, 100.0, \\\"NaN\\\", \\\"CAL FIRE Tehama-Glenn Unit\\\", -122.345078, 40.009827, \\\"NaN\\\", \\\"724209e0-12b0-4d49-b798-8ccacf95e668\\\", \\\"https://www.fire.ca.gov/incidents/2014/6/13/tehama-fire/\\\", \\\"2014-06-13T13:50:00Z\\\", \\\"2014-06-13\\\", \\\"2014-06-13\\\", \\\"N\\\", true, false], [\\\"Reed Fire\\\", \\\"Y\\\", \\\"2014-06-21T19:00:00Z\\\", \\\"2014-06-20T15:27:00Z\\\", \\\"CAL FIRE Tuolumne Calaveras Unit\\\", \\\"___NaN___\\\", \\\"Calaveras\\\", \\\"off George Reed Drive and Pool Station Road, San Andreas\\\", 120.0, 100.0, \\\"NaN\\\", \\\"CAL FIRE Tuolumne Calaveras Unit\\\", 38.178241, 120.679019, \\\"NaN\\\", \\\"2b382ade-87e2-4cff-92f7-67328139d7eb\\\", \\\"https://www.fire.ca.gov/incidents/2014/6/20/reed-fire/\\\", \\\"2014-06-21T19:00:00Z\\\", \\\"2014-06-21\\\", \\\"2014-06-20\\\", \\\"N\\\", true, false], [\\\"Oak Fire\\\", \\\"Y\\\", \\\"2014-06-24T19:00:00Z\\\", \\\"2014-06-22T12:37:00Z\\\", \\\"CAL FIRE Tuolumne Calaveras Unit\\\", \\\"___NaN___\\\", \\\"Calaveras\\\", \\\"Oak Valley Road at Pool Station Road, south of San Andreas\\\", 85.0, 100.0, \\\"NaN\\\", \\\"CAL FIRE Tuolumne Calaveras Unit, USFS, Central Fire, Mokelumne Hill Fire, San Andreas Fire, Angels Fire, Copperopolis Fire, Altaville/Melones Fire, PG&amp;E, CHP, Calaveras County SO\\\", -120.66, 38.058, \\\"NaN\\\", \\\"06ae83a9-125e-4cf5-826e-8b541b2308fd\\\", \\\"https://www.fire.ca.gov/incidents/2014/6/22/oak-fire/\\\", \\\"2014-06-24T19:00:00Z\\\", \\\"2014-06-24\\\", \\\"2014-06-22\\\", \\\"N\\\", true, false], [\\\"Butts Fire\\\", \\\"Y\\\", \\\"2014-07-09T18:00:00Z\\\", \\\"2014-07-01T12:08:00Z\\\", \\\"CAL FIRE Sonoma-Lake-Napa Unit\\\", \\\"___NaN___\\\", \\\"Napa, Lake\\\", \\\"Off Butts Canyon Rd in Pope Valley, northwest of Lake Berryessa\\\", 4300.0, 100.0, \\\"All road closures have been lifted.\\\", \\\"CAL FIRE Sonoma-Lake-Napa Unit, Napa County Sheriff's, CHP, United States Forest Service, CAL OES, Napa County OES, Lake County OES, PG&amp;E, Bureau of Land Management, California Department of Corrections and Rehabilitation, Napa County Fire\\\", -122.454, 38.664, \\\"NaN\\\", \\\"2437bb57-1d09-4892-8c26-a60661dae1d9\\\", \\\"https://www.fire.ca.gov/incidents/2014/7/1/butts-fire/\\\", \\\"2014-07-09T18:00:00Z\\\", \\\"2014-07-09\\\", \\\"2014-07-01\\\", \\\"N\\\", true, false], [\\\"Bible Fire\\\", \\\"Y\\\", \\\"2014-07-09T16:45:00Z\\\", \\\"2014-07-09T14:34:00Z\\\", \\\"CAL FIRE Amador-El Dorado Unit\\\", \\\"___NaN___\\\", \\\"El Dorado\\\", \\\"off Mt Aukum Rd, Somerset\\\", 30.0, 100.0, \\\"NaN\\\", \\\"CAL FIRE Amador-El Dorado Unit\\\", -120.703238, 38.608336, \\\"NaN\\\", \\\"da607cd1-32fc-44c0-bd7a-ba14ad0a14cc\\\", \\\"https://www.fire.ca.gov/incidents/2014/7/9/bible-fire/\\\", \\\"2014-07-09T16:45:00Z\\\", \\\"2014-07-09\\\", \\\"2014-07-09\\\", \\\"N\\\", true, false], [\\\"Bully Fire\\\", \\\"Y\\\", \\\"2022-10-24T11:33:31Z\\\", \\\"2014-07-11T15:37:00Z\\\", \\\"CAL FIRE Shasta-Trinity Unit\\\", \\\"___NaN___\\\", \\\"Shasta\\\", \\\"Plantina Road at Bland Road, Igo\\\", 12661.0, 100.0, \\\"NaN\\\", \\\"CAL FIRE Shasta-Trinity Unit, Shasta County Fire, BLM, USFS, Shasta County Sheriff\\\\u2019s Office, CHP, Cal  OES, CDCR, CCC and Shasta County DPW.\\\", -122.750788, 40.4314, \\\"NaN\\\", \\\"3a1fab73-882a-478c-b289-504497db4d64\\\", \\\"https://www.fire.ca.gov/incidents/2014/7/11/bully-fire/\\\", \\\"2014-07-26T20:00:00Z\\\", \\\"2014-07-26\\\", \\\"2014-07-11\\\", \\\"N\\\", true, false], [\\\"Monticello Fire\\\", \\\"Y\\\", \\\"2014-07-12T18:00:00Z\\\", \\\"2014-07-04T21:32:00Z\\\", \\\"CAL FIRE Sonoma-Lake-Napa Unit\\\", \\\"___NaN___\\\", \\\"Yolo\\\", \\\"Hwy 128 at Monticello Dam, southeast shore of Lake Berryessa\\\", 6488.0, 100.0, \\\"Hwy 128 has been reopened.\\\", \\\"CAL FIRE Sonoma-Lake-Napa Unit, Winters FPD, Yolo County Sheriff, Lake County Sheriff, Napa County Fire, local government fire agencies of Napa, Solano and Yolo counties, CAL OES, California Department of Corrections and Rehabilitation, CHP, Bureau of Land Management, Red Cross, PG&amp;E, Yolo County Animal Services, Cal Trans, City of Woodland, City of Winters, and Yolo County OES.\\\", -122.104, 38.512, \\\"NaN\\\", \\\"756d8f5b-bc05-4741-a5a3-3b20ca21906d\\\", \\\"https://www.fire.ca.gov/incidents/2014/7/4/monticello-fire/\\\", \\\"2014-07-12T18:00:00Z\\\", \\\"2014-07-12\\\", \\\"2014-07-04\\\", \\\"N\\\", true, false], [\\\"Gulch Fire\\\", \\\"Y\\\", \\\"2014-07-07T07:00:00Z\\\", \\\"2014-07-03T15:46:00Z\\\", \\\"CAL FIRE Lassen-Modoc Unit / Modoc National Forest\\\", \\\"___NaN___\\\", \\\"Modoc\\\", \\\"Off highway 139, 15 miles north of Canby - The fire is burning on the east side of Hwy 139\\\", 1469.0, 100.0, \\\"NaN\\\", \\\"CAL FIRE Lassen-Modoc Unit / Modoc National Forest\\\", -120.904, 41.489, \\\"NaN\\\", \\\"00089805-cdee-4607-8b67-1653bee463bc\\\", \\\"https://www.fire.ca.gov/incidents/2014/7/3/gulch-fire/\\\", \\\"2014-07-07T07:00:00Z\\\", \\\"2014-07-07\\\", \\\"2014-07-03\\\", \\\"N\\\", true, false], [\\\"Modoc Lightning Complex\\\", \\\"Y\\\", \\\"2014-07-03T10:30:00Z\\\", \\\"2014-07-01T19:00:00Z\\\", \\\"Modoc National Forest\\\", \\\"___NaN___\\\", \\\"Modoc\\\", \\\"15 fires across the Modoc National Forest\\\", 1651.0, 100.0, \\\"NaN\\\", \\\"Modoc National Forest\\\", -120.79, 41.89, \\\"NaN\\\", \\\"8f48a8a9-facf-49e8-92dc-ea1147e53792\\\", \\\"https://www.fire.ca.gov/incidents/2014/7/1/modoc-lightning-complex/\\\", \\\"2014-07-03T10:30:00Z\\\", \\\"2014-07-03\\\", \\\"2014-07-01\\\", \\\"N\\\", false, false], [\\\"West Fire\\\", \\\"Y\\\", \\\"2014-07-03T10:45:00Z\\\", \\\"2014-07-01T03:45:00Z\\\", \\\"Shasta - Trinity National Forest\\\", \\\"___NaN___\\\", \\\"Trinity\\\", \\\"near the Trinity Pines community\\\", 15.0, 100.0, \\\"NaN\\\", \\\"Shasta - Trinity National Forest\\\", -123.24, 40.41, \\\"NaN\\\", \\\"62c2a563-1768-4c94-ac71-694a553cfdf8\\\", \\\"https://www.fire.ca.gov/incidents/2014/7/1/west-fire/\\\", \\\"2014-07-03T10:45:00Z\\\", \\\"2014-07-03\\\", \\\"2014-07-01\\\", \\\"N\\\", false, false], [\\\"Banner Fire\\\", \\\"Y\\\", \\\"2014-07-06T09:15:00Z\\\", \\\"2014-07-03T10:43:00Z\\\", \\\"CAL FIRE San Diego Unit\\\", \\\"___NaN___\\\", \\\"San Diego\\\", \\\"Banner Grade, east of Julian\\\", 217.0, 100.0, \\\"The following road closures are in effect: &lt;li&gt;State Route 78 at Manzanita Drive&lt;/li&gt;&lt;li&gt;Manzanita Drive at Lakeview Drive&lt;/li&gt;\\\", \\\"CAL FIRE San Diego Unit\\\", -116.576454, 33.078948, \\\"NaN\\\", \\\"d2623c2c-ff3d-419e-a129-b3aa542c05c4\\\", \\\"https://www.fire.ca.gov/incidents/2014/7/3/banner-fire/\\\", \\\"2014-07-06T09:15:00Z\\\", \\\"2014-07-06\\\", \\\"2014-07-03\\\", \\\"N\\\", true, false], [\\\"Marsh Fire\\\", \\\"Y\\\", \\\"2014-07-12T18:00:00Z\\\", \\\"2014-07-11T21:57:00Z\\\", \\\"CAL FIRE Santa Clara Unit\\\", \\\"___NaN___\\\", \\\"Contra Costa\\\", \\\"off Marsh Creek Rd., near Aspara Drive, east of Clayton\\\", 80.0, 100.0, \\\"NaN\\\", \\\"CAL FIRE Santa Clara Unit\\\", -121.5118, 37.5359, \\\"NaN\\\", \\\"dc1a83b0-500c-440f-85d7-7090884f5487\\\", \\\"https://www.fire.ca.gov/incidents/2014/7/11/marsh-fire/\\\", \\\"2014-07-12T18:00:00Z\\\", \\\"2014-07-12\\\", \\\"2014-07-11\\\", \\\"N\\\", true, false], [\\\"Cassel Fire\\\", \\\"Y\\\", \\\"2014-07-08T18:30:00Z\\\", \\\"2014-07-05T18:44:00Z\\\", \\\"CAL FIRE Shasta-Trinity Unit\\\", \\\"___NaN___\\\", \\\"Shasta\\\", \\\"Off Cassel Road at Thrush Road, in Cassel\\\", 75.0, 100.0, \\\"NaN\\\", \\\"CAL FIRE Shasta-Trinity Unit\\\", -121.3415, 40.5719, \\\"NaN\\\", \\\"0bc42201-27c2-4b3d-a329-ce44bc1261d9\\\", \\\"https://www.fire.ca.gov/incidents/2014/7/5/cassel-fire/\\\", \\\"2014-07-08T18:30:00Z\\\", \\\"2014-07-08\\\", \\\"2014-07-05\\\", \\\"N\\\", true, false], [\\\"Interlake Fire\\\", \\\"Y\\\", \\\"2014-07-08T18:30:00Z\\\", \\\"2014-07-07T16:12:00Z\\\", \\\"CAL FIRE San Benito-Monterey Unit\\\", \\\"___NaN___\\\", \\\"San Luis Obispo\\\", \\\"along Interlake Road between Monterey &amp; San Luis Obispo County\\\", 47.0, 100.0, \\\"NaN\\\", \\\"CAL FIRE San Benito-Monterey Unit\\\", -121.0226, 35.8218, \\\"NaN\\\", \\\"1df51ee3-c15a-4266-bf3d-d52272189cff\\\", \\\"https://www.fire.ca.gov/incidents/2014/7/7/interlake-fire/\\\", \\\"2014-07-08T18:30:00Z\\\", \\\"2014-07-08\\\", \\\"2014-07-07\\\", \\\"N\\\", true, false], [\\\"Hutto Fire\\\", \\\"Y\\\", \\\"2014-07-08T06:56:00Z\\\", \\\"2014-07-07T16:35:00Z\\\", \\\"CAL FIRE Nevada-Yuba-Placer\\\", \\\"___NaN___\\\", \\\"Nevada\\\", \\\"on Hutto Rd &amp; Keller Rd in Smartsville\\\", 38.0, 100.0, \\\"NaN\\\", \\\"CAL FIRE Nevada-Yuba-Placer\\\", -121.2687, 39.1871, \\\"NaN\\\", \\\"61506ea2-3f16-4aa6-ba54-d7788c3a2b35\\\", \\\"https://www.fire.ca.gov/incidents/2014/7/7/hutto-fire/\\\", \\\"2014-07-08T06:56:00Z\\\", \\\"2014-07-08\\\", \\\"2014-07-07\\\", \\\"N\\\", true, false], [\\\"Dry Fire\\\", \\\"Y\\\", \\\"2014-07-10T07:30:00Z\\\", \\\"2014-07-09T13:45:00Z\\\", \\\"CAL FIRE Shasta-Trinity Unit\\\", \\\"___NaN___\\\", \\\"Shasta\\\", \\\"off Hwy 299 &amp; Dry Creek Rd, east of Bella Vista\\\", 143.0, 100.0, \\\"NaN\\\", \\\"CAL FIRE Shasta-Trinity Unit\\\", -122.2215, 40.6569, \\\"NaN\\\", \\\"dcbc7afb-cdef-49a3-822e-20bbaa86a5d0\\\", \\\"https://www.fire.ca.gov/incidents/2014/7/9/dry-fire/\\\", \\\"2014-07-10T07:30:00Z\\\", \\\"2014-07-10\\\", \\\"2014-07-09\\\", \\\"N\\\", true, false], [\\\"Nicolls Fire\\\", \\\"Y\\\", \\\"2014-07-21T14:45:00Z\\\", \\\"2014-07-11T13:46:00Z\\\", \\\"Sequoia National Forest\\\", \\\"___NaN___\\\", \\\"Kern\\\", \\\"Kelso Valley/Onyx area\\\", 1680.0, 100.0, \\\"NaN\\\", \\\"Sequoia National Forest\\\", -118.15, 35.642, \\\"NaN\\\", \\\"45abd556-f41f-4507-91a5-1cf2f751bb4c\\\", \\\"https://www.fire.ca.gov/incidents/2014/7/11/nicolls-fire/\\\", \\\"2014-07-21T14:45:00Z\\\", \\\"2014-07-21\\\", \\\"2014-07-11\\\", \\\"N\\\", false, false], [\\\"Wildlife Fire\\\", \\\"Y\\\", \\\"2014-07-16T08:00:00Z\\\", \\\"2014-07-14T18:00:00Z\\\", \\\"CAL FIRE Butte Unit\\\", \\\"___NaN___\\\", \\\"Butte\\\", \\\"Wildlife Area - Larkin Road, west of Oroville&lt;br&gt;&lt;br&gt;Road Closures: None, the Wildlife area north of the Afterbay Outlet is closed to the public.\\\", 72.0, 100.0, \\\"NaN\\\", \\\"CAL FIRE Butte Unit\\\", -121.6129, 39.4664, \\\"NaN\\\", \\\"9c21bb74-e919-403c-8a43-05f561669e4e\\\", \\\"https://www.fire.ca.gov/incidents/2014/7/14/wildlife-fire/\\\", \\\"2014-07-16T08:00:00Z\\\", \\\"2014-07-16\\\", \\\"2014-07-14\\\", \\\"N\\\", true, false], [\\\"Sand Fire\\\", \\\"Y\\\", \\\"2022-10-24T11:28:11Z\\\", \\\"2014-07-25T16:34:00Z\\\", \\\"CAL FIRE Amador-El Dorado Unit\\\", \\\"___NaN___\\\", \\\"Amador, El Dorado\\\", \\\"East of Highway 49, 5 miles north of Plymouth\\\", 4240.0, 100.0, \\\"NaN\\\", \\\"CAL FIRE Amador-El Dorado Unit, CHP, El Dorado Co SO, Amador SO, Cal OES, CDCR, El Dorado Co Animal Control, USFS, BLM, El Dorado Co DOT, CCC, Red Cross, PG&amp;E, Cal Trans\\\", -120.7819, 38.5691, \\\"Wildfire\\\", \\\"4d07ccc3-32be-4a1d-acac-18333884c97d\\\", \\\"https://www.fire.ca.gov/incidents/2014/7/25/sand-fire/\\\", \\\"2014-08-02T19:15:00Z\\\", \\\"2014-08-02\\\", \\\"2014-07-25\\\", \\\"N\\\", true, false], [\\\"Bald Fire\\\", \\\"Y\\\", \\\"2014-08-15T14:00:00Z\\\", \\\"2014-07-30T20:15:00Z\\\", \\\"CAL FIRE Lassen-Modoc Unit / USFS - Lassen National Forest\\\", \\\"___NaN___\\\", \\\"Shasta\\\", \\\"8 miles southeast of Fall River Mills\\\", 39736.0, 100.0, \\\"NaN\\\", \\\"CAL FIRE Lassen-Modoc Unit / USFS - Lassen National Forest\\\", -121.368, 40.901, \\\"NaN\\\", \\\"045a1a18-72e4-4579-b64c-f34b33a1031b\\\", \\\"https://www.fire.ca.gov/incidents/2014/7/30/bald-fire/\\\", \\\"2014-08-15T14:00:00Z\\\", \\\"2014-08-15\\\", \\\"2014-07-30\\\", \\\"N\\\", true, false], [\\\"Day Fire\\\", \\\"Y\\\", \\\"2022-10-24T11:28:26Z\\\", \\\"2014-07-30T19:01:00Z\\\", \\\"CAL FIRE Lassen-Modoc Unit\\\", \\\"___NaN___\\\", \\\"Modoc\\\", \\\"North of the community of Day\\\", 13153.0, 100.0, \\\"NaN\\\", \\\"CAL FIRE Lassen-Modoc Unit, CAL FIRE, USFS, BLM, CAL EMA, Local Government, Modoc County Sheriff, Lassen  County Sheriff, Shasta County Sheriff, Sierra Pacific Industries, WM Beatty and Associates, and CDCR.\\\", -121.2144, 41.1336, \\\"NaN\\\", \\\"e3b7143d-6faa-4962-9fe5-c2d1559c5d20\\\", \\\"https://www.fire.ca.gov/incidents/2014/7/30/day-fire/\\\", \\\"2014-08-13T07:00:00Z\\\", \\\"2014-08-13\\\", \\\"2014-07-30\\\", \\\"N\\\", true, false], [\\\"Oregon Gulch Fire (part of the Beaver Complex)\\\", \\\"Y\\\", \\\"2014-08-18T09:45:00Z\\\", \\\"2014-07-30T23:00:00Z\\\", \\\"CAL FIRE Siskiyou Unit / Oregon Dept. of Forestry / Oregon Office of The State Fire Marshal\\\", \\\"___NaN___\\\", \\\"Siskiyou\\\", \\\"Community of Copco, South of Oregon Border\\\", 35302.0, 100.0, \\\"NaN\\\", \\\"CAL FIRE Siskiyou Unit / Oregon Dept. of Forestry / Oregon Office of The State Fire Marshal\\\", -122.345, 42.048, \\\"NaN\\\", \\\"3b2609f0-b3a2-493c-bf66-c5b5f64409f8\\\", \\\"https://www.fire.ca.gov/incidents/2014/7/30/oregon-gulch-fire-part-of-the-beaver-complex/\\\", \\\"2014-08-18T09:45:00Z\\\", \\\"2014-08-18\\\", \\\"2014-07-30\\\", \\\"N\\\", true, false], [\\\"Eiler Fire\\\", \\\"Y\\\", \\\"2014-08-25T10:00:00Z\\\", \\\"2014-07-31T18:04:00Z\\\", \\\"CAL FIRE / USFS - Lassen National Forest\\\", \\\"___NaN___\\\", \\\"Shasta\\\", \\\"12 miles southeast of Burney near Old Station\\\", 32416.0, 100.0, \\\"See evacuations above\\\", \\\"CAL FIRE / USFS - Lassen National Forest, Shasta County Fire, Burney Fire District, BLM, Shasta County Sheriff's Office, CHP, CDCR, PG&amp;E, Sierra Pacific Industries, W. Beatty Co. Georgia Forestry Commission, Louisiana Office of Forestry\\\", -121.562, 40.72, \\\"NaN\\\", \\\"60ea04ec-5f5e-4a49-8fbc-fa50c17a1199\\\", \\\"https://www.fire.ca.gov/incidents/2014/7/31/eiler-fire/\\\", \\\"2014-08-25T10:00:00Z\\\", \\\"2014-08-25\\\", \\\"2014-07-31\\\", \\\"N\\\", true, false], [\\\"3-5 Fire\\\", \\\"Y\\\", \\\"2025-08-01T14:18:55Z\\\", \\\"2025-07-25T17:03:10Z\\\", \\\"CAL FIRE Lassen-Modoc Unit\\\", \\\"___NaN___\\\", \\\"Lassen\\\", \\\"Little Valley Road, South of Pit River Canyon Road, Little Valley\\\", 43.0, 100.0, \\\"NaN\\\", \\\"NaN\\\", -121.280552, 40.9814, \\\"Wildfire\\\", \\\"35a51e16-3605-4756-970f-828aeebb8090\\\", \\\"https://www.fire.ca.gov/incidents/2025/7/25/3-5-fire/\\\", \\\"NaN\\\", \\\"NaN\\\", \\\"2025-07-25\\\", \\\"N\\\", true, false], [\\\"Green Fire-RRU\\\", \\\"Y\\\", \\\"2025-07-27T21:50:44Z\\\", \\\"2025-07-25T18:32:00Z\\\", \\\"Corona Fire Department\\\", \\\"___NaN___\\\", \\\"Riverside\\\", \\\"Palisades Drive and Green River Road, Corona\\\", 21.0, 100.0, \\\"NaN\\\", \\\"NaN\\\", -117.641517, 33.882719, \\\"Wildfire\\\", \\\"6d0de3a4-b1e2-4869-a2ae-f624a4e0d3f5\\\", \\\"https://www.fire.ca.gov/incidents/2025/7/25/green-fire-rru/\\\", \\\"2025-07-27T06:31:37Z\\\", \\\"2025-07-27\\\", \\\"2025-07-25\\\", \\\"N\\\", false, false], [\\\"Boneyard Fire\\\", \\\"Y\\\", \\\"2025-08-01T14:19:31Z\\\", \\\"2025-07-26T13:19:36Z\\\", \\\"CAL FIRE Tuolumne-Calaveras Unit\\\", \\\"___NaN___\\\", \\\"Tuolumne\\\", \\\"Priest Coulterville Road, North of Jackass Creek Road, Greeley Hill\\\", 227.0, 100.0, \\\"NaN\\\", \\\"NaN\\\", -120.214807, 37.773371, \\\"Wildfire\\\", \\\"e68315fd-ee43-4666-baaf-5d02e7c741c2\\\", \\\"https://www.fire.ca.gov/incidents/2025/7/26/boneyard-fire/\\\", \\\"NaN\\\", \\\"NaN\\\", \\\"2025-07-26\\\", \\\"N\\\", true, false], [\\\"W-2 Fire\\\", \\\"Y\\\", \\\"2025-07-27T21:51:14Z\\\", \\\"2025-07-25T16:33:28Z\\\", \\\"Bureau of Land Management\\\", \\\"___NaN___\\\", \\\"Modoc\\\", \\\"East of Payne Reservoir southeast of Alturas, Modoc County\\\", 25.0, 100.0, \\\"NaN\\\", \\\"NaN\\\", -120.43839, 41.392519, \\\"Wildfire\\\", \\\"c7565eb5-c12d-4401-ae8f-aeb3cc41b605\\\", \\\"https://www.fire.ca.gov/incidents/2025/7/25/w-2-fire/\\\", \\\"2025-07-27T08:00:51Z\\\", \\\"2025-07-27\\\", \\\"2025-07-25\\\", \\\"N\\\", false, false], [\\\"Pearl Fire\\\", \\\"Y\\\", \\\"2025-07-26T16:32:44Z\\\", \\\"2025-07-25T11:29:40Z\\\", \\\"Bureau of Land Management\\\", \\\"___NaN___\\\", \\\"Kern\\\", \\\"Highway 178 and Elizabeth Norris Road, Lake Isabella\\\", 40.0, 100.0, \\\"NaN\\\", \\\"NaN\\\", -118.48813, 35.6182, \\\"Wildfire\\\", \\\"bb8a6dc1-0875-4144-b56b-07d3796155b3\\\", \\\"https://www.fire.ca.gov/incidents/2025/7/25/pearl-fire/\\\", \\\"2025-07-25T20:00:35Z\\\", \\\"2025-07-25\\\", \\\"2025-07-25\\\", \\\"N\\\", false, false], [\\\"Hoffman Fire\\\", \\\"Y\\\", \\\"2025-07-27T21:51:35Z\\\", \\\"2025-07-26T14:20:07Z\\\", \\\"Bureau of Land Management\\\", \\\"___NaN___\\\", \\\"Kern\\\", \\\"Highway 14 and Jawbone Canyon Road, Mojave\\\", 10.0, 100.0, \\\"NaN\\\", \\\"NaN\\\", -118.000889, 35.300512, \\\"Wildfire\\\", \\\"1fa0e0a7-9161-422c-9742-f705a0c92828\\\", \\\"https://www.fire.ca.gov/incidents/2025/7/26/hoffman-fire/\\\", \\\"2025-07-27T08:00:09Z\\\", \\\"2025-07-27\\\", \\\"2025-07-26\\\", \\\"N\\\", false, false], [\\\"Medicine Fire\\\", \\\"Y\\\", \\\"2025-08-06T06:07:12Z\\\", \\\"2025-07-27T15:25:05Z\\\", \\\"CAL FIRE Mendocino Unit\\\", \\\"___NaN___\\\", \\\"Mendocino\\\", \\\"Rifle Range Road, North of Refuse Road, Covelo\\\", 263.0, 100.0, \\\"NaN\\\", \\\"Mendocino County Sheriff's Office, Covelo Fire Protection, US Forest Service, California Conservation Corps, California Department of Corrections and Rehabilitation\\\", -123.267618, 39.831628, \\\"Wildfire\\\", \\\"f65d7124-a461-4c82-b892-d55105860d13\\\", \\\"https://www.fire.ca.gov/incidents/2025/7/27/medicine-fire/\\\", \\\"2025-08-05T22:00:00Z\\\", \\\"2025-08-05\\\", \\\"2025-07-27\\\", \\\"N\\\", true, false], [\\\"Needles Fires\\\", \\\"Y\\\", \\\"2025-09-15T21:39:50Z\\\", \\\"2025-07-27T16:07:19Z\\\", \\\"NaN\\\", \\\"___NaN___\\\", \\\"San Bernardino\\\", \\\"Unknown / TBD\\\", 10.0, 100.0, \\\"NaN\\\", \\\"NaN\\\", -114.583454, 34.828072, \\\"Wildfire\\\", \\\"2f318308-6d04-4f05-8834-9f7cdce2383a\\\", \\\"https://www.fire.ca.gov/incidents/2025/7/27/needles-fires/\\\", \\\"2025-07-27T08:00:00Z\\\", \\\"2025-07-27\\\", \\\"2025-07-27\\\", \\\"N\\\", false, false], [\\\"Five Fire\\\", \\\"Y\\\", \\\"2025-07-29T13:24:57Z\\\", \\\"2024-07-14T13:17:06Z\\\", \\\"Kern County Fire Department\\\", \\\"___NaN___\\\", \\\"Kern\\\", \\\"I-5, North of Highway 58 off ramp, Buttonwillow\\\", 360.0, 100.0, \\\"NaN\\\", \\\"NaN\\\", -119.367525, 35.385869, \\\"Wildfire\\\", \\\"bdead44e-0ddf-4a1a-ad05-440493024012\\\", \\\"https://www.fire.ca.gov/incidents/2024/7/14/five-fire/\\\", \\\"2024-07-14T13:22:55Z\\\", \\\"2024-07-14\\\", \\\"2024-07-14\\\", \\\"N\\\", false, false], [\\\"Five 2 Fire\\\", \\\"Y\\\", \\\"2025-07-29T13:30:24Z\\\", \\\"2024-07-15T13:25:36Z\\\", \\\"Kern County Fire Department\\\", \\\"___NaN___\\\", \\\"Kern\\\", \\\"I-5, South of Highway 46, Lost Hills\\\", 347.0, 100.0, \\\"NaN\\\", \\\"NaN\\\", -119.624655, 35.587955, \\\"Wildfire\\\", \\\"6339e262-6ccf-4d19-8436-44e508d43ba6\\\", \\\"https://www.fire.ca.gov/incidents/2024/7/15/five-2-fire/\\\", \\\"2024-07-15T13:28:57Z\\\", \\\"2024-07-15\\\", \\\"2024-07-15\\\", \\\"N\\\", false, false], [\\\"19 Fire\\\", \\\"Y\\\", \\\"2025-07-29T21:50:16Z\\\", \\\"2025-07-29T14:53:43Z\\\", \\\"CAL FIRE Madera-Mariposa-Merced Unit\\\", \\\"___NaN___\\\", \\\"Madera\\\", \\\"Golden State Boulevard and Road 19,  North of Fairmead\\\", 16.0, 100.0, \\\"NaN\\\", \\\"NaN\\\", -120.202377, 37.07642, \\\"Wildfire\\\", \\\"4172fad3-c130-4607-a91c-f18612dfb07b\\\", \\\"https://www.fire.ca.gov/incidents/2025/7/29/19-fire/\\\", \\\"NaN\\\", \\\"NaN\\\", \\\"2025-07-29\\\", \\\"N\\\", true, false], [\\\"Rd 15  Madera_acres Fire\\\", \\\"Y\\\", \\\"2025-07-31T10:52:50Z\\\", \\\"2025-07-30T14:39:16Z\\\", \\\"CAL FIRE Madera-Mariposa-Merced Unit\\\", \\\"___NaN___\\\", \\\"Madera\\\", \\\"Road 15, Madera\\\", 30.0, 100.0, \\\"NaN\\\", \\\"NaN\\\", -120.274202, 36.995304, \\\"Wildfire\\\", \\\"8adc6368-26e7-4a91-9299-6289d17328ea\\\", \\\"https://www.fire.ca.gov/incidents/2025/7/30/rd-15-madera_acres-fire/\\\", \\\"NaN\\\", \\\"NaN\\\", \\\"2025-07-30\\\", \\\"N\\\", true, false], [\\\"Howards Fire\\\", \\\"Y\\\", \\\"2025-08-05T16:01:39Z\\\", \\\"2025-07-31T14:09:50Z\\\", \\\"Modoc National Forest\\\", \\\"___NaN___\\\", \\\"Modoc\\\", \\\"Highway 139 and Loveness Road, Ambrose\\\", 100.0, 100.0, \\\"NaN\\\", \\\"NaN\\\", -120.957447, 41.48008, \\\"Wildfire\\\", \\\"77bd9c52-9888-406b-8e75-f416723bbf98\\\", \\\"https://www.fire.ca.gov/incidents/2025/7/31/howards-fire/\\\", \\\"NaN\\\", \\\"NaN\\\", \\\"2025-07-31\\\", \\\"N\\\", false, false], [\\\"Orion Fire\\\", \\\"Y\\\", \\\"2025-08-01T07:49:03Z\\\", \\\"2025-07-31T14:49:02Z\\\", \\\"Vandenberg Space Force Base\\\", \\\"___NaN___\\\", \\\"Santa Barbara\\\", \\\"Rancho Road &amp; Orion Road, Vandenberg\\\", 25.0, 100.0, \\\"NaN\\\", \\\"NaN\\\", -120.53608, 34.80493, \\\"Wildfire\\\", \\\"c71e52ee-6c58-44ea-9a55-6751ff5ba081\\\", \\\"https://www.fire.ca.gov/incidents/2025/7/31/orion-fire/\\\", \\\"2025-07-31T19:20:00Z\\\", \\\"2025-07-31\\\", \\\"2025-07-31\\\", \\\"N\\\", true, false], [\\\"1-4 Fire\\\", \\\"Y\\\", \\\"2025-08-06T15:15:20Z\\\", \\\"2025-07-31T16:15:25Z\\\", \\\"CAL FIRE Lassen-Modoc Unit\\\", \\\"___NaN___\\\", \\\"Lassen\\\", \\\"Paiute Lane and Peak Road, Susanville\\\", 260.0, 100.0, \\\"NaN\\\", \\\"NaN\\\", -120.656672, 40.445172, \\\"Wildfire\\\", \\\"7f9b2183-819f-4487-926b-aa36b4a31c1b\\\", \\\"https://www.fire.ca.gov/incidents/2025/7/31/1-4-fire/\\\", \\\"NaN\\\", \\\"NaN\\\", \\\"2025-07-31\\\", \\\"N\\\", true, false], [\\\"Lassen Fire\\\", \\\"Y\\\", \\\"2025-08-04T21:17:01Z\\\", \\\"2025-08-01T13:14:15Z\\\", \\\"CAL FIRE Tehama-Glenn Unit\\\", \\\"___NaN___\\\", \\\"Tehama\\\", \\\"Tehama Vina Road &amp; Champlin Slough, Los Molinos\\\", 51.0, 100.0, \\\"NaN\\\", \\\"NaN\\\", -122.086035, 40.028565, \\\"Wildfire\\\", \\\"c7c33e08-b93d-4de0-8394-6ef53d2ce621\\\", \\\"https://www.fire.ca.gov/incidents/2025/8/1/lassen-fire/\\\", \\\"2025-08-04T08:00:00Z\\\", \\\"2025-08-04\\\", \\\"2025-08-01\\\", \\\"N\\\", true, false], [\\\"4-8 Fire\\\", \\\"Y\\\", \\\"2025-08-04T11:56:24Z\\\", \\\"2025-08-01T15:03:42Z\\\", \\\"CAL FIRE Lassen-Modoc Unit\\\", \\\"___NaN___\\\", \\\"Modoc\\\", \\\"Kearny Road &amp; Carson Road, California Pines\\\", 25.0, 100.0, \\\"NaN\\\", \\\"NaN\\\", -120.747715, 41.319441, \\\"Wildfire\\\", \\\"33d6cf9b-2d77-4039-baac-19b90988f804\\\", \\\"https://www.fire.ca.gov/incidents/2025/8/1/4-8-fire/\\\", \\\"2025-08-01T17:30:00Z\\\", \\\"2025-08-01\\\", \\\"2025-08-01\\\", \\\"N\\\", true, false], [\\\"Gifford Fire\\\", \\\"Y\\\", \\\"2025-09-28T22:02:04Z\\\", \\\"2025-08-01T15:44:29Z\\\", \\\"Los Padres National Forest\\\", \\\"___NaN___\\\", \\\"San Luis Obispo, Santa Barbara\\\", \\\"Highway 166, Northeast of Santa Maria\\\", 131614.0, 100.0, \\\"NaN\\\", \\\"NaN\\\", -120.097902, 35.111258, \\\"Wildfire\\\", \\\"fb7c1cc7-8104-4776-b89e-fd27cb9b7be9\\\", \\\"https://www.fire.ca.gov/incidents/2025/8/1/gifford-fire/\\\", \\\"NaN\\\", \\\"NaN\\\", \\\"2025-08-01\\\", \\\"N\\\", false, false], [\\\"Bernardo Fire\\\", \\\"Y\\\", \\\"2025-08-02T16:49:21Z\\\", \\\"2025-08-01T14:49:00Z\\\", \\\"San Diego Fire &amp; Rescue\\\", \\\"___NaN___\\\", \\\"San Diego\\\", \\\"Camino Del Norte &amp; Bernardo Center Drive\\\", 13.0, 100.0, \\\"NaN\\\", \\\"NaN\\\", -117.097895, 33.008889, \\\"Wildfire\\\", \\\"556f1827-6c95-49b8-a708-74027a55cfdf\\\", \\\"https://www.fire.ca.gov/incidents/2025/8/1/bernardo-fire/\\\", \\\"2025-08-02T08:00:00Z\\\", \\\"2025-08-02\\\", \\\"2025-08-01\\\", \\\"N\\\", true, false], [\\\"Donovan Fire\\\", \\\"Y\\\", \\\"2025-08-04T16:21:20Z\\\", \\\"2025-08-02T13:58:03Z\\\", \\\"CAL FIRE San Luis Obispo Unit\\\", \\\"___NaN___\\\", \\\"San Luis Obispo\\\", \\\"La Panza Road &amp; Little Farm Road, Creston\\\", 51.0, 100.0, \\\"NaN\\\", \\\"NaN\\\", -120.508946, 35.527328, \\\"Wildfire\\\", \\\"ea201a75-e79c-4ff4-91fb-3ccc9142f1aa\\\", \\\"https://www.fire.ca.gov/incidents/2025/8/2/donovan-fire/\\\", \\\"2025-08-02T08:00:00Z\\\", \\\"2025-08-02\\\", \\\"2025-08-02\\\", \\\"N\\\", true, false], [\\\"Fremont Fire\\\", \\\"Y\\\", \\\"2025-08-08T08:56:12Z\\\", \\\"2025-08-02T13:44:52Z\\\", \\\"Unified Command: CAL FIRE San Bernardino Unit and San Bernardino County Fire\\\", \\\"___NaN___\\\", \\\"San Bernardino\\\", \\\"Near Fremontia Road and Mesquite Road\\\", 30.0, 100.0, \\\"NaN\\\", \\\"NaN\\\", -117.653566, 34.429401, \\\"Wildfire\\\", \\\"86ecd8ea-4e67-400a-970f-c0d7033232ca\\\", \\\"https://www.fire.ca.gov/incidents/2025/8/2/fremont-fire/\\\", \\\"NaN\\\", \\\"NaN\\\", \\\"2025-08-02\\\", \\\"N\\\", true, false], [\\\"Radar Fire\\\", \\\"Y\\\", \\\"2025-08-04T21:29:56Z\\\", \\\"2025-08-02T16:53:17Z\\\", \\\"Modoc National Forest\\\", \\\"___NaN___\\\", \\\"Modoc\\\", \\\"Southwest of Lone Pine Lake\\\", 10.0, 100.0, \\\"NaN\\\", \\\"NaN\\\", -121.130548, 41.720347, \\\"Fire\\\", \\\"21cd718c-9ec8-4f5b-a65b-bcf3d1c03450\\\", \\\"https://www.fire.ca.gov/incidents/2025/8/2/radar-fire/\\\", \\\"2025-08-04T21:28:20Z\\\", \\\"2025-08-04\\\", \\\"2025-08-02\\\", \\\"N\\\", false, false], [\\\"Oak Fire\\\", \\\"Y\\\", \\\"2025-08-04T11:46:58Z\\\", \\\"2025-08-02T17:00:34Z\\\", \\\"CAL FIRE Riverside Unit\\\", \\\"___NaN___\\\", \\\"Riverside\\\", \\\"Live Oak Canyon Road and San Timoteo Road, Ordway\\\", 46.0, 100.0, \\\"NaN\\\", \\\"NaN\\\", -117.151382, 34.000542, \\\"Wildfire\\\", \\\"f8074843-7b89-41ff-b0bb-8d9fb609a236\\\", \\\"https://www.fire.ca.gov/incidents/2025/8/2/oak-fire/\\\", \\\"2025-08-04T10:38:00Z\\\", \\\"2025-08-04\\\", \\\"2025-08-02\\\", \\\"N\\\", true, false], [\\\"Lake Fire\\\", \\\"Y\\\", \\\"2025-08-09T21:46:13Z\\\", \\\"2025-08-03T14:20:48Z\\\", \\\"CAL FIRE Sonoma-Lake-Napa Unit\\\", \\\"___NaN___\\\", \\\"Lake\\\", \\\"Nacimiento Lake Drive and Oak Street, South of Borax Lake\\\", 401.0, 100.0, \\\"NaN\\\", \\\"NaN\\\", -122.652516, 38.977581, \\\"Wildfire\\\", \\\"c64713dc-7279-43b0-b075-9570a4211973\\\", \\\"https://www.fire.ca.gov/incidents/2025/8/3/lake-fire/\\\", \\\"2025-08-09T08:00:00Z\\\", \\\"2025-08-09\\\", \\\"2025-08-03\\\", \\\"N\\\", true, false], [\\\"Eden Fire\\\", \\\"Y\\\", \\\"2025-08-04T21:23:23Z\\\", \\\"2025-08-03T17:23:40Z\\\", \\\"CAL FIRE Santa Clara Unit\\\", \\\"___NaN___\\\", \\\"Alameda\\\", \\\"Arthur H. Breed Highway, Northeast of Fairview\\\", 18.0, 100.0, \\\"NaN\\\", \\\"NaN\\\", -122.023919, 37.702307, \\\"Wildfire\\\", \\\"249fb1ec-a4f7-4140-86cf-251ef00f4eeb\\\", \\\"https://www.fire.ca.gov/incidents/2025/8/3/eden-fire/\\\", \\\"2025-08-03T18:31:00Z\\\", \\\"2025-08-03\\\", \\\"2025-08-03\\\", \\\"N\\\", true, false], [\\\"Santa Fire\\\", \\\"Y\\\", \\\"2025-08-04T21:18:54Z\\\", \\\"2025-08-03T21:09:56Z\\\", \\\"CAL FIRE Madera-Mariposa-Merced Unit\\\", \\\"___NaN___\\\", \\\"Merced\\\", \\\"I-5 North Highway 152, Santa Nella\\\", 30.0, 100.0, \\\"NaN\\\", \\\"NaN\\\", -120.966641, 37.053702, \\\"Wildfire\\\", \\\"e66a9f93-dd3c-41bf-8a95-ec2671bd116f\\\", \\\"https://www.fire.ca.gov/incidents/2025/8/3/santa-fire/\\\", \\\"2025-08-03T22:47:00Z\\\", \\\"2025-08-03\\\", \\\"2025-08-03\\\", \\\"N\\\", true, false], [\\\"Gold Fire\\\", \\\"Y\\\", \\\"2025-09-02T12:39:03Z\\\", \\\"2025-08-04T09:23:02Z\\\", \\\"San Bernardino National Forest\\\", \\\"___NaN___\\\", \\\"San Bernardino\\\", \\\"John Bull Flat Spur, North of Big Bear Lake\\\", 1036.0, 100.0, \\\"NaN\\\", \\\"NaN\\\", -116.906906, 34.320286, \\\"Wildfire\\\", \\\"0ccc3062-fdb2-43e1-95e3-08a91f262264\\\", \\\"https://www.fire.ca.gov/incidents/2025/8/4/gold-fire/\\\", \\\"NaN\\\", \\\"NaN\\\", \\\"2025-08-04\\\", \\\"N\\\", false, false], [\\\"Rosa Fire\\\", \\\"Y\\\", \\\"2025-08-24T13:50:35Z\\\", \\\"2025-08-04T12:27:50Z\\\", \\\"San Bernardino National Forest\\\", \\\"___NaN___\\\", \\\"Riverside\\\", \\\"Highway 74, Mountain Center Community\\\", 1671.0, 100.0, \\\"NaN\\\", \\\"NaN\\\", -116.53338, 33.56604, \\\"Wildfire\\\", \\\"32bba53a-d4c6-4672-b63a-49448c53fa68\\\", \\\"https://www.fire.ca.gov/incidents/2025/8/4/rosa-fire/\\\", \\\"2025-08-12T08:00:00Z\\\", \\\"2025-08-12\\\", \\\"2025-08-04\\\", \\\"N\\\", false, false], [\\\"Cool Fire\\\", \\\"Y\\\", \\\"2025-08-04T21:24:37Z\\\", \\\"2025-08-04T11:38:34Z\\\", \\\"CAL FIRE San Diego Unit\\\", \\\"___NaN___\\\", \\\"San Diego\\\", \\\"Cool Water Ranch Road, Valley Center\\\", 17.0, 100.0, \\\"NaN\\\", \\\"NaN\\\", -117.002097, 33.213005, \\\"Wildfire\\\", \\\"05a1d89c-3180-4833-b7c2-93801a7bff87\\\", \\\"https://www.fire.ca.gov/incidents/2025/8/4/cool-fire/\\\", \\\"2025-08-04T12:41:00Z\\\", \\\"2025-08-04\\\", \\\"2025-08-04\\\", \\\"N\\\", true, false], [\\\"Mckinley Fire\\\", \\\"Y\\\", \\\"2025-08-04T21:20:07Z\\\", \\\"2025-08-04T14:02:32Z\\\", \\\"CAL FIRE Fresno-Kings Unit\\\", \\\"___NaN___\\\", \\\"Fresno\\\", \\\"West McKinley Ave and Canal Road, Mendota\\\", 24.0, 100.0, \\\"NaN\\\", \\\"NaN\\\", -120.657099, 36.778239, \\\"Wildfire\\\", \\\"b73f17b3-812a-48d1-8392-f96c65f4ad8a\\\", \\\"https://www.fire.ca.gov/incidents/2025/8/4/mckinley-fire/\\\", \\\"2025-08-04T21:19:42Z\\\", \\\"2025-08-04\\\", \\\"2025-08-04\\\", \\\"N\\\", true, false], [\\\"Midway Fire\\\", \\\"Y\\\", \\\"2025-08-04T21:26:56Z\\\", \\\"2025-08-04T13:17:48Z\\\", \\\"CAL FIRE San Luis Obispo Unit\\\", \\\"___NaN___\\\", \\\"San Luis Obispo\\\", \\\"Midway Road, Santa Margarita\\\", 13.0, 100.0, \\\"NaN\\\", \\\"NaN\\\", -120.103532, 35.222269, \\\"Wildfire\\\", \\\"5dbdfbfb-070b-4de1-8c40-c68341ae8605\\\", \\\"https://www.fire.ca.gov/incidents/2025/8/4/midway-fire/\\\", \\\"2025-08-04T17:00:00Z\\\", \\\"2025-08-04\\\", \\\"2025-08-04\\\", \\\"N\\\", true, false], [\\\"Claypit Fire\\\", \\\"Y\\\", \\\"2025-08-08T09:15:18Z\\\", \\\"2025-08-04T15:52:08Z\\\", \\\"CAL FIRE Amador-El Dorado Unit\\\", \\\"___NaN___\\\", \\\"Sacramento\\\", \\\"Ione Road &amp; Claypit Road, Sacramento County\\\", 128.0, 100.0, \\\"NaN\\\", \\\"NaN\\\", -121.028053, 38.409043, \\\"Wildfire\\\", \\\"4cba24e3-da08-4c70-9bd1-9ba7a4de5db8\\\", \\\"https://www.fire.ca.gov/incidents/2025/8/4/claypit-fire/\\\", \\\"2025-08-07T15:39:10Z\\\", \\\"2025-08-07\\\", \\\"2025-08-04\\\", \\\"N\\\", true, false], [\\\"Ranch Fire\\\", \\\"Y\\\", \\\"2025-08-04T21:15:39Z\\\", \\\"2025-08-04T15:15:52Z\\\", \\\"Lincoln Fire Department\\\", \\\"___NaN___\\\", \\\"Placer\\\", \\\"Highway 65, South of Twelve Bridges Drive, Rocklin\\\", 140.0, 100.0, \\\"NaN\\\", \\\"NaN\\\", -121.299167, 38.839, \\\"Wildfire\\\", \\\"4876140b-cfd2-4790-b779-619cb3b72fd8\\\", \\\"https://www.fire.ca.gov/incidents/2025/8/4/ranch-fire/\\\", \\\"2025-08-04T21:15:15Z\\\", \\\"2025-08-04\\\", \\\"2025-08-04\\\", \\\"N\\\", false, false], [\\\"Bridge Fire\\\", \\\"Y\\\", \\\"2025-08-06T06:08:48Z\\\", \\\"2025-08-04T19:01:27Z\\\", \\\"CAL FIRE Fresno-Kings Unit\\\", \\\"___NaN___\\\", \\\"Fresno\\\", \\\"West Whitesbridge Avenue and North San Benito Avenue, Mendota\\\", 57.0, 100.0, \\\"NaN\\\", \\\"NaN\\\", -120.337696, 36.733265, \\\"Wildfire\\\", \\\"632408e7-21ae-4c17-93b0-98150158978b\\\", \\\"https://www.fire.ca.gov/incidents/2025/8/4/bridge-fire/\\\", \\\"2025-08-05T22:00:00Z\\\", \\\"2025-08-05\\\", \\\"2025-08-04\\\", \\\"N\\\", true, false], [\\\"Keith Fire\\\", \\\"Y\\\", \\\"2025-08-06T14:56:23Z\\\", \\\"2025-08-05T13:23:52Z\\\", \\\"CAL FIRE Riverside Unit\\\", \\\"___NaN___\\\", \\\"Riverside\\\", \\\"Clinton Keith Road and Trois Valley Street, East of Antelope Hills\\\", 16.0, 100.0, \\\"NaN\\\", \\\"NaN\\\", -117.134907, 33.602245, \\\"Wildfire\\\", \\\"8690b495-e0ed-42db-93b8-9a1b521a4152\\\", \\\"https://www.fire.ca.gov/incidents/2025/8/5/keith-fire/\\\", \\\"2025-08-05T18:01:00Z\\\", \\\"2025-08-05\\\", \\\"2025-08-05\\\", \\\"N\\\", true, false], [\\\"Camel Fire\\\", \\\"Y\\\", \\\"2025-08-06T14:55:40Z\\\", \\\"2025-08-05T15:17:53Z\\\", \\\"CAL FIRE Sonoma-Lake-Napa Unit\\\", \\\"___NaN___\\\", \\\"Solano\\\", \\\"Luther E. Gibson Freeway and Park Road, Benicia\\\", 10.0, 100.0, \\\"NaN\\\", \\\"NaN\\\", -122.135164, 38.054161, \\\"Wildfire\\\", \\\"4d5d4b02-54e9-4c85-88d9-defe7c93e56d\\\", \\\"https://www.fire.ca.gov/incidents/2025/8/5/camel-fire/\\\", \\\"2025-08-06T08:00:00Z\\\", \\\"2025-08-06\\\", \\\"2025-08-05\\\", \\\"N\\\", true, false], [\\\"Calaveras Fire\\\", \\\"Y\\\", \\\"2025-08-06T21:52:22Z\\\", \\\"2025-08-05T15:59:19Z\\\", \\\"CAL FIRE Santa Clara Unit\\\", \\\"___NaN___\\\", \\\"Alameda\\\", \\\"Calaveras Road and Indian Creek Road, Sunol\\\", 16.0, 100.0, \\\"NaN\\\", \\\"NaN\\\", -121.864915, 37.576408, \\\"Wildfire\\\", \\\"ed9b3543-756f-4a0a-9e21-d49b318a8874\\\", \\\"https://www.fire.ca.gov/incidents/2025/8/5/calaveras-fire/\\\", \\\"2025-08-06T10:02:00Z\\\", \\\"2025-08-06\\\", \\\"2025-08-05\\\", \\\"N\\\", true, false], [\\\"Jewel Fire\\\", \\\"Y\\\", \\\"2025-08-07T22:03:08Z\\\", \\\"2025-08-05T19:26:15Z\\\", \\\"CAL FIRE Madera-Mariposa-Merced Unit\\\", \\\"___NaN___\\\", \\\"Madera\\\", \\\"Jewels Vista Drive and Highway 41, Yosemite Lakes\\\", 15.0, 100.0, \\\"NaN\\\", \\\"NaN\\\", -119.757059, 37.08471, \\\"Wildfire\\\", \\\"39a92f5a-8c43-465a-afa7-17cae1e7e271\\\", \\\"https://www.fire.ca.gov/incidents/2025/8/5/jewel-fire/\\\", \\\"2025-08-07T16:48:56Z\\\", \\\"2025-08-07\\\", \\\"2025-08-05\\\", \\\"N\\\", true, false], [\\\"Rush Fire\\\", \\\"Y\\\", \\\"2025-08-06T17:58:55Z\\\", \\\"2025-08-02T11:35:30Z\\\", \\\"Stanislaus National Forest\\\", \\\"___NaN___\\\", \\\"Mariposa\\\", \\\"Forest Road 2509 Near Deer Lick Creek, Greeley Hill\\\", 12.0, 100.0, \\\"NaN\\\", \\\"NaN\\\", -120.038987, 37.770605, \\\"Wildfire\\\", \\\"6b9366ba-bd79-4e04-b486-23fed65a6a2f\\\", \\\"https://www.fire.ca.gov/incidents/2025/8/2/rush-fire/\\\", \\\"2025-08-03T12:40:00Z\\\", \\\"2025-08-03\\\", \\\"2025-08-02\\\", \\\"N\\\", true, false], [\\\"Pond Fire\\\", \\\"Y\\\", \\\"2025-08-13T22:00:10Z\\\", \\\"2025-08-06T15:37:37Z\\\", \\\"CAL FIRE Mendocino Unit\\\", \\\"___NaN___\\\", \\\"Mendocino\\\", \\\"Redwood Highway, North of Laytonville\\\", 25.0, 100.0, \\\"NaN\\\", \\\"NaN\\\", -123.51271, 39.73421, \\\"Wildfire\\\", \\\"a1012121-c7fc-4a33-9dec-1033603bf1f5\\\", \\\"https://www.fire.ca.gov/incidents/2025/8/6/pond-fire/\\\", \\\"NaN\\\", \\\"NaN\\\", \\\"2025-08-06\\\", \\\"N\\\", true, false], [\\\"Farm Fire\\\", \\\"Y\\\", \\\"2025-08-08T09:02:03Z\\\", \\\"2025-08-06T17:33:33Z\\\", \\\"CAL FIRE Shasta-Trinity Unit\\\", \\\"___NaN___\\\", \\\"Shasta\\\", \\\"Lower Gas Point Road and Gas Point Road, Igo\\\", 15.0, 100.0, \\\"NaN\\\", \\\"NaN\\\", -122.52078, 40.409513, \\\"Wildfire\\\", \\\"da5d92f0-bdba-46d6-bd78-857153ff630c\\\", \\\"https://www.fire.ca.gov/incidents/2025/8/6/farm-fire/\\\", \\\"2025-08-07T08:30:00Z\\\", \\\"2025-08-07\\\", \\\"2025-08-06\\\", \\\"N\\\", true, false], [\\\"Van Vleck Fire\\\", \\\"Y\\\", \\\"2025-08-09T21:47:36Z\\\", \\\"2025-08-06T14:46:47Z\\\", \\\"CAL FIRE Amador-El Dorado Unit\\\", \\\"___NaN___\\\", \\\"Sacramento\\\", \\\"Near Jackson Road and Van Vleck Road, Rancho Murieta\\\", 10.0, 100.0, \\\"NaN\\\", \\\"NaN\\\", -121.074404, 38.483838, \\\"Wildfire\\\", \\\"f9818c6f-7638-4425-96ef-1ba8703c127f\\\", \\\"https://www.fire.ca.gov/incidents/2025/8/6/van-vleck-fire/\\\", \\\"NaN\\\", \\\"NaN\\\", \\\"2025-08-06\\\", \\\"N\\\", true, false], [\\\"Canyon Fire\\\", \\\"Y\\\", \\\"2025-08-14T21:58:18Z\\\", \\\"2025-08-07T13:25:00Z\\\", \\\"Unified Command: Ventura County Fire Department &amp; Los Angeles County Fire Department\\\", \\\"___NaN___\\\", \\\"Los Angeles, Ventura\\\", \\\"North of Highway 126, West of Castaic\\\", 5370.0, 100.0, \\\"NaN\\\", \\\"NaN\\\", -118.73503, 34.441462, \\\"Wildfire\\\", \\\"a8d01a9f-0a2f-44ee-b011-517c9b4df43e\\\", \\\"https://www.fire.ca.gov/incidents/2025/8/7/canyon-fire/\\\", \\\"2025-08-14T05:52:00Z\\\", \\\"2025-08-14\\\", \\\"2025-08-07\\\", \\\"N\\\", true, false], [\\\"102 Fire\\\", \\\"Y\\\", \\\"2025-08-08T09:06:53Z\\\", \\\"2025-08-07T15:05:35Z\\\", \\\"Woodland Fire Department\\\", \\\"___NaN___\\\", \\\"Yolo\\\", \\\"East Beamer Street, West of Conaway\\\", 86.0, 100.0, \\\"NaN\\\", \\\"NaN\\\", -121.72738, 38.69111, \\\"Wildfire\\\", \\\"9682483b-a5ec-4aa9-9078-25b5ec45bbfb\\\", \\\"https://www.fire.ca.gov/incidents/2025/8/7/102-fire/\\\", \\\"2025-08-07T16:35:00Z\\\", \\\"2025-08-07\\\", \\\"2025-08-07\\\", \\\"N\\\", false, false], [\\\"Panoche Fire\\\", \\\"Y\\\", \\\"2025-08-13T08:35:44Z\\\", \\\"2025-08-07T16:10:56Z\\\", \\\"CAL FIRE San Benito-Monterey Unit\\\", \\\"___NaN___\\\", \\\"San Benito\\\", \\\"Panoche Road, South of Payne Creek, Llanada\\\", 423.0, 100.0, \\\"NaN\\\", \\\"NaN\\\", -120.989102, 36.635134, \\\"Wildfire\\\", \\\"77f07fa7-3b2e-46f0-a5db-a96fd1ea226b\\\", \\\"https://www.fire.ca.gov/incidents/2025/8/7/panoche-fire/\\\", \\\"2025-08-12T07:00:00Z\\\", \\\"2025-08-12\\\", \\\"2025-08-07\\\", \\\"N\\\", true, false], [\\\"Real Fire\\\", \\\"Y\\\", \\\"2025-08-08T15:14:15Z\\\", \\\"2025-08-07T16:59:06Z\\\", \\\"CAL FIRE Riverside Unit\\\", \\\"___NaN___\\\", \\\"Riverside\\\", \\\"Granite Hill Drive / Camino Real Road, Jurupa Valley\\\", 7.0, 100.0, \\\"NaN\\\", \\\"NaN\\\", -117.453354, 34.015644, \\\"Wildfire\\\", \\\"89621310-6279-4225-8a78-d7bc1436f88b\\\", \\\"https://www.fire.ca.gov/incidents/2025/8/7/real-fire/\\\", \\\"NaN\\\", \\\"NaN\\\", \\\"2025-08-07\\\", \\\"N\\\", true, false], [\\\"Philadelphia Fire\\\", \\\"Y\\\", \\\"2025-08-09T06:08:01Z\\\", \\\"2025-08-08T02:12:02Z\\\", \\\"CAL FIRE Riverside Unit\\\", \\\"___NaN___\\\", \\\"Riverside\\\", \\\"Country Village Road and Philadelphia Avenue, Jurupa Valley\\\", 25.0, 100.0, \\\"NaN\\\", \\\"San Bernardino County Fire Department; Riverside City Fire Department\\\", -117.50691, 34.033455, \\\"Wildfire\\\", \\\"f6fd378d-cb6e-429a-b871-7f9bcc82025a\\\", \\\"https://www.fire.ca.gov/incidents/2025/8/8/philadelphia-fire/\\\", \\\"2025-08-09T06:07:53Z\\\", \\\"2025-08-09\\\", \\\"2025-08-08\\\", \\\"N\\\", true, false], [\\\"Butte Fire\\\", \\\"Y\\\", \\\"2025-08-09T21:46:55Z\\\", \\\"2025-08-07T13:05:43Z\\\", \\\"Modoc National Forest\\\", \\\"___NaN___\\\", \\\"Modoc\\\", \\\"Highway 108, North of Carr Butte\\\", 45.0, 100.0, \\\"NaN\\\", \\\"NaN\\\", -121.120371, 41.955097, \\\"Wildfire\\\", \\\"c59e12dd-db75-450d-b3bd-af542dc2372c\\\", \\\"https://www.fire.ca.gov/incidents/2025/8/7/butte-fire/\\\", \\\"2025-08-09T17:00:00Z\\\", \\\"2025-08-09\\\", \\\"2025-08-07\\\", \\\"N\\\", true, false], [\\\"Berry Fire\\\", \\\"Y\\\", \\\"2025-08-11T08:46:35Z\\\", \\\"2025-08-08T10:50:30Z\\\", \\\"CAL FIRE Sonoma-Lake-Napa Unit\\\", \\\"___NaN___\\\", \\\"Napa\\\", \\\"Berryessa Knoxville Road, North of Lake Berryessa\\\", 68.0, 100.0, \\\"NaN\\\", \\\"Napa County Fire Department, Napa County Sheriff's Office, California Department of Fish and Wildlife, AMR Napa\\\", -122.270733, 38.698992, \\\"Wildfire\\\", \\\"6cd99766-91c5-4519-95dd-602482cd1caf\\\", \\\"https://www.fire.ca.gov/incidents/2025/8/8/berry-fire/\\\", \\\"2025-08-10T17:00:00Z\\\", \\\"2025-08-10\\\", \\\"2025-08-08\\\", \\\"N\\\", true, false], [\\\"Runner Fire\\\", \\\"Y\\\", \\\"2025-08-09T21:46:36Z\\\", \\\"2025-08-08T11:23:09Z\\\", \\\"CAL FIRE San Deigo Unit\\\", \\\"___NaN___\\\", \\\"San Diego\\\", \\\"Roadrunner Lane and Moonlit Trail Boulevard\\\", 88.0, 100.0, \\\"NaN\\\", \\\"NaN\\\", -116.281929, 32.687885, \\\"Wildfire\\\", \\\"f967b9d0-6970-4f20-bccc-3c8df66cd38e\\\", \\\"https://www.fire.ca.gov/incidents/2025/8/8/runner-fire/\\\", \\\"2025-08-09T21:46:32Z\\\", \\\"2025-08-09\\\", \\\"2025-08-08\\\", \\\"N\\\", true, false], [\\\"Tiger Fire\\\", \\\"Y\\\", \\\"2025-08-17T09:00:25Z\\\", \\\"2025-08-08T12:43:09Z\\\", \\\"NaN\\\", \\\"___NaN___\\\", \\\"Amador\\\", \\\"Tiger Creek Road, Pioneer\\\", 118.0, 100.0, \\\"NaN\\\", \\\"NaN\\\", -120.516289, 38.430401, \\\"Wildfire\\\", \\\"64f3cd30-8327-4384-bb56-63ac835a0b7f\\\", \\\"https://www.fire.ca.gov/incidents/2025/8/8/tiger-fire/\\\", \\\"NaN\\\", \\\"NaN\\\", \\\"2025-08-08\\\", \\\"N\\\", true, false], [\\\"North Fire\\\", \\\"Y\\\", \\\"2025-08-10T21:30:24Z\\\", \\\"2025-08-08T14:08:59Z\\\", \\\"CAL FIRE Sonoma-Lake-Napa Unit\\\", \\\"___NaN___\\\", \\\"Lake\\\", \\\"Sulphur Bank Road and North Road, Clearlake\\\", 11.0, 100.0, \\\"NaN\\\", \\\"NaN\\\", -122.680639, 38.994765, \\\"Wildfire\\\", \\\"92dad1c8-af50-47f9-93d9-dc7fca758455\\\", \\\"https://www.fire.ca.gov/incidents/2025/8/8/north-fire/\\\", \\\"NaN\\\", \\\"NaN\\\", \\\"2025-08-08\\\", \\\"N\\\", true, false], [\\\"Mariposa Fire\\\", \\\"Y\\\", \\\"2025-08-10T21:30:06Z\\\", \\\"2025-08-09T12:17:17Z\\\", \\\"San Bernadino National Forest\\\", \\\"___NaN___\\\", \\\"San Bernardino\\\", \\\"Santa Fe Road near Interstate 15, Cajon Pass\\\", 12.0, 100.0, \\\"NaN\\\", \\\"NaN\\\", -117.477459, 34.325756, \\\"Wildfire\\\", \\\"c8df0d76-a014-495f-be50-250593d901ef\\\", \\\"https://www.fire.ca.gov/incidents/2025/8/9/mariposa-fire/\\\", \\\"NaN\\\", \\\"NaN\\\", \\\"2025-08-09\\\", \\\"N\\\", false, false], [\\\"Arden Fire\\\", \\\"Y\\\", \\\"2025-08-12T21:59:44Z\\\", \\\"2025-08-09T14:09:57Z\\\", \\\"CAL FIRE Sonoma-Lake-Napa Unit\\\", \\\"___NaN___\\\", \\\"Lake\\\", \\\"Arden Dr and Foothill Dr, Lucerne\\\", 26.0, 100.0, \\\"NaN\\\", \\\"NaN\\\", -122.805092, 39.100802, \\\"Wildfire\\\", \\\"04483315-ddce-4a70-a56f-8733f9d0fcd3\\\", \\\"https://www.fire.ca.gov/incidents/2025/8/9/arden-fire/\\\", \\\"2025-08-12T08:00:00Z\\\", \\\"2025-08-12\\\", \\\"2025-08-09\\\", \\\"N\\\", true, false], [\\\"Richbar Fire\\\", \\\"Y\\\", \\\"2025-08-17T08:59:59Z\\\", \\\"2025-08-09T17:39:17Z\\\", \\\"Sequioa National Forest\\\", \\\"___NaN___\\\", \\\"Kern\\\", \\\"Highway 178 and Upper Richbar, Lake Isabella\\\", 158.0, 100.0, \\\"NaN\\\", \\\"NaN\\\", -118.722809, 35.468395, \\\"Wildfire\\\", \\\"ae18777a-ca05-418d-965c-b34355a324d1\\\", \\\"https://www.fire.ca.gov/incidents/2025/8/9/richbar-fire/\\\", \\\"2025-08-16T22:00:00Z\\\", \\\"2025-08-16\\\", \\\"2025-08-09\\\", \\\"N\\\", false, false], [\\\"Ponderosa Fire\\\", \\\"Y\\\", \\\"2025-08-17T09:23:33Z\\\", \\\"2025-08-10T15:06:29Z\\\", \\\"CAL FIRE Nevada-Yuba-Placer Unit\\\", \\\"___NaN___\\\", \\\"Yuba\\\", \\\"Ponderosa Way, north of Sunset Road, Oregon House\\\", 87.0, 100.0, \\\"NaN\\\", \\\"NaN\\\", -121.295635, 39.386003, \\\"Wildfire\\\", \\\"22e01b30-09bf-4e3f-9855-6b830e81543f\\\", \\\"https://www.fire.ca.gov/incidents/2025/8/10/ponderosa-fire/\\\", \\\"2025-08-17T08:00:00Z\\\", \\\"2025-08-17\\\", \\\"2025-08-10\\\", \\\"N\\\", true, false], [\\\"Clark Fire\\\", \\\"Y\\\", \\\"2025-08-14T21:58:34Z\\\", \\\"2025-08-10T15:24:29Z\\\", \\\"CAL FIRE Lassen-Modoc Unit\\\", \\\"___NaN___\\\", \\\"Lassen\\\", \\\"North of Loomis Cabin Road, Little Valley\\\", 51.0, 100.0, \\\"NaN\\\", \\\"NaN\\\", -121.170005, 40.91808, \\\"Wildfire\\\", \\\"825b12a9-3cd8-43fc-8456-918381122381\\\", \\\"https://www.fire.ca.gov/incidents/2025/8/10/clark-fire/\\\", \\\"2025-08-14T08:15:00Z\\\", \\\"2025-08-14\\\", \\\"2025-08-10\\\", \\\"N\\\", true, false], [\\\"Mountain Fire\\\", \\\"Y\\\", \\\"2025-08-17T08:55:34Z\\\", \\\"2025-08-11T16:39:39Z\\\", \\\"Modoc National Forest\\\", \\\"___NaN___\\\", \\\"Modoc\\\", \\\"46N16 Road, near Tulelake\\\", 980.0, 100.0, \\\"NaN\\\", \\\"NaN\\\", -121.33, 41.8124, \\\"Wildfire\\\", \\\"bc6cfae1-6556-46a7-ab4a-4a7598c07d8b\\\", \\\"https://www.fire.ca.gov/incidents/2025/8/11/mountain-fire/\\\", \\\"2025-08-16T22:00:00Z\\\", \\\"2025-08-16\\\", \\\"2025-08-11\\\", \\\"N\\\", false, false], [\\\"Utah Fire\\\", \\\"Y\\\", \\\"2025-08-12T09:59:14Z\\\", \\\"2025-08-11T17:17:47Z\\\", \\\"CAL FIRE Madera-Mariposa-Merced Unit\\\", \\\"___NaN___\\\", \\\"Mariposa\\\", \\\"Highway 49 and Utah Street\\\", 13.0, 100.0, \\\"NaN\\\", \\\"NaN\\\", -120.126968, 37.573647, \\\"Wildfire\\\", \\\"8624e244-bdfb-4faf-b0bd-c7daf549633f\\\", \\\"https://www.fire.ca.gov/incidents/2025/8/11/utah-fire/\\\", \\\"2025-08-12T12:09:00Z\\\", \\\"2025-08-12\\\", \\\"2025-08-11\\\", \\\"N\\\", true, false], [\\\"Perez Fire\\\", \\\"Y\\\", \\\"2025-08-13T12:47:45Z\\\", \\\"2025-08-12T15:51:46Z\\\", \\\"Modoc National Forest\\\", \\\"___NaN___\\\", \\\"Modoc\\\", \\\"Highway 139 and County Road 136, Perez\\\", 15.0, 100.0, \\\"NaN\\\", \\\"NaN\\\", -121.286667, 41.714, \\\"Wildfire\\\", \\\"3efab425-a77d-48e1-a7d2-31d2de991864\\\", \\\"https://www.fire.ca.gov/incidents/2025/8/12/perez-fire/\\\", \\\"2025-08-12T17:30:00Z\\\", \\\"2025-08-12\\\", \\\"2025-08-12\\\", \\\"N\\\", false, false], [\\\"Lost Fire\\\", \\\"Y\\\", \\\"2025-08-13T22:01:20Z\\\", \\\"2025-08-12T18:06:55Z\\\", \\\"CAL FIRE Fresno-Kings Unit\\\", \\\"___NaN___\\\", \\\"Fresno\\\", \\\"Friant Frontage Road and Lost Lake Road, Friant\\\", 31.0, 100.0, \\\"NaN\\\", \\\"NaN\\\", -119.724423, 36.974318, \\\"Wildfire\\\", \\\"a1bff10a-0a85-425a-8175-a33a98b1070c\\\", \\\"https://www.fire.ca.gov/incidents/2025/8/12/lost-fire/\\\", \\\"2025-08-13T22:00:27Z\\\", \\\"2025-08-13\\\", \\\"2025-08-12\\\", \\\"N\\\", true, false], [\\\"Smittle Fire\\\", \\\"Y\\\", \\\"2025-08-13T22:01:50Z\\\", \\\"2025-08-13T11:46:51Z\\\", \\\"CAL FIRE Sonoma-Lake-Napa Unit\\\", \\\"___NaN___\\\", \\\"Napa\\\", \\\"Berryessa Knoxville Road near Lake Berryessa, Napa\\\", 5.0, 100.0, \\\"NaN\\\", \\\"NaN\\\", -122.234924, 38.560009, \\\"Wildfire\\\", \\\"c26bbba5-e5c9-4d07-85ea-830845edb464\\\", \\\"https://www.fire.ca.gov/incidents/2025/8/13/smittle-fire/\\\", \\\"2025-08-13T22:01:47Z\\\", \\\"2025-08-13\\\", \\\"2025-08-13\\\", \\\"N\\\", true, false], [\\\"Preston Fire\\\", \\\"Y\\\", \\\"2025-08-14T21:58:47Z\\\", \\\"2025-08-13T23:32:41Z\\\", \\\"CAL FIRE Madera-Mariposa-Merced Unit\\\", \\\"___NaN___\\\", \\\"Mariposa\\\", \\\"Ben Hur Road and Preston Road\\\", 13.0, 100.0, \\\"NaN\\\", \\\"NaN\\\", -119.97478, 37.257358, \\\"Wildfire\\\", \\\"a28bd151-9463-4ea3-8a4f-d6e720f01c60\\\", \\\"https://www.fire.ca.gov/incidents/2025/8/13/preston-fire/\\\", \\\"2025-08-14T01:00:00Z\\\", \\\"2025-08-14\\\", \\\"2025-08-13\\\", \\\"N\\\", true, false], [\\\"King Fire\\\", \\\"Y\\\", \\\"2025-08-20T06:33:10Z\\\", \\\"2025-08-14T01:04:01Z\\\", \\\"Unified Command: Los Angeles County Fire Department and Angeles National Forest\\\", \\\"___NaN___\\\", \\\"Los Angeles\\\", \\\"East of I-5 at Smokey Bear Road\\\", 591.0, 100.0, \\\"NaN\\\", \\\"NaN\\\", -118.79656, 34.720071, \\\"Wildfire\\\", \\\"31e4db70-aaf9-4864-ab09-d2e90201764e\\\", \\\"https://www.fire.ca.gov/incidents/2025/8/14/king-fire/\\\", \\\"2025-08-20T06:33:07Z\\\", \\\"2025-08-20\\\", \\\"2025-08-14\\\", \\\"N\\\", false, false], [\\\"Hawk Fire\\\", \\\"Y\\\", \\\"2025-08-20T22:00:14Z\\\", \\\"2025-08-14T15:03:15Z\\\", \\\"Los Angeles County Fire Department\\\", \\\"___NaN___\\\", \\\"Los Angeles\\\", \\\"Treman Drive and Elisa Road, Acton\\\", 481.0, 100.0, \\\"NaN\\\", \\\"NaN\\\", -118.227211, 34.531426, \\\"Wildfire\\\", \\\"33ce048a-b003-4336-a9ee-fa2d9511d760\\\", \\\"https://www.fire.ca.gov/incidents/2025/8/14/hawk-fire/\\\", \\\"2025-08-20T13:52:00Z\\\", \\\"2025-08-20\\\", \\\"2025-08-14\\\", \\\"N\\\", false, false], [\\\"Heather Fire\\\", \\\"Y\\\", \\\"2025-08-18T06:04:12Z\\\", \\\"2025-08-14T15:58:27Z\\\", \\\"CAL FIRE Siskiyou Unit\\\", \\\"___NaN___\\\", \\\"Siskiyou\\\", \\\"Heather Lane, Hornbrook\\\", 240.0, 100.0, \\\"NaN\\\", \\\"NaN\\\", -122.4019, 41.932642, \\\"Wildfire\\\", \\\"48a7d32f-2ecc-4030-acf5-e4a2a1ef8ce3\\\", \\\"https://www.fire.ca.gov/incidents/2025/8/14/heather-fire/\\\", \\\"2025-08-17T22:00:00Z\\\", \\\"2025-08-17\\\", \\\"2025-08-14\\\", \\\"N\\\", true, false], [\\\"Herman Fire\\\", \\\"Y\\\", \\\"2025-08-17T08:59:06Z\\\", \\\"2025-08-15T13:41:38Z\\\", \\\"Unified Command: Benicia Fire Department and CAL FIRE Sonoma-Lake-Napa Unit\\\", \\\"___NaN___\\\", \\\"Solano\\\", \\\"Lake Herman Road, Solano\\\", 167.0, 100.0, \\\"NaN\\\", \\\"NaN\\\", -122.131599, 38.097839, \\\"Wildfire\\\", \\\"b10d856e-7741-4295-88eb-cd1c834ff295\\\", \\\"https://www.fire.ca.gov/incidents/2025/8/15/herman-fire/\\\", \\\"2025-08-16T22:00:00Z\\\", \\\"2025-08-16\\\", \\\"2025-08-15\\\", \\\"N\\\", true, false], [\\\"Hadley Fire\\\", \\\"Y\\\", \\\"2025-08-19T09:31:59Z\\\", \\\"2025-08-17T13:59:59Z\\\", \\\"CAL FIRE Madera-Mariposa-Merced Unit\\\", \\\"___NaN___\\\", \\\"Madera\\\", \\\"Hadley Road and Rose Bud Lane, North Fork\\\", 13.0, 100.0, \\\"NaN\\\", \\\"NaN\\\", -119.56892, 37.214319, \\\"Wildfire\\\", \\\"a93d0a70-3bc0-4871-8174-9244ef286600\\\", \\\"https://www.fire.ca.gov/incidents/2025/8/17/hadley-fire/\\\", \\\"NaN\\\", \\\"NaN\\\", \\\"2025-08-17\\\", \\\"N\\\", true, false], [\\\"Carlos Fire\\\", \\\"Y\\\", \\\"2025-08-19T08:44:09Z\\\", \\\"2025-08-18T14:04:22Z\\\", \\\"CAL FIRE San Luis Obispo Unit\\\", \\\"___NaN___\\\", \\\"San Luis Obispo\\\", \\\"San Carlos Road, Atascadero\\\", 43.0, 100.0, \\\"NaN\\\", \\\"NaN\\\", -120.66952, 35.453419, \\\"Wildfire\\\", \\\"fa144dab-4ddd-45f8-83b6-1a90f50d67b3\\\", \\\"https://www.fire.ca.gov/incidents/2025/8/18/carlos-fire/\\\", \\\"2025-08-18T15:41:00Z\\\", \\\"2025-08-18\\\", \\\"2025-08-18\\\", \\\"N\\\", true, false], [\\\"Vineyard Fire\\\", \\\"Y\\\", \\\"2025-08-20T06:33:25Z\\\", \\\"2025-08-19T20:08:35Z\\\", \\\"CAL FIRE Madera-Mariposa-Merced Unit\\\", \\\"___NaN___\\\", \\\"Madera\\\", \\\"Avenue 8 and Road 22, Madera\\\", 41.0, 100.0, \\\"NaN\\\", \\\"NaN\\\", -120.140056, 36.865734, \\\"Wildfire\\\", \\\"d94d8f86-a05c-4a9f-a309-cd5f7823a656\\\", \\\"https://www.fire.ca.gov/incidents/2025/8/19/vineyard-fire/\\\", \\\"2025-08-20T06:33:23Z\\\", \\\"2025-08-20\\\", \\\"2025-08-19\\\", \\\"N\\\", true, false], [\\\"Coyote Fire\\\", \\\"Y\\\", \\\"2025-09-05T17:29:24Z\\\", \\\"2025-08-20T14:16:37Z\\\", \\\"CAL FIRE Amador-El Dorado Unit\\\", \\\"___NaN___\\\", \\\"El Dorado\\\", \\\"Coyoteville Lane and Cedar Creek Road, Somerset\\\", 624.0, 100.0, \\\"NaN\\\", \\\"NaN\\\", -120.636971, 38.535896, \\\"Wildfire\\\", \\\"c70ae143-c751-48fe-a10a-f1c0347c3bd6\\\", \\\"https://www.fire.ca.gov/incidents/2025/8/20/coyote-fire/\\\", \\\"NaN\\\", \\\"NaN\\\", \\\"2025-08-20\\\", \\\"N\\\", true, false], [\\\"Watson Fire\\\", \\\"Y\\\", \\\"2025-08-22T15:25:28Z\\\", \\\"2025-08-21T12:20:36Z\\\", \\\"CAL FIRE Santa Clara Unit\\\", \\\"___NaN___\\\", \\\"Santa Clara\\\", \\\"Watsonville Road and Santa Teresa Boulevard\\\", 23.0, 100.0, \\\"NaN\\\", \\\"NaN\\\", -121.644112, 37.084305, \\\"Wildfire\\\", \\\"ad8a290a-744d-498e-b4e9-b94f78b5e146\\\", \\\"https://www.fire.ca.gov/incidents/2025/8/21/watson-fire/\\\", \\\"2025-08-21T15:00:00Z\\\", \\\"2025-08-21\\\", \\\"2025-08-21\\\", \\\"N\\\", true, false], [\\\"Pickett Fire\\\", \\\"Y\\\", \\\"2025-09-07T21:30:36Z\\\", \\\"2025-08-21T14:57:11Z\\\", \\\"CAL FIRE Sonoma-Lake-Napa Unit\\\", \\\"___NaN___\\\", \\\"Napa\\\", \\\"2343 Pickett Road, Calistoga North\\\", 6819.0, 100.0, \\\"NaN\\\", \\\"County of Napa, Napa County Fire Department, Napa County Roads, Napa County Office of Emergency Services, Napa Communities Firewise Foundation, Napa County Farm Bureau, City of Calistoga Fire Department, California Department of Parks and Recreation, Mishewal-Wappo Tribe of Alexander Valley, Middletown Rancheria of Pomo Indians of California, Howell Mountain Mutual Water Company, Napa Valley Vintners, Napa Valley Grape Growers, Wine Growers of Napa Valley, Agricultural Commissioner\\\\u2019s Office of Napa County, Wildfire Defense Systems, PG&amp;E, CalTrans, CA Department of Corrections and Rehabilitation, Cal Mat, CA Highway Patrol, CA Conservation Corps, Napa District 3, and Congressman Thompson.\\\", -122.551954, 38.600102, \\\"Wildfire\\\", \\\"5b4fef80-5eca-4bc6-acae-02aa42a7a18b\\\", \\\"https://www.fire.ca.gov/incidents/2025/8/21/pickett-fire/\\\", \\\"2025-09-07T22:00:00Z\\\", \\\"2025-09-07\\\", \\\"2025-08-21\\\", \\\"N\\\", true, false], [\\\"Cantova Fire\\\", \\\"Y\\\", \\\"2025-08-22T08:49:41Z\\\", \\\"2025-08-21T15:41:16Z\\\", \\\"CAL FIRE Amador-El Dorado Unit\\\", \\\"___NaN___\\\", \\\"Sacramento\\\", \\\"Murieta Drive and Cantova Way, Sloughhouse\\\", 36.0, 100.0, \\\"NaN\\\", \\\"NaN\\\", -121.100506, 38.489675, \\\"Wildfire\\\", \\\"314d2f97-54dd-422b-9864-16135e58a0e3\\\", \\\"https://www.fire.ca.gov/incidents/2025/8/21/cantova-fire/\\\", \\\"NaN\\\", \\\"NaN\\\", \\\"2025-08-21\\\", \\\"N\\\", true, false], [\\\"Crow Fire\\\", \\\"Y\\\", \\\"2025-08-22T22:01:20Z\\\", \\\"2025-08-21T16:45:47Z\\\", \\\"Camp Pendleton Fire Department\\\", \\\"___NaN___\\\", \\\"Orange, San Diego\\\", \\\"Camp Talega, East of Portofino\\\", 500.0, 100.0, \\\"NaN\\\", \\\"NaN\\\", -117.534639, 33.453028, \\\"Wildfire\\\", \\\"65296e0e-94a3-405e-bd6a-a28ace795d80\\\", \\\"https://www.fire.ca.gov/incidents/2025/8/21/crow-fire/\\\", \\\"2025-08-22T16:05:23Z\\\", \\\"2025-08-22\\\", \\\"2025-08-21\\\", \\\"N\\\", false, false], [\\\"Parks Fire\\\", \\\"Y\\\", \\\"2025-08-26T19:21:44Z\\\", \\\"2025-08-22T15:23:26Z\\\", \\\"Alameda County Fire Department\\\", \\\"___NaN___\\\", \\\"Alameda\\\", \\\"Dougherty Road and Fall Creek Road, Camp Parks\\\", 118.0, 100.0, \\\"NaN\\\", \\\"NaN\\\", -121.908142, 37.732098, \\\"Wildfire\\\", \\\"48ce54e5-c038-4496-9574-eebcfec97748\\\", \\\"https://www.fire.ca.gov/incidents/2025/8/22/parks-fire/\\\", \\\"2025-08-25T20:00:00Z\\\", \\\"2025-08-25\\\", \\\"2025-08-22\\\", \\\"N\\\", true, false], [\\\"Little Fire\\\", \\\"Y\\\", \\\"2025-09-05T17:10:18Z\\\", \\\"2025-08-22T15:03:00Z\\\", \\\"Sequoia National Forest\\\", \\\"___NaN___\\\", \\\"Kern\\\", \\\"Highway 178, Southwest of Lake Isabella\\\", 2506.0, 100.0, \\\"NaN\\\", \\\"NaN\\\", -118.585846, 35.569296, \\\"Wildfire\\\", \\\"c098ae85-db2e-41da-83ca-037d827c5166\\\", \\\"https://www.fire.ca.gov/incidents/2025/8/22/little-fire/\\\", \\\"NaN\\\", \\\"NaN\\\", \\\"2025-08-22\\\", \\\"N\\\", false, false], [\\\"Vail Fire\\\", \\\"Y\\\", \\\"2025-08-24T21:30:59Z\\\", \\\"2025-08-23T08:30:34Z\\\", \\\"CAL FIRE Riverside Unit\\\", \\\"___NaN___\\\", \\\"Riverside\\\", \\\"Near Vail Lake Dam, north of Highway 79S, northeast of Temecula\\\", 55.0, 100.0, \\\"NaN\\\", \\\"Murrieta Fire Department; Hemet Fire Department; Pechanga Fire Department\\\", -116.997928, 33.498964, \\\"Wildfire\\\", \\\"6b986ba9-e86a-4c6d-8de5-8c44228793f8\\\", \\\"https://www.fire.ca.gov/incidents/2025/8/23/vail-fire/\\\", \\\"2025-08-24T21:30:44Z\\\", \\\"2025-08-24\\\", \\\"2025-08-23\\\", \\\"N\\\", true, false], [\\\"Tanabe Fire\\\", \\\"Y\\\", \\\"2025-08-26T19:28:21Z\\\", \\\"2025-08-23T12:55:11Z\\\", \\\"CAL FIRE Nevada-Yuba-Placer Unit\\\", \\\"___NaN___\\\", \\\"Yuba\\\", \\\"Ramirez Road and Tanabe Road, Marysville\\\", 40.0, 100.0, \\\"NaN\\\", \\\"NaN\\\", -121.514636, 39.265104, \\\"Wildfire\\\", \\\"d93b91e1-a909-4c1d-ae42-3249ef874b43\\\", \\\"https://www.fire.ca.gov/incidents/2025/8/23/tanabe-fire/\\\", \\\"2025-08-26T08:00:00Z\\\", \\\"2025-08-26\\\", \\\"2025-08-23\\\", \\\"N\\\", true, false], [\\\"Lierly Fire\\\", \\\"Y\\\", \\\"2025-08-24T09:05:57Z\\\", \\\"2025-08-23T14:05:42Z\\\", \\\"NaN\\\", \\\"___NaN___\\\", \\\"Kern\\\", \\\"5 miles south of Highway 166 and Old River Road, Kern County\\\", 139.0, 100.0, \\\"NaN\\\", \\\"NaN\\\", -119.044543, 34.995365, \\\"Wildfire\\\", \\\"3e30d9df-db01-4acb-934c-af5cd0fe2879\\\", \\\"https://www.fire.ca.gov/incidents/2025/8/23/lierly-fire/\\\", \\\"2025-08-23T02:00:00Z\\\", \\\"2025-08-23\\\", \\\"2025-08-23\\\", \\\"N\\\", false, false], [\\\"Anderson Fire\\\", \\\"Y\\\", \\\"2025-08-26T13:18:05Z\\\", \\\"2025-08-23T15:15:43Z\\\", \\\"CAL FIRE Madera-Mariposa-Merced Unit\\\", \\\"___NaN___\\\", \\\"Madera\\\", \\\"Anderson Smith Road and Plaza Drive, Millerton Lake\\\", 20.0, 100.0, \\\"NaN\\\", \\\"NaN\\\", -119.620204, 37.067374, \\\"Wildfire\\\", \\\"be4c1c64-9b6c-4d40-bbfc-f4b8b24804a5\\\", \\\"https://www.fire.ca.gov/incidents/2025/8/23/anderson-fire/\\\", \\\"2025-08-26T13:18:02Z\\\", \\\"2025-08-26\\\", \\\"2025-08-23\\\", \\\"N\\\", true, false], [\\\"Point Fire\\\", \\\"Y\\\", \\\"2025-08-27T11:20:34Z\\\", \\\"2025-08-23T17:47:22Z\\\", \\\"CAL FIRE Shasta-Trinity Unit\\\", \\\"___NaN___\\\", \\\"Shasta\\\", \\\"Gas Point Road and Happy Valley Road, Cottonwood\\\", 43.0, 100.0, \\\"NaN\\\", \\\"NaN\\\", -122.40685, 40.38862, \\\"Wildfire\\\", \\\"6155c47b-b61c-48d6-bb2c-6a69a6431761\\\", \\\"https://www.fire.ca.gov/incidents/2025/8/23/point-fire/\\\", \\\"2025-08-27T08:00:00Z\\\", \\\"2025-08-27\\\", \\\"2025-08-23\\\", \\\"N\\\", true, false], [\\\"Canal Fire\\\", \\\"Y\\\", \\\"2025-08-24T21:29:32Z\\\", \\\"2025-08-23T21:52:51Z\\\", \\\"CAL FIRE Madera-Mariposa-Merced Unit\\\", \\\"___NaN___\\\", \\\"Madera\\\", \\\"Avenue 24 and Road 28 1/2, Chowchilla\\\", 46.0, 100.0, \\\"NaN\\\", \\\"NaN\\\", -120.029309, 37.097674, \\\"Wildfire\\\", \\\"9d372a20-0746-4842-bd0f-bff3c34d4bf3\\\", \\\"https://www.fire.ca.gov/incidents/2025/8/23/canal-fire/\\\", \\\"NaN\\\", \\\"NaN\\\", \\\"2025-08-23\\\", \\\"N\\\", true, false], [\\\"Look Fire\\\", \\\"Y\\\", \\\"2025-08-26T21:14:33Z\\\", \\\"2025-08-24T10:28:46Z\\\", \\\"CAL FIRE Tulare Unit\\\", \\\"___NaN___\\\", \\\"Tulare\\\", \\\"West of North Fork Drive, North of the North Fork Kaweah River\\\", 11.0, 100.0, \\\"NaN\\\", \\\"NaN\\\", -118.909333, 36.536667, \\\"Wildfire\\\", \\\"fbffffd7-48c4-4770-a7ef-2155b6d054ed\\\", \\\"https://www.fire.ca.gov/incidents/2025/8/24/look-fire/\\\", \\\"2025-08-26T10:44:00Z\\\", \\\"2025-08-26\\\", \\\"2025-08-24\\\", \\\"N\\\", true, false], [\\\"R-3 Fire\\\", \\\"Y\\\", \\\"2025-08-30T20:49:22Z\\\", \\\"2025-08-24T10:44:59Z\\\", \\\"Bureau of Land Management\\\", \\\"___NaN___\\\", \\\"Lassen\\\", \\\"Near Sand Canyon and Belfast Road\\\", 500.0, 100.0, \\\"NaN\\\", \\\"NaN\\\", -120.477333, 40.435833, \\\"Wildfire\\\", \\\"ce840fb1-e2d2-4b9a-bc9c-fbe67dbddb7f\\\", \\\"https://www.fire.ca.gov/incidents/2025/8/24/r-3-fire/\\\", \\\"2025-08-25T23:45:00Z\\\", \\\"2025-08-25\\\", \\\"2025-08-24\\\", \\\"N\\\", false, false], [\\\"Garnet Fire\\\", \\\"Y\\\", \\\"2025-09-25T11:30:57Z\\\", \\\"2025-08-24T14:13:05Z\\\", \\\"Sierra National Forest\\\", \\\"___NaN___\\\", \\\"Fresno\\\", \\\"South of Rodgers Ridge, Garnet Dike\\\", 60263.0, 100.0, \\\"NaN\\\", \\\"NaN\\\", -119.027914, 36.86508, \\\"Wildfire\\\", \\\"ff0b75c2-1968-4021-b7cb-070b7bd73769\\\", \\\"https://www.fire.ca.gov/incidents/2025/8/24/garnet-fire/\\\", \\\"2025-09-25T10:00:00Z\\\", \\\"2025-09-25\\\", \\\"2025-08-24\\\", \\\"N\\\", false, false], [\\\"Sky Fire\\\", \\\"Y\\\", \\\"2025-09-02T12:38:17Z\\\", \\\"2025-08-24T14:53:51Z\\\", \\\"CAL FIRE Sonoma-Lake-Napa Unit\\\", \\\"___NaN___\\\", \\\"Lake\\\", \\\"Near Sky High Ridge Road, Lower Lake\\\", 19.0, 100.0, \\\"NaN\\\", \\\"NaN\\\", -122.527007, 38.89991, \\\"Wildfire\\\", \\\"c0d28e66-6e9d-4b11-b35c-6b6faced0038\\\", \\\"https://www.fire.ca.gov/incidents/2025/8/24/sky-fire/\\\", \\\"2025-08-27T17:00:00Z\\\", \\\"2025-08-27\\\", \\\"2025-08-24\\\", \\\"N\\\", true, false], [\\\"High Fire\\\", \\\"Y\\\", \\\"2025-09-22T07:59:11Z\\\", \\\"2025-08-24T17:43:58Z\\\", \\\"CAL FIRE Fresno-Kings Unit\\\", \\\"___NaN___\\\", \\\"Fresno\\\", \\\"Watts Valley Road and Maxon Road, Tollhouse\\\", 36.0, 100.0, \\\"NaN\\\", \\\"NaN\\\", -119.343755, 36.964445, \\\"Wildfire\\\", \\\"0c1912a0-f243-4219-94b9-0c3b96c6de9e\\\", \\\"https://www.fire.ca.gov/incidents/2025/8/24/high-fire/\\\", \\\"NaN\\\", \\\"NaN\\\", \\\"2025-08-24\\\", \\\"N\\\", true, false], [\\\"Branch 2 Fire\\\", \\\"Y\\\", \\\"2025-08-26T19:05:39Z\\\", \\\"2025-08-24T19:03:51Z\\\", \\\"CAL FIRE Fresno-Kings Unit\\\", \\\"___NaN___\\\", \\\"Fresno\\\", \\\"Near Watts Valley Road, South of Tollhouse\\\", 28.0, 100.0, \\\"NaN\\\", \\\"NaN\\\", -119.34644, 36.950182, \\\"Wildfire\\\", \\\"b228fa71-e2c7-4b82-aa46-cefd7f2149fb\\\", \\\"https://www.fire.ca.gov/incidents/2025/8/24/branch-2-fire/\\\", \\\"2025-08-26T19:05:24Z\\\", \\\"2025-08-26\\\", \\\"2025-08-24\\\", \\\"N\\\", true, false], [\\\"R-10 Fire\\\", \\\"Y\\\", \\\"2025-08-30T20:48:31Z\\\", \\\"2025-08-25T12:23:56Z\\\", \\\"Bureau of Land Management\\\", \\\"___NaN___\\\", \\\"Lassen\\\", \\\"Near Spanish Springs Peak, East of Highway 395\\\", 100.0, 100.0, \\\"NaN\\\", \\\"NaN\\\", -120.24025, 40.678028, \\\"Wildfire\\\", \\\"99c6e291-683f-4922-88b8-deb713154b5e\\\", \\\"https://www.fire.ca.gov/incidents/2025/8/25/r-10-fire/\\\", \\\"2025-08-26T22:00:00Z\\\", \\\"2025-08-26\\\", \\\"2025-08-25\\\", \\\"N\\\", false, false], [\\\"Aberdeen Fire\\\", \\\"Y\\\", \\\"2025-09-02T09:47:05Z\\\", \\\"2025-08-25T13:28:56Z\\\", \\\"Inyo National Forest\\\", \\\"___NaN___\\\", \\\"Inyo\\\", \\\"Near 33E401, West of Aberdeen\\\", 91.0, 100.0, \\\"NaN\\\", \\\"NaN\\\", -118.232528, 36.99955, \\\"Wildfire\\\", \\\"08c79b64-8b60-4645-9010-ffaea3674ed8\\\", \\\"https://www.fire.ca.gov/incidents/2025/8/25/aberdeen-fire/\\\", \\\"2025-08-31T17:18:00Z\\\", \\\"2025-08-31\\\", \\\"2025-08-25\\\", \\\"N\\\", false, false], [\\\"SKU Late August Lightning Complex\\\", \\\"Y\\\", \\\"2025-09-02T16:37:21Z\\\", \\\"2025-08-25T08:00:00Z\\\", \\\"CAL FIRE Siskiyou Unit\\\", \\\"___NaN___\\\", \\\"Siskiyou\\\", \\\"SKU Unit Headquarters\\\", 107.0, 100.0, \\\"NaN\\\", \\\"NaN\\\", -122.0, 41.0, \\\"Wildfire\\\", \\\"e2e8daf9-9b18-457b-b741-f6f57c5f3ebf\\\", \\\"https://www.fire.ca.gov/incidents/2025/8/25/sku-late-august-lightning-complex/\\\", \\\"2025-08-29T22:00:00Z\\\", \\\"2025-08-29\\\", \\\"2025-08-25\\\", \\\"N\\\", true, false], [\\\"Pomegranate Fire\\\", \\\"Y\\\", \\\"2025-08-26T06:26:51Z\\\", \\\"2025-08-25T17:07:39Z\\\", \\\"CAL FIRE Fresno-Kings Unit\\\", \\\"___NaN___\\\", \\\"Fresno\\\", \\\"Plumas Avenue and American Avenue\\\", 100.0, 100.0, \\\"NaN\\\", \\\"NaN\\\", -120.133591, 36.647094, \\\"Wildfire\\\", \\\"de9b8a01-9e10-4ca7-97ad-67043afe44b4\\\", \\\"https://www.fire.ca.gov/incidents/2025/8/25/pomegranate-fire/\\\", \\\"NaN\\\", \\\"NaN\\\", \\\"2025-08-25\\\", \\\"N\\\", true, false], [\\\"Mesa Fire\\\", \\\"Y\\\", \\\"2025-08-26T13:17:45Z\\\", \\\"2025-08-25T17:07:26Z\\\", \\\"CAL FIRE Tuolumne-Calaveras Unit\\\", \\\"___NaN___\\\", \\\"Tuolumne\\\", \\\"Highway 120 near Highway 108, Jamestown\\\", 16.0, 100.0, \\\"NaN\\\", \\\"NaN\\\", -120.488153, 37.891253, \\\"Wildfire\\\", \\\"08f5737e-f8fb-4b58-972f-6cd8aeed2419\\\", \\\"https://www.fire.ca.gov/incidents/2025/8/25/mesa-fire/\\\", \\\"2025-08-25T12:49:26Z\\\", \\\"2025-08-25\\\", \\\"2025-08-25\\\", \\\"N\\\", true, false], [\\\"Dillon Fire\\\", \\\"N\\\", \\\"2025-09-30T17:36:00-07:00\\\", \\\"2025-08-25T18:24:33Z\\\", \\\"Six Rivers National Forest\\\", \\\"___NaN___\\\", \\\"Siskiyou\\\", \\\"Dillion Mountain, 10 miles north of Somes Bar\\\", 11929.0, 95.0, \\\"NaN\\\", \\\"NaN\\\", -123.539009, 41.54121, \\\"Wildfire\\\", \\\"914e88e1-6397-481c-913f-c99cbd6db94e\\\", \\\"https://www.fire.ca.gov/incidents/2025/8/25/dillon-fire/\\\", \\\"NaN\\\", \\\"NaN\\\", \\\"2025-08-25\\\", \\\"Y\\\", false, false], [\\\"3-22 Muck Fire\\\", \\\"Y\\\", \\\"2025-09-04T11:20:03Z\\\", \\\"2025-08-25T19:56:05Z\\\", \\\"CAL FIRE Lassen-Modoc Unit\\\", \\\"___NaN___\\\", \\\"Lassen\\\", \\\"South of Third Butte and Muck Valley Road, North of Little Valley\\\", 40.0, 100.0, \\\"NaN\\\", \\\"NaN\\\", -121.227729, 40.97749, \\\"Wildfire\\\", \\\"23e74ed4-dda9-4762-bbcf-3e7a339758c0\\\", \\\"https://www.fire.ca.gov/incidents/2025/8/25/3-22-muck-fire/\\\", \\\"2025-08-30T08:00:00Z\\\", \\\"2025-08-30\\\", \\\"2025-08-25\\\", \\\"N\\\", true, false], [\\\"Paskenta Fire\\\", \\\"Y\\\", \\\"2025-08-26T12:52:47Z\\\", \\\"2025-08-25T20:06:27Z\\\", \\\"CAL FIRE Tehama-Glenn Unit\\\", \\\"___NaN___\\\", \\\"Tehama\\\", \\\"Rancho Tehama Road, Corning\\\", 65.0, 100.0, \\\"NaN\\\", \\\"NaN\\\", -122.298489, 40.00074, \\\"Wildfire\\\", \\\"be9dfed2-0edc-416b-9c69-b13e13f664a9\\\", \\\"https://www.fire.ca.gov/incidents/2025/8/25/paskenta-fire/\\\", \\\"NaN\\\", \\\"NaN\\\", \\\"2025-08-25\\\", \\\"N\\\", true, false], [\\\"6-3 Fire\\\", \\\"Y\\\", \\\"2025-08-26T18:49:43Z\\\", \\\"2025-08-26T11:33:20Z\\\", \\\"CAL FIRE Butte Unit\\\", \\\"___NaN___\\\", \\\"Butte\\\", \\\"Wilbur Road and Nelson Ave, West Oroville\\\", 11.0, 100.0, \\\"NaN\\\", \\\"NaN\\\", -121.650849, 39.523797, \\\"Wildfire\\\", \\\"3f461214-6919-46f3-b160-fd0dc32d0689\\\", \\\"https://www.fire.ca.gov/incidents/2025/8/26/6-3-fire/\\\", \\\"2025-08-26T13:00:00Z\\\", \\\"2025-08-26\\\", \\\"2025-08-26\\\", \\\"N\\\", true, false], [\\\"Butter Fire\\\", \\\"Y\\\", \\\"2025-08-29T10:52:54Z\\\", \\\"2025-08-26T11:32:46Z\\\", \\\"Bureau of Land Management - California Desert District\\\", \\\"___NaN___\\\", \\\"Kern\\\", \\\"Butterbredt Canyon Road, East of Pacific Crest Trail, Sageland\\\", 48.0, 100.0, \\\"NaN\\\", \\\"NaN\\\", -118.147758, 35.464035, \\\"Wildfire\\\", \\\"aa24ecdd-5b7c-4ef2-8423-dc88687c5965\\\", \\\"https://www.fire.ca.gov/incidents/2025/8/26/butter-fire/\\\", \\\"NaN\\\", \\\"NaN\\\", \\\"2025-08-26\\\", \\\"N\\\", false, false], [\\\"3-27 Fire\\\", \\\"Y\\\", \\\"2025-09-04T11:20:27Z\\\", \\\"2025-08-26T15:24:02Z\\\", \\\"CAL FIRE Lassen-Modoc Unit\\\", \\\"___NaN___\\\", \\\"Lassen\\\", \\\"Southeast of Pumpkin Center, Bieber\\\", 24.0, 100.0, \\\"NaN\\\", \\\"NaN\\\", -121.057196, 41.088854, \\\"Wildfire\\\", \\\"270ab2cc-1c68-4ffc-a7b2-5990bebe1de6\\\", \\\"https://www.fire.ca.gov/incidents/2025/8/26/3-27-fire/\\\", \\\"2025-08-31T10:59:00Z\\\", \\\"2025-08-31\\\", \\\"2025-08-26\\\", \\\"N\\\", true, false], [\\\"Grade Fire\\\", \\\"Y\\\", \\\"2025-09-01T21:33:40Z\\\", \\\"2025-08-26T14:34:57Z\\\", \\\"CAL FIRE Siskiyou Unit\\\", \\\"___NaN___\\\", \\\"Siskiyou\\\", \\\"West Lava Rim Road, Pondosa\\\", 10.0, 100.0, \\\"NaN\\\", \\\"NaN\\\", -121.590689, 41.217878, \\\"Wildfire\\\", \\\"eb382b3b-d965-4bae-a906-c1bde34d4ec5\\\", \\\"https://www.fire.ca.gov/incidents/2025/8/26/grade-fire/\\\", \\\"2025-09-01T11:23:26Z\\\", \\\"2025-09-01\\\", \\\"2025-08-26\\\", \\\"N\\\", true, false], [\\\"H-10 Fire\\\", \\\"Y\\\", \\\"2025-09-25T11:32:05Z\\\", \\\"2025-08-26T10:05:50Z\\\", \\\"Lassen National Forest\\\", \\\"___NaN___\\\", \\\"Shasta\\\", \\\"Forest Road 36N18 &amp; Butte Creek, Hat Creek\\\", 13.0, 100.0, \\\"NaN\\\", \\\"NaN\\\", -121.330697, 40.737144, \\\"Wildfire\\\", \\\"48a9cb94-d7ee-482e-a4fe-274f5b20d1ac\\\", \\\"https://www.fire.ca.gov/incidents/2025/8/26/h-10-fire/\\\", \\\"2025-08-28T21:00:00Z\\\", \\\"2025-08-28\\\", \\\"2025-08-26\\\", \\\"N\\\", false, false], [\\\"Franciscan Fire\\\", \\\"Y\\\", \\\"2025-09-02T10:59:44Z\\\", \\\"2025-08-26T21:06:47Z\\\", \\\"CAL FIRE Shasta-Trinity Unit\\\", \\\"___NaN___\\\", \\\"Shasta\\\", \\\"Franciscan Way and Derch Road, Redding\\\", 34.0, 100.0, \\\"NaN\\\", \\\"NaN\\\", -122.181166, 40.472116, \\\"Wildfire\\\", \\\"a09db6c1-addb-4985-b09f-79c9dee4dcea\\\", \\\"https://www.fire.ca.gov/incidents/2025/8/26/franciscan-fire/\\\", \\\"2025-08-27T01:00:00Z\\\", \\\"2025-08-27\\\", \\\"2025-08-26\\\", \\\"N\\\", true, false], [\\\"Parkville Fire\\\", \\\"Y\\\", \\\"2025-08-30T20:46:05Z\\\", \\\"2025-08-27T14:12:32Z\\\", \\\"CAL FIRE Shasta-Trinity Unit\\\", \\\"___NaN___\\\", \\\"Shasta\\\", \\\"4777 Parkville Road, Cottonwood\\\", 24.0, 100.0, \\\"NaN\\\", \\\"NaN\\\", -122.188718, 40.43326, \\\"Wildfire\\\", \\\"b693a737-9d35-4881-bd17-d6d548c86ad1\\\", \\\"https://www.fire.ca.gov/incidents/2025/8/27/parkville-fire/\\\", \\\"2025-08-27T21:00:00Z\\\", \\\"2025-08-27\\\", \\\"2025-08-27\\\", \\\"N\\\", true, false], [\\\"5-4 Fire\\\", \\\"Y\\\", \\\"2025-09-04T14:44:31Z\\\", \\\"2025-08-27T13:30:55Z\\\", \\\"CAL FIRE Shasta-Trinity Unit\\\", \\\"___NaN___\\\", \\\"Shasta\\\", \\\"Near Trinity Mountain Road, North of French Gulch\\\", 41.0, 100.0, \\\"NaN\\\", \\\"NaN\\\", -122.639809, 40.782379, \\\"Wildfire\\\", \\\"24e81360-1adc-4698-a555-8889e495116a\\\", \\\"https://www.fire.ca.gov/incidents/2025/8/27/5-4-fire/\\\", \\\"NaN\\\", \\\"NaN\\\", \\\"2025-08-27\\\", \\\"N\\\", true, false], [\\\"Lake Fire\\\", \\\"Y\\\", \\\"2025-08-29T10:18:32Z\\\", \\\"2025-08-27T21:30:47Z\\\", \\\"Modoc National Forest\\\", \\\"___NaN___\\\", \\\"Modoc\\\", \\\"West of Clear Lake Reservoir\\\", 396.0, 100.0, \\\"NaN\\\", \\\"NaN\\\", -121.22717, 41.86292, \\\"Wildfire\\\", \\\"76b3ce59-5628-4cb0-9ac5-0ed5664745b5\\\", \\\"https://www.fire.ca.gov/incidents/2025/8/27/lake-fire/\\\", \\\"2025-08-28T15:44:00Z\\\", \\\"2025-08-28\\\", \\\"2025-08-27\\\", \\\"N\\\", false, false], [\\\"Blue Fire\\\", \\\"N\\\", \\\"2025-09-30T10:29:29-07:00\\\", \\\"2025-08-26T20:15:42Z\\\", \\\"Klamath National Forest\\\", \\\"___NaN___\\\", \\\"Siskiyou\\\", \\\"Blue Mountain, 9 Miles East of Happy Camp\\\", 3713.0, 83.0, \\\"NaN\\\", \\\"NaN\\\", -123.18499, 41.78715, \\\"Wildfire\\\", \\\"3ce1e1a6-8b18-47a4-a0c2-504b8e0d23a7\\\", \\\"https://www.fire.ca.gov/incidents/2025/8/26/blue-fire/\\\", \\\"NaN\\\", \\\"NaN\\\", \\\"2025-08-26\\\", \\\"Y\\\", false, false], [\\\"Hutton Fire\\\", \\\"Y\\\", \\\"2025-08-29T10:57:56Z\\\", \\\"2025-08-28T13:38:57Z\\\", \\\"CAL FIRE San Luis Obispo Unit\\\", \\\"___NaN___\\\", \\\"San Luis Obispo\\\", \\\"Highway 166 &amp; Santa Maria River, Santa Maria\\\", 21.0, 100.0, \\\"NaN\\\", \\\"NaN\\\", -120.437696, 34.990911, \\\"Wildfire\\\", \\\"4782d694-390c-4f8a-8e9f-d34cb123216b\\\", \\\"https://www.fire.ca.gov/incidents/2025/8/28/hutton-fire/\\\", \\\"NaN\\\", \\\"NaN\\\", \\\"2025-08-28\\\", \\\"N\\\", true, false], [\\\"Garden Fire\\\", \\\"Y\\\", \\\"2025-09-02T11:42:08Z\\\", \\\"2025-08-28T22:39:58Z\\\", \\\"Klamath National Forest\\\", \\\"___NaN___\\\", \\\"Siskiyou\\\", \\\"Yellow Jacket Ridge Rd, North East of Forks of Salmon\\\", 16.0, 100.0, \\\"NaN\\\", \\\"NaN\\\", -123.23382, 41.31546, \\\"Wildfire\\\", \\\"f77059ce-71e5-429e-867c-3cb616e94659\\\", \\\"https://www.fire.ca.gov/incidents/2025/8/28/garden-fire/\\\", \\\"2025-09-01T17:00:00Z\\\", \\\"2025-09-01\\\", \\\"2025-08-28\\\", \\\"N\\\", false, false], [\\\"Peter Fire\\\", \\\"Y\\\", \\\"2025-09-01T21:30:46Z\\\", \\\"2025-08-29T12:06:45Z\\\", \\\"CAL FIRE Sonoma-Lake-Napa Unit\\\", \\\"___NaN___\\\", \\\"Lake\\\", \\\"Adobe Creek Road and Peterson Lane, Kelseyville\\\", 47.0, 100.0, \\\"NaN\\\", \\\"NaN\\\", -122.876633, 38.919426, \\\"Wildfire\\\", \\\"c1318018-7d6a-44ba-9e01-568fa18267aa\\\", \\\"https://www.fire.ca.gov/incidents/2025/8/29/peter-fire/\\\", \\\"2025-09-01T14:15:33Z\\\", \\\"2025-09-01\\\", \\\"2025-08-29\\\", \\\"N\\\", true, false], [\\\"Log Fire\\\", \\\"N\\\", \\\"2025-09-30T10:29:13-07:00\\\", \\\"2025-08-26T13:34:53Z\\\", \\\"Klamath National Forest\\\", \\\"___NaN___\\\", \\\"Siskiyou\\\", \\\"Salt Log Creek, Northwest of English Peak, Sawyers Bar\\\", 1170.0, 97.0, \\\"NaN\\\", \\\"NaN\\\", -123.2668, 41.41726, \\\"Wildfire\\\", \\\"504dec0c-b35c-47f9-9ef1-df84c5412c70\\\", \\\"https://www.fire.ca.gov/incidents/2025/8/26/log-fire/\\\", \\\"NaN\\\", \\\"NaN\\\", \\\"2025-08-26\\\", \\\"Y\\\", false, false], [\\\"Grant Fire\\\", \\\"Y\\\", \\\"2025-09-02T10:57:58Z\\\", \\\"2025-08-29T14:39:41Z\\\", \\\"CAL FIRE Santa Clara Unit\\\", \\\"___NaN___\\\", \\\"Alameda\\\", \\\"Highway I-580, southeast of Altamont\\\", 13.0, 100.0, \\\"NaN\\\", \\\"NaN\\\", -121.585802, 37.740292, \\\"Wildfire\\\", \\\"afeee627-e908-40e0-918d-885d3259b147\\\", \\\"https://www.fire.ca.gov/incidents/2025/8/29/grant-fire/\\\", \\\"2025-08-29T21:30:00Z\\\", \\\"2025-08-29\\\", \\\"2025-08-29\\\", \\\"N\\\", true, false], [\\\"Scott Fire\\\", \\\"Y\\\", \\\"2025-09-01T21:32:34Z\\\", \\\"2025-08-29T16:41:57Z\\\", \\\"CAL FIRE Sonoma-Lake-Napa Unit\\\", \\\"___NaN___\\\", \\\"Lake\\\", \\\"Near Scotts Creek Road and Scotts Creek, south of Clear Lake\\\", 19.0, 100.0, \\\"NaN\\\", \\\"NaN\\\", -122.972167, 39.043833, \\\"Wildfire\\\", \\\"c3f60dde-0a15-4a38-b176-26182671e5c4\\\", \\\"https://www.fire.ca.gov/incidents/2025/8/29/scott-fire/\\\", \\\"2025-09-01T14:15:23Z\\\", \\\"2025-09-01\\\", \\\"2025-08-29\\\", \\\"N\\\", true, false], [\\\"South Constantia Fire\\\", \\\"Y\\\", \\\"2025-09-03T11:24:10Z\\\", \\\"2025-08-29T12:11:57Z\\\", \\\"Bureau of Land Management\\\", \\\"___NaN___\\\", \\\"Lassen\\\", \\\"Highway 395 and Scott Road, east of Constantia\\\", 15.0, 100.0, \\\"NaN\\\", \\\"NaN\\\", -120.004618, 39.941076, \\\"Wildfire\\\", \\\"69a4e5f7-b848-41b6-a707-a0f6c5f56dde\\\", \\\"https://www.fire.ca.gov/incidents/2025/8/29/south-constantia-fire/\\\", \\\"2025-09-03T08:00:00Z\\\", \\\"2025-09-03\\\", \\\"2025-08-29\\\", \\\"N\\\", false, false], [\\\"Murphy Fire\\\", \\\"Y\\\", \\\"2025-09-02T11:38:41Z\\\", \\\"2025-08-26T11:05:14Z\\\", \\\"Klamath National Forest\\\", \\\"___NaN___\\\", \\\"Siskiyou\\\", \\\"Cecilville Road, east of Matthews Creek Campground, Cecilville\\\", 12.0, 100.0, \\\"NaN\\\", \\\"NaN\\\", -123.173767, 41.211359, \\\"Wildfire\\\", \\\"14e4411e-04ff-401d-97b8-7bbd6217244f\\\", \\\"https://www.fire.ca.gov/incidents/2025/8/26/murphy-fire/\\\", \\\"2025-08-31T17:00:00Z\\\", \\\"2025-08-31\\\", \\\"2025-08-26\\\", \\\"N\\\", false, false], [\\\"Coach Fire\\\", \\\"Y\\\", \\\"2025-08-30T20:47:18Z\\\", \\\"2025-08-30T11:30:38Z\\\", \\\"CAL FIRE San Benito-Monterey Unit\\\", \\\"___NaN___\\\", \\\"Monterey\\\", \\\"Old Stage Road and San Juan Canyon Road, French Canyon\\\", 13.0, 100.0, \\\"NaN\\\", \\\"NaN\\\", -121.561084, 36.805649, \\\"Wildfire\\\", \\\"814f890b-75ab-443d-9cdf-badffd41e9f9\\\", \\\"https://www.fire.ca.gov/incidents/2025/8/30/coach-fire/\\\", \\\"2025-08-30T19:00:00Z\\\", \\\"2025-08-30\\\", \\\"2025-08-30\\\", \\\"N\\\", true, false], [\\\"Edgewood Fire\\\", \\\"Y\\\", \\\"2025-09-15T16:53:04Z\\\", \\\"2025-08-30T16:56:17Z\\\", \\\"Woodside Fire Protection District\\\", \\\"___NaN___\\\", \\\"San Mateo\\\", \\\"Highway 280 and Farm Hill Boulevard\\\", 10.0, 100.0, \\\"NaN\\\", \\\"Woodside Fire Protection District\\\", -122.265569, 37.443956, \\\"Wildfire\\\", \\\"f8959720-f626-4d96-8e3d-6a58560e934e\\\", \\\"https://www.fire.ca.gov/incidents/2025/8/30/edgewood-fire/\\\", \\\"2025-08-30T18:00:00Z\\\", \\\"2025-08-30\\\", \\\"2025-08-30\\\", \\\"N\\\", false, false], [\\\"Stonewall Fire\\\", \\\"Y\\\", \\\"2025-09-01T06:45:13Z\\\", \\\"2025-08-31T05:51:26Z\\\", \\\"CAL FIRE San Benito-Monterey Unit\\\", \\\"___NaN___\\\", \\\"Monterey\\\", \\\"Highway 146 and Stonewall Canyon\\\", 31.0, 100.0, \\\"NaN\\\", \\\"NaN\\\", -121.226906, 36.448208, \\\"Wildfire\\\", \\\"052109ae-c63f-42e5-96db-e0caec9d0796\\\", \\\"https://www.fire.ca.gov/incidents/2025/8/31/stonewall-fire/\\\", \\\"2025-08-31T17:29:58Z\\\", \\\"2025-08-31\\\", \\\"2025-08-31\\\", \\\"N\\\", true, false], [\\\"R-3 Fire\\\", \\\"Y\\\", \\\"2025-09-02T09:45:06Z\\\", \\\"2025-08-24T11:47:11Z\\\", \\\"NaN\\\", \\\"___NaN___\\\", \\\"Lassen\\\", \\\"Near Sand Canyon and Belfast Road\\\", 145.0, 100.0, \\\"NaN\\\", \\\"NaN\\\", -120.477333, 40.435833, \\\"Wildfire\\\", \\\"102b9e4a-8ab8-439f-99af-f05caa240298\\\", \\\"https://www.fire.ca.gov/incidents/2025/8/24/r-3-fire/\\\", \\\"2025-08-25T23:45:00Z\\\", \\\"2025-08-25\\\", \\\"2025-08-24\\\", \\\"N\\\", true, false], [\\\"Pump Rd / Woo Rd Fire\\\", \\\"Y\\\", \\\"2025-09-01T06:46:39Z\\\", \\\"2025-08-31T17:24:24Z\\\", \\\"CAL FIRE Madera-Mariposa-Merced Unit\\\", \\\"___NaN___\\\", \\\"Merced\\\", \\\"Pump Rd and Woo Rd\\\", 19.0, 100.0, \\\"NaN\\\", \\\"NaN\\\", -120.809789, 36.931478, \\\"Wildfire\\\", \\\"238f0a06-c6ef-46b9-9917-f0034f83d142\\\", \\\"https://www.fire.ca.gov/incidents/2025/8/31/pump-rd-woo-rd-fire/\\\", \\\"2025-08-31T22:05:28Z\\\", \\\"2025-08-31\\\", \\\"2025-08-31\\\", \\\"N\\\", true, false], [\\\"S-14 Fire\\\", \\\"Y\\\", \\\"2025-09-03T11:23:34Z\\\", \\\"2025-09-01T00:55:45Z\\\", \\\"Bureau of Land Management\\\", \\\"___NaN___\\\", \\\"Modoc\\\", \\\"Suprise Valley Road and Milton Street\\\", 50.0, 100.0, \\\"NaN\\\", \\\"NaN\\\", -120.115829, 41.317155, \\\"Wildfire\\\", \\\"9e256520-38d3-4c92-84f5-d09ca04fcd94\\\", \\\"https://www.fire.ca.gov/incidents/2025/9/1/s-14-fire/\\\", \\\"2025-09-03T08:00:00Z\\\", \\\"2025-09-03\\\", \\\"2025-09-01\\\", \\\"N\\\", false, false], [\\\"Springs Fire\\\", \\\"Y\\\", \\\"2025-09-05T17:41:06Z\\\", \\\"2025-09-01T04:36:12Z\\\", \\\"Bureau Land Management\\\", \\\"___NaN___\\\", \\\"Tehama\\\", \\\"Ponderosa Way and Deerwood Drive\\\", 32.0, 100.0, \\\"NaN\\\", \\\"NaN\\\", -121.814335, 40.4017, \\\"Wildfire\\\", \\\"d6fc3032-2416-4bae-b758-76c722c657ad\\\", \\\"https://www.fire.ca.gov/incidents/2025/9/1/springs-fire/\\\", \\\"2025-09-05T17:40:51Z\\\", \\\"2025-09-05\\\", \\\"2025-09-01\\\", \\\"N\\\", true, false], [\\\"Kibbie Fire\\\", \\\"Y\\\", \\\"2025-09-05T17:09:24Z\\\", \\\"2025-08-26T15:35:32Z\\\", \\\"Yosemite National Park\\\", \\\"___NaN___\\\", \\\"Tuolumne\\\", \\\"North of Lake Eleanor\\\", 13.0, 100.0, \\\"NaN\\\", \\\"NaN\\\", -119.824371, 38.028263, \\\"Wildfire\\\", \\\"717fbc19-c59b-4e59-ab00-bfd9d28006ef\\\", \\\"https://www.fire.ca.gov/incidents/2025/8/26/kibbie-fire/\\\", \\\"2025-09-05T17:00:00Z\\\", \\\"2025-09-05\\\", \\\"2025-08-26\\\", \\\"N\\\", false, false], [\\\"Valley Fire\\\", \\\"Y\\\", \\\"2025-09-04T15:07:47Z\\\", \\\"2025-09-01T13:30:17Z\\\", \\\"CAL FIRE Amador-El Dorado Unit\\\", \\\"___NaN___\\\", \\\"El Dorado\\\", \\\"Sweet Valley Road and El Dorado Hills, East of Folsom Lake\\\", 16.0, 100.0, \\\"NaN\\\", \\\"NaN\\\", -121.032, 38.72489, \\\"Wildfire\\\", \\\"129fd6b8-e9df-483c-9d7b-c21969377634\\\", \\\"https://www.fire.ca.gov/incidents/2025/9/1/valley-fire/\\\", \\\"NaN\\\", \\\"NaN\\\", \\\"2025-09-01\\\", \\\"N\\\", true, false], [\\\"Palo Fire\\\", \\\"Y\\\", \\\"2025-09-02T09:13:48Z\\\", \\\"2025-09-01T13:52:00Z\\\", \\\"CAL FIRE Santa Clara Unit\\\", \\\"___NaN___\\\", \\\"Alameda\\\", \\\"Palomares Rd and Ewing Ter Castro Valley\\\", 10.0, 100.0, \\\"NaN\\\", \\\"NaN\\\", -122.020693, 37.689612, \\\"Wildfire\\\", \\\"12bda901-0709-4358-b92f-95949e776973\\\", \\\"https://www.fire.ca.gov/incidents/2025/9/1/palo-fire/\\\", \\\"2025-09-01T20:21:00Z\\\", \\\"2025-09-01\\\", \\\"2025-09-01\\\", \\\"N\\\", true, false], [\\\"Tracy Fire\\\", \\\"Y\\\", \\\"2025-09-04T14:54:17Z\\\", \\\"2025-09-01T14:54:53Z\\\", \\\"CAL FIRE Shasta-Trinity Unit\\\", \\\"___NaN___\\\", \\\"Shasta\\\", \\\"Rancho Estates Rd &amp; Tracy Ann Lane\\\", 18.0, 100.0, \\\"NaN\\\", \\\"NaN\\\", -122.31726, 40.40398, \\\"Wildfire\\\", \\\"9999500b-3028-440f-b23e-e3455b10755f\\\", \\\"https://www.fire.ca.gov/incidents/2025/9/1/tracy-fire/\\\", \\\"NaN\\\", \\\"NaN\\\", \\\"2025-09-01\\\", \\\"N\\\", true, false], [\\\"Root Fire\\\", \\\"Y\\\", \\\"2025-09-25T22:06:26Z\\\", \\\"2025-09-01T12:34:02Z\\\", \\\"Shasta Trinity National Forest\\\", \\\"___NaN___\\\", \\\"Shasta\\\", \\\"Forest Road 25 and Castle Creek Road, 3 miles West of Castella\\\", 729.0, 100.0, \\\"NaN\\\", \\\"NaN\\\", -122.397152, 41.159093, \\\"Wildfire\\\", \\\"377b11f3-53f5-40f6-8cd0-d3ca6a20da5d\\\", \\\"https://www.fire.ca.gov/incidents/2025/9/1/root-fire/\\\", \\\"2025-09-25T22:01:56Z\\\", \\\"2025-09-25\\\", \\\"2025-09-01\\\", \\\"N\\\", false, false], [\\\"Ellie Fire\\\", \\\"Y\\\", \\\"2025-09-02T09:11:57Z\\\", \\\"2025-09-01T16:38:02Z\\\", \\\"Los Angeles County Fire Department\\\", \\\"___NaN___\\\", \\\"Los Angeles\\\", \\\"East Barrel Springs Road and Sierra Highway\\\", 16.0, 100.0, \\\"NaN\\\", \\\"NaN\\\", -119.106092, 34.545175, \\\"Wildfire\\\", \\\"6fdf7f24-d7b7-42f9-a81e-4f746d24607d\\\", \\\"https://www.fire.ca.gov/incidents/2025/9/1/ellie-fire/\\\", \\\"2025-09-01T18:00:00Z\\\", \\\"2025-09-01\\\", \\\"2025-09-01\\\", \\\"N\\\", true, false], [\\\"Fuel Fire\\\", \\\"Y\\\", \\\"2025-09-02T09:12:54Z\\\", \\\"2025-09-01T17:22:27Z\\\", \\\"CAL FIRE Fresno-Kings Unit\\\", \\\"___NaN___\\\", \\\"Fresno\\\", \\\"Highway 168 and Lodge Road\\\", 10.0, 100.0, \\\"NaN\\\", \\\"NaN\\\", -119.472565, 37.044697, \\\"Wildfire\\\", \\\"178b7844-a934-45b4-8f9a-e83dda369eaf\\\", \\\"https://www.fire.ca.gov/incidents/2025/9/1/fuel-fire/\\\", \\\"2025-09-01T18:00:00Z\\\", \\\"2025-09-01\\\", \\\"2025-09-01\\\", \\\"N\\\", true, false], [\\\"Canal Fire\\\", \\\"Y\\\", \\\"2025-09-02T12:40:23Z\\\", \\\"2025-09-02T04:42:05Z\\\", \\\"CAL FIRE Madera-Mariposa-Merced Unit\\\", \\\"___NaN___\\\", \\\"Madera\\\", \\\"Road 26 &amp; Ave 26\\\", 272.0, 100.0, \\\"NaN\\\", \\\"NaN\\\", -120.074557, 37.119648, \\\"Wildfire\\\", \\\"ba0bb42a-b850-4305-9f87-ad1807020261\\\", \\\"https://www.fire.ca.gov/incidents/2025/9/2/canal-fire/\\\", \\\"NaN\\\", \\\"NaN\\\", \\\"2025-09-02\\\", \\\"N\\\", true, false], [\\\"Sierra Fire\\\", \\\"Y\\\", \\\"2025-09-17T09:26:38Z\\\", \\\"2025-09-02T06:21:51Z\\\", \\\"CAL FIRE Nevada-Yuba-Placer Unit\\\", \\\"___NaN___\\\", \\\"Placer\\\", \\\"Sierra College Blvd &amp; English Colony Way\\\", 44.0, 100.0, \\\"NaN\\\", \\\"NaN\\\", -121.21753, 38.862604, \\\"Wildfire\\\", \\\"d769e11f-e3dc-479d-853f-f339470d7ca3\\\", \\\"https://www.fire.ca.gov/incidents/2025/9/2/sierra-fire/\\\", \\\"2025-09-04T08:11:00Z\\\", \\\"2025-09-04\\\", \\\"2025-09-02\\\", \\\"N\\\", true, false], [\\\"Copper Fire\\\", \\\"Y\\\", \\\"2025-09-03T07:44:54Z\\\", \\\"2025-09-02T06:05:53Z\\\", \\\"CAL FIRE Amador-El Dorado Unit\\\", \\\"___NaN___\\\", \\\"Amador\\\", \\\"State Highway 16 &amp; Copper Hill Road\\\", 11.0, 100.0, \\\"NaN\\\", \\\"NaN\\\", -121.007605, 38.484002, \\\"Wildfire\\\", \\\"958027b6-fb08-4446-a276-0696bb0bf778\\\", \\\"https://www.fire.ca.gov/incidents/2025/9/2/copper-fire/\\\", \\\"2025-09-03T07:44:50Z\\\", \\\"2025-09-03\\\", \\\"2025-09-02\\\", \\\"N\\\", true, false], [\\\"Rock Fire\\\", \\\"Y\\\", \\\"2025-09-03T23:23:45Z\\\", \\\"2025-09-02T06:47:34Z\\\", \\\"CAL FIRE Amador-El Dorado Unit\\\", \\\"___NaN___\\\", \\\"Sacramento\\\", \\\"White Rock Road &amp; East Bidwell Street\\\", 143.0, 100.0, \\\"NaN\\\", \\\"NaN\\\", -121.113812, 38.621374, \\\"Wildfire\\\", \\\"80a0e51a-71e4-4327-a248-eb2e3438740d\\\", \\\"https://www.fire.ca.gov/incidents/2025/9/2/rock-fire/\\\", \\\"NaN\\\", \\\"NaN\\\", \\\"2025-09-02\\\", \\\"N\\\", true, false], [\\\"18-1 Fire\\\", \\\"Y\\\", \\\"2025-09-02T19:26:31Z\\\", \\\"2025-09-02T07:51:15Z\\\", \\\"CAL FIRE Madera-Mariposa-Merced Unit\\\", \\\"___NaN___\\\", \\\"Merced\\\", \\\"Buchanan Hollow Road &amp; Baxter Road, Le Grand\\\", 463.0, 100.0, \\\"NaN\\\", \\\"NaN\\\", -120.197971, 37.250521, \\\"Wildfire\\\", \\\"3e9cca98-ed61-4b7a-bf78-a39caa8b0535\\\", \\\"https://www.fire.ca.gov/incidents/2025/9/2/18-1-fire/\\\", \\\"NaN\\\", \\\"NaN\\\", \\\"2025-09-02\\\", \\\"N\\\", true, false], [\\\"Salt 14-2 Fire\\\", \\\"Y\\\", \\\"2025-09-15T16:30:13Z\\\", \\\"2025-09-02T03:00:54Z\\\", \\\"Unified Command: CAL FIRE Fresno-Kings Unit, Fresno County Sheriff, Monterey County Sheriff\\\", \\\"___NaN___\\\", \\\"Fresno, Monterey\\\", \\\"Jacalitos Creek Rd, Coalinga\\\", 25580.0, 100.0, \\\"NaN\\\", \\\"NaN\\\", -120.36348, 36.011656, \\\"Wildfire\\\", \\\"5da4a983-58e7-49ad-b5fd-0be908b61d1d\\\", \\\"https://www.fire.ca.gov/incidents/2025/9/2/salt-14-2-fire/\\\", \\\"2025-09-12T10:35:10Z\\\", \\\"2025-09-12\\\", \\\"2025-09-02\\\", \\\"N\\\", true, false], [\\\"Swift Complex\\\", \\\"Y\\\", \\\"2025-09-15T22:24:57Z\\\", \\\"2025-09-02T09:28:47Z\\\", \\\"Shasta-Trinity National Forest\\\", \\\"___NaN___\\\", \\\"Shasta\\\", \\\"North of Mule Creek\\\", 644.0, 100.0, \\\"NaN\\\", \\\"NaN\\\", -122.850833, 40.904444, \\\"Wildfire\\\", \\\"dab25b3c-d36c-4778-a9e8-edf2f5ef7407\\\", \\\"https://www.fire.ca.gov/incidents/2025/9/2/swift-complex/\\\", \\\"2025-09-15T22:24:28Z\\\", \\\"2025-09-15\\\", \\\"2025-09-02\\\", \\\"N\\\", false, false], [\\\"Michigan Fire\\\", \\\"Y\\\", \\\"2025-09-03T07:45:36Z\\\", \\\"2025-09-02T06:10:19Z\\\", \\\"CAL FIRE Amador-El Dorado Unit\\\", \\\"___NaN___\\\", \\\"Amador\\\", \\\"Highway 104 &amp; Michigan Bar Road, Ione\\\", 33.0, 100.0, \\\"NaN\\\", \\\"NaN\\\", -120.986172, 38.379304, \\\"Wildfire\\\", \\\"62a80530-b52c-4fe2-9d3a-d5057db88a6d\\\", \\\"https://www.fire.ca.gov/incidents/2025/9/2/michigan-fire/\\\", \\\"2025-09-03T07:45:32Z\\\", \\\"2025-09-03\\\", \\\"2025-09-02\\\", \\\"N\\\", true, false], [\\\"Brown Fire\\\", \\\"Y\\\", \\\"2025-09-04T18:09:33Z\\\", \\\"2025-09-02T07:18:44Z\\\", \\\"CAL FIRE Amador-El Dorado Unit\\\", \\\"___NaN___\\\", \\\"Sacramento\\\", \\\"Pony Brown Road &amp; Ione Road, Sloughouse\\\", 60.0, 100.0, \\\"NaN\\\", \\\"NaN\\\", -121.043423, 38.464121, \\\"Wildfire\\\", \\\"6bcfdaca-6440-42fa-aa12-d0f2d7f74385\\\", \\\"https://www.fire.ca.gov/incidents/2025/9/2/brown-fire/\\\", \\\"2025-09-04T18:09:24Z\\\", \\\"2025-09-04\\\", \\\"2025-09-02\\\", \\\"N\\\", true, false], [\\\"Hornitos 1-2 Fire\\\", \\\"Y\\\", \\\"2025-09-05T10:05:57Z\\\", \\\"2025-09-02T12:34:59Z\\\", \\\"CAL FIRE Madera-Mariposa-Merced Unit\\\", \\\"___NaN___\\\", \\\"Mariposa\\\", \\\"Exchequer Dam Rd. &amp; Hornitos Rd.\\\", 390.0, 100.0, \\\"NaN\\\", \\\"NaN\\\", -120.256117, 37.529667, \\\"Wildfire\\\", \\\"ff703d8a-d4be-4eaa-8a56-64dbed6c9d79\\\", \\\"https://www.fire.ca.gov/incidents/2025/9/2/hornitos-1-2-fire/\\\", \\\"2025-09-02T23:07:14Z\\\", \\\"2025-09-02\\\", \\\"2025-09-02\\\", \\\"N\\\", true, false], [\\\"Moraga Fire\\\", \\\"Y\\\", \\\"2025-09-02T23:10:21Z\\\", \\\"2025-09-02T13:30:58Z\\\", \\\"CAL FIRE Madera-Mariposa-Merced Unit\\\", \\\"___NaN___\\\", \\\"Merced\\\", \\\"Moraga Avenue and Cherokee Road\\\", 315.0, 100.0, \\\"NaN\\\", \\\"NaN\\\", -120.962011, 37.079208, \\\"Wildfire\\\", \\\"7533b587-26cd-4518-bbe7-299050c6e2fb\\\", \\\"https://www.fire.ca.gov/incidents/2025/9/2/moraga-fire/\\\", \\\"2025-09-02T23:10:18Z\\\", \\\"2025-09-02\\\", \\\"2025-09-02\\\", \\\"N\\\", true, false], [\\\"4-1 Fire\\\", \\\"Y\\\", \\\"2025-09-03T07:45:16Z\\\", \\\"2025-09-02T15:03:09Z\\\", \\\"CAL FIRE Amador-El Dorado Unit\\\", \\\"___NaN___\\\", \\\"Sacramento\\\", \\\"Ione Road and Claypit Road, Sacramento County\\\", 8.0, 100.0, \\\"NaN\\\", \\\"NaN\\\", -121.048558, 38.438081, \\\"Wildfire\\\", \\\"6568707c-d456-47e3-8919-27f6dd6d1167\\\", \\\"https://www.fire.ca.gov/incidents/2025/9/2/4-1-fire/\\\", \\\"2025-09-03T07:45:12Z\\\", \\\"2025-09-03\\\", \\\"2025-09-02\\\", \\\"N\\\", true, false], [\\\"Orange Fire\\\", \\\"Y\\\", \\\"2025-09-02T15:57:31Z\\\", \\\"2025-09-02T13:45:51Z\\\", \\\"CAL FIRE Tehama-Glenn Unit\\\", \\\"___NaN___\\\", \\\"Tehama\\\", \\\"McDonald Road, Corning\\\", 10.0, 100.0, \\\"NaN\\\", \\\"NaN\\\", -122.164789, 39.960829, \\\"Wildfire\\\", \\\"90ce6dac-d2df-4fd4-a228-53dbabe869aa\\\", \\\"https://www.fire.ca.gov/incidents/2025/9/2/orange-fire/\\\", \\\"NaN\\\", \\\"NaN\\\", \\\"2025-09-02\\\", \\\"N\\\", true, false], [\\\"TCU September Lightning Complex\\\", \\\"Y\\\", \\\"2025-09-14T21:48:23Z\\\", \\\"2025-09-02T16:05:03Z\\\", \\\"CAL FIRE Tuolumne-Calaveras Unit\\\", \\\"___NaN___\\\", \\\"Calaveras, San Joaquin, Stanislaus, Tuolumne\\\", \\\"Multiple locations across Calaveras, Tuolumne County, San Joaquin County and Stanislaus County\\\", 13869.0, 100.0, \\\"NaN\\\", \\\"NaN\\\", -120.475152, 37.998587, \\\"Wildfire\\\", \\\"4eabc8a7-b2a0-4492-8b19-f2329d4bbc01\\\", \\\"https://www.fire.ca.gov/incidents/2025/9/2/tcu-september-lightning-complex/\\\", \\\"NaN\\\", \\\"NaN\\\", \\\"2025-09-02\\\", \\\"N\\\", true, false], [\\\"Cedar Fire\\\", \\\"Y\\\", \\\"2025-09-17T21:57:18Z\\\", \\\"2025-09-02T14:44:46Z\\\", \\\"Shasta-Trinity National Forest\\\", \\\"___NaN___\\\", \\\"Trinity\\\", \\\"West of Cedar Point Road &amp; West Valley Court, Post Mountain\\\", 104.0, 100.0, \\\"NaN\\\", \\\"NaN\\\", -123.231979, 40.406746, \\\"Wildfire\\\", \\\"28868992-a898-4079-979b-360e726002e0\\\", \\\"https://www.fire.ca.gov/incidents/2025/9/2/cedar-fire/\\\", \\\"2025-09-17T22:00:00Z\\\", \\\"2025-09-17\\\", \\\"2025-09-02\\\", \\\"N\\\", false, false], [\\\"Park Fire\\\", \\\"Y\\\", \\\"2025-09-07T21:33:28Z\\\", \\\"2025-09-02T09:10:04Z\\\", \\\"CAL FIRE San Benito-Monterey Unit\\\", \\\"___NaN___\\\", \\\"Monterey\\\", \\\"Near the community of Parkfield\\\", 25.0, 100.0, \\\"NaN\\\", \\\"NaN\\\", -120.3755, 35.945333, \\\"Wildfire\\\", \\\"c3f6d925-9839-4139-baad-2765138f45db\\\", \\\"https://www.fire.ca.gov/incidents/2025/9/2/park-fire/\\\", \\\"2025-09-07T22:00:00Z\\\", \\\"2025-09-07\\\", \\\"2025-09-02\\\", \\\"N\\\", true, false], [\\\"1-4 Fire\\\", \\\"Y\\\", \\\"2025-09-07T21:34:14Z\\\", \\\"2025-09-02T17:56:21Z\\\", \\\"CAL FIRE Madera-Mariposa-Merced Unit\\\", \\\"___NaN___\\\", \\\"Mariposa\\\", \\\"Dutchman Creek Road, Raymond\\\", 4451.0, 100.0, \\\"NaN\\\", \\\"NaN\\\", -120.067334, 37.255225, \\\"Wildfire\\\", \\\"549b3868-2d30-4653-b876-eafce2d832a9\\\", \\\"https://www.fire.ca.gov/incidents/2025/9/2/1-4-fire/\\\", \\\"2025-09-07T22:00:00Z\\\", \\\"2025-09-07\\\", \\\"2025-09-02\\\", \\\"N\\\", true, false], [\\\"1-3 Fire\\\", \\\"Y\\\", \\\"2025-09-08T07:07:55Z\\\", \\\"2025-09-02T17:26:57Z\\\", \\\"CAL FIRE Madera-Mariposa-Merced Unit\\\", \\\"___NaN___\\\", \\\"Mariposa\\\", \\\"Preston Road and West Westfall, Raymond\\\", 250.0, 100.0, \\\"NaN\\\", \\\"NaN\\\", -120.007439, 37.262108, \\\"Wildfire\\\", \\\"d06257a8-4409-4238-8f45-b27b8cf899b1\\\", \\\"https://www.fire.ca.gov/incidents/2025/9/2/1-3-fire/\\\", \\\"2025-09-07T22:00:00Z\\\", \\\"2025-09-07\\\", \\\"2025-09-02\\\", \\\"N\\\", true, false], [\\\"Forebay Fire\\\", \\\"Y\\\", \\\"2025-09-02T21:54:25Z\\\", \\\"2025-09-02T17:01:49Z\\\", \\\"CAL FIRE Butte Unit\\\", \\\"___NaN___\\\", \\\"Butte\\\", \\\"2400 Block of Nelson Ave, near Oroville\\\", 36.0, 100.0, \\\"NaN\\\", \\\"NaN\\\", -121.612192, 39.524747, \\\"Wildfire\\\", \\\"c956becc-63af-4fd1-8aa6-9da2e496d5d5\\\", \\\"https://www.fire.ca.gov/incidents/2025/9/2/forebay-fire/\\\", \\\"2025-09-02T21:54:08Z\\\", \\\"2025-09-02\\\", \\\"2025-09-02\\\", \\\"N\\\", true, false], [\\\"6-5 Fire\\\", \\\"Y\\\", \\\"2025-09-11T10:24:27Z\\\", \\\"2025-09-02T20:23:27Z\\\", \\\"CAL FIRE Tuolumne-Calaveras Unit\\\", \\\"___NaN___\\\", \\\"Tuolumne\\\", \\\"North of Don Pedro Overlook Trail and Old Pedro Road, near Red Hills\\\", 7037.0, 94.0, \\\"NaN\\\", \\\"NaN\\\", -120.437333, 37.819667, \\\"Wildfire\\\", \\\"85af7553-a237-4ce6-921b-e9d46a86bbce\\\", \\\"https://www.fire.ca.gov/incidents/2025/9/2/6-5-fire/\\\", \\\"NaN\\\", \\\"NaN\\\", \\\"2025-09-02\\\", \\\"N\\\", true, false], [\\\"Paladino Fire\\\", \\\"Y\\\", \\\"2025-09-19T13:30:35Z\\\", \\\"2025-09-02T20:31:15Z\\\", \\\"Kern County Fire Department\\\", \\\"___NaN___\\\", \\\"Kern\\\", \\\"Paladino Drive &amp; Morning Drive, Northwest of Bakersfield\\\", 461.0, 100.0, \\\"NaN\\\", \\\"NaN\\\", -118.927674, 35.417279, \\\"Wildfire\\\", \\\"f49cf3f1-35c2-4863-a7ee-755e908c9d18\\\", \\\"https://www.fire.ca.gov/incidents/2025/9/2/paladino-fire/\\\", \\\"NaN\\\", \\\"NaN\\\", \\\"2025-09-02\\\", \\\"N\\\", false, false], [\\\"Porter Fire\\\", \\\"Y\\\", \\\"2025-09-04T15:09:30Z\\\", \\\"2025-09-02T19:10:07Z\\\", \\\"CAL FIRE Nevada-Yuba-Placer Unit\\\", \\\"___NaN___\\\", \\\"Placer\\\", \\\"Porter Road and Karchner Road\\\", 10.0, 100.0, \\\"NaN\\\", \\\"NaN\\\", -121.340233, 39.013895, \\\"Wildfire\\\", \\\"e0a4553b-e334-4136-8b2d-2a82e4fe2a66\\\", \\\"https://www.fire.ca.gov/incidents/2025/9/2/porter-fire/\\\", \\\"NaN\\\", \\\"NaN\\\", \\\"2025-09-02\\\", \\\"N\\\", true, false], [\\\"Granite Fire\\\", \\\"Y\\\", \\\"2025-09-08T21:38:43Z\\\", \\\"2025-09-02T22:21:36Z\\\", \\\"CAL FIRE Butte Unit\\\", \\\"___NaN___\\\", \\\"Butte\\\", \\\"Concow Road and Lynch Road, East of Stirling City\\\", 19.0, 100.0, \\\"NaN\\\", \\\"NaN\\\", -121.451769, 39.890933, \\\"Wildfire\\\", \\\"210bd886-cea4-4916-9d04-7bd28063c8dd\\\", \\\"https://www.fire.ca.gov/incidents/2025/9/2/granite-fire/\\\", \\\"2025-09-08T22:00:00Z\\\", \\\"2025-09-08\\\", \\\"2025-09-02\\\", \\\"N\\\", true, false], [\\\"Marmon Fire\\\", \\\"Y\\\", \\\"2025-09-05T17:28:43Z\\\", \\\"2025-09-02T23:35:42Z\\\", \\\"CAL FIRE Fresno-Kings Unit\\\", \\\"___NaN___\\\", \\\"Fresno\\\", \\\"South Lassen Ave and Marmon Ave, North of Huron\\\", 1034.0, 100.0, \\\"NaN\\\", \\\"NaN\\\", -120.102889, 36.24125, \\\"Wildfire\\\", \\\"0c0572ad-e2dc-4467-a678-c9e8ba57a410\\\", \\\"https://www.fire.ca.gov/incidents/2025/9/2/marmon-fire/\\\", \\\"NaN\\\", \\\"NaN\\\", \\\"2025-09-02\\\", \\\"N\\\", true, false], [\\\"F22 Fire\\\", \\\"Y\\\", \\\"2025-09-03T07:50:16Z\\\", \\\"2025-09-02T08:45:47Z\\\", \\\"CAL FIRE Fresno-Kings Unit\\\", \\\"___NaN___\\\", \\\"Fresno\\\", \\\"East of Parkfeild\\\", 10.0, 100.0, \\\"NaN\\\", \\\"NaN\\\", -120.349833, 35.944667, \\\"Wildfire\\\", \\\"bb9b7499-20f7-4511-879f-b9b14c82f146\\\", \\\"https://www.fire.ca.gov/incidents/2025/9/2/f22-fire/\\\", \\\"NaN\\\", \\\"NaN\\\", \\\"2025-09-02\\\", \\\"N\\\", true, false], [\\\"16-4 Fire\\\", \\\"Y\\\", \\\"2025-09-04T14:55:01Z\\\", \\\"2025-09-03T11:34:34Z\\\", \\\"CAL FIRE Nevada-Yuba-Placer Unit\\\", \\\"___NaN___\\\", \\\"Yuba\\\", \\\"Marysville Road, Northwest of Stanfield Hill\\\", 10.0, 100.0, \\\"NaN\\\", \\\"NaN\\\", -121.350555, 39.342777, \\\"Wildfire\\\", \\\"f0ce9509-7f67-4063-9e46-0d5395a7fc99\\\", \\\"https://www.fire.ca.gov/incidents/2025/9/3/16-4-fire/\\\", \\\"NaN\\\", \\\"NaN\\\", \\\"2025-09-03\\\", \\\"N\\\", true, false], [\\\"6-2 Fire\\\", \\\"Y\\\", \\\"2025-09-11T10:24:58Z\\\", \\\"2025-09-02T13:44:00Z\\\", \\\"CAL FIRE Tuolumne-Calaveras Unit\\\", \\\"___NaN___\\\", \\\"Tuolumne\\\", \\\"East of Old Don Pedro Road, Don Pedro Reservoir\\\", 1025.0, 98.0, \\\"NaN\\\", \\\"NaN\\\", -120.38529, 37.77721, \\\"Wildfire\\\", \\\"7e192d1a-cdab-443a-b895-b6190b050526\\\", \\\"https://www.fire.ca.gov/incidents/2025/9/2/6-2-fire/\\\", \\\"NaN\\\", \\\"NaN\\\", \\\"2025-09-02\\\", \\\"N\\\", true, false], [\\\"Myers Fire\\\", \\\"Y\\\", \\\"2025-09-17T09:30:50Z\\\", \\\"2025-09-03T13:09:00Z\\\", \\\"CAL FIRE Riverside Unit\\\", \\\"___NaN___\\\", \\\"Riverside\\\", \\\"Rose Road &amp; Myers Street, West of Hemet\\\", 90.0, 100.0, \\\"NaN\\\", \\\"NaN\\\", -117.024162, 33.753799, \\\"Wildfire\\\", \\\"bf804af8-b50d-449b-a1e4-fcb89e11def4\\\", \\\"https://www.fire.ca.gov/incidents/2025/9/3/myers-fire/\\\", \\\"NaN\\\", \\\"NaN\\\", \\\"2025-09-03\\\", \\\"N\\\", false, false], [\\\"Rd 29 / Ave 16.25 Fire\\\", \\\"Y\\\", \\\"2025-09-17T09:28:18Z\\\", \\\"2025-09-03T19:53:44Z\\\", \\\"CAL FIRE Madera-Mariposa-Merced Unit\\\", \\\"___NaN___\\\", \\\"Madera\\\", \\\"Road 29 and Avenue 16 1/4, Near Madera\\\", 151.0, 100.0, \\\"NaN\\\", \\\"NaN\\\", -120.019506, 36.985276, \\\"Wildfire\\\", \\\"3482d4a7-c0f5-4b99-b428-bb093275e90f\\\", \\\"https://www.fire.ca.gov/incidents/2025/9/3/rd-29-ave-16-25-fire/\\\", \\\"2025-09-03T08:06:00Z\\\", \\\"2025-09-03\\\", \\\"2025-09-03\\\", \\\"N\\\", true, false], [\\\"Billy Fire\\\", \\\"Y\\\", \\\"2025-09-04T13:25:08Z\\\", \\\"2025-09-04T09:28:41Z\\\", \\\"CAL FIRE Madera-Mariposa-Merced Unit\\\", \\\"___NaN___\\\", \\\"Merced\\\", \\\"Billy Wright Road &amp; Bonita Road, Santa Nella\\\", 24.0, 100.0, \\\"NaN\\\", \\\"NaN\\\", -120.99063, 37.020145, \\\"Wildfire\\\", \\\"b6055b28-a825-4be5-a9ef-a5f63f377cb4\\\", \\\"https://www.fire.ca.gov/incidents/2025/9/4/billy-fire/\\\", \\\"NaN\\\", \\\"NaN\\\", \\\"2025-09-04\\\", \\\"N\\\", true, false], [\\\"Walnut Fire\\\", \\\"Y\\\", \\\"2025-09-05T18:22:47Z\\\", \\\"2025-09-05T12:37:49Z\\\", \\\"CAL FIRE San Luis Obispo Unit\\\", \\\"___NaN___\\\", \\\"San Luis Obispo\\\", \\\"Black Walnut Road and See Canyon Road, San Luis Obispo\\\", 14.0, 100.0, \\\"NaN\\\", \\\"NaN\\\", -120.754223, 35.233355, \\\"Wildfire\\\", \\\"2041e6f5-b306-427a-ae1a-57cc8d135250\\\", \\\"https://www.fire.ca.gov/incidents/2025/9/5/walnut-fire/\\\", \\\"2025-09-05T18:22:02Z\\\", \\\"2025-09-05\\\", \\\"2025-09-05\\\", \\\"N\\\", true, false], [\\\"Lodge Fire\\\", \\\"Y\\\", \\\"2025-09-07T21:32:34Z\\\", \\\"2025-09-05T14:01:39Z\\\", \\\"US Fish and Wildlife Service\\\", \\\"___NaN___\\\", \\\"San Diego\\\", \\\"Jamacha Boulevard and Double Tree Road, Spring Valley\\\", 75.0, 100.0, \\\"NaN\\\", \\\"NaN\\\", -116.95884, 32.7256, \\\"Wildfire\\\", \\\"2bf1f3d9-4cf9-4e44-a9fd-21d8d9846781\\\", \\\"https://www.fire.ca.gov/incidents/2025/9/5/lodge-fire/\\\", \\\"2025-09-07T22:00:00Z\\\", \\\"2025-09-07\\\", \\\"2025-09-05\\\", \\\"N\\\", false, false], [\\\"Pyrite Fire\\\", \\\"Y\\\", \\\"2025-09-15T10:22:49Z\\\", \\\"2025-09-05T17:19:31Z\\\", \\\"CAL FIRE Riverside Unit\\\", \\\"___NaN___\\\", \\\"Riverside\\\", \\\"Pyrite Street and Granite Hill Drive, Jurupa Valley\\\", 200.0, 100.0, \\\"NaN\\\", \\\"NaN\\\", -117.462368, 34.017805, \\\"Wildfire\\\", \\\"512e6848-d749-4ecb-b9c3-4f89495ec383\\\", \\\"https://www.fire.ca.gov/incidents/2025/9/5/pyrite-fire/\\\", \\\"2025-09-05T17:39:00Z\\\", \\\"2025-09-05\\\", \\\"2025-09-05\\\", \\\"N\\\", true, false], [\\\"Springs Fire\\\", \\\"Y\\\", \\\"2025-09-07T21:31:50Z\\\", \\\"2025-09-05T11:03:37Z\\\", \\\"Bureau of Land Management\\\", \\\"___NaN___\\\", \\\"San Bernardino\\\", \\\"Hot Springs Trail and Bowen Ranch Road, Apple Valley\\\", 33.0, 100.0, \\\"NaN\\\", \\\"NaN\\\", -117.16674, 34.361588, \\\"Wildfire\\\", \\\"6289cfc9-cacf-4db5-94a0-0b8b7e8f8895\\\", \\\"https://www.fire.ca.gov/incidents/2025/9/5/springs-fire/\\\", \\\"2025-09-07T22:00:00Z\\\", \\\"2025-09-07\\\", \\\"2025-09-05\\\", \\\"N\\\", false, false], [\\\"Kettle Fire\\\", \\\"Y\\\", \\\"2025-09-24T10:25:13Z\\\", \\\"2025-08-31T07:50:48Z\\\", \\\"Sequoia &amp; Kings National Park\\\", \\\"___NaN___\\\", \\\"Fresno\\\", \\\"Kettle Dome near Blue Canyon Trail, South of John Muir Wilderness\\\", 24.0, 100.0, \\\"NaN\\\", \\\"NaN\\\", -118.7677, 36.9397, \\\"Wildfire\\\", \\\"d9b216b4-4c0d-4756-b37f-a463cedca03d\\\", \\\"https://www.fire.ca.gov/incidents/2025/8/31/kettle-fire/\\\", \\\"2025-09-08T12:00:00Z\\\", \\\"2025-09-08\\\", \\\"2025-08-31\\\", \\\"N\\\", true, false], [\\\"Crump Fire\\\", \\\"Y\\\", \\\"2025-09-07T21:31:17Z\\\", \\\"2025-09-06T13:31:48Z\\\", \\\"CAL FIRE Riverside Unit\\\", \\\"___NaN___\\\", \\\"Riverside\\\", \\\"Riverside Street and Highway 74, Northeast of Warm Valley Springs\\\", 55.0, 100.0, \\\"NaN\\\", \\\"Bureau of Land Management, Riverside County Sheriff, Hemet City Fire Department, Murrieta Fire &amp; Rescue, Riverside City Fire Department\\\", -117.313944, 33.71145, \\\"Wildfire\\\", \\\"ded457ce-a55b-4d57-8ed4-da2ff5b64a3f\\\", \\\"https://www.fire.ca.gov/incidents/2025/9/6/crump-fire/\\\", \\\"2025-09-07T22:00:00Z\\\", \\\"2025-09-07\\\", \\\"2025-09-06\\\", \\\"N\\\", true, false], [\\\"Aqueduct Fire\\\", \\\"Y\\\", \\\"2025-09-08T21:40:09Z\\\", \\\"2025-09-07T09:39:49Z\\\", \\\"Bureau of Land Management\\\", \\\"___NaN___\\\", \\\"Kern\\\", \\\"Near Pine Tree Canyon Road\\\", 14.0, 100.0, \\\"NaN\\\", \\\"NaN\\\", -118.118136, 35.223722, \\\"Wildfire\\\", \\\"04e9f4df-71c5-44e7-af1d-82e24f1c1933\\\", \\\"https://www.fire.ca.gov/incidents/2025/9/7/aqueduct-fire/\\\", \\\"2025-09-08T19:00:00Z\\\", \\\"2025-09-08\\\", \\\"2025-09-07\\\", \\\"N\\\", false, false], [\\\"Tombstone Fire\\\", \\\"N\\\", \\\"2025-09-17T09:31:30Z\\\", \\\"2025-08-30T11:17:27Z\\\", \\\"Kings Canyon National Park\\\", \\\"___NaN___\\\", \\\"Fresno\\\", \\\"Northeast of Hume\\\", 49.0, 65.0, \\\"NaN\\\", \\\"NaN\\\", -118.817167, 36.901167, \\\"Wildfire\\\", \\\"e6f0fbb8-8a04-4969-9dfe-6ff995e1c84c\\\", \\\"https://www.fire.ca.gov/incidents/2025/8/30/tombstone-fire/\\\", \\\"NaN\\\", \\\"NaN\\\", \\\"2025-08-30\\\", \\\"N\\\", false, false], [\\\"Lake Fire\\\", \\\"Y\\\", \\\"2025-09-09T10:20:28Z\\\", \\\"2025-09-08T14:08:49Z\\\", \\\"CAL FIRE Lassen-Modoc Unit\\\", \\\"___NaN___\\\", \\\"Lassen\\\", \\\"Highway 395 and Byers Pass Road, Standish\\\", 21.0, 100.0, \\\"NaN\\\", \\\"NaN\\\", -120.48818, 40.375587, \\\"Wildfire\\\", \\\"510ca45e-10ff-4440-82ea-e02a312fc631\\\", \\\"https://www.fire.ca.gov/incidents/2025/9/8/lake-fire/\\\", \\\"2025-09-08T17:00:00Z\\\", \\\"2025-09-08\\\", \\\"2025-09-08\\\", \\\"N\\\", true, false], [\\\"Sycamore Fire\\\", \\\"Y\\\", \\\"2025-09-09T10:23:19Z\\\", \\\"2025-09-08T11:19:28Z\\\", \\\"CAL FIRE Riverside Unit\\\", \\\"___NaN___\\\", \\\"Riverside\\\", \\\"Intrepid Road and Sage Road, Sage\\\", 16.0, 100.0, \\\"NaN\\\", \\\"NaN\\\", -116.940637, 33.594925, \\\"Wildfire\\\", \\\"1e07aada-6a3c-47be-8dc9-f6db9ff596f6\\\", \\\"https://www.fire.ca.gov/incidents/2025/9/8/sycamore-fire/\\\", \\\"2025-09-08T12:03:00Z\\\", \\\"2025-09-08\\\", \\\"2025-09-08\\\", \\\"N\\\", true, false], [\\\"Coches 2 Fire\\\", \\\"Y\\\", \\\"2025-09-08T21:38:04Z\\\", \\\"2025-09-08T14:58:36Z\\\", \\\"CAL FIRE San Diego Unit\\\", \\\"___NaN___\\\", \\\"San Diego\\\", \\\"I-8 Business and Los Coches Road, Lakeside\\\", 5.0, 100.0, \\\"NaN\\\", \\\"NaN\\\", -116.905491, 32.832348, \\\"Wildfire\\\", \\\"0baee5d9-2f57-4a41-b4db-37cf926cb62f\\\", \\\"https://www.fire.ca.gov/incidents/2025/9/8/coches-2-fire/\\\", \\\"2025-09-08T22:00:00Z\\\", \\\"2025-09-08\\\", \\\"2025-09-08\\\", \\\"N\\\", false, false], [\\\"Fantasy Fire\\\", \\\"Y\\\", \\\"2025-09-08T21:37:23Z\\\", \\\"2025-09-08T17:19:17Z\\\", \\\"CAL FIRE Tulare Unit\\\", \\\"___NaN___\\\", \\\"Tulare\\\", \\\"Worth Drive and Road 284\\\", 16.0, 100.0, \\\"NaN\\\", \\\"NaN\\\", -118.930008, 36.056176, \\\"Wildfire\\\", \\\"b8ef214b-a9a6-4138-bab9-6ebe1e502669\\\", \\\"https://www.fire.ca.gov/incidents/2025/9/8/fantasy-fire/\\\", \\\"2025-09-08T22:00:00Z\\\", \\\"2025-09-08\\\", \\\"2025-09-08\\\", \\\"N\\\", true, false], [\\\"Nella Fire\\\", \\\"Y\\\", \\\"2025-09-15T10:18:57Z\\\", \\\"2025-09-09T15:22:33Z\\\", \\\"CAL FIRE Madera-Mariposa-Merced Unit\\\", \\\"___NaN___\\\", \\\"Merced\\\", \\\"Near Interstate 5 and Highway 152, Gustine\\\", 16.0, 100.0, \\\"NaN\\\", \\\"NaN\\\", -120.969345, 37.056509, \\\"Wildfire\\\", \\\"4a5efe57-a4a1-4e52-9db5-1d592f156ea0\\\", \\\"https://www.fire.ca.gov/incidents/2025/9/9/nella-fire/\\\", \\\"2025-09-09T17:55:00Z\\\", \\\"2025-09-09\\\", \\\"2025-09-09\\\", \\\"N\\\", true, false], [\\\"Tornado Fire\\\", \\\"Y\\\", \\\"2025-09-11T07:31:17Z\\\", \\\"2025-09-10T11:50:54Z\\\", \\\"CAL FIRE Riverside Unit\\\", \\\"___NaN___\\\", \\\"Riverside\\\", \\\"Tornado and Santa Rosa Road, West of Temecula\\\", 12.0, 100.0, \\\"NaN\\\", \\\"NaN\\\", -117.170723, 33.473554, \\\"Wildfire\\\", \\\"4591cb85-cb46-4af4-a772-ae36ab73c07e\\\", \\\"https://www.fire.ca.gov/incidents/2025/9/10/tornado-fire/\\\", \\\"NaN\\\", \\\"NaN\\\", \\\"2025-09-10\\\", \\\"N\\\", true, false], [\\\"Boggs Fire\\\", \\\"Y\\\", \\\"2025-09-15T10:15:52Z\\\", \\\"2025-09-10T18:01:00Z\\\", \\\"CAL FIRE Tehama Glenn Unit\\\", \\\"___NaN___\\\", \\\"Tehama\\\", \\\"Boggs and Champlin Road, Northwest of Corning\\\", 88.0, 100.0, \\\"NaN\\\", \\\"NaN\\\", -122.398034, 39.962679, \\\"Wildfire\\\", \\\"06477093-53c9-4ee7-9883-18a739be764a\\\", \\\"https://www.fire.ca.gov/incidents/2025/9/10/boggs-fire/\\\", \\\"2025-09-10T18:48:00Z\\\", \\\"2025-09-10\\\", \\\"2025-09-10\\\", \\\"N\\\", true, false], [\\\"Buell Fire\\\", \\\"Y\\\", \\\"2025-09-12T17:27:13Z\\\", \\\"2025-09-10T14:21:13Z\\\", \\\"CAL FIRE Shasta-Trinity Unit\\\", \\\"___NaN___\\\", \\\"Shasta\\\", \\\"Platina Road and Buell Road\\\", 13.0, 100.0, \\\"NaN\\\", \\\"NaN\\\", -122.619388, 40.474673, \\\"Wildfire\\\", \\\"a1f25049-f72b-455b-9fc3-1a9f0a5fa3f6\\\", \\\"https://www.fire.ca.gov/incidents/2025/9/10/buell-fire/\\\", \\\"2025-09-10T15:49:00Z\\\", \\\"2025-09-10\\\", \\\"2025-09-10\\\", \\\"N\\\", true, false], [\\\"Elephant Fire\\\", \\\"Y\\\", \\\"2025-09-14T21:49:17Z\\\", \\\"2025-09-11T13:29:00Z\\\", \\\"Sequoia National Forest\\\", \\\"___NaN___\\\", \\\"Tulare\\\", \\\"Lloyd Meadow Road, North of Johnsondale\\\", 10.0, 100.0, \\\"NaN\\\", \\\"NaN\\\", -118.48688, 35.99553, \\\"Wildfire\\\", \\\"0491500f-f692-4f2b-8ea4-6cef3134d875\\\", \\\"https://www.fire.ca.gov/incidents/2025/9/11/elephant-fire/\\\", \\\"2025-09-14T10:00:00Z\\\", \\\"2025-09-14\\\", \\\"2025-09-11\\\", \\\"N\\\", false, false], [\\\"Shale Fire\\\", \\\"Y\\\", \\\"2025-09-14T21:50:30Z\\\", \\\"2025-09-12T19:35:00Z\\\", \\\"CAL FIRE Sonoma-Lake-Napa Unit\\\", \\\"___NaN___\\\", \\\"Solano\\\", \\\"Pleasant Valley Road, Vacaville\\\", 13.0, 100.0, \\\"NaN\\\", \\\"NaN\\\", -122.056304, 38.458292, \\\"Wildfire\\\", \\\"d6d4577f-661b-42c1-8fb8-90ff55f60844\\\", \\\"https://www.fire.ca.gov/incidents/2025/9/12/shale-fire/\\\", \\\"NaN\\\", \\\"NaN\\\", \\\"2025-09-12\\\", \\\"N\\\", true, false], [\\\"Hunt Fire\\\", \\\"Y\\\", \\\"2025-09-15T10:14:32Z\\\", \\\"2025-09-14T13:07:09Z\\\", \\\"CAL FIRE Tuolumne-Calaveras Unit\\\", \\\"___NaN___\\\", \\\"Calaveras\\\", \\\"Milton Road and Rock Creek Road, Milton\\\", 23.0, 100.0, \\\"NaN\\\", \\\"NaN\\\", -120.775674, 38.021791, \\\"Wildfire\\\", \\\"c9efe369-7ff1-463a-82a1-076732c3e4df\\\", \\\"https://www.fire.ca.gov/incidents/2025/9/14/hunt-fire/\\\", \\\"2025-09-14T15:30:00Z\\\", \\\"2025-09-14\\\", \\\"2025-09-14\\\", \\\"N\\\", true, false], [\\\"Madera Fire\\\", \\\"Y\\\", \\\"2025-09-18T12:55:28Z\\\", \\\"2025-09-14T14:53:53Z\\\", \\\"CAL FIRE Madera-Mariposa-Merced Unit\\\", \\\"___NaN___\\\", \\\"Madera\\\", \\\"Road 28 and Ave 18\\\", 64.0, 100.0, \\\"NaN\\\", \\\"NaN\\\", -120.056215, 37.010829, \\\"Wildfire\\\", \\\"e54fd92b-fcaf-4483-9f9b-cb1bbb83da7a\\\", \\\"https://www.fire.ca.gov/incidents/2025/9/14/madera-fire/\\\", \\\"2025-09-14T18:00:00Z\\\", \\\"2025-09-14\\\", \\\"2025-09-14\\\", \\\"N\\\", true, false], [\\\"Pass Fire\\\", \\\"Y\\\", \\\"2025-09-21T21:59:51Z\\\", \\\"2025-09-17T11:16:12Z\\\", \\\"Inyo National Forest\\\", \\\"___NaN___\\\", \\\"Tulare\\\", \\\"East of Monache Mountain\\\", 26.0, 100.0, \\\"NaN\\\", \\\"NaN\\\", -118.181595, 36.20052, \\\"Wildfire\\\", \\\"462ddd93-568f-4a64-bb6a-4825e2503d3f\\\", \\\"https://www.fire.ca.gov/incidents/2025/9/17/pass-fire/\\\", \\\"2025-09-21T07:00:00Z\\\", \\\"2025-09-21\\\", \\\"2025-09-17\\\", \\\"N\\\", false, false], [\\\"East Fire\\\", \\\"Y\\\", \\\"2025-09-17T21:56:23Z\\\", \\\"2025-09-17T14:26:06Z\\\", \\\"CAL FIRE Madera-Mariposa-Merced Unit\\\", \\\"___NaN___\\\", \\\"Merced\\\", \\\"6832 East Ave. Ballico CA\\\", 36.0, 100.0, \\\"NaN\\\", \\\"NaN\\\", -120.612219, 37.491158, \\\"Wildfire\\\", \\\"25ec6d00-c91d-450d-bd04-73656a96622d\\\", \\\"https://www.fire.ca.gov/incidents/2025/9/17/east-fire/\\\", \\\"2025-09-17T22:00:00Z\\\", \\\"2025-09-17\\\", \\\"2025-09-17\\\", \\\"N\\\", true, false], [\\\"Solar Fire\\\", \\\"Y\\\", \\\"2025-09-19T22:07:20Z\\\", \\\"2025-09-19T15:06:47Z\\\", \\\"CAL FIRE Fresno-Kings Unit\\\", \\\"___NaN___\\\", \\\"Fresno\\\", \\\"South Stanislaus Avenue and West South Avenue, Tranquility\\\", 418.0, 100.0, \\\"NaN\\\", \\\"NaN\\\", -120.333854, 36.61751, \\\"Wildfire\\\", \\\"6018c27d-885c-49b7-bb73-bb95969347f6\\\", \\\"https://www.fire.ca.gov/incidents/2025/9/19/solar-fire/\\\", \\\"2025-09-19T22:07:04Z\\\", \\\"2025-09-19\\\", \\\"2025-09-19\\\", \\\"N\\\", true, false], [\\\"Pippo Fire\\\", \\\"Y\\\", \\\"2025-09-21T21:59:34Z\\\", \\\"2025-09-20T14:34:01Z\\\", \\\"CAL FIRE Sonoma-Lake-Napa Unit\\\", \\\"___NaN___\\\", \\\"Solano\\\", \\\"3900 block of Cantelow Road, North of Vacaville\\\", 12.0, 100.0, \\\"NaN\\\", \\\"NaN\\\", -122.003395, 38.416028, \\\"Wildfire\\\", \\\"4b917f26-a403-4f61-96d4-d861d50ddd4e\\\", \\\"https://www.fire.ca.gov/incidents/2025/9/20/pippo-fire/\\\", \\\"NaN\\\", \\\"NaN\\\", \\\"2025-09-20\\\", \\\"N\\\", true, false], [\\\"Uphill Fire\\\", \\\"Y\\\", \\\"2025-09-24T10:47:04Z\\\", \\\"2025-09-22T12:55:18Z\\\", \\\"CAL FIRE Amador-El Dorado Unit\\\", \\\"___NaN___\\\", \\\"El Dorado\\\", \\\"Uphill Road and Pedro Hill Road, Pilot Hill\\\", 22.0, 100.0, \\\"NaN\\\", \\\"NaN\\\", -120.998424, 38.827689, \\\"Wildfire\\\", \\\"d598137f-a3d8-47c3-beb4-8a3b4fcb4084\\\", \\\"https://www.fire.ca.gov/incidents/2025/9/22/uphill-fire/\\\", \\\"2025-09-22T14:23:00Z\\\", \\\"2025-09-22\\\", \\\"2025-09-22\\\", \\\"N\\\", true, false], [\\\"Springs Fire\\\", \\\"Y\\\", \\\"2025-09-25T22:06:07Z\\\", \\\"2025-09-24T11:43:18Z\\\", \\\"CAL FIRE Riverside Unit\\\", \\\"___NaN___\\\", \\\"Riverside\\\", \\\"Juniper Springs Road, Juniper Springs\\\", 13.0, 100.0, \\\"NaN\\\", \\\"NaN\\\", -117.084452, 33.768255, \\\"Wildfire\\\", \\\"98426066-4586-4ebc-a8ae-573eb3b663fe\\\", \\\"https://www.fire.ca.gov/incidents/2025/9/24/springs-fire/\\\", \\\"2025-09-25T22:02:13Z\\\", \\\"2025-09-25\\\", \\\"2025-09-24\\\", \\\"N\\\", true, false], [\\\"Baldy Fire\\\", \\\"Y\\\", \\\"2025-09-27T22:07:00Z\\\", \\\"2025-09-24T21:44:02Z\\\", \\\"CAL FIRE Mendocino Unit\\\", \\\"___NaN___\\\", \\\"Mendocino\\\", \\\"Bald Mountain Rd./Mina Rd. Covelo\\\", 14.0, 100.0, \\\"NaN\\\", \\\"NaN\\\", -123.341945, 39.926657, \\\"Wildfire\\\", \\\"15701491-c78d-4cef-af34-06398c665132\\\", \\\"https://www.fire.ca.gov/incidents/2025/9/24/baldy-fire/\\\", \\\"2025-09-27T22:00:38Z\\\", \\\"2025-09-27\\\", \\\"2025-09-24\\\", \\\"N\\\", true, false], [\\\"Joaquin Fire\\\", \\\"N\\\", \\\"2025-10-01T10:11:33Z\\\", \\\"2025-09-24T21:56:39Z\\\", \\\"CAL FIRE Fresno-Kings Unit\\\", \\\"___NaN___\\\", \\\"Fresno\\\", \\\"Los Gatos Road and Joaquin Rocks, West of Coalinga\\\", 37.0, 100.0, \\\"NaN\\\", \\\"NaN\\\", -120.498195, 36.219908, \\\"Wildfire\\\", \\\"d5765fe2-4b65-4dcd-8e1e-923926c23d35\\\", \\\"https://www.fire.ca.gov/incidents/2025/9/24/joaquin-fire/\\\", \\\"NaN\\\", \\\"NaN\\\", \\\"2025-09-24\\\", \\\"Y\\\", true, false], [\\\"Lost Fire\\\", \\\"Y\\\", \\\"2025-09-28T09:51:03Z\\\", \\\"2025-09-25T08:00:00Z\\\", \\\"Ventura County Fire Department\\\", \\\"___NaN___\\\", \\\"Ventura\\\", \\\"Near Lost Canyon Drive, Simi Valley\\\", 13.0, 100.0, \\\"NaN\\\", \\\"NaN\\\", -118.751784, 34.301578, \\\"Wildfire\\\", \\\"75c850b6-27a5-493e-aaef-a42e02b2eab4\\\", \\\"https://www.fire.ca.gov/incidents/2025/9/25/lost-fire/\\\", \\\"2025-09-27T14:00:00Z\\\", \\\"2025-09-27\\\", \\\"2025-09-25\\\", \\\"N\\\", false, false], [\\\"Martell Fire\\\", \\\"Y\\\", \\\"2025-09-28T09:49:59Z\\\", \\\"2025-09-26T14:45:08Z\\\", \\\"CAL FIRE Tuolumne-Calaveras Unit\\\", \\\"___NaN___\\\", \\\"Stanislaus\\\", \\\"South of Telegraph Road and Northeast of Sonora Road, East of Oakdale\\\", 37.0, 100.0, \\\"NaN\\\", \\\"NaN\\\", -120.732557, 37.906127, \\\"Wildfire\\\", \\\"2d15d2af-d4a5-4f41-a17c-b17e3030ea93\\\", \\\"https://www.fire.ca.gov/incidents/2025/9/26/martell-fire/\\\", \\\"2025-09-26T23:30:00Z\\\", \\\"2025-09-26\\\", \\\"2025-09-26\\\", \\\"N\\\", true, false], [\\\"Cobb Fire\\\", \\\"Y\\\", \\\"2025-09-29T07:12:14Z\\\", \\\"2025-09-26T15:56:10Z\\\", \\\"Six Rivers National Forest\\\", \\\"___NaN___\\\", \\\"Humboldt\\\", \\\"Cobb Road and Rattlesnake Bridge Road, Dinsmore\\\", 12.0, 100.0, \\\"NaN\\\", \\\"NaN\\\", -123.527677, 40.463864, \\\"Wildfire\\\", \\\"793418f8-d217-44c3-8409-617b2a3107a2\\\", \\\"https://www.fire.ca.gov/incidents/2025/9/26/cobb-fire/\\\", \\\"2025-09-28T17:00:00Z\\\", \\\"2025-09-28\\\", \\\"2025-09-26\\\", \\\"N\\\", true, false], [\\\"Vleck Fire\\\", \\\"N\\\", \\\"2025-09-30T13:00:14-07:00\\\", \\\"2025-09-29T12:02:36Z\\\", \\\"CAL FIRE Amador-El Dorado Unit\\\", \\\"___NaN___\\\", \\\"Sacramento\\\", \\\"Van Vleck Road and Jackson Highway\\\", 30.0, 95.0, \\\"NaN\\\", \\\"NaN\\\", -121.074736, 38.482401, \\\"Wildfire\\\", \\\"cd5d2222-9721-4800-a0b7-604d56b86a93\\\", \\\"https://www.fire.ca.gov/incidents/2025/9/29/vleck-fire/\\\", \\\"NaN\\\", \\\"NaN\\\", \\\"2025-09-29\\\", \\\"Y\\\", true, false], [\\\"Paloma Fire\\\", \\\"Y\\\", \\\"2025-09-30T21:41:00Z\\\", \\\"2025-09-30T01:08:26Z\\\", \\\"CAL FIRE Madera-Mariposa-Merced Unit\\\", \\\"___NaN___\\\", \\\"Mariposa\\\", \\\"Paloma Road and Hornitos Road\\\", 86.0, 100.0, \\\"NaN\\\", \\\"NaN\\\", -120.272427, 37.482008, \\\"Wildfire\\\", \\\"5fa1beec-2657-45ff-8f6c-3c16313ad424\\\", \\\"https://www.fire.ca.gov/incidents/2025/9/30/paloma-fire/\\\", \\\"2025-09-30T18:44:00Z\\\", \\\"2025-09-30\\\", \\\"2025-09-30\\\", \\\"N\\\", true, false]]\"};\n",
       "        new ITable(table, dt_args);\n",
       "    });\n",
       "</script>\n"
      ],
      "text/plain": [
       "<IPython.core.display.HTML object>"
      ]
     },
     "metadata": {},
     "output_type": "display_data"
    }
   ],
   "source": [
    "show(DF)"
   ]
  },
  {
   "cell_type": "markdown",
   "id": "941e4499-edd1-4210-b3ff-292dd2eb4df7",
   "metadata": {},
   "source": [
    "**Q1** How many variables and observations?\n",
    "\n",
    "23 variables and 3345 entries.\n",
    "\n",
    "**Q2** How many different incident types are there?\n",
    "\n",
    "23\n",
    "\n",
    "**Q3** Make a histogram of the acres burned and color the bars by whether or not the incident was a calfire incident. You will probably need to make a mask to remove very small and very large fires. How many fires burned more than 100,000 acres? What is the largest fire in the data?\n",
    "\n",
    "**Extra Q** EXTRA - CHALLENGE - See if you can create a graph that answers the question: Are fires getting bigger or more frequent over time? You get complete creative control on how to answer this question!"
   ]
  },
  {
   "cell_type": "code",
   "execution_count": 17,
   "id": "df36876b-02c2-4d86-b55b-62819a368bf6",
   "metadata": {},
   "outputs": [
    {
     "data": {
      "application/vnd.plotly.v1+json": {
       "config": {
        "plotlyServerURL": "https://plot.ly"
       },
       "data": [
        {
         "bingroup": "x",
         "hovertemplate": "incident_acres_burned=%{x}<br>count=%{y}<extra></extra>",
         "legendgroup": "",
         "marker": {
          "color": "#636efa",
          "pattern": {
           "shape": ""
          }
         },
         "name": "",
         "nbinsx": 10,
         "orientation": "v",
         "showlegend": false,
         "type": "histogram",
         "x": {
          "bdata": "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",
          "dtype": "f8"
         },
         "xaxis": "x",
         "yaxis": "y"
        }
       ],
       "layout": {
        "barmode": "relative",
        "legend": {
         "tracegroupgap": 0
        },
        "margin": {
         "t": 60
        },
        "template": {
         "data": {
          "bar": [
           {
            "error_x": {
             "color": "#2a3f5f"
            },
            "error_y": {
             "color": "#2a3f5f"
            },
            "marker": {
             "line": {
              "color": "#E5ECF6",
              "width": 0.5
             },
             "pattern": {
              "fillmode": "overlay",
              "size": 10,
              "solidity": 0.2
             }
            },
            "type": "bar"
           }
          ],
          "barpolar": [
           {
            "marker": {
             "line": {
              "color": "#E5ECF6",
              "width": 0.5
             },
             "pattern": {
              "fillmode": "overlay",
              "size": 10,
              "solidity": 0.2
             }
            },
            "type": "barpolar"
           }
          ],
          "carpet": [
           {
            "aaxis": {
             "endlinecolor": "#2a3f5f",
             "gridcolor": "white",
             "linecolor": "white",
             "minorgridcolor": "white",
             "startlinecolor": "#2a3f5f"
            },
            "baxis": {
             "endlinecolor": "#2a3f5f",
             "gridcolor": "white",
             "linecolor": "white",
             "minorgridcolor": "white",
             "startlinecolor": "#2a3f5f"
            },
            "type": "carpet"
           }
          ],
          "choropleth": [
           {
            "colorbar": {
             "outlinewidth": 0,
             "ticks": ""
            },
            "type": "choropleth"
           }
          ],
          "contour": [
           {
            "colorbar": {
             "outlinewidth": 0,
             "ticks": ""
            },
            "colorscale": [
             [
              0,
              "#0d0887"
             ],
             [
              0.1111111111111111,
              "#46039f"
             ],
             [
              0.2222222222222222,
              "#7201a8"
             ],
             [
              0.3333333333333333,
              "#9c179e"
             ],
             [
              0.4444444444444444,
              "#bd3786"
             ],
             [
              0.5555555555555556,
              "#d8576b"
             ],
             [
              0.6666666666666666,
              "#ed7953"
             ],
             [
              0.7777777777777778,
              "#fb9f3a"
             ],
             [
              0.8888888888888888,
              "#fdca26"
             ],
             [
              1,
              "#f0f921"
             ]
            ],
            "type": "contour"
           }
          ],
          "contourcarpet": [
           {
            "colorbar": {
             "outlinewidth": 0,
             "ticks": ""
            },
            "type": "contourcarpet"
           }
          ],
          "heatmap": [
           {
            "colorbar": {
             "outlinewidth": 0,
             "ticks": ""
            },
            "colorscale": [
             [
              0,
              "#0d0887"
             ],
             [
              0.1111111111111111,
              "#46039f"
             ],
             [
              0.2222222222222222,
              "#7201a8"
             ],
             [
              0.3333333333333333,
              "#9c179e"
             ],
             [
              0.4444444444444444,
              "#bd3786"
             ],
             [
              0.5555555555555556,
              "#d8576b"
             ],
             [
              0.6666666666666666,
              "#ed7953"
             ],
             [
              0.7777777777777778,
              "#fb9f3a"
             ],
             [
              0.8888888888888888,
              "#fdca26"
             ],
             [
              1,
              "#f0f921"
             ]
            ],
            "type": "heatmap"
           }
          ],
          "histogram": [
           {
            "marker": {
             "pattern": {
              "fillmode": "overlay",
              "size": 10,
              "solidity": 0.2
             }
            },
            "type": "histogram"
           }
          ],
          "histogram2d": [
           {
            "colorbar": {
             "outlinewidth": 0,
             "ticks": ""
            },
            "colorscale": [
             [
              0,
              "#0d0887"
             ],
             [
              0.1111111111111111,
              "#46039f"
             ],
             [
              0.2222222222222222,
              "#7201a8"
             ],
             [
              0.3333333333333333,
              "#9c179e"
             ],
             [
              0.4444444444444444,
              "#bd3786"
             ],
             [
              0.5555555555555556,
              "#d8576b"
             ],
             [
              0.6666666666666666,
              "#ed7953"
             ],
             [
              0.7777777777777778,
              "#fb9f3a"
             ],
             [
              0.8888888888888888,
              "#fdca26"
             ],
             [
              1,
              "#f0f921"
             ]
            ],
            "type": "histogram2d"
           }
          ],
          "histogram2dcontour": [
           {
            "colorbar": {
             "outlinewidth": 0,
             "ticks": ""
            },
            "colorscale": [
             [
              0,
              "#0d0887"
             ],
             [
              0.1111111111111111,
              "#46039f"
             ],
             [
              0.2222222222222222,
              "#7201a8"
             ],
             [
              0.3333333333333333,
              "#9c179e"
             ],
             [
              0.4444444444444444,
              "#bd3786"
             ],
             [
              0.5555555555555556,
              "#d8576b"
             ],
             [
              0.6666666666666666,
              "#ed7953"
             ],
             [
              0.7777777777777778,
              "#fb9f3a"
             ],
             [
              0.8888888888888888,
              "#fdca26"
             ],
             [
              1,
              "#f0f921"
             ]
            ],
            "type": "histogram2dcontour"
           }
          ],
          "mesh3d": [
           {
            "colorbar": {
             "outlinewidth": 0,
             "ticks": ""
            },
            "type": "mesh3d"
           }
          ],
          "parcoords": [
           {
            "line": {
             "colorbar": {
              "outlinewidth": 0,
              "ticks": ""
             }
            },
            "type": "parcoords"
           }
          ],
          "pie": [
           {
            "automargin": true,
            "type": "pie"
           }
          ],
          "scatter": [
           {
            "fillpattern": {
             "fillmode": "overlay",
             "size": 10,
             "solidity": 0.2
            },
            "type": "scatter"
           }
          ],
          "scatter3d": [
           {
            "line": {
             "colorbar": {
              "outlinewidth": 0,
              "ticks": ""
             }
            },
            "marker": {
             "colorbar": {
              "outlinewidth": 0,
              "ticks": ""
             }
            },
            "type": "scatter3d"
           }
          ],
          "scattercarpet": [
           {
            "marker": {
             "colorbar": {
              "outlinewidth": 0,
              "ticks": ""
             }
            },
            "type": "scattercarpet"
           }
          ],
          "scattergeo": [
           {
            "marker": {
             "colorbar": {
              "outlinewidth": 0,
              "ticks": ""
             }
            },
            "type": "scattergeo"
           }
          ],
          "scattergl": [
           {
            "marker": {
             "colorbar": {
              "outlinewidth": 0,
              "ticks": ""
             }
            },
            "type": "scattergl"
           }
          ],
          "scattermap": [
           {
            "marker": {
             "colorbar": {
              "outlinewidth": 0,
              "ticks": ""
             }
            },
            "type": "scattermap"
           }
          ],
          "scattermapbox": [
           {
            "marker": {
             "colorbar": {
              "outlinewidth": 0,
              "ticks": ""
             }
            },
            "type": "scattermapbox"
           }
          ],
          "scatterpolar": [
           {
            "marker": {
             "colorbar": {
              "outlinewidth": 0,
              "ticks": ""
             }
            },
            "type": "scatterpolar"
           }
          ],
          "scatterpolargl": [
           {
            "marker": {
             "colorbar": {
              "outlinewidth": 0,
              "ticks": ""
             }
            },
            "type": "scatterpolargl"
           }
          ],
          "scatterternary": [
           {
            "marker": {
             "colorbar": {
              "outlinewidth": 0,
              "ticks": ""
             }
            },
            "type": "scatterternary"
           }
          ],
          "surface": [
           {
            "colorbar": {
             "outlinewidth": 0,
             "ticks": ""
            },
            "colorscale": [
             [
              0,
              "#0d0887"
             ],
             [
              0.1111111111111111,
              "#46039f"
             ],
             [
              0.2222222222222222,
              "#7201a8"
             ],
             [
              0.3333333333333333,
              "#9c179e"
             ],
             [
              0.4444444444444444,
              "#bd3786"
             ],
             [
              0.5555555555555556,
              "#d8576b"
             ],
             [
              0.6666666666666666,
              "#ed7953"
             ],
             [
              0.7777777777777778,
              "#fb9f3a"
             ],
             [
              0.8888888888888888,
              "#fdca26"
             ],
             [
              1,
              "#f0f921"
             ]
            ],
            "type": "surface"
           }
          ],
          "table": [
           {
            "cells": {
             "fill": {
              "color": "#EBF0F8"
             },
             "line": {
              "color": "white"
             }
            },
            "header": {
             "fill": {
              "color": "#C8D4E3"
             },
             "line": {
              "color": "white"
             }
            },
            "type": "table"
           }
          ]
         },
         "layout": {
          "annotationdefaults": {
           "arrowcolor": "#2a3f5f",
           "arrowhead": 0,
           "arrowwidth": 1
          },
          "autotypenumbers": "strict",
          "coloraxis": {
           "colorbar": {
            "outlinewidth": 0,
            "ticks": ""
           }
          },
          "colorscale": {
           "diverging": [
            [
             0,
             "#8e0152"
            ],
            [
             0.1,
             "#c51b7d"
            ],
            [
             0.2,
             "#de77ae"
            ],
            [
             0.3,
             "#f1b6da"
            ],
            [
             0.4,
             "#fde0ef"
            ],
            [
             0.5,
             "#f7f7f7"
            ],
            [
             0.6,
             "#e6f5d0"
            ],
            [
             0.7,
             "#b8e186"
            ],
            [
             0.8,
             "#7fbc41"
            ],
            [
             0.9,
             "#4d9221"
            ],
            [
             1,
             "#276419"
            ]
           ],
           "sequential": [
            [
             0,
             "#0d0887"
            ],
            [
             0.1111111111111111,
             "#46039f"
            ],
            [
             0.2222222222222222,
             "#7201a8"
            ],
            [
             0.3333333333333333,
             "#9c179e"
            ],
            [
             0.4444444444444444,
             "#bd3786"
            ],
            [
             0.5555555555555556,
             "#d8576b"
            ],
            [
             0.6666666666666666,
             "#ed7953"
            ],
            [
             0.7777777777777778,
             "#fb9f3a"
            ],
            [
             0.8888888888888888,
             "#fdca26"
            ],
            [
             1,
             "#f0f921"
            ]
           ],
           "sequentialminus": [
            [
             0,
             "#0d0887"
            ],
            [
             0.1111111111111111,
             "#46039f"
            ],
            [
             0.2222222222222222,
             "#7201a8"
            ],
            [
             0.3333333333333333,
             "#9c179e"
            ],
            [
             0.4444444444444444,
             "#bd3786"
            ],
            [
             0.5555555555555556,
             "#d8576b"
            ],
            [
             0.6666666666666666,
             "#ed7953"
            ],
            [
             0.7777777777777778,
             "#fb9f3a"
            ],
            [
             0.8888888888888888,
             "#fdca26"
            ],
            [
             1,
             "#f0f921"
            ]
           ]
          },
          "colorway": [
           "#636efa",
           "#EF553B",
           "#00cc96",
           "#ab63fa",
           "#FFA15A",
           "#19d3f3",
           "#FF6692",
           "#B6E880",
           "#FF97FF",
           "#FECB52"
          ],
          "font": {
           "color": "#2a3f5f"
          },
          "geo": {
           "bgcolor": "white",
           "lakecolor": "white",
           "landcolor": "#E5ECF6",
           "showlakes": true,
           "showland": true,
           "subunitcolor": "white"
          },
          "hoverlabel": {
           "align": "left"
          },
          "hovermode": "closest",
          "mapbox": {
           "style": "light"
          },
          "paper_bgcolor": "white",
          "plot_bgcolor": "#E5ECF6",
          "polar": {
           "angularaxis": {
            "gridcolor": "white",
            "linecolor": "white",
            "ticks": ""
           },
           "bgcolor": "#E5ECF6",
           "radialaxis": {
            "gridcolor": "white",
            "linecolor": "white",
            "ticks": ""
           }
          },
          "scene": {
           "xaxis": {
            "backgroundcolor": "#E5ECF6",
            "gridcolor": "white",
            "gridwidth": 2,
            "linecolor": "white",
            "showbackground": true,
            "ticks": "",
            "zerolinecolor": "white"
           },
           "yaxis": {
            "backgroundcolor": "#E5ECF6",
            "gridcolor": "white",
            "gridwidth": 2,
            "linecolor": "white",
            "showbackground": true,
            "ticks": "",
            "zerolinecolor": "white"
           },
           "zaxis": {
            "backgroundcolor": "#E5ECF6",
            "gridcolor": "white",
            "gridwidth": 2,
            "linecolor": "white",
            "showbackground": true,
            "ticks": "",
            "zerolinecolor": "white"
           }
          },
          "shapedefaults": {
           "line": {
            "color": "#2a3f5f"
           }
          },
          "ternary": {
           "aaxis": {
            "gridcolor": "white",
            "linecolor": "white",
            "ticks": ""
           },
           "baxis": {
            "gridcolor": "white",
            "linecolor": "white",
            "ticks": ""
           },
           "bgcolor": "#E5ECF6",
           "caxis": {
            "gridcolor": "white",
            "linecolor": "white",
            "ticks": ""
           }
          },
          "title": {
           "x": 0.05
          },
          "xaxis": {
           "automargin": true,
           "gridcolor": "white",
           "linecolor": "white",
           "ticks": "",
           "title": {
            "standoff": 15
           },
           "zerolinecolor": "white",
           "zerolinewidth": 2
          },
          "yaxis": {
           "automargin": true,
           "gridcolor": "white",
           "linecolor": "white",
           "ticks": "",
           "title": {
            "standoff": 15
           },
           "zerolinecolor": "white",
           "zerolinewidth": 2
          }
         }
        },
        "xaxis": {
         "anchor": "y",
         "domain": [
          0,
          1
         ],
         "title": {
          "text": "incident_acres_burned"
         }
        },
        "yaxis": {
         "anchor": "x",
         "domain": [
          0,
          1
         ],
         "title": {
          "text": "count"
         }
        }
       }
      },
      "image/png": "[encoded data removed]"
     },
     "metadata": {},
     "output_type": "display_data"
    }
   ],
   "source": [
    "# You will need to write some code to answer the question 3.\n",
    "mask = DF['incident_acres_burned'] > 100_000\n",
    "DF_big = DF[mask]\n",
    "px.histogram(DF, x='incident_acres_burned',nbins=10)"
   ]
  },
  {
   "cell_type": "markdown",
   "id": "0e1f769b-d87d-429a-9de8-c35af020525d",
   "metadata": {},
   "source": [
    "**(Click Here)**\n",
    "\n"
   ]
  },
  {
   "cell_type": "code",
   "execution_count": 12,
   "id": "0388222e-a80b-4392-99cd-3966254c4017",
   "metadata": {},
   "outputs": [],
   "source": [
    "# Extra Code\n"
   ]
  },
  {
   "cell_type": "markdown",
   "id": "fa09683e-ac6a-4cb5-a47d-6cbf580524d2",
   "metadata": {},
   "source": [
    "## Try reading in some data from Wikipedia - html\n",
    "\n",
    "Here we will explore academy award winning films. Go to the [Wiki for the List of Academy Award Winning Films](https://en.wikipedia.org/wiki/List_of_Academy_Award%E2%80%93winning_films). Look at what type of data is there. How many tables? Any weird looking data?\n",
    "\n",
    "Now we will read the html data into Python and show the data in DF[0]"
   ]
  },
  {
   "cell_type": "code",
   "execution_count": 18,
   "id": "ddd62d4d-675f-4706-9b79-993e5b5ad343",
   "metadata": {},
   "outputs": [
    {
     "data": {
      "text/html": [
       "<div>\n",
       "<style scoped>\n",
       "    .dataframe tbody tr th:only-of-type {\n",
       "        vertical-align: middle;\n",
       "    }\n",
       "\n",
       "    .dataframe tbody tr th {\n",
       "        vertical-align: top;\n",
       "    }\n",
       "\n",
       "    .dataframe thead th {\n",
       "        text-align: right;\n",
       "    }\n",
       "</style>\n",
       "<table border=\"1\" class=\"dataframe\">\n",
       "  <thead>\n",
       "    <tr style=\"text-align: right;\">\n",
       "      <th></th>\n",
       "      <th>Film</th>\n",
       "      <th>Year</th>\n",
       "      <th>Awards</th>\n",
       "      <th>Nominations</th>\n",
       "    </tr>\n",
       "  </thead>\n",
       "  <tbody>\n",
       "    <tr>\n",
       "      <th>0</th>\n",
       "      <td>Anora</td>\n",
       "      <td>2024</td>\n",
       "      <td>5</td>\n",
       "      <td>6</td>\n",
       "    </tr>\n",
       "    <tr>\n",
       "      <th>1</th>\n",
       "      <td>The Brutalist</td>\n",
       "      <td>2024</td>\n",
       "      <td>3</td>\n",
       "      <td>10</td>\n",
       "    </tr>\n",
       "    <tr>\n",
       "      <th>2</th>\n",
       "      <td>Emilia Pérez</td>\n",
       "      <td>2024</td>\n",
       "      <td>2</td>\n",
       "      <td>13</td>\n",
       "    </tr>\n",
       "    <tr>\n",
       "      <th>3</th>\n",
       "      <td>Wicked</td>\n",
       "      <td>2024</td>\n",
       "      <td>2</td>\n",
       "      <td>10</td>\n",
       "    </tr>\n",
       "    <tr>\n",
       "      <th>4</th>\n",
       "      <td>Dune: Part Two</td>\n",
       "      <td>2024</td>\n",
       "      <td>2</td>\n",
       "      <td>5</td>\n",
       "    </tr>\n",
       "    <tr>\n",
       "      <th>...</th>\n",
       "      <td>...</td>\n",
       "      <td>...</td>\n",
       "      <td>...</td>\n",
       "      <td>...</td>\n",
       "    </tr>\n",
       "    <tr>\n",
       "      <th>1382</th>\n",
       "      <td>The Yankee Doodle Mouse</td>\n",
       "      <td>1943</td>\n",
       "      <td>1</td>\n",
       "      <td>1</td>\n",
       "    </tr>\n",
       "    <tr>\n",
       "      <th>1383</th>\n",
       "      <td>The Yearling</td>\n",
       "      <td>1946</td>\n",
       "      <td>2</td>\n",
       "      <td>7</td>\n",
       "    </tr>\n",
       "    <tr>\n",
       "      <th>1384</th>\n",
       "      <td>Yesterday, Today and Tomorrow (Ieri, oggi, dom...</td>\n",
       "      <td>1964</td>\n",
       "      <td>1</td>\n",
       "      <td>1</td>\n",
       "    </tr>\n",
       "    <tr>\n",
       "      <th>1385</th>\n",
       "      <td>You Can't Take It with You</td>\n",
       "      <td>1938</td>\n",
       "      <td>2</td>\n",
       "      <td>7</td>\n",
       "    </tr>\n",
       "    <tr>\n",
       "      <th>1386</th>\n",
       "      <td>Zorba the Greek (Alexis Zorbas)</td>\n",
       "      <td>1964</td>\n",
       "      <td>3</td>\n",
       "      <td>7</td>\n",
       "    </tr>\n",
       "  </tbody>\n",
       "</table>\n",
       "<p>1387 rows × 4 columns</p>\n",
       "</div>"
      ],
      "text/plain": [
       "                                                   Film  Year Awards  \\\n",
       "0                                                 Anora  2024      5   \n",
       "1                                         The Brutalist  2024      3   \n",
       "2                                          Emilia Pérez  2024      2   \n",
       "3                                                Wicked  2024      2   \n",
       "4                                        Dune: Part Two  2024      2   \n",
       "...                                                 ...   ...    ...   \n",
       "1382                            The Yankee Doodle Mouse  1943      1   \n",
       "1383                                       The Yearling  1946      2   \n",
       "1384  Yesterday, Today and Tomorrow (Ieri, oggi, dom...  1964      1   \n",
       "1385                         You Can't Take It with You  1938      2   \n",
       "1386                    Zorba the Greek (Alexis Zorbas)  1964      3   \n",
       "\n",
       "     Nominations  \n",
       "0              6  \n",
       "1             10  \n",
       "2             13  \n",
       "3             10  \n",
       "4              5  \n",
       "...          ...  \n",
       "1382           1  \n",
       "1383           7  \n",
       "1384           1  \n",
       "1385           7  \n",
       "1386           7  \n",
       "\n",
       "[1387 rows x 4 columns]"
      ]
     },
     "execution_count": 18,
     "metadata": {},
     "output_type": "execute_result"
    }
   ],
   "source": [
    "# Here is some helper code\n",
    "# This is code that will read in the data and then fix the Year column\n",
    "\n",
    "#####\n",
    "'''\n",
    "NOTE: Many websites try to stop you from scraping even simple tables. \n",
    "    In just one year wikipedia made big changes... so I changed the code here.\n",
    "    We can talk more about this code in class.\n",
    "'''\n",
    "import requests\n",
    "headers = {\n",
    "    'User-Agent': 'Mozilla/5.0 (Windows NT 10.0; Win64; x64) AppleWebKit/537.36 (KHTML, like Gecko) Chrome/91.0.4472.124 Safari/537.36'\n",
    "}\n",
    "my_website = \"https://en.wikipedia.org/wiki/List_of_Academy_Award%E2%80%93winning_films\"\n",
    "response = requests.get(my_website, headers=headers)\n",
    "#####\n",
    "\n",
    "# Normal pandas code\n",
    "DF = pd.read_html(response.content)\n",
    "DF_raw = DF[0]\n",
    "DF_raw['Year'] = DF_raw['Year'].apply(lambda x: int(x.split('/')[0]))\n",
    "DF_raw"
   ]
  },
  {
   "cell_type": "markdown",
   "id": "4c70b364-4c59-4631-87a4-552d7abaac2a",
   "metadata": {},
   "source": [
    "**Q4** Following along with the lecture notes or video, fix the data in the 'Awards' column."
   ]
  },
  {
   "cell_type": "code",
   "execution_count": 25,
   "id": "e51c0742-d796-4f63-a3e9-c98cdec76247",
   "metadata": {},
   "outputs": [
    {
     "ename": "TypeError",
     "evalue": "Could not convert string '532221111111117421111111111742111111111136211111111111132212221121111142111111223111113433111111111114322221111111110 (1)[1]36221111111111126311111111111114431111111111111373221111111343222111111111552111111111111443222111111163222111111111832211111111143221111111111111432221111111111133331111111111114522111111111111122111111111632211111111111442211111111111154411111111115422111111111175311111111111222111111192111111111111152222111111111110 (1)6222111111111111733211111111433211111111111542221111111173211111111110 (1)432221111111111433 (1)11111111111119311111111110 (1)43321111111111117221111111111118322111111110 (1)544211111110 (1)842111111111144 (1)3321111114322211 (1)1111154221111111110 (1)532111111111110 (1)46 (1)31 (1)111111113442111111110 (1)0 (1)5431111111110 (2)632111 (1)11111117221111111111381 (1)1111111115322211111111721111111111111343211111111115 (1)3211111111111110 (1)532221111111116532221111115532111111110 (1)321311111162131161112145115115211211111117 (1)10 (1)1120 (1)1112111111111121211711111111113113121111130 (1)111411111211111111111111112111113111111211111131111110 (2)211211111110 (1)0 (1)1180 (1)21 (1)13119111171118 (2)2111112121113211411114110 (1)2114111110 (1)1531311211111120 (1)4111510 (1)22 (1)111122111512111110 (1)1111117111231110 (2)11111224311111114511211113210 (1)11111211161111811221111111111111211181211111112221112610 (1)1111111111112110 (1)1121221323120 (1)141111 (1)1112121111110 (1)1111110 (1)1111241 (1)111140 (1)111121111 (1)13114111331110 (1)1110 (1)1111131111112111111111111134111111131111211111111111110 (1)1111101111111111521111211111111312123' to numeric",
     "output_type": "error",
     "traceback": [
      "\u001b[1;31m---------------------------------------------------------------------------\u001b[0m",
      "\u001b[1;31mTypeError\u001b[0m                                 Traceback (most recent call last)",
      "Cell \u001b[1;32mIn[25], line 2\u001b[0m\n\u001b[0;32m      1\u001b[0m \u001b[38;5;66;03m# Your code here\u001b[39;00m\n\u001b[1;32m----> 2\u001b[0m DF_raw[\u001b[38;5;124m'\u001b[39m\u001b[38;5;124mAwards\u001b[39m\u001b[38;5;124m'\u001b[39m]\u001b[38;5;241m.\u001b[39mmean()\n",
      "File \u001b[1;32m~\\anaconda3\\Lib\\site-packages\\pandas\\core\\series.py:6549\u001b[0m, in \u001b[0;36mSeries.mean\u001b[1;34m(self, axis, skipna, numeric_only, **kwargs)\u001b[0m\n\u001b[0;32m   6541\u001b[0m \u001b[38;5;129m@doc\u001b[39m(make_doc(\u001b[38;5;124m\"\u001b[39m\u001b[38;5;124mmean\u001b[39m\u001b[38;5;124m\"\u001b[39m, ndim\u001b[38;5;241m=\u001b[39m\u001b[38;5;241m1\u001b[39m))\n\u001b[0;32m   6542\u001b[0m \u001b[38;5;28;01mdef\u001b[39;00m\u001b[38;5;250m \u001b[39m\u001b[38;5;21mmean\u001b[39m(\n\u001b[0;32m   6543\u001b[0m     \u001b[38;5;28mself\u001b[39m,\n\u001b[1;32m   (...)\u001b[0m\n\u001b[0;32m   6547\u001b[0m     \u001b[38;5;241m*\u001b[39m\u001b[38;5;241m*\u001b[39mkwargs,\n\u001b[0;32m   6548\u001b[0m ):\n\u001b[1;32m-> 6549\u001b[0m     \u001b[38;5;28;01mreturn\u001b[39;00m NDFrame\u001b[38;5;241m.\u001b[39mmean(\u001b[38;5;28mself\u001b[39m, axis, skipna, numeric_only, \u001b[38;5;241m*\u001b[39m\u001b[38;5;241m*\u001b[39mkwargs)\n",
      "File \u001b[1;32m~\\anaconda3\\Lib\\site-packages\\pandas\\core\\generic.py:12420\u001b[0m, in \u001b[0;36mNDFrame.mean\u001b[1;34m(self, axis, skipna, numeric_only, **kwargs)\u001b[0m\n\u001b[0;32m  12413\u001b[0m \u001b[38;5;28;01mdef\u001b[39;00m\u001b[38;5;250m \u001b[39m\u001b[38;5;21mmean\u001b[39m(\n\u001b[0;32m  12414\u001b[0m     \u001b[38;5;28mself\u001b[39m,\n\u001b[0;32m  12415\u001b[0m     axis: Axis \u001b[38;5;241m|\u001b[39m \u001b[38;5;28;01mNone\u001b[39;00m \u001b[38;5;241m=\u001b[39m \u001b[38;5;241m0\u001b[39m,\n\u001b[1;32m   (...)\u001b[0m\n\u001b[0;32m  12418\u001b[0m     \u001b[38;5;241m*\u001b[39m\u001b[38;5;241m*\u001b[39mkwargs,\n\u001b[0;32m  12419\u001b[0m ) \u001b[38;5;241m-\u001b[39m\u001b[38;5;241m>\u001b[39m Series \u001b[38;5;241m|\u001b[39m \u001b[38;5;28mfloat\u001b[39m:\n\u001b[1;32m> 12420\u001b[0m     \u001b[38;5;28;01mreturn\u001b[39;00m \u001b[38;5;28mself\u001b[39m\u001b[38;5;241m.\u001b[39m_stat_function(\n\u001b[0;32m  12421\u001b[0m         \u001b[38;5;124m\"\u001b[39m\u001b[38;5;124mmean\u001b[39m\u001b[38;5;124m\"\u001b[39m, nanops\u001b[38;5;241m.\u001b[39mnanmean, axis, skipna, numeric_only, \u001b[38;5;241m*\u001b[39m\u001b[38;5;241m*\u001b[39mkwargs\n\u001b[0;32m  12422\u001b[0m     )\n",
      "File \u001b[1;32m~\\anaconda3\\Lib\\site-packages\\pandas\\core\\generic.py:12377\u001b[0m, in \u001b[0;36mNDFrame._stat_function\u001b[1;34m(self, name, func, axis, skipna, numeric_only, **kwargs)\u001b[0m\n\u001b[0;32m  12373\u001b[0m nv\u001b[38;5;241m.\u001b[39mvalidate_func(name, (), kwargs)\n\u001b[0;32m  12375\u001b[0m validate_bool_kwarg(skipna, \u001b[38;5;124m\"\u001b[39m\u001b[38;5;124mskipna\u001b[39m\u001b[38;5;124m\"\u001b[39m, none_allowed\u001b[38;5;241m=\u001b[39m\u001b[38;5;28;01mFalse\u001b[39;00m)\n\u001b[1;32m> 12377\u001b[0m \u001b[38;5;28;01mreturn\u001b[39;00m \u001b[38;5;28mself\u001b[39m\u001b[38;5;241m.\u001b[39m_reduce(\n\u001b[0;32m  12378\u001b[0m     func, name\u001b[38;5;241m=\u001b[39mname, axis\u001b[38;5;241m=\u001b[39maxis, skipna\u001b[38;5;241m=\u001b[39mskipna, numeric_only\u001b[38;5;241m=\u001b[39mnumeric_only\n\u001b[0;32m  12379\u001b[0m )\n",
      "File \u001b[1;32m~\\anaconda3\\Lib\\site-packages\\pandas\\core\\series.py:6457\u001b[0m, in \u001b[0;36mSeries._reduce\u001b[1;34m(self, op, name, axis, skipna, numeric_only, filter_type, **kwds)\u001b[0m\n\u001b[0;32m   6452\u001b[0m     \u001b[38;5;66;03m# GH#47500 - change to TypeError to match other methods\u001b[39;00m\n\u001b[0;32m   6453\u001b[0m     \u001b[38;5;28;01mraise\u001b[39;00m \u001b[38;5;167;01mTypeError\u001b[39;00m(\n\u001b[0;32m   6454\u001b[0m         \u001b[38;5;124mf\u001b[39m\u001b[38;5;124m\"\u001b[39m\u001b[38;5;124mSeries.\u001b[39m\u001b[38;5;132;01m{\u001b[39;00mname\u001b[38;5;132;01m}\u001b[39;00m\u001b[38;5;124m does not allow \u001b[39m\u001b[38;5;132;01m{\u001b[39;00mkwd_name\u001b[38;5;132;01m}\u001b[39;00m\u001b[38;5;124m=\u001b[39m\u001b[38;5;132;01m{\u001b[39;00mnumeric_only\u001b[38;5;132;01m}\u001b[39;00m\u001b[38;5;124m \u001b[39m\u001b[38;5;124m\"\u001b[39m\n\u001b[0;32m   6455\u001b[0m         \u001b[38;5;124m\"\u001b[39m\u001b[38;5;124mwith non-numeric dtypes.\u001b[39m\u001b[38;5;124m\"\u001b[39m\n\u001b[0;32m   6456\u001b[0m     )\n\u001b[1;32m-> 6457\u001b[0m \u001b[38;5;28;01mreturn\u001b[39;00m op(delegate, skipna\u001b[38;5;241m=\u001b[39mskipna, \u001b[38;5;241m*\u001b[39m\u001b[38;5;241m*\u001b[39mkwds)\n",
      "File \u001b[1;32m~\\anaconda3\\Lib\\site-packages\\pandas\\core\\nanops.py:147\u001b[0m, in \u001b[0;36mbottleneck_switch.__call__.<locals>.f\u001b[1;34m(values, axis, skipna, **kwds)\u001b[0m\n\u001b[0;32m    145\u001b[0m         result \u001b[38;5;241m=\u001b[39m alt(values, axis\u001b[38;5;241m=\u001b[39maxis, skipna\u001b[38;5;241m=\u001b[39mskipna, \u001b[38;5;241m*\u001b[39m\u001b[38;5;241m*\u001b[39mkwds)\n\u001b[0;32m    146\u001b[0m \u001b[38;5;28;01melse\u001b[39;00m:\n\u001b[1;32m--> 147\u001b[0m     result \u001b[38;5;241m=\u001b[39m alt(values, axis\u001b[38;5;241m=\u001b[39maxis, skipna\u001b[38;5;241m=\u001b[39mskipna, \u001b[38;5;241m*\u001b[39m\u001b[38;5;241m*\u001b[39mkwds)\n\u001b[0;32m    149\u001b[0m \u001b[38;5;28;01mreturn\u001b[39;00m result\n",
      "File \u001b[1;32m~\\anaconda3\\Lib\\site-packages\\pandas\\core\\nanops.py:404\u001b[0m, in \u001b[0;36m_datetimelike_compat.<locals>.new_func\u001b[1;34m(values, axis, skipna, mask, **kwargs)\u001b[0m\n\u001b[0;32m    401\u001b[0m \u001b[38;5;28;01mif\u001b[39;00m datetimelike \u001b[38;5;129;01mand\u001b[39;00m mask \u001b[38;5;129;01mis\u001b[39;00m \u001b[38;5;28;01mNone\u001b[39;00m:\n\u001b[0;32m    402\u001b[0m     mask \u001b[38;5;241m=\u001b[39m isna(values)\n\u001b[1;32m--> 404\u001b[0m result \u001b[38;5;241m=\u001b[39m func(values, axis\u001b[38;5;241m=\u001b[39maxis, skipna\u001b[38;5;241m=\u001b[39mskipna, mask\u001b[38;5;241m=\u001b[39mmask, \u001b[38;5;241m*\u001b[39m\u001b[38;5;241m*\u001b[39mkwargs)\n\u001b[0;32m    406\u001b[0m \u001b[38;5;28;01mif\u001b[39;00m datetimelike:\n\u001b[0;32m    407\u001b[0m     result \u001b[38;5;241m=\u001b[39m _wrap_results(result, orig_values\u001b[38;5;241m.\u001b[39mdtype, fill_value\u001b[38;5;241m=\u001b[39miNaT)\n",
      "File \u001b[1;32m~\\anaconda3\\Lib\\site-packages\\pandas\\core\\nanops.py:720\u001b[0m, in \u001b[0;36mnanmean\u001b[1;34m(values, axis, skipna, mask)\u001b[0m\n\u001b[0;32m    718\u001b[0m count \u001b[38;5;241m=\u001b[39m _get_counts(values\u001b[38;5;241m.\u001b[39mshape, mask, axis, dtype\u001b[38;5;241m=\u001b[39mdtype_count)\n\u001b[0;32m    719\u001b[0m the_sum \u001b[38;5;241m=\u001b[39m values\u001b[38;5;241m.\u001b[39msum(axis, dtype\u001b[38;5;241m=\u001b[39mdtype_sum)\n\u001b[1;32m--> 720\u001b[0m the_sum \u001b[38;5;241m=\u001b[39m _ensure_numeric(the_sum)\n\u001b[0;32m    722\u001b[0m \u001b[38;5;28;01mif\u001b[39;00m axis \u001b[38;5;129;01mis\u001b[39;00m \u001b[38;5;129;01mnot\u001b[39;00m \u001b[38;5;28;01mNone\u001b[39;00m \u001b[38;5;129;01mand\u001b[39;00m \u001b[38;5;28mgetattr\u001b[39m(the_sum, \u001b[38;5;124m\"\u001b[39m\u001b[38;5;124mndim\u001b[39m\u001b[38;5;124m\"\u001b[39m, \u001b[38;5;28;01mFalse\u001b[39;00m):\n\u001b[0;32m    723\u001b[0m     count \u001b[38;5;241m=\u001b[39m cast(np\u001b[38;5;241m.\u001b[39mndarray, count)\n",
      "File \u001b[1;32m~\\anaconda3\\Lib\\site-packages\\pandas\\core\\nanops.py:1701\u001b[0m, in \u001b[0;36m_ensure_numeric\u001b[1;34m(x)\u001b[0m\n\u001b[0;32m   1698\u001b[0m \u001b[38;5;28;01melif\u001b[39;00m \u001b[38;5;129;01mnot\u001b[39;00m (is_float(x) \u001b[38;5;129;01mor\u001b[39;00m is_integer(x) \u001b[38;5;129;01mor\u001b[39;00m is_complex(x)):\n\u001b[0;32m   1699\u001b[0m     \u001b[38;5;28;01mif\u001b[39;00m \u001b[38;5;28misinstance\u001b[39m(x, \u001b[38;5;28mstr\u001b[39m):\n\u001b[0;32m   1700\u001b[0m         \u001b[38;5;66;03m# GH#44008, GH#36703 avoid casting e.g. strings to numeric\u001b[39;00m\n\u001b[1;32m-> 1701\u001b[0m         \u001b[38;5;28;01mraise\u001b[39;00m \u001b[38;5;167;01mTypeError\u001b[39;00m(\u001b[38;5;124mf\u001b[39m\u001b[38;5;124m\"\u001b[39m\u001b[38;5;124mCould not convert string \u001b[39m\u001b[38;5;124m'\u001b[39m\u001b[38;5;132;01m{\u001b[39;00mx\u001b[38;5;132;01m}\u001b[39;00m\u001b[38;5;124m'\u001b[39m\u001b[38;5;124m to numeric\u001b[39m\u001b[38;5;124m\"\u001b[39m)\n\u001b[0;32m   1702\u001b[0m     \u001b[38;5;28;01mtry\u001b[39;00m:\n\u001b[0;32m   1703\u001b[0m         x \u001b[38;5;241m=\u001b[39m \u001b[38;5;28mfloat\u001b[39m(x)\n",
      "\u001b[1;31mTypeError\u001b[0m: Could not convert string '532221111111117421111111111742111111111136211111111111132212221121111142111111223111113433111111111114322221111111110 (1)[1]36221111111111126311111111111114431111111111111373221111111343222111111111552111111111111443222111111163222111111111832211111111143221111111111111432221111111111133331111111111114522111111111111122111111111632211111111111442211111111111154411111111115422111111111175311111111111222111111192111111111111152222111111111110 (1)6222111111111111733211111111433211111111111542221111111173211111111110 (1)432221111111111433 (1)11111111111119311111111110 (1)43321111111111117221111111111118322111111110 (1)544211111110 (1)842111111111144 (1)3321111114322211 (1)1111154221111111110 (1)532111111111110 (1)46 (1)31 (1)111111113442111111110 (1)0 (1)5431111111110 (2)632111 (1)11111117221111111111381 (1)1111111115322211111111721111111111111343211111111115 (1)3211111111111110 (1)532221111111116532221111115532111111110 (1)321311111162131161112145115115211211111117 (1)10 (1)1120 (1)1112111111111121211711111111113113121111130 (1)111411111211111111111111112111113111111211111131111110 (2)211211111110 (1)0 (1)1180 (1)21 (1)13119111171118 (2)2111112121113211411114110 (1)2114111110 (1)1531311211111120 (1)4111510 (1)22 (1)111122111512111110 (1)1111117111231110 (2)11111224311111114511211113210 (1)11111211161111811221111111111111211181211111112221112610 (1)1111111111112110 (1)1121221323120 (1)141111 (1)1112121111110 (1)1111110 (1)1111241 (1)111140 (1)111121111 (1)13114111331110 (1)1110 (1)1111131111112111111111111134111111131111211111111111110 (1)1111101111111111521111211111111312123' to numeric"
     ]
    }
   ],
   "source": [
    "# Your code here\n",
    "DF_raw['Awards'].mean()"
   ]
  },
  {
   "cell_type": "code",
   "execution_count": 24,
   "id": "f7e969ee-6267-406e-a2d9-82eb9371f088",
   "metadata": {},
   "outputs": [],
   "source": [
    "DF_raw['Year'] = DF_raw['Year'].apply(lambda x: str(x).split('(')[0])"
   ]
  },
  {
   "cell_type": "code",
   "execution_count": 26,
   "id": "a6ee4d46-6160-4068-87da-12eacacbab2c",
   "metadata": {},
   "outputs": [
    {
     "data": {
      "text/html": [
       "<div>\n",
       "<style scoped>\n",
       "    .dataframe tbody tr th:only-of-type {\n",
       "        vertical-align: middle;\n",
       "    }\n",
       "\n",
       "    .dataframe tbody tr th {\n",
       "        vertical-align: top;\n",
       "    }\n",
       "\n",
       "    .dataframe thead th {\n",
       "        text-align: right;\n",
       "    }\n",
       "</style>\n",
       "<table border=\"1\" class=\"dataframe\">\n",
       "  <thead>\n",
       "    <tr style=\"text-align: right;\">\n",
       "      <th></th>\n",
       "      <th>Year</th>\n",
       "      <th>count</th>\n",
       "    </tr>\n",
       "  </thead>\n",
       "  <tbody>\n",
       "    <tr>\n",
       "      <th>0</th>\n",
       "      <td>1945</td>\n",
       "      <td>21</td>\n",
       "    </tr>\n",
       "    <tr>\n",
       "      <th>1</th>\n",
       "      <td>1949</td>\n",
       "      <td>20</td>\n",
       "    </tr>\n",
       "    <tr>\n",
       "      <th>2</th>\n",
       "      <td>1942</td>\n",
       "      <td>20</td>\n",
       "    </tr>\n",
       "    <tr>\n",
       "      <th>3</th>\n",
       "      <td>1950</td>\n",
       "      <td>19</td>\n",
       "    </tr>\n",
       "    <tr>\n",
       "      <th>4</th>\n",
       "      <td>1941</td>\n",
       "      <td>19</td>\n",
       "    </tr>\n",
       "    <tr>\n",
       "      <th>...</th>\n",
       "      <td>...</td>\n",
       "      <td>...</td>\n",
       "    </tr>\n",
       "    <tr>\n",
       "      <th>92</th>\n",
       "      <td>1931</td>\n",
       "      <td>10</td>\n",
       "    </tr>\n",
       "    <tr>\n",
       "      <th>93</th>\n",
       "      <td>1932</td>\n",
       "      <td>9</td>\n",
       "    </tr>\n",
       "    <tr>\n",
       "      <th>94</th>\n",
       "      <td>1928</td>\n",
       "      <td>7</td>\n",
       "    </tr>\n",
       "    <tr>\n",
       "      <th>95</th>\n",
       "      <td>1929</td>\n",
       "      <td>6</td>\n",
       "    </tr>\n",
       "    <tr>\n",
       "      <th>96</th>\n",
       "      <td>1930</td>\n",
       "      <td>6</td>\n",
       "    </tr>\n",
       "  </tbody>\n",
       "</table>\n",
       "<p>97 rows × 2 columns</p>\n",
       "</div>"
      ],
      "text/plain": [
       "    Year  count\n",
       "0   1945     21\n",
       "1   1949     20\n",
       "2   1942     20\n",
       "3   1950     19\n",
       "4   1941     19\n",
       "..   ...    ...\n",
       "92  1931     10\n",
       "93  1932      9\n",
       "94  1928      7\n",
       "95  1929      6\n",
       "96  1930      6\n",
       "\n",
       "[97 rows x 2 columns]"
      ]
     },
     "execution_count": 26,
     "metadata": {},
     "output_type": "execute_result"
    }
   ],
   "source": [
    "year_data = DF_raw['Year'].value_counts()\n",
    "DF_year = year_data.reset_index().rename(columns={\"index\": \"value\", 0: \"count\"})\n",
    "DF_year"
   ]
  },
  {
   "cell_type": "markdown",
   "id": "ada5ce86-e820-481b-a8c8-ab5f063b0ad5",
   "metadata": {},
   "source": [
    "**Q5** Now try to fix the data in the \"Nominations\" column - see if you can do it without looking at the answer."
   ]
  },
  {
   "cell_type": "code",
   "execution_count": 27,
   "id": "57571cc2-dbca-4354-b0db-676b03005f3c",
   "metadata": {},
   "outputs": [
    {
     "data": {
      "text/html": [
       "<!--| quarto-html-table-processing: none -->\n",
       "<table id=\"itables_123a996e_cf42_43c3_93ed_3a132b921e08\"><tbody><tr>\n",
       "    <td style=\"vertical-align:middle; text-align:left\">\n",
       "    <a href=https://mwouts.github.io/itables/><svg class=\"main-svg\" xmlns=\"http://www.w3.org/2000/svg\" xmlns:xlink=\"http://www.w3.org/1999/xlink\"\n",
       "width=\"64\" viewBox=\"0 0 500 400\" style=\"font-family: 'Droid Sans', sans-serif;\">\n",
       "    <g style=\"fill:#d9d7fc\">\n",
       "        <path d=\"M100,400H500V357H100Z\" />\n",
       "        <path d=\"M100,300H400V257H100Z\" />\n",
       "        <path d=\"M0,200H400V157H0Z\" />\n",
       "        <path d=\"M100,100H500V57H100Z\" />\n",
       "        <path d=\"M100,350H500V307H100Z\" />\n",
       "        <path d=\"M100,250H400V207H100Z\" />\n",
       "        <path d=\"M0,150H400V107H0Z\" />\n",
       "        <path d=\"M100,50H500V7H100Z\" />\n",
       "    </g>\n",
       "    <g style=\"fill:#1a1366;stroke:#1a1366;\">\n",
       "   <rect x=\"100\" y=\"7\" width=\"400\" height=\"43\">\n",
       "    <animate\n",
       "      attributeName=\"width\"\n",
       "      values=\"0;400;0\"\n",
       "      dur=\"5s\"\n",
       "      repeatCount=\"indefinite\" />\n",
       "      <animate\n",
       "      attributeName=\"x\"\n",
       "      values=\"100;100;500\"\n",
       "      dur=\"5s\"\n",
       "      repeatCount=\"indefinite\" />\n",
       "  </rect>\n",
       "        <rect x=\"0\" y=\"107\" width=\"400\" height=\"43\">\n",
       "    <animate\n",
       "      attributeName=\"width\"\n",
       "      values=\"0;400;0\"\n",
       "      dur=\"3.5s\"\n",
       "      repeatCount=\"indefinite\" />\n",
       "    <animate\n",
       "      attributeName=\"x\"\n",
       "      values=\"0;0;400\"\n",
       "      dur=\"3.5s\"\n",
       "      repeatCount=\"indefinite\" />\n",
       "  </rect>\n",
       "        <rect x=\"100\" y=\"207\" width=\"300\" height=\"43\">\n",
       "    <animate\n",
       "      attributeName=\"width\"\n",
       "      values=\"0;300;0\"\n",
       "      dur=\"3s\"\n",
       "      repeatCount=\"indefinite\" />\n",
       "    <animate\n",
       "      attributeName=\"x\"\n",
       "      values=\"100;100;400\"\n",
       "      dur=\"3s\"\n",
       "      repeatCount=\"indefinite\" />\n",
       "  </rect>\n",
       "        <rect x=\"100\" y=\"307\" width=\"400\" height=\"43\">\n",
       "    <animate\n",
       "      attributeName=\"width\"\n",
       "      values=\"0;400;0\"\n",
       "      dur=\"4s\"\n",
       "      repeatCount=\"indefinite\" />\n",
       "      <animate\n",
       "      attributeName=\"x\"\n",
       "      values=\"100;100;500\"\n",
       "      dur=\"4s\"\n",
       "      repeatCount=\"indefinite\" />\n",
       "  </rect>\n",
       "        <g style=\"fill:transparent;stroke-width:8; stroke-linejoin:round\" rx=\"5\">\n",
       "            <g transform=\"translate(45 50) rotate(-45)\">\n",
       "                <circle r=\"33\" cx=\"0\" cy=\"0\" />\n",
       "                <rect x=\"-8\" y=\"32\" width=\"16\" height=\"30\" />\n",
       "            </g>\n",
       "\n",
       "            <g transform=\"translate(450 152)\">\n",
       "                <polyline points=\"-15,-20 -35,-20 -35,40 25,40 25,20\" />\n",
       "                <rect x=\"-15\" y=\"-40\" width=\"60\" height=\"60\" />\n",
       "            </g>\n",
       "\n",
       "            <g transform=\"translate(50 352)\">\n",
       "                <polygon points=\"-35,-5 0,-40 35,-5\" />\n",
       "                <polygon points=\"-35,10 0,45 35,10\" />\n",
       "            </g>\n",
       "\n",
       "            <g transform=\"translate(75 250)\">\n",
       "                <polyline points=\"-30,30 -60,0 -30,-30\" />\n",
       "                <polyline points=\"0,30 -30,0 0,-30\" />\n",
       "            </g>\n",
       "\n",
       "            <g transform=\"translate(425 250) rotate(180)\">\n",
       "                <polyline points=\"-30,30 -60,0 -30,-30\" />\n",
       "                <polyline points=\"0,30 -30,0 0,-30\" />\n",
       "            </g>\n",
       "        </g>\n",
       "    </g>\n",
       "</svg>\n",
       "</a>\n",
       "    Loading ITables v2.5.2 from the internet...\n",
       "    (need <a href=https://mwouts.github.io/itables/troubleshooting.html>help</a>?)</td>\n",
       "    </tr></tbody></table>\n",
       "<link href=\"https://www.unpkg.com/dt_for_itables@2.4.0/dt_bundle.css\" rel=\"stylesheet\">\n",
       "<script type=\"module\">\n",
       "    import { ITable, jQuery as $ } from 'https://www.unpkg.com/dt_for_itables@2.4.0/dt_bundle.js';\n",
       "\n",
       "    document.querySelectorAll(\"#itables_123a996e_cf42_43c3_93ed_3a132b921e08:not(.dataTable)\").forEach(table => {\n",
       "        if (!(table instanceof HTMLTableElement))\n",
       "            return;\n",
       "\n",
       "        let dt_args = {\"layout\": {\"topStart\": \"pageLength\", \"topEnd\": \"search\", \"bottomStart\": \"info\", \"bottomEnd\": \"paging\"}, \"order\": [], \"classes\": [\"display\", \"nowrap\"], \"style\": {\"table-layout\": \"auto\", \"width\": \"auto\", \"margin\": \"auto\", \"caption-side\": \"bottom\"}, \"text_in_header_can_be_selected\": true, \"table_html\": \"<table><thead>\\n    <tr style=\\\"text-align: right;\\\">\\n      \\n      <th>Nominations</th>\\n      <th>count</th>\\n    </tr>\\n  </thead></table>\", \"data_json\": \"[[\\\"1\\\", 554], [\\\"2\\\", 143], [\\\"4\\\", 113], [\\\"5\\\", 106], [\\\"3\\\", 104], [\\\"6\\\", 79], [\\\"7\\\", 75], [\\\"8\\\", 62], [\\\"10\\\", 41], [\\\"9\\\", 31], [\\\"11\\\", 24], [\\\"12\\\", 17], [\\\"0\\\", 14], [\\\"13\\\", 12], [\\\"14\\\", 3], [\\\"1[2]\\\", 1], [\\\"3[3]\\\", 1], [\\\"10[4]\\\", 1], [\\\"1[5]\\\", 1], [\\\"1[6]\\\", 1], [\\\"4[7]\\\", 1], [\\\"6[8]\\\", 1], [\\\"4[9]\\\", 1], [\\\"6[10]\\\", 1]]\"};\n",
       "        new ITable(table, dt_args);\n",
       "    });\n",
       "</script>\n"
      ],
      "text/plain": [
       "<IPython.core.display.HTML object>"
      ]
     },
     "metadata": {},
     "output_type": "display_data"
    },
    {
     "name": "stdout",
     "output_type": "stream",
     "text": [
      "I can see that I want the data to the left of the [ character\n"
     ]
    },
    {
     "data": {
      "text/html": [
       "<!--| quarto-html-table-processing: none -->\n",
       "<table id=\"itables_bd05ec70_e9d5_4806_babf_1f4acd9e2a2b\"><tbody><tr>\n",
       "    <td style=\"vertical-align:middle; text-align:left\">\n",
       "    <a href=https://mwouts.github.io/itables/><svg class=\"main-svg\" xmlns=\"http://www.w3.org/2000/svg\" xmlns:xlink=\"http://www.w3.org/1999/xlink\"\n",
       "width=\"64\" viewBox=\"0 0 500 400\" style=\"font-family: 'Droid Sans', sans-serif;\">\n",
       "    <g style=\"fill:#d9d7fc\">\n",
       "        <path d=\"M100,400H500V357H100Z\" />\n",
       "        <path d=\"M100,300H400V257H100Z\" />\n",
       "        <path d=\"M0,200H400V157H0Z\" />\n",
       "        <path d=\"M100,100H500V57H100Z\" />\n",
       "        <path d=\"M100,350H500V307H100Z\" />\n",
       "        <path d=\"M100,250H400V207H100Z\" />\n",
       "        <path d=\"M0,150H400V107H0Z\" />\n",
       "        <path d=\"M100,50H500V7H100Z\" />\n",
       "    </g>\n",
       "    <g style=\"fill:#1a1366;stroke:#1a1366;\">\n",
       "   <rect x=\"100\" y=\"7\" width=\"400\" height=\"43\">\n",
       "    <animate\n",
       "      attributeName=\"width\"\n",
       "      values=\"0;400;0\"\n",
       "      dur=\"5s\"\n",
       "      repeatCount=\"indefinite\" />\n",
       "      <animate\n",
       "      attributeName=\"x\"\n",
       "      values=\"100;100;500\"\n",
       "      dur=\"5s\"\n",
       "      repeatCount=\"indefinite\" />\n",
       "  </rect>\n",
       "        <rect x=\"0\" y=\"107\" width=\"400\" height=\"43\">\n",
       "    <animate\n",
       "      attributeName=\"width\"\n",
       "      values=\"0;400;0\"\n",
       "      dur=\"3.5s\"\n",
       "      repeatCount=\"indefinite\" />\n",
       "    <animate\n",
       "      attributeName=\"x\"\n",
       "      values=\"0;0;400\"\n",
       "      dur=\"3.5s\"\n",
       "      repeatCount=\"indefinite\" />\n",
       "  </rect>\n",
       "        <rect x=\"100\" y=\"207\" width=\"300\" height=\"43\">\n",
       "    <animate\n",
       "      attributeName=\"width\"\n",
       "      values=\"0;300;0\"\n",
       "      dur=\"3s\"\n",
       "      repeatCount=\"indefinite\" />\n",
       "    <animate\n",
       "      attributeName=\"x\"\n",
       "      values=\"100;100;400\"\n",
       "      dur=\"3s\"\n",
       "      repeatCount=\"indefinite\" />\n",
       "  </rect>\n",
       "        <rect x=\"100\" y=\"307\" width=\"400\" height=\"43\">\n",
       "    <animate\n",
       "      attributeName=\"width\"\n",
       "      values=\"0;400;0\"\n",
       "      dur=\"4s\"\n",
       "      repeatCount=\"indefinite\" />\n",
       "      <animate\n",
       "      attributeName=\"x\"\n",
       "      values=\"100;100;500\"\n",
       "      dur=\"4s\"\n",
       "      repeatCount=\"indefinite\" />\n",
       "  </rect>\n",
       "        <g style=\"fill:transparent;stroke-width:8; stroke-linejoin:round\" rx=\"5\">\n",
       "            <g transform=\"translate(45 50) rotate(-45)\">\n",
       "                <circle r=\"33\" cx=\"0\" cy=\"0\" />\n",
       "                <rect x=\"-8\" y=\"32\" width=\"16\" height=\"30\" />\n",
       "            </g>\n",
       "\n",
       "            <g transform=\"translate(450 152)\">\n",
       "                <polyline points=\"-15,-20 -35,-20 -35,40 25,40 25,20\" />\n",
       "                <rect x=\"-15\" y=\"-40\" width=\"60\" height=\"60\" />\n",
       "            </g>\n",
       "\n",
       "            <g transform=\"translate(50 352)\">\n",
       "                <polygon points=\"-35,-5 0,-40 35,-5\" />\n",
       "                <polygon points=\"-35,10 0,45 35,10\" />\n",
       "            </g>\n",
       "\n",
       "            <g transform=\"translate(75 250)\">\n",
       "                <polyline points=\"-30,30 -60,0 -30,-30\" />\n",
       "                <polyline points=\"0,30 -30,0 0,-30\" />\n",
       "            </g>\n",
       "\n",
       "            <g transform=\"translate(425 250) rotate(180)\">\n",
       "                <polyline points=\"-30,30 -60,0 -30,-30\" />\n",
       "                <polyline points=\"0,30 -30,0 0,-30\" />\n",
       "            </g>\n",
       "        </g>\n",
       "    </g>\n",
       "</svg>\n",
       "</a>\n",
       "    Loading ITables v2.5.2 from the internet...\n",
       "    (need <a href=https://mwouts.github.io/itables/troubleshooting.html>help</a>?)</td>\n",
       "    </tr></tbody></table>\n",
       "<link href=\"https://www.unpkg.com/dt_for_itables@2.4.0/dt_bundle.css\" rel=\"stylesheet\">\n",
       "<script type=\"module\">\n",
       "    import { ITable, jQuery as $ } from 'https://www.unpkg.com/dt_for_itables@2.4.0/dt_bundle.js';\n",
       "\n",
       "    document.querySelectorAll(\"#itables_bd05ec70_e9d5_4806_babf_1f4acd9e2a2b:not(.dataTable)\").forEach(table => {\n",
       "        if (!(table instanceof HTMLTableElement))\n",
       "            return;\n",
       "\n",
       "        let dt_args = {\"layout\": {\"topStart\": \"pageLength\", \"topEnd\": \"search\", \"bottomStart\": \"info\", \"bottomEnd\": \"paging\"}, \"order\": [], \"classes\": [\"display\", \"nowrap\"], \"style\": {\"table-layout\": \"auto\", \"width\": \"auto\", \"margin\": \"auto\", \"caption-side\": \"bottom\"}, \"text_in_header_can_be_selected\": true, \"table_html\": \"<table><thead>\\n    <tr style=\\\"text-align: right;\\\">\\n      \\n      <th>Awards</th>\\n      <th>count</th>\\n    </tr>\\n  </thead></table>\", \"data_json\": \"[[\\\"1\\\", 988], [\\\"2\\\", 159], [\\\"3\\\", 78], [\\\"4\\\", 47], [\\\"0 (1)\\\", 32], [\\\"5\\\", 26], [\\\"7\\\", 12], [\\\"6\\\", 12], [\\\"1 (1)\\\", 8], [\\\"8\\\", 7], [\\\"9\\\", 3], [\\\"11\\\", 3], [\\\"0 (2)\\\", 3], [\\\"0 (1)[1]\\\", 1], [\\\"4 (1)\\\", 1], [\\\"3 (1)\\\", 1], [\\\"6 (1)\\\", 1], [\\\"5 (1)\\\", 1], [\\\"7 (1)\\\", 1], [\\\"8 (2)\\\", 1], [\\\"2 (1)\\\", 1], [\\\"10\\\", 1]]\"};\n",
       "        new ITable(table, dt_args);\n",
       "    });\n",
       "</script>\n"
      ],
      "text/plain": [
       "<IPython.core.display.HTML object>"
      ]
     },
     "metadata": {},
     "output_type": "display_data"
    },
    {
     "data": {
      "text/plain": [
       "Film           object\n",
       "Year           object\n",
       "Awards         object\n",
       "Nominations     int64\n",
       "dtype: object"
      ]
     },
     "execution_count": 27,
     "metadata": {},
     "output_type": "execute_result"
    }
   ],
   "source": [
    "# Your code here\n",
    "nom_data = DF_raw['Nominations'].value_counts()\n",
    "DF_nom = nom_data.reset_index().rename(columns={\"index\": \"value\", 0: \"count\"})\n",
    "show(DF_nom)\n",
    "print('I can see that I want the data to the left of the [ character')\n",
    "\n",
    "DF_raw['Nominations'] = DF_raw['Nominations'].apply(lambda x: int(x.split('[')[0]))\n",
    "award_data = DF_raw['Awards'].value_counts()\n",
    "DF_award = award_data.reset_index().rename(columns={\"index\": \"value\", 0: \"count\"})\n",
    "show(DF_award)\n",
    "\n",
    "DF_raw.dtypes"
   ]
  },
  {
   "cell_type": "markdown",
   "id": "8f1c8227-7b3e-4067-9b49-bd9c58752402",
   "metadata": {},
   "source": [
    "## Problem 1\n",
    "\n",
    "Your homework today will be to see if you can find some data of your own. This can be the first steps you take toward your final project. \n",
    "\n",
    "You should:\n",
    "\n",
    "* Find some data online\n",
    "* Read that data into Python using the Pandas commands we learned\n",
    "* Look at the DataFrame - number of variables, number of observations, AND the dtypes. Comment on what you see.\n",
    "* Try to do summary statistics (.describe()). Does it work like expected?\n",
    "* Attempt to fix any data, or explain why the data does not need to be fixed.\n",
    "* Make some sort of graph using columns in your data."
   ]
  },
  {
   "cell_type": "code",
   "execution_count": 38,
   "id": "578ad570-5dfa-46a0-86c8-f4610bacaf36",
   "metadata": {},
   "outputs": [
    {
     "name": "stdout",
     "output_type": "stream",
     "text": [
      "Collecting nba_api\n",
      "  Downloading nba_api-1.10.2-py3-none-any.whl.metadata (5.8 kB)Note: you may need to restart the kernel to use updated packages.\n",
      "Requirement already satisfied: pandas in c:\\users\\brayd\\anaconda3\\lib\\site-packages (2.2.3)\n",
      "\n",
      "Requirement already satisfied: numpy>=2.1.0 in c:\\users\\brayd\\anaconda3\\lib\\site-packages (from nba_api) (2.1.3)\n",
      "Requirement already satisfied: requests<3.0.0,>=2.32.3 in c:\\users\\brayd\\anaconda3\\lib\\site-packages (from nba_api) (2.32.3)\n",
      "Requirement already satisfied: charset-normalizer<4,>=2 in c:\\users\\brayd\\anaconda3\\lib\\site-packages (from requests<3.0.0,>=2.32.3->nba_api) (3.3.2)\n",
      "Requirement already satisfied: idna<4,>=2.5 in c:\\users\\brayd\\anaconda3\\lib\\site-packages (from requests<3.0.0,>=2.32.3->nba_api) (3.7)\n",
      "Requirement already satisfied: urllib3<3,>=1.21.1 in c:\\users\\brayd\\anaconda3\\lib\\site-packages (from requests<3.0.0,>=2.32.3->nba_api) (2.3.0)\n",
      "Requirement already satisfied: certifi>=2017.4.17 in c:\\users\\brayd\\anaconda3\\lib\\site-packages (from requests<3.0.0,>=2.32.3->nba_api) (2025.10.5)\n",
      "Requirement already satisfied: python-dateutil>=2.8.2 in c:\\users\\brayd\\anaconda3\\lib\\site-packages (from pandas) (2.9.0.post0)\n",
      "Requirement already satisfied: pytz>=2020.1 in c:\\users\\brayd\\anaconda3\\lib\\site-packages (from pandas) (2024.1)\n",
      "Requirement already satisfied: tzdata>=2022.7 in c:\\users\\brayd\\anaconda3\\lib\\site-packages (from pandas) (2025.2)\n",
      "Requirement already satisfied: six>=1.5 in c:\\users\\brayd\\anaconda3\\lib\\site-packages (from python-dateutil>=2.8.2->pandas) (1.17.0)\n",
      "Downloading nba_api-1.10.2-py3-none-any.whl (286 kB)\n",
      "Installing collected packages: nba_api\n",
      "Successfully installed nba_api-1.10.2\n"
     ]
    }
   ],
   "source": [
    "pip install nba_api pandas"
   ]
  },
  {
   "cell_type": "code",
   "execution_count": 39,
   "id": "a2b26610-f229-43ac-8435-4de30cb2463a",
   "metadata": {},
   "outputs": [],
   "source": [
    "    from nba_api.stats.endpoints import playercareerstats\n",
    "    import pandas as pd\n",
    "\n",
    "    # Fetch career stats for LeBron James (Player ID: 2544)\n",
    "    career = playercareerstats.PlayerCareerStats(player_id='2544')\n",
    "    career_data = career.get_data_frames()[0] # The first DataFrame typically contains overall career stats"
   ]
  },
  {
   "cell_type": "code",
   "execution_count": 44,
   "id": "e5ab3f25-580a-4afc-8e7d-c4c0fcd150ff",
   "metadata": {},
   "outputs": [
    {
     "name": "stdout",
     "output_type": "stream",
     "text": [
      "LeBron James' career statistics saved to 'lebron_career_stats.csv'\n"
     ]
    }
   ],
   "source": [
    " career_data.to_csv('lebron_career_stats.csv', index=False)\n",
    "print(\"LeBron James' career statistics saved to 'lebron_career_stats.csv'\")"
   ]
  },
  {
   "cell_type": "code",
   "execution_count": 46,
   "id": "a269b7df-963b-461c-b0b1-f0739793f374",
   "metadata": {},
   "outputs": [],
   "source": [
    "DF = pd.read_csv('lebron_career_stats.csv')"
   ]
  },
  {
   "cell_type": "code",
   "execution_count": 47,
   "id": "63b5eeb7-b999-4cb1-ad79-2a0c0b39a737",
   "metadata": {},
   "outputs": [
    {
     "data": {
      "text/html": [
       "<!--| quarto-html-table-processing: none -->\n",
       "<table id=\"itables_02cac062_93c7_40fa_bb8e_5e73d991deec\"><tbody><tr>\n",
       "    <td style=\"vertical-align:middle; text-align:left\">\n",
       "    <a href=https://mwouts.github.io/itables/><svg class=\"main-svg\" xmlns=\"http://www.w3.org/2000/svg\" xmlns:xlink=\"http://www.w3.org/1999/xlink\"\n",
       "width=\"64\" viewBox=\"0 0 500 400\" style=\"font-family: 'Droid Sans', sans-serif;\">\n",
       "    <g style=\"fill:#d9d7fc\">\n",
       "        <path d=\"M100,400H500V357H100Z\" />\n",
       "        <path d=\"M100,300H400V257H100Z\" />\n",
       "        <path d=\"M0,200H400V157H0Z\" />\n",
       "        <path d=\"M100,100H500V57H100Z\" />\n",
       "        <path d=\"M100,350H500V307H100Z\" />\n",
       "        <path d=\"M100,250H400V207H100Z\" />\n",
       "        <path d=\"M0,150H400V107H0Z\" />\n",
       "        <path d=\"M100,50H500V7H100Z\" />\n",
       "    </g>\n",
       "    <g style=\"fill:#1a1366;stroke:#1a1366;\">\n",
       "   <rect x=\"100\" y=\"7\" width=\"400\" height=\"43\">\n",
       "    <animate\n",
       "      attributeName=\"width\"\n",
       "      values=\"0;400;0\"\n",
       "      dur=\"5s\"\n",
       "      repeatCount=\"indefinite\" />\n",
       "      <animate\n",
       "      attributeName=\"x\"\n",
       "      values=\"100;100;500\"\n",
       "      dur=\"5s\"\n",
       "      repeatCount=\"indefinite\" />\n",
       "  </rect>\n",
       "        <rect x=\"0\" y=\"107\" width=\"400\" height=\"43\">\n",
       "    <animate\n",
       "      attributeName=\"width\"\n",
       "      values=\"0;400;0\"\n",
       "      dur=\"3.5s\"\n",
       "      repeatCount=\"indefinite\" />\n",
       "    <animate\n",
       "      attributeName=\"x\"\n",
       "      values=\"0;0;400\"\n",
       "      dur=\"3.5s\"\n",
       "      repeatCount=\"indefinite\" />\n",
       "  </rect>\n",
       "        <rect x=\"100\" y=\"207\" width=\"300\" height=\"43\">\n",
       "    <animate\n",
       "      attributeName=\"width\"\n",
       "      values=\"0;300;0\"\n",
       "      dur=\"3s\"\n",
       "      repeatCount=\"indefinite\" />\n",
       "    <animate\n",
       "      attributeName=\"x\"\n",
       "      values=\"100;100;400\"\n",
       "      dur=\"3s\"\n",
       "      repeatCount=\"indefinite\" />\n",
       "  </rect>\n",
       "        <rect x=\"100\" y=\"307\" width=\"400\" height=\"43\">\n",
       "    <animate\n",
       "      attributeName=\"width\"\n",
       "      values=\"0;400;0\"\n",
       "      dur=\"4s\"\n",
       "      repeatCount=\"indefinite\" />\n",
       "      <animate\n",
       "      attributeName=\"x\"\n",
       "      values=\"100;100;500\"\n",
       "      dur=\"4s\"\n",
       "      repeatCount=\"indefinite\" />\n",
       "  </rect>\n",
       "        <g style=\"fill:transparent;stroke-width:8; stroke-linejoin:round\" rx=\"5\">\n",
       "            <g transform=\"translate(45 50) rotate(-45)\">\n",
       "                <circle r=\"33\" cx=\"0\" cy=\"0\" />\n",
       "                <rect x=\"-8\" y=\"32\" width=\"16\" height=\"30\" />\n",
       "            </g>\n",
       "\n",
       "            <g transform=\"translate(450 152)\">\n",
       "                <polyline points=\"-15,-20 -35,-20 -35,40 25,40 25,20\" />\n",
       "                <rect x=\"-15\" y=\"-40\" width=\"60\" height=\"60\" />\n",
       "            </g>\n",
       "\n",
       "            <g transform=\"translate(50 352)\">\n",
       "                <polygon points=\"-35,-5 0,-40 35,-5\" />\n",
       "                <polygon points=\"-35,10 0,45 35,10\" />\n",
       "            </g>\n",
       "\n",
       "            <g transform=\"translate(75 250)\">\n",
       "                <polyline points=\"-30,30 -60,0 -30,-30\" />\n",
       "                <polyline points=\"0,30 -30,0 0,-30\" />\n",
       "            </g>\n",
       "\n",
       "            <g transform=\"translate(425 250) rotate(180)\">\n",
       "                <polyline points=\"-30,30 -60,0 -30,-30\" />\n",
       "                <polyline points=\"0,30 -30,0 0,-30\" />\n",
       "            </g>\n",
       "        </g>\n",
       "    </g>\n",
       "</svg>\n",
       "</a>\n",
       "    Loading ITables v2.5.2 from the internet...\n",
       "    (need <a href=https://mwouts.github.io/itables/troubleshooting.html>help</a>?)</td>\n",
       "    </tr></tbody></table>\n",
       "<link href=\"https://www.unpkg.com/dt_for_itables@2.4.0/dt_bundle.css\" rel=\"stylesheet\">\n",
       "<script type=\"module\">\n",
       "    import { ITable, jQuery as $ } from 'https://www.unpkg.com/dt_for_itables@2.4.0/dt_bundle.js';\n",
       "\n",
       "    document.querySelectorAll(\"#itables_02cac062_93c7_40fa_bb8e_5e73d991deec:not(.dataTable)\").forEach(table => {\n",
       "        if (!(table instanceof HTMLTableElement))\n",
       "            return;\n",
       "\n",
       "        let dt_args = {\"layout\": {\"topStart\": \"pageLength\", \"topEnd\": \"search\", \"bottomStart\": \"info\", \"bottomEnd\": \"paging\"}, \"order\": [], \"classes\": [\"display\", \"nowrap\"], \"style\": {\"table-layout\": \"auto\", \"width\": \"auto\", \"margin\": \"auto\", \"caption-side\": \"bottom\"}, \"text_in_header_can_be_selected\": true, \"table_html\": \"<table><thead>\\n    <tr style=\\\"text-align: right;\\\">\\n      \\n      <th>PLAYER_ID</th>\\n      <th>SEASON_ID</th>\\n      <th>LEAGUE_ID</th>\\n      <th>TEAM_ID</th>\\n      <th>TEAM_ABBREVIATION</th>\\n      <th>PLAYER_AGE</th>\\n      <th>GP</th>\\n      <th>GS</th>\\n      <th>MIN</th>\\n      <th>FGM</th>\\n      <th>FGA</th>\\n      <th>FG_PCT</th>\\n      <th>FG3M</th>\\n      <th>FG3A</th>\\n      <th>FG3_PCT</th>\\n      <th>FTM</th>\\n      <th>FTA</th>\\n      <th>FT_PCT</th>\\n      <th>OREB</th>\\n      <th>DREB</th>\\n      <th>REB</th>\\n      <th>AST</th>\\n      <th>STL</th>\\n      <th>BLK</th>\\n      <th>TOV</th>\\n      <th>PF</th>\\n      <th>PTS</th>\\n    </tr>\\n  </thead></table>\", \"data_json\": \"[[2544, \\\"2003-04\\\", 0, 1610612739, \\\"CLE\\\", 19.0, 79, 79, 3120, 622, 1492, 0.417, 63, 217, 0.29, 347, 460, 0.754, 99, 333, 432, 465, 130, 58, 273, 149, 1654], [2544, \\\"2004-05\\\", 0, 1610612739, \\\"CLE\\\", 20.0, 80, 80, 3388, 795, 1684, 0.472, 108, 308, 0.351, 477, 636, 0.75, 111, 477, 588, 577, 177, 52, 262, 146, 2175], [2544, \\\"2005-06\\\", 0, 1610612739, \\\"CLE\\\", 21.0, 79, 79, 3361, 875, 1823, 0.48, 127, 379, 0.335, 601, 814, 0.738, 75, 481, 556, 521, 123, 66, 260, 181, 2478], [2544, \\\"2006-07\\\", 0, 1610612739, \\\"CLE\\\", 22.0, 78, 78, 3190, 772, 1621, 0.476, 99, 310, 0.319, 489, 701, 0.698, 83, 443, 526, 470, 125, 55, 250, 171, 2132], [2544, \\\"2007-08\\\", 0, 1610612739, \\\"CLE\\\", 23.0, 75, 74, 3027, 794, 1642, 0.484, 113, 359, 0.315, 549, 771, 0.712, 133, 459, 592, 539, 138, 81, 255, 165, 2250], [2544, \\\"2008-09\\\", 0, 1610612739, \\\"CLE\\\", 24.0, 81, 81, 3054, 789, 1613, 0.489, 132, 384, 0.344, 594, 762, 0.78, 106, 507, 613, 587, 137, 93, 241, 139, 2304], [2544, \\\"2009-10\\\", 0, 1610612739, \\\"CLE\\\", 25.0, 76, 76, 2966, 768, 1528, 0.503, 129, 387, 0.333, 593, 773, 0.767, 71, 483, 554, 651, 125, 77, 261, 119, 2258], [2544, \\\"2010-11\\\", 0, 1610612748, \\\"MIA\\\", 26.0, 79, 79, 3063, 758, 1485, 0.51, 92, 279, 0.33, 503, 663, 0.759, 80, 510, 590, 554, 124, 50, 284, 163, 2111], [2544, \\\"2011-12\\\", 0, 1610612748, \\\"MIA\\\", 27.0, 62, 62, 2326, 621, 1169, 0.531, 54, 149, 0.362, 387, 502, 0.771, 94, 398, 492, 387, 115, 50, 213, 96, 1683], [2544, \\\"2012-13\\\", 0, 1610612748, \\\"MIA\\\", 28.0, 76, 76, 2877, 765, 1354, 0.565, 103, 254, 0.406, 403, 535, 0.753, 97, 513, 610, 551, 129, 67, 226, 110, 2036], [2544, \\\"2013-14\\\", 0, 1610612748, \\\"MIA\\\", 29.0, 77, 77, 2902, 767, 1353, 0.567, 116, 306, 0.379, 439, 585, 0.75, 81, 452, 533, 488, 121, 26, 270, 126, 2089], [2544, \\\"2014-15\\\", 0, 1610612739, \\\"CLE\\\", 30.0, 69, 69, 2493, 624, 1279, 0.488, 120, 339, 0.354, 375, 528, 0.71, 51, 365, 416, 511, 109, 49, 272, 135, 1743], [2544, \\\"2015-16\\\", 0, 1610612739, \\\"CLE\\\", 31.0, 76, 76, 2709, 737, 1416, 0.52, 87, 282, 0.309, 359, 491, 0.731, 111, 454, 565, 514, 104, 49, 249, 143, 1920], [2544, \\\"2016-17\\\", 0, 1610612739, \\\"CLE\\\", 32.0, 74, 74, 2795, 736, 1344, 0.548, 124, 342, 0.363, 358, 531, 0.674, 97, 542, 639, 646, 92, 44, 303, 134, 1954], [2544, \\\"2017-18\\\", 0, 1610612739, \\\"CLE\\\", 33.0, 82, 82, 3026, 857, 1580, 0.542, 149, 406, 0.367, 388, 531, 0.731, 97, 612, 709, 747, 116, 71, 347, 136, 2251], [2544, \\\"2018-19\\\", 0, 1610612747, \\\"LAL\\\", 34.0, 55, 55, 1937, 558, 1095, 0.51, 111, 327, 0.339, 278, 418, 0.665, 57, 408, 465, 454, 72, 33, 197, 94, 1505], [2544, \\\"2019-20\\\", 0, 1610612747, \\\"LAL\\\", 35.0, 67, 67, 2316, 643, 1303, 0.493, 148, 425, 0.348, 264, 381, 0.693, 66, 459, 525, 684, 78, 36, 261, 118, 1698], [2544, \\\"2020-21\\\", 0, 1610612747, \\\"LAL\\\", 36.0, 45, 45, 1504, 422, 823, 0.513, 104, 285, 0.365, 178, 255, 0.698, 29, 317, 346, 350, 48, 25, 168, 70, 1126], [2544, \\\"2021-22\\\", 0, 1610612747, \\\"LAL\\\", 37.0, 56, 56, 2084, 640, 1221, 0.524, 161, 448, 0.359, 254, 336, 0.756, 63, 396, 459, 349, 73, 59, 196, 121, 1695], [2544, \\\"2022-23\\\", 0, 1610612747, \\\"LAL\\\", 38.0, 55, 54, 1954, 609, 1219, 0.5, 121, 377, 0.321, 251, 327, 0.768, 65, 392, 457, 375, 50, 32, 178, 88, 1590], [2544, \\\"2023-24\\\", 0, 1610612747, \\\"LAL\\\", 39.0, 71, 71, 2504, 685, 1269, 0.54, 149, 363, 0.41, 303, 404, 0.75, 61, 457, 518, 589, 89, 38, 245, 78, 1822], [2544, \\\"2024-25\\\", 0, 1610612747, \\\"LAL\\\", 40.0, 70, 70, 2444, 651, 1270, 0.513, 149, 396, 0.376, 259, 331, 0.782, 72, 474, 546, 575, 70, 39, 260, 99, 1710]]\"};\n",
       "        new ITable(table, dt_args);\n",
       "    });\n",
       "</script>\n"
      ],
      "text/plain": [
       "<IPython.core.display.HTML object>"
      ]
     },
     "metadata": {},
     "output_type": "display_data"
    }
   ],
   "source": [
    "show (DF)"
   ]
  }
 ],
 "metadata": {
  "kernelspec": {
   "display_name": "Python [conda env:base] *",
   "language": "python",
   "name": "conda-base-py"
  },
  "language_info": {
   "codemirror_mode": {
    "name": "ipython",
    "version": 3
   },
   "file_extension": ".py",
   "mimetype": "text/x-python",
   "name": "python",
   "nbconvert_exporter": "python",
   "pygments_lexer": "ipython3",
   "version": "3.13.5"
  }
 },
 "nbformat": 4,
 "nbformat_minor": 5
}
