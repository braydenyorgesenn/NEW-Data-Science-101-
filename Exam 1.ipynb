{
 "cells": [
  {
   "cell_type": "markdown",
   "id": "96aa0979-c60f-4bfe-9c28-22abed0c66a0",
   "metadata": {},
   "source": [
    "## Exam 1\n",
    "\n",
    "#### Author: Brayden Yorgesen\n",
    "\n",
    "#### Special Thanks: Lizbeth Montoya, Kenzo Yui, Joseph Madigan "
   ]
  },
  {
   "cell_type": "code",
   "execution_count": 52,
   "id": "a77fac2c-b2c1-41f5-97e3-9c1149c86ec9",
   "metadata": {},
   "outputs": [],
   "source": [
    "# Package Imports - copy and paste\n",
    "import numpy as np\n",
    "import pandas as pd\n",
    "\n",
    "import matplotlib.pyplot as plt\n",
    "import plotly.express as px\n",
    "from plotly.subplots import make_subplots\n",
    "import plotly.io as pio\n",
    "pio.renderers.defaule = 'colab'\n",
    "\n",
    "from itables import show"
   ]
  },
  {
   "cell_type": "code",
   "execution_count": 53,
   "id": "3948f8cb-4ceb-48ca-94e1-652574595e80",
   "metadata": {},
   "outputs": [],
   "source": [
    "file_location = 'https://joannabieri.com/introdatascience/data/lego_sample.csv'\n",
    "DF = pd.read_csv(file_location)"
   ]
  },
  {
   "cell_type": "code",
   "execution_count": 54,
   "id": "21d0e8bb-dba9-4c4b-a7cd-0652c98d3ea1",
   "metadata": {},
   "outputs": [
    {
     "data": {
      "text/html": [
       "<!--| quarto-html-table-processing: none -->\n",
       "<table id=\"itables_bec53598_1d48_487a_949f_c18a668d4eae\"><tbody><tr>\n",
       "    <td style=\"vertical-align:middle; text-align:left\">\n",
       "    <a href=https://mwouts.github.io/itables/><svg class=\"main-svg\" xmlns=\"http://www.w3.org/2000/svg\" xmlns:xlink=\"http://www.w3.org/1999/xlink\"\n",
       "width=\"64\" viewBox=\"0 0 500 400\" style=\"font-family: 'Droid Sans', sans-serif;\">\n",
       "    <g style=\"fill:#d9d7fc\">\n",
       "        <path d=\"M100,400H500V357H100Z\" />\n",
       "        <path d=\"M100,300H400V257H100Z\" />\n",
       "        <path d=\"M0,200H400V157H0Z\" />\n",
       "        <path d=\"M100,100H500V57H100Z\" />\n",
       "        <path d=\"M100,350H500V307H100Z\" />\n",
       "        <path d=\"M100,250H400V207H100Z\" />\n",
       "        <path d=\"M0,150H400V107H0Z\" />\n",
       "        <path d=\"M100,50H500V7H100Z\" />\n",
       "    </g>\n",
       "    <g style=\"fill:#1a1366;stroke:#1a1366;\">\n",
       "   <rect x=\"100\" y=\"7\" width=\"400\" height=\"43\">\n",
       "    <animate\n",
       "      attributeName=\"width\"\n",
       "      values=\"0;400;0\"\n",
       "      dur=\"5s\"\n",
       "      repeatCount=\"indefinite\" />\n",
       "      <animate\n",
       "      attributeName=\"x\"\n",
       "      values=\"100;100;500\"\n",
       "      dur=\"5s\"\n",
       "      repeatCount=\"indefinite\" />\n",
       "  </rect>\n",
       "        <rect x=\"0\" y=\"107\" width=\"400\" height=\"43\">\n",
       "    <animate\n",
       "      attributeName=\"width\"\n",
       "      values=\"0;400;0\"\n",
       "      dur=\"3.5s\"\n",
       "      repeatCount=\"indefinite\" />\n",
       "    <animate\n",
       "      attributeName=\"x\"\n",
       "      values=\"0;0;400\"\n",
       "      dur=\"3.5s\"\n",
       "      repeatCount=\"indefinite\" />\n",
       "  </rect>\n",
       "        <rect x=\"100\" y=\"207\" width=\"300\" height=\"43\">\n",
       "    <animate\n",
       "      attributeName=\"width\"\n",
       "      values=\"0;300;0\"\n",
       "      dur=\"3s\"\n",
       "      repeatCount=\"indefinite\" />\n",
       "    <animate\n",
       "      attributeName=\"x\"\n",
       "      values=\"100;100;400\"\n",
       "      dur=\"3s\"\n",
       "      repeatCount=\"indefinite\" />\n",
       "  </rect>\n",
       "        <rect x=\"100\" y=\"307\" width=\"400\" height=\"43\">\n",
       "    <animate\n",
       "      attributeName=\"width\"\n",
       "      values=\"0;400;0\"\n",
       "      dur=\"4s\"\n",
       "      repeatCount=\"indefinite\" />\n",
       "      <animate\n",
       "      attributeName=\"x\"\n",
       "      values=\"100;100;500\"\n",
       "      dur=\"4s\"\n",
       "      repeatCount=\"indefinite\" />\n",
       "  </rect>\n",
       "        <g style=\"fill:transparent;stroke-width:8; stroke-linejoin:round\" rx=\"5\">\n",
       "            <g transform=\"translate(45 50) rotate(-45)\">\n",
       "                <circle r=\"33\" cx=\"0\" cy=\"0\" />\n",
       "                <rect x=\"-8\" y=\"32\" width=\"16\" height=\"30\" />\n",
       "            </g>\n",
       "\n",
       "            <g transform=\"translate(450 152)\">\n",
       "                <polyline points=\"-15,-20 -35,-20 -35,40 25,40 25,20\" />\n",
       "                <rect x=\"-15\" y=\"-40\" width=\"60\" height=\"60\" />\n",
       "            </g>\n",
       "\n",
       "            <g transform=\"translate(50 352)\">\n",
       "                <polygon points=\"-35,-5 0,-40 35,-5\" />\n",
       "                <polygon points=\"-35,10 0,45 35,10\" />\n",
       "            </g>\n",
       "\n",
       "            <g transform=\"translate(75 250)\">\n",
       "                <polyline points=\"-30,30 -60,0 -30,-30\" />\n",
       "                <polyline points=\"0,30 -30,0 0,-30\" />\n",
       "            </g>\n",
       "\n",
       "            <g transform=\"translate(425 250) rotate(180)\">\n",
       "                <polyline points=\"-30,30 -60,0 -30,-30\" />\n",
       "                <polyline points=\"0,30 -30,0 0,-30\" />\n",
       "            </g>\n",
       "        </g>\n",
       "    </g>\n",
       "</svg>\n",
       "</a>\n",
       "    Loading ITables v2.5.2 from the internet...\n",
       "    (need <a href=https://mwouts.github.io/itables/troubleshooting.html>help</a>?)</td>\n",
       "    </tr></tbody></table>\n",
       "<link href=\"https://www.unpkg.com/dt_for_itables@2.4.0/dt_bundle.css\" rel=\"stylesheet\">\n",
       "<script type=\"module\">\n",
       "    import { ITable, jQuery as $ } from 'https://www.unpkg.com/dt_for_itables@2.4.0/dt_bundle.js';\n",
       "\n",
       "    document.querySelectorAll(\"#itables_bec53598_1d48_487a_949f_c18a668d4eae:not(.dataTable)\").forEach(table => {\n",
       "        if (!(table instanceof HTMLTableElement))\n",
       "            return;\n",
       "\n",
       "        let dt_args = {\"layout\": {\"topStart\": \"pageLength\", \"topEnd\": \"search\", \"bottomStart\": \"info\", \"bottomEnd\": \"paging\"}, \"classes\": [\"display\", \"nowrap\"], \"order\": [], \"style\": {\"table-layout\": \"auto\", \"width\": \"auto\", \"margin\": \"auto\", \"caption-side\": \"bottom\"}, \"text_in_header_can_be_selected\": true, \"table_html\": \"<table><thead>\\n    <tr style=\\\"text-align: right;\\\">\\n      \\n      <th>item_number</th>\\n      <th>set_name</th>\\n      <th>theme</th>\\n      <th>pieces</th>\\n      <th>price</th>\\n      <th>amazon_price</th>\\n      <th>year</th>\\n      <th>ages</th>\\n      <th>pages</th>\\n      <th>minifigures</th>\\n      <th>packaging</th>\\n      <th>weight</th>\\n      <th>unique_pieces</th>\\n      <th>size</th>\\n    </tr>\\n  </thead></table>\", \"data_json\": \"[[10859, \\\"My First Ladybird\\\", \\\"DUPLO\\\\u00ae\\\", 6, 4.99, 16.0, 2018, \\\"Ages_1\\\\u00bd-3\\\", 9, \\\"___NaN___\\\", \\\"Box\\\", \\\"NaN\\\", 5, \\\"Large\\\"], [10860, \\\"My First Race Car\\\", \\\"DUPLO\\\\u00ae\\\", 6, 4.99, 9.45, 2018, \\\"Ages_1\\\\u00bd-3\\\", 9, \\\"___NaN___\\\", \\\"Box\\\", \\\"0.13Kg (0.29 lb)\\\", 6, \\\"Large\\\"], [10862, \\\"My First Celebration\\\", \\\"DUPLO\\\\u00ae\\\", 41, 14.99, 39.89, 2018, \\\"Ages_1\\\\u00bd-3\\\", 9, \\\"___NaN___\\\", \\\"Box\\\", \\\"NaN\\\", 18, \\\"Large\\\"], [10864, \\\"Large Playground Brick Box\\\", \\\"DUPLO\\\\u00ae\\\", 71, 49.99, 56.69, 2018, \\\"Ages_2-5\\\", 32, 2.0, \\\"Plastic box\\\", \\\"1.41Kg (3.11 lb)\\\", 49, \\\"Large\\\"], [10867, \\\"Farmers' Market\\\", \\\"DUPLO\\\\u00ae\\\", 26, 19.99, 36.99, 2018, \\\"Ages_2-5\\\", 9, 3.0, \\\"Box\\\", \\\"NaN\\\", 18, \\\"Large\\\"], [10870, \\\"Farm Animals\\\", \\\"DUPLO\\\\u00ae\\\", 16, 9.99, 9.99, 2018, \\\"Ages_2-5\\\", 8, \\\"___NaN___\\\", \\\"Box\\\", \\\"NaN\\\", 13, \\\"Large\\\"], [10872, \\\"Train Bridge and Tracks\\\", \\\"DUPLO\\\\u00ae\\\", 26, 24.99, 21.99, 2018, \\\"Ages_2-5\\\", 16, 1.0, \\\"Box\\\", \\\"0.88Kg (1.95 lb)\\\", 10, \\\"Large\\\"], [10875, \\\"Cargo Train\\\", \\\"DUPLO\\\\u00ae\\\", 105, 119.99, 128.95, 2018, \\\"Ages_2-5\\\", 64, 3.0, \\\"Box\\\", \\\"2.86Kg (6.31 lb)\\\", 68, \\\"Large\\\"], [10876, \\\"Spider-Man &amp; Hulk Adventures\\\", \\\"DUPLO\\\\u00ae\\\", 38, 29.99, 74.5, 2018, \\\"Ages_2-5\\\", 20, 3.0, \\\"Box\\\", \\\"0.54Kg (1.19 lb)\\\", 29, \\\"Large\\\"], [10878, \\\"Rapunzel's Tower\\\", \\\"DUPLO\\\\u00ae\\\", 37, 29.99, 98.99, 2018, \\\"Ages_2-5\\\", 24, 1.0, \\\"Box\\\", \\\"NaN\\\", 26, \\\"Large\\\"], [10882, \\\"Train Tracks\\\", \\\"DUPLO\\\\u00ae\\\", 23, 19.99, 17.99, 2018, \\\"Ages_2-5\\\", 16, \\\"___NaN___\\\", \\\"Box\\\", \\\"0.66Kg (1.45 lb)\\\", 9, \\\"Large\\\"], [10885, \\\"My First Fun Puzzle\\\", \\\"DUPLO\\\\u00ae\\\", 15, 19.99, 19.55, 2019, \\\"Ages_1\\\\u00bd+\\\", 9, \\\"___NaN___\\\", \\\"NaN\\\", \\\"NaN\\\", 15, \\\"Large\\\"], [10886, \\\"My First Car Creations\\\", \\\"DUPLO\\\\u00ae\\\", 34, 19.99, 16.0, 2019, \\\"Ages_1\\\\u00bd+\\\", 10, \\\"___NaN___\\\", \\\"NaN\\\", \\\"0.64Kg (1.41 lb)\\\", 31, \\\"Large\\\"], [10901, \\\"Fire Truck\\\", \\\"DUPLO\\\\u00ae\\\", 21, 19.99, 17.99, 2019, \\\"Ages_2+\\\", 10, 2.0, \\\"Box\\\", \\\"0.45Kg (0.99 lb)\\\", 16, \\\"Large\\\"], [10904, \\\"Baby Animals\\\", \\\"DUPLO\\\\u00ae\\\", 9, 9.99, 21.11, 2019, \\\"Ages_2+\\\", 8, \\\"___NaN___\\\", \\\"Box\\\", \\\"NaN\\\", 9, \\\"Large\\\"], [10906, \\\"Tropical Island\\\", \\\"DUPLO\\\\u00ae\\\", 73, 59.99, 59.99, 2019, \\\"Ages_2+\\\", 40, 3.0, \\\"Box\\\", \\\"NaN\\\", 44, \\\"Large\\\"], [10908, \\\"Plane\\\", \\\"DUPLO\\\\u00ae\\\", 12, 9.99, 23.27, 2019, \\\"Ages_2+\\\", 10, 1.0, \\\"Box\\\", \\\"NaN\\\", 11, \\\"Large\\\"], [10910, \\\"Submarine Adventure\\\", \\\"DUPLO\\\\u00ae\\\", 24, 19.99, 17.99, 2019, \\\"Ages_2+\\\", 8, 2.0, \\\"Box\\\", \\\"NaN\\\", 22, \\\"Large\\\"], [10915, \\\"Alphabet Truck\\\", \\\"DUPLO\\\\u00ae\\\", 36, 24.99, 21.99, 2020, \\\"Ages_1\\\\u00bd+\\\", 1, 2.0, \\\"Box\\\", \\\"NaN\\\", 35, \\\"Large\\\"], [10918, \\\"Tow Truck\\\", \\\"DUPLO\\\\u00ae\\\", 7, 6.99, 6.29, 2020, \\\"Ages_1\\\\u00bd+\\\", 3, \\\"___NaN___\\\", \\\"Box with backing card\\\", \\\"NaN\\\", 7, \\\"Large\\\"], [10921, \\\"Super Heroes Lab\\\", \\\"DUPLO\\\\u00ae\\\", 30, 29.99, 26.99, 2020, \\\"Ages_2+\\\", 16, 3.0, \\\"Box\\\", \\\"NaN\\\", 23, \\\"Large\\\"], [10926, \\\"Bedroom\\\", \\\"DUPLO\\\\u00ae\\\", 16, 14.99, 14.99, 2020, \\\"Ages_2+\\\", 2, 2.0, \\\"Box\\\", \\\"NaN\\\", 16, \\\"Large\\\"], [10927, \\\"Pizza Stand\\\", \\\"DUPLO\\\\u00ae\\\", 18, 9.99, 8.99, 2020, \\\"Ages_2+\\\", 12, 1.0, \\\"Box\\\", \\\"NaN\\\", 15, \\\"Large\\\"], [10928, \\\"Bakery\\\", \\\"DUPLO\\\\u00ae\\\", 46, 34.99, 29.99, 2020, \\\"Ages_2+\\\", 20, 2.0, \\\"Box\\\", \\\"NaN\\\", 33, \\\"Large\\\"], [10929, \\\"Modular Playhouse\\\", \\\"DUPLO\\\\u00ae\\\", 129, 59.99, 59.99, 2020, \\\"Ages_2+\\\", 84, 3.0, \\\"Box\\\", \\\"NaN\\\", 56, \\\"Large\\\"], [41330, \\\"Stephanie's Soccer Practice\\\", \\\"Friends\\\", 119, 14.99, 40.4, 2018, \\\"Ages_6-12\\\", 48, 1.0, \\\"Box\\\", \\\"NaN\\\", 78, \\\"Small\\\"], [41333, \\\"Olivia's Mission Vehicle\\\", \\\"Friends\\\", 223, 19.99, 45.95, 2018, \\\"Ages_6-12\\\", 84, 1.0, \\\"Box\\\", \\\"0.32Kg (0.7 lb)\\\", 106, \\\"Small\\\"], [41335, \\\"Mia's Tree House\\\", \\\"Friends\\\", 351, 29.99, 53.88, 2018, \\\"Ages_6-12\\\", 120, 2.0, \\\"Box\\\", \\\"0.61Kg (1.34 lb)\\\", 151, \\\"Small\\\"], [41340, \\\"Friendship House\\\", \\\"Friends\\\", 722, 69.99, 184.99, 2018, \\\"Ages_6-12\\\", 164, 3.0, \\\"Box\\\", \\\"1.14Kg (2.51 lb)\\\", 309, \\\"Small\\\"], [41353, \\\"Friends Advent Calendar\\\", \\\"Friends\\\", 500, 29.99, 34.0, 2018, \\\"Ages_6-12\\\", 4, \\\"___NaN___\\\", \\\"Box\\\", \\\"NaN\\\", 202, \\\"Small\\\"], [41356, \\\"Stephanie's Heart Box\\\", \\\"Friends\\\", 85, 7.99, 14.99, 2019, \\\"Ages_6+\\\", 32, 1.0, \\\"NaN\\\", \\\"0.13Kg (0.29 lb)\\\", 36, \\\"Small\\\"], [41358, \\\"Mia's Heart Box\\\", \\\"Friends\\\", 83, 7.99, 18.64, 2019, \\\"Ages_6+\\\", 32, 1.0, \\\"NaN\\\", \\\"0.14Kg (0.31 lb)\\\", 38, \\\"Small\\\"], [41363, \\\"Mia's Forest Adventures\\\", \\\"Friends\\\", 134, 14.99, 18.95, 2019, \\\"Ages_6+\\\", 44, 1.0, \\\"NaN\\\", \\\"0.15Kg (0.33 lb)\\\", 77, \\\"Small\\\"], [41367, \\\"Stephanie's Obstacle Course\\\", \\\"Friends\\\", 337, 39.99, 35.99, 2019, \\\"Ages_6+\\\", 100, 2.0, \\\"NaN\\\", \\\"0.59Kg (1.3 lb)\\\", 168, \\\"Small\\\"], [41369, \\\"Mia's House\\\", \\\"Friends\\\", 715, 69.99, 62.99, 2019, \\\"Ages_6+\\\", 192, 3.0, \\\"NaN\\\", \\\"1.12Kg (2.47 lb)\\\", 274, \\\"Small\\\"], [41374, \\\"Andrea's Pool Party\\\", \\\"Friends\\\", 468, 49.99, 40.0, 2019, \\\"Ages_6+\\\", 112, 2.0, \\\"Box\\\", \\\"NaN\\\", 221, \\\"Small\\\"], [41376, \\\"Turtles Rescue Mission\\\", \\\"Friends\\\", 225, 19.99, 31.27, 2019, \\\"Ages_6+\\\", 72, 2.0, \\\"Box\\\", \\\"NaN\\\", 125, \\\"Small\\\"], [41378, \\\"Dolphins Rescue Mission\\\", \\\"Friends\\\", 363, 39.99, 31.67, 2019, \\\"Ages_6+\\\", 116, 2.0, \\\"Box\\\", \\\"NaN\\\", 192, \\\"Small\\\"], [41384, \\\"Andrea's Summer Heart Box\\\", \\\"Friends\\\", 83, 7.99, 14.99, 2019, \\\"Ages_6+\\\", 36, 1.0, \\\"Other\\\", \\\"NaN\\\", 46, \\\"Small\\\"], [41387, \\\"Olivia's Summer Heart Box\\\", \\\"Friends\\\", 93, 7.99, 7.99, 2019, \\\"Ages_6+\\\", 40, 2.0, \\\"Other\\\", \\\"NaN\\\", 48, \\\"Small\\\"], [41394, \\\"Heartlake City Hospital\\\", \\\"Friends\\\", 379, 49.99, 48.53, 2020, \\\"Ages_6+\\\", 132, 3.0, \\\"Box\\\", \\\"NaN\\\", 154, \\\"Small\\\"], [41396, \\\"Puppy Playground\\\", \\\"Friends\\\", 57, 9.99, 8.99, 2020, \\\"Ages_4+\\\", 40, 1.0, \\\"Box\\\", \\\"NaN\\\", 41, \\\"Small\\\"], [41400, \\\"Andrea's Play Cube - Singer\\\", \\\"Friends\\\", 49, 9.99, 18.93, 2020, \\\"Ages_6+\\\", 5, 1.0, \\\"Box\\\", \\\"NaN\\\", 32, \\\"Small\\\"], [41403, \\\"Mia's Play Cube - Veterinarian\\\", \\\"Friends\\\", 40, 9.99, 17.97, 2020, \\\"Ages_6+\\\", 5, 1.0, \\\"Box\\\", \\\"NaN\\\", 32, \\\"Small\\\"], [41408, \\\"Mia's Play Cube - Cinema\\\", \\\"Friends\\\", 37, 9.99, 15.32, 2020, \\\"Ages_6+\\\", 5, 1.0, \\\"Box\\\", \\\"NaN\\\", 31, \\\"Small\\\"], [41421, \\\"Baby Elephant Jungle Rescue\\\", \\\"Friends\\\", 203, 19.99, 19.99, 2020, \\\"Ages_6+\\\", 68, 2.0, \\\"Box\\\", \\\"NaN\\\", 111, \\\"Small\\\"], [41423, \\\"Tiger Hot Air Balloon Jungle Rescue\\\", \\\"Friends\\\", 302, 39.99, 39.95, 2020, \\\"Ages_7+\\\", 116, 2.0, \\\"Box\\\", \\\"NaN\\\", 145, \\\"Small\\\"], [41424, \\\"Jungle Rescue Base\\\", \\\"Friends\\\", 648, 79.99, 79.95, 2020, \\\"Ages_8+\\\", 176, 3.0, \\\"Box\\\", \\\"NaN\\\", 251, \\\"Small\\\"], [41427, \\\"Emma's Fashion Shop\\\", \\\"Friends\\\", 343, 29.99, 29.95, 2020, \\\"Ages_6+\\\", 112, 2.0, \\\"Box\\\", \\\"NaN\\\", 152, \\\"Small\\\"], [41428, \\\"Beach House\\\", \\\"Friends\\\", 444, 49.99, 49.95, 2020, \\\"Ages_6+\\\", 160, 2.0, \\\"Box\\\", \\\"NaN\\\", 216, \\\"Small\\\"], [60170, \\\"Off-Road Chase\\\", \\\"City\\\", 37, 6.99, 30.89, 2018, \\\"Ages_5-12\\\", 20, 2.0, \\\"Box\\\", \\\"NaN\\\", 28, \\\"Small\\\"], [60171, \\\"Mountain Fugitives\\\", \\\"City\\\", 88, 9.99, 16.49, 2018, \\\"Ages_5-12\\\", 36, 4.0, \\\"Box\\\", \\\"NaN\\\", 61, \\\"Small\\\"], [60172, \\\"Dirt Road Pursuit\\\", \\\"City\\\", 297, 39.99, 64.75, 2018, \\\"Ages_5-12\\\", 116, 3.0, \\\"Box\\\", \\\"0.6Kg (1.32 lb)\\\", 140, \\\"Small\\\"], [60182, \\\"Pickup &amp; Caravan\\\", \\\"City\\\", 344, 29.99, 65.99, 2018, \\\"Ages_5-12\\\", 140, 3.0, \\\"Box\\\", \\\"0.65Kg (1.43 lb)\\\", 188, \\\"Small\\\"], [60183, \\\"Heavy Cargo Transport\\\", \\\"City\\\", 310, 29.99, 69.95, 2018, \\\"Ages_5-12\\\", 128, 2.0, \\\"Box\\\", \\\"0.59Kg (1.3 lb)\\\", 161, \\\"Small\\\"], [60184, \\\"Mining Team\\\", \\\"City\\\", 82, 9.99, 21.99, 2018, \\\"Ages_5-12\\\", 32, 4.0, \\\"Box\\\", \\\"0.13Kg (0.29 lb)\\\", 64, \\\"Small\\\"], [60202, \\\"People Pack - Outdoor Adventures\\\", \\\"City\\\", 164, 39.99, 69.99, 2018, \\\"Ages_5-12\\\", 64, 15.0, \\\"Box\\\", \\\"0.29Kg (0.64 lb)\\\", 128, \\\"Small\\\"], [60208, \\\"Parachute Arrest\\\", \\\"City\\\", 218, 39.99, 31.46, 2019, \\\"Ages_5+\\\", 120, 4.0, \\\"Box\\\", \\\"0.48Kg (1.05 lb)\\\", 139, \\\"Small\\\"], [60213, \\\"Dock Side Fire\\\", \\\"City\\\", 97, 19.99, 23.83, 2019, \\\"Ages_5+\\\", 48, 2.0, \\\"Box\\\", \\\"0.25Kg (0.54 lb)\\\", 63, \\\"Small\\\"], [60215, \\\"Fire Station\\\", \\\"City\\\", 509, 69.99, 56.0, 2019, \\\"Ages_5+\\\", 184, 4.0, \\\"Box\\\", \\\"1.17Kg (2.57 lb)\\\", 210, \\\"Small\\\"], [60217, \\\"Fire Plane\\\", \\\"City\\\", 363, 59.99, 53.99, 2019, \\\"Ages_6+\\\", 156, 3.0, \\\"Box\\\", \\\"0.76Kg (1.68 lb)\\\", 151, \\\"Small\\\"], [60219, \\\"Construction Loader\\\", \\\"City\\\", 88, 9.99, 8.99, 2019, \\\"Ages_5+\\\", 36, 1.0, \\\"Box\\\", \\\"0.16Kg (0.34 lb)\\\", 50, \\\"Small\\\"], [60221, \\\"Diving Yacht\\\", \\\"City\\\", 148, 19.99, 16.0, 2019, \\\"Ages_5+\\\", 64, 2.0, \\\"Box\\\", \\\"0.34Kg (0.74 lb)\\\", 81, \\\"Small\\\"], [60223, \\\"Harvester Transport\\\", \\\"City\\\", 358, 29.99, 54.8, 2019, \\\"Ages_5+\\\", 148, 3.0, \\\"Box\\\", \\\"0.65Kg (1.43 lb)\\\", 166, \\\"Small\\\"], [60226, \\\"Mars Research Shuttle\\\", \\\"City\\\", 273, 39.99, 31.99, 2019, \\\"Ages_5+\\\", 160, 2.0, \\\"Box\\\", \\\"0.61Kg (1.34 lb)\\\", 135, \\\"Small\\\"], [60243, \\\"Police Helicopter Chase\\\", \\\"City\\\", 212, 39.99, 35.98, 2020, \\\"Ages_5+\\\", 128, 4.0, \\\"Box\\\", \\\"0.52Kg (1.16 lb)\\\", 127, \\\"Small\\\"], [60245, \\\"Police Monster Truck Heist\\\", \\\"City\\\", 362, 59.99, 52.74, 2020, \\\"Ages_5+\\\", 200, 5.0, \\\"Box\\\", \\\"0.85Kg (1.87 lb)\\\", 198, \\\"Small\\\"], [60246, \\\"Police Station\\\", \\\"City\\\", 743, 99.99, 99.99, 2020, \\\"Ages_6+\\\", 345, 7.0, \\\"Box\\\", \\\"1.85Kg (4.06 lb)\\\", 298, \\\"Small\\\"], [60248, \\\"Fire Helicopter Response\\\", \\\"City\\\", 93, 29.99, 23.98, 2020, \\\"Ages_5+\\\", 44, 3.0, \\\"Box\\\", \\\"0.25Kg (0.55 lb)\\\", 61, \\\"Small\\\"], [60249, \\\"Street Sweeper\\\", \\\"City\\\", 89, 9.99, 8.99, 2020, \\\"Ages_5+\\\", 48, 1.0, \\\"Box\\\", \\\"0.14Kg (0.31 lb)\\\", 55, \\\"Small\\\"], [60251, \\\"Monster Truck\\\", \\\"City\\\", 55, 9.99, 8.99, 2020, \\\"Ages_5+\\\", 32, 1.0, \\\"Box\\\", \\\"0.14Kg (0.31 lb)\\\", 34, \\\"Small\\\"], [60252, \\\"Construction Bulldozer\\\", \\\"City\\\", 126, 19.99, 15.99, 2020, \\\"Ages_4+\\\", 84, 2.0, \\\"Box\\\", \\\"0.35Kg (0.78 lb)\\\", 81, \\\"Small\\\"], [60258, \\\"Tuning Workshop\\\", \\\"City\\\", 897, 99.99, 99.99, 2020, \\\"Ages_6+\\\", 389, 7.0, \\\"Box\\\", \\\"1.63Kg (3.58 lb)\\\", 411, \\\"Small\\\"], [60266, \\\"Ocean Exploration Ship\\\", \\\"City\\\", 745, 149.99, 149.99, 2020, \\\"Ages_7+\\\", 229, 8.0, \\\"Box\\\", \\\"2.28Kg (5.03 lb)\\\", 314, \\\"Small\\\"], [60267, \\\"Safari Off-Roader\\\", \\\"City\\\", 168, 19.99, 17.99, 2020, \\\"Ages_5+\\\", 76, 2.0, \\\"Box\\\", \\\"0.34Kg (0.76 lb)\\\", 86, \\\"Small\\\"]]\"};\n",
       "        new ITable(table, dt_args);\n",
       "    });\n",
       "</script>\n"
      ],
      "text/plain": [
       "<IPython.core.display.HTML object>"
      ]
     },
     "metadata": {},
     "output_type": "display_data"
    }
   ],
   "source": [
    "show(DF)"
   ]
  },
  {
   "cell_type": "markdown",
   "id": "103eaa36-61ff-47d3-8501-bad66980823e",
   "metadata": {},
   "source": [
    "## Problem 1 (10 Points) \n",
    "(a) How many variables and observations are in the data set?\n",
    "\n",
    "(b) What are the names of all the variables?\n",
    "\n",
    "(c) For each variable talk about whether you think that variable is Numerical or Categorical and what type of data it is.\n",
    "\n",
    "(d) Use describe to get some basic statistics about the numerical data. Comment on at least four things that you learned by looking at these statistics."
   ]
  },
  {
   "cell_type": "markdown",
   "id": "66cf91ee-3860-46f3-8c00-cb1cf1a75f97",
   "metadata": {},
   "source": [
    "#### A) There are 14 Variables with 75 observations."
   ]
  },
  {
   "cell_type": "markdown",
   "id": "ea2b9bb4-0166-4e72-847d-dbeb54dfe97c",
   "metadata": {},
   "source": [
    "#### B) The names are item_number, set_name, theme, pieces, price, amazon_price, year, ages, pages, minifigures, packaging, weight, unique_pieces, and size."
   ]
  },
  {
   "cell_type": "markdown",
   "id": "3b297e7b-432c-464e-ab4e-dd3dccecd066",
   "metadata": {},
   "source": [
    "#### C) item_number: Numerical, set_name: Categorical, theme: Categorical, pieces: Numerical, price: Numerical, amazon_price: Numerical, year: Numerical, ages: Numerical, pages: Numerical, minifigures: Numerical, packaging:Categorical, weight: Numerical, unique_pieces: Numerical, and size: Categorical."
   ]
  },
  {
   "cell_type": "code",
   "execution_count": 55,
   "id": "1f37115b-fb78-408a-9082-c45fde550722",
   "metadata": {},
   "outputs": [
    {
     "name": "stdout",
     "output_type": "stream",
     "text": [
      "        item_number      pieces       price  amazon_price         year  \\\n",
      "count     75.000000   75.000000   75.000000     75.000000    75.000000   \n",
      "mean   37498.493333  196.453333   32.136667     39.393733  2019.053333   \n",
      "std    20461.267542  213.914121   27.747263     33.301259     0.820239   \n",
      "min    10859.000000    6.000000    4.990000      6.290000  2018.000000   \n",
      "25%    10916.500000   37.000000    9.990000     17.980000  2018.000000   \n",
      "50%    41378.000000   93.000000   19.990000     29.990000  2019.000000   \n",
      "75%    60193.000000  323.500000   39.990000     53.935000  2020.000000   \n",
      "max    60267.000000  897.000000  149.990000    184.990000  2020.000000   \n",
      "\n",
      "            pages  minifigures  unique_pieces  \n",
      "count   75.000000    65.000000      75.000000  \n",
      "mean    73.213333     2.615385      96.666667  \n",
      "std     76.949842     2.133749      89.471018  \n",
      "min      1.000000     1.000000       5.000000  \n",
      "25%     14.000000     1.000000      30.000000  \n",
      "50%     44.000000     2.000000      61.000000  \n",
      "75%    116.000000     3.000000     151.000000  \n",
      "max    389.000000    15.000000     411.000000  \n"
     ]
    }
   ],
   "source": [
    "print(DF.describe())"
   ]
  },
  {
   "cell_type": "markdown",
   "id": "98d71ee3-e5df-4d77-8d5c-5a99820fe2d4",
   "metadata": {},
   "source": [
    "#### D) The mean amazon_price is $7 above the true price. The standard deviation for pieces is larger than the mean. Based off this data with the min and max pieces we can assume there are outliers. The standard deviation of unique_pieces is smaller than the mean."
   ]
  },
  {
   "cell_type": "markdown",
   "id": "89cc1295-fc56-4634-8b31-53d75d3f3a73",
   "metadata": {},
   "source": [
    "## Problem 2 (15 points)\n",
    "(a) Display (or show) the data frame with only the columns that contain useful categorical information. If you left any columns out say why.\n",
    "\n",
    "(b) For each categorical column that you chose above, find the frequencies of the categories. Talk about what you learn from the results of each calculation (1-2 sentences is fine)"
   ]
  },
  {
   "cell_type": "code",
   "execution_count": 56,
   "id": "7e6fecac-a4f7-4b02-8085-f5fa4aea4ddb",
   "metadata": {},
   "outputs": [
    {
     "data": {
      "text/html": [
       "<div>\n",
       "<style scoped>\n",
       "    .dataframe tbody tr th:only-of-type {\n",
       "        vertical-align: middle;\n",
       "    }\n",
       "\n",
       "    .dataframe tbody tr th {\n",
       "        vertical-align: top;\n",
       "    }\n",
       "\n",
       "    .dataframe thead th {\n",
       "        text-align: right;\n",
       "    }\n",
       "</style>\n",
       "<table border=\"1\" class=\"dataframe\">\n",
       "  <thead>\n",
       "    <tr style=\"text-align: right;\">\n",
       "      <th></th>\n",
       "      <th>item_number</th>\n",
       "      <th>set_name</th>\n",
       "      <th>theme</th>\n",
       "      <th>pieces</th>\n",
       "      <th>price</th>\n",
       "      <th>amazon_price</th>\n",
       "      <th>year</th>\n",
       "      <th>ages</th>\n",
       "      <th>pages</th>\n",
       "      <th>minifigures</th>\n",
       "      <th>packaging</th>\n",
       "      <th>weight</th>\n",
       "      <th>unique_pieces</th>\n",
       "      <th>size</th>\n",
       "    </tr>\n",
       "  </thead>\n",
       "  <tbody>\n",
       "    <tr>\n",
       "      <th>0</th>\n",
       "      <td>10859</td>\n",
       "      <td>My First Ladybird</td>\n",
       "      <td>DUPLO®</td>\n",
       "      <td>6</td>\n",
       "      <td>4.99</td>\n",
       "      <td>16.00</td>\n",
       "      <td>2018</td>\n",
       "      <td>Ages_1½-3</td>\n",
       "      <td>9</td>\n",
       "      <td>NaN</td>\n",
       "      <td>Box</td>\n",
       "      <td>NaN</td>\n",
       "      <td>5</td>\n",
       "      <td>Large</td>\n",
       "    </tr>\n",
       "    <tr>\n",
       "      <th>1</th>\n",
       "      <td>10860</td>\n",
       "      <td>My First Race Car</td>\n",
       "      <td>DUPLO®</td>\n",
       "      <td>6</td>\n",
       "      <td>4.99</td>\n",
       "      <td>9.45</td>\n",
       "      <td>2018</td>\n",
       "      <td>Ages_1½-3</td>\n",
       "      <td>9</td>\n",
       "      <td>NaN</td>\n",
       "      <td>Box</td>\n",
       "      <td>0.13Kg (0.29 lb)</td>\n",
       "      <td>6</td>\n",
       "      <td>Large</td>\n",
       "    </tr>\n",
       "    <tr>\n",
       "      <th>2</th>\n",
       "      <td>10862</td>\n",
       "      <td>My First Celebration</td>\n",
       "      <td>DUPLO®</td>\n",
       "      <td>41</td>\n",
       "      <td>14.99</td>\n",
       "      <td>39.89</td>\n",
       "      <td>2018</td>\n",
       "      <td>Ages_1½-3</td>\n",
       "      <td>9</td>\n",
       "      <td>NaN</td>\n",
       "      <td>Box</td>\n",
       "      <td>NaN</td>\n",
       "      <td>18</td>\n",
       "      <td>Large</td>\n",
       "    </tr>\n",
       "    <tr>\n",
       "      <th>3</th>\n",
       "      <td>10864</td>\n",
       "      <td>Large Playground Brick Box</td>\n",
       "      <td>DUPLO®</td>\n",
       "      <td>71</td>\n",
       "      <td>49.99</td>\n",
       "      <td>56.69</td>\n",
       "      <td>2018</td>\n",
       "      <td>Ages_2-5</td>\n",
       "      <td>32</td>\n",
       "      <td>2.0</td>\n",
       "      <td>Plastic box</td>\n",
       "      <td>1.41Kg (3.11 lb)</td>\n",
       "      <td>49</td>\n",
       "      <td>Large</td>\n",
       "    </tr>\n",
       "    <tr>\n",
       "      <th>4</th>\n",
       "      <td>10867</td>\n",
       "      <td>Farmers' Market</td>\n",
       "      <td>DUPLO®</td>\n",
       "      <td>26</td>\n",
       "      <td>19.99</td>\n",
       "      <td>36.99</td>\n",
       "      <td>2018</td>\n",
       "      <td>Ages_2-5</td>\n",
       "      <td>9</td>\n",
       "      <td>3.0</td>\n",
       "      <td>Box</td>\n",
       "      <td>NaN</td>\n",
       "      <td>18</td>\n",
       "      <td>Large</td>\n",
       "    </tr>\n",
       "    <tr>\n",
       "      <th>5</th>\n",
       "      <td>10870</td>\n",
       "      <td>Farm Animals</td>\n",
       "      <td>DUPLO®</td>\n",
       "      <td>16</td>\n",
       "      <td>9.99</td>\n",
       "      <td>9.99</td>\n",
       "      <td>2018</td>\n",
       "      <td>Ages_2-5</td>\n",
       "      <td>8</td>\n",
       "      <td>NaN</td>\n",
       "      <td>Box</td>\n",
       "      <td>NaN</td>\n",
       "      <td>13</td>\n",
       "      <td>Large</td>\n",
       "    </tr>\n",
       "    <tr>\n",
       "      <th>6</th>\n",
       "      <td>10872</td>\n",
       "      <td>Train Bridge and Tracks</td>\n",
       "      <td>DUPLO®</td>\n",
       "      <td>26</td>\n",
       "      <td>24.99</td>\n",
       "      <td>21.99</td>\n",
       "      <td>2018</td>\n",
       "      <td>Ages_2-5</td>\n",
       "      <td>16</td>\n",
       "      <td>1.0</td>\n",
       "      <td>Box</td>\n",
       "      <td>0.88Kg (1.95 lb)</td>\n",
       "      <td>10</td>\n",
       "      <td>Large</td>\n",
       "    </tr>\n",
       "    <tr>\n",
       "      <th>7</th>\n",
       "      <td>10875</td>\n",
       "      <td>Cargo Train</td>\n",
       "      <td>DUPLO®</td>\n",
       "      <td>105</td>\n",
       "      <td>119.99</td>\n",
       "      <td>128.95</td>\n",
       "      <td>2018</td>\n",
       "      <td>Ages_2-5</td>\n",
       "      <td>64</td>\n",
       "      <td>3.0</td>\n",
       "      <td>Box</td>\n",
       "      <td>2.86Kg (6.31 lb)</td>\n",
       "      <td>68</td>\n",
       "      <td>Large</td>\n",
       "    </tr>\n",
       "    <tr>\n",
       "      <th>8</th>\n",
       "      <td>10876</td>\n",
       "      <td>Spider-Man &amp; Hulk Adventures</td>\n",
       "      <td>DUPLO®</td>\n",
       "      <td>38</td>\n",
       "      <td>29.99</td>\n",
       "      <td>74.50</td>\n",
       "      <td>2018</td>\n",
       "      <td>Ages_2-5</td>\n",
       "      <td>20</td>\n",
       "      <td>3.0</td>\n",
       "      <td>Box</td>\n",
       "      <td>0.54Kg (1.19 lb)</td>\n",
       "      <td>29</td>\n",
       "      <td>Large</td>\n",
       "    </tr>\n",
       "    <tr>\n",
       "      <th>9</th>\n",
       "      <td>10878</td>\n",
       "      <td>Rapunzel's Tower</td>\n",
       "      <td>DUPLO®</td>\n",
       "      <td>37</td>\n",
       "      <td>29.99</td>\n",
       "      <td>98.99</td>\n",
       "      <td>2018</td>\n",
       "      <td>Ages_2-5</td>\n",
       "      <td>24</td>\n",
       "      <td>1.0</td>\n",
       "      <td>Box</td>\n",
       "      <td>NaN</td>\n",
       "      <td>26</td>\n",
       "      <td>Large</td>\n",
       "    </tr>\n",
       "  </tbody>\n",
       "</table>\n",
       "</div>"
      ],
      "text/plain": [
       "   item_number                      set_name   theme  pieces   price  \\\n",
       "0        10859             My First Ladybird  DUPLO®       6    4.99   \n",
       "1        10860             My First Race Car  DUPLO®       6    4.99   \n",
       "2        10862          My First Celebration  DUPLO®      41   14.99   \n",
       "3        10864    Large Playground Brick Box  DUPLO®      71   49.99   \n",
       "4        10867               Farmers' Market  DUPLO®      26   19.99   \n",
       "5        10870                  Farm Animals  DUPLO®      16    9.99   \n",
       "6        10872       Train Bridge and Tracks  DUPLO®      26   24.99   \n",
       "7        10875                   Cargo Train  DUPLO®     105  119.99   \n",
       "8        10876  Spider-Man & Hulk Adventures  DUPLO®      38   29.99   \n",
       "9        10878              Rapunzel's Tower  DUPLO®      37   29.99   \n",
       "\n",
       "   amazon_price  year       ages  pages  minifigures    packaging  \\\n",
       "0         16.00  2018  Ages_1½-3      9          NaN          Box   \n",
       "1          9.45  2018  Ages_1½-3      9          NaN          Box   \n",
       "2         39.89  2018  Ages_1½-3      9          NaN          Box   \n",
       "3         56.69  2018   Ages_2-5     32          2.0  Plastic box   \n",
       "4         36.99  2018   Ages_2-5      9          3.0          Box   \n",
       "5          9.99  2018   Ages_2-5      8          NaN          Box   \n",
       "6         21.99  2018   Ages_2-5     16          1.0          Box   \n",
       "7        128.95  2018   Ages_2-5     64          3.0          Box   \n",
       "8         74.50  2018   Ages_2-5     20          3.0          Box   \n",
       "9         98.99  2018   Ages_2-5     24          1.0          Box   \n",
       "\n",
       "             weight  unique_pieces   size  \n",
       "0               NaN              5  Large  \n",
       "1  0.13Kg (0.29 lb)              6  Large  \n",
       "2               NaN             18  Large  \n",
       "3  1.41Kg (3.11 lb)             49  Large  \n",
       "4               NaN             18  Large  \n",
       "5               NaN             13  Large  \n",
       "6  0.88Kg (1.95 lb)             10  Large  \n",
       "7  2.86Kg (6.31 lb)             68  Large  \n",
       "8  0.54Kg (1.19 lb)             29  Large  \n",
       "9               NaN             26  Large  "
      ]
     },
     "execution_count": 56,
     "metadata": {},
     "output_type": "execute_result"
    }
   ],
   "source": [
    "# Part A\n",
    "DF.head(10)"
   ]
  },
  {
   "cell_type": "markdown",
   "id": "b5fad7dd-7986-4fed-a39e-14170ed3b24c",
   "metadata": {},
   "source": [
    "#### B) What I did was I knocked down all the data to just observe the top ten columns of data. This gives us a more narrow use of the dataset. "
   ]
  },
  {
   "cell_type": "markdown",
   "id": "db58e1ee-367e-4a27-a3d8-0bb6a82ad6cb",
   "metadata": {},
   "source": [
    "## Problem 3 (15 points)\n",
    "Our goal is to answer the questions:\n",
    "\n",
    "Do the more expensive sets have more pieces?\n",
    "\n",
    "What is the most expensive set?\n",
    "\n",
    "Are there any differences between the themes?\n",
    "\n",
    "(a) Make a scatter plot of the number of pieces vs the price. Color the data by the lego theme and add the set name as your hover_data.\n",
    "\n",
    "For help with this one - look at Day3.\n",
    "\n",
    "Your plot should include labels for the axis and a descriptive title.\n",
    "\n",
    "(b) Answer the three questions by describing what you see in the graph. Comment on any points that look like outliers."
   ]
  },
  {
   "cell_type": "code",
   "execution_count": 57,
   "id": "228a60ad-1f34-4758-a0e3-3347563a75e3",
   "metadata": {},
   "outputs": [
    {
     "data": {
      "application/vnd.plotly.v1+json": {
       "config": {
        "plotlyServerURL": "https://plot.ly"
       },
       "data": [
        {
         "customdata": [
          [
           "My First Ladybird"
          ],
          [
           "My First Race Car"
          ],
          [
           "My First Celebration"
          ],
          [
           "Large Playground Brick Box"
          ],
          [
           "Farmers' Market"
          ],
          [
           "Farm Animals"
          ],
          [
           "Train Bridge and Tracks"
          ],
          [
           "Cargo Train"
          ],
          [
           "Spider-Man & Hulk Adventures"
          ],
          [
           "Rapunzel's Tower"
          ],
          [
           "Train Tracks"
          ],
          [
           "My First Fun Puzzle"
          ],
          [
           "My First Car Creations"
          ],
          [
           "Fire Truck"
          ],
          [
           "Baby Animals"
          ],
          [
           "Tropical Island"
          ],
          [
           "Plane"
          ],
          [
           "Submarine Adventure"
          ],
          [
           "Alphabet Truck"
          ],
          [
           "Tow Truck"
          ],
          [
           "Super Heroes Lab"
          ],
          [
           "Bedroom"
          ],
          [
           "Pizza Stand"
          ],
          [
           "Bakery"
          ],
          [
           "Modular Playhouse"
          ]
         ],
         "hovertemplate": "theme=DUPLO®<br>pieces=%{x}<br>price=%{y}<br>set_name=%{customdata[0]}<extra></extra>",
         "legendgroup": "DUPLO®",
         "marker": {
          "color": "#636efa",
          "symbol": "circle"
         },
         "mode": "markers",
         "name": "DUPLO®",
         "orientation": "v",
         "showlegend": true,
         "type": "scatter",
         "x": {
          "bdata": "BgAGACkARwAaABAAGgBpACYAJQAXAA8AIgAVAAkASQAMABgAJAAHAB4AEAASAC4AgQA=",
          "dtype": "i2"
         },
         "xaxis": "x",
         "y": {
          "bdata": "9ihcj8L1E0D2KFyPwvUTQHsUrkfh+i1AH4XrUbj+SEA9CtejcP0zQHsUrkfh+iNAPQrXo3D9OECPwvUoXP9dQD0K16Nw/T1APQrXo3D9PUA9CtejcP0zQD0K16Nw/TNAPQrXo3D9M0A9CtejcP0zQHsUrkfh+iNAH4XrUbj+TUB7FK5H4fojQD0K16Nw/TNAPQrXo3D9OED2KFyPwvUbQD0K16Nw/T1AexSuR+H6LUB7FK5H4fojQB+F61G4fkFAH4XrUbj+TUA=",
          "dtype": "f8"
         },
         "yaxis": "y"
        },
        {
         "customdata": [
          [
           "Stephanie's Soccer Practice"
          ],
          [
           "Olivia's Mission Vehicle"
          ],
          [
           "Mia's Tree House"
          ],
          [
           "Friendship House"
          ],
          [
           "Friends Advent Calendar"
          ],
          [
           "Stephanie's Heart Box"
          ],
          [
           "Mia's Heart Box"
          ],
          [
           "Mia's Forest Adventures"
          ],
          [
           "Stephanie's Obstacle Course"
          ],
          [
           "Mia's House"
          ],
          [
           "Andrea's Pool Party"
          ],
          [
           "Turtles Rescue Mission"
          ],
          [
           "Dolphins Rescue Mission"
          ],
          [
           "Andrea's Summer Heart Box"
          ],
          [
           "Olivia's Summer Heart Box"
          ],
          [
           "Heartlake City Hospital"
          ],
          [
           "Puppy Playground"
          ],
          [
           "Andrea's Play Cube - Singer"
          ],
          [
           "Mia's Play Cube - Veterinarian"
          ],
          [
           "Mia's Play Cube - Cinema"
          ],
          [
           "Baby Elephant Jungle Rescue"
          ],
          [
           "Tiger Hot Air Balloon Jungle Rescue"
          ],
          [
           "Jungle Rescue Base"
          ],
          [
           "Emma's Fashion Shop"
          ],
          [
           "Beach House"
          ]
         ],
         "hovertemplate": "theme=Friends<br>pieces=%{x}<br>price=%{y}<br>set_name=%{customdata[0]}<extra></extra>",
         "legendgroup": "Friends",
         "marker": {
          "color": "#EF553B",
          "symbol": "circle"
         },
         "mode": "markers",
         "name": "Friends",
         "orientation": "v",
         "showlegend": true,
         "type": "scatter",
         "x": {
          "bdata": "dwDfAF8B0gL0AVUAUwCGAFEBywLUAeEAawFTAF0AewE5ADEAKAAlAMsALgGIAlcBvAE=",
          "dtype": "i2"
         },
         "xaxis": "x",
         "y": {
          "bdata": "exSuR+H6LUA9CtejcP0zQD0K16Nw/T1Aj8L1KFx/UUA9CtejcP09QPYoXI/C9R9A9ihcj8L1H0B7FK5H4fotQB+F61G4/kNAj8L1KFx/UUAfhetRuP5IQD0K16Nw/TNAH4XrUbj+Q0D2KFyPwvUfQPYoXI/C9R9AH4XrUbj+SEB7FK5H4fojQHsUrkfh+iNAexSuR+H6I0B7FK5H4fojQD0K16Nw/TNAH4XrUbj+Q0CPwvUoXP9TQD0K16Nw/T1AH4XrUbj+SEA=",
          "dtype": "f8"
         },
         "yaxis": "y"
        },
        {
         "customdata": [
          [
           "Off-Road Chase"
          ],
          [
           "Mountain Fugitives"
          ],
          [
           "Dirt Road Pursuit"
          ],
          [
           "Pickup & Caravan"
          ],
          [
           "Heavy Cargo Transport"
          ],
          [
           "Mining Team"
          ],
          [
           "People Pack - Outdoor Adventures"
          ],
          [
           "Parachute Arrest"
          ],
          [
           "Dock Side Fire"
          ],
          [
           "Fire Station"
          ],
          [
           "Fire Plane"
          ],
          [
           "Construction Loader"
          ],
          [
           "Diving Yacht"
          ],
          [
           "Harvester Transport"
          ],
          [
           "Mars Research Shuttle"
          ],
          [
           "Police Helicopter Chase"
          ],
          [
           "Police Monster Truck Heist"
          ],
          [
           "Police Station"
          ],
          [
           "Fire Helicopter Response"
          ],
          [
           "Street Sweeper"
          ],
          [
           "Monster Truck"
          ],
          [
           "Construction Bulldozer"
          ],
          [
           "Tuning Workshop"
          ],
          [
           "Ocean Exploration Ship"
          ],
          [
           "Safari Off-Roader"
          ]
         ],
         "hovertemplate": "theme=City<br>pieces=%{x}<br>price=%{y}<br>set_name=%{customdata[0]}<extra></extra>",
         "legendgroup": "City",
         "marker": {
          "color": "#00cc96",
          "symbol": "circle"
         },
         "mode": "markers",
         "name": "City",
         "orientation": "v",
         "showlegend": true,
         "type": "scatter",
         "x": {
          "bdata": "JQBYACkBWAE2AVIApADaAGEA/QFrAVgAlABmAREB1ABqAecCXQBZADcAfgCBA+kCqAA=",
          "dtype": "i2"
         },
         "xaxis": "x",
         "y": {
          "bdata": "9ihcj8L1G0B7FK5H4fojQB+F61G4/kNAPQrXo3D9PUA9CtejcP09QHsUrkfh+iNAH4XrUbj+Q0AfhetRuP5DQD0K16Nw/TNAj8L1KFx/UUAfhetRuP5NQHsUrkfh+iNAPQrXo3D9M0A9CtejcP09QB+F61G4/kNAH4XrUbj+Q0AfhetRuP5NQI/C9Shc/1hAPQrXo3D9PUB7FK5H4fojQHsUrkfh+iNAPQrXo3D9M0CPwvUoXP9YQEjhehSuv2JAPQrXo3D9M0A=",
          "dtype": "f8"
         },
         "yaxis": "y"
        }
       ],
       "layout": {
        "legend": {
         "title": {
          "text": "theme"
         },
         "tracegroupgap": 0
        },
        "margin": {
         "t": 60
        },
        "template": {
         "data": {
          "bar": [
           {
            "error_x": {
             "color": "#2a3f5f"
            },
            "error_y": {
             "color": "#2a3f5f"
            },
            "marker": {
             "line": {
              "color": "#E5ECF6",
              "width": 0.5
             },
             "pattern": {
              "fillmode": "overlay",
              "size": 10,
              "solidity": 0.2
             }
            },
            "type": "bar"
           }
          ],
          "barpolar": [
           {
            "marker": {
             "line": {
              "color": "#E5ECF6",
              "width": 0.5
             },
             "pattern": {
              "fillmode": "overlay",
              "size": 10,
              "solidity": 0.2
             }
            },
            "type": "barpolar"
           }
          ],
          "carpet": [
           {
            "aaxis": {
             "endlinecolor": "#2a3f5f",
             "gridcolor": "white",
             "linecolor": "white",
             "minorgridcolor": "white",
             "startlinecolor": "#2a3f5f"
            },
            "baxis": {
             "endlinecolor": "#2a3f5f",
             "gridcolor": "white",
             "linecolor": "white",
             "minorgridcolor": "white",
             "startlinecolor": "#2a3f5f"
            },
            "type": "carpet"
           }
          ],
          "choropleth": [
           {
            "colorbar": {
             "outlinewidth": 0,
             "ticks": ""
            },
            "type": "choropleth"
           }
          ],
          "contour": [
           {
            "colorbar": {
             "outlinewidth": 0,
             "ticks": ""
            },
            "colorscale": [
             [
              0,
              "#0d0887"
             ],
             [
              0.1111111111111111,
              "#46039f"
             ],
             [
              0.2222222222222222,
              "#7201a8"
             ],
             [
              0.3333333333333333,
              "#9c179e"
             ],
             [
              0.4444444444444444,
              "#bd3786"
             ],
             [
              0.5555555555555556,
              "#d8576b"
             ],
             [
              0.6666666666666666,
              "#ed7953"
             ],
             [
              0.7777777777777778,
              "#fb9f3a"
             ],
             [
              0.8888888888888888,
              "#fdca26"
             ],
             [
              1,
              "#f0f921"
             ]
            ],
            "type": "contour"
           }
          ],
          "contourcarpet": [
           {
            "colorbar": {
             "outlinewidth": 0,
             "ticks": ""
            },
            "type": "contourcarpet"
           }
          ],
          "heatmap": [
           {
            "colorbar": {
             "outlinewidth": 0,
             "ticks": ""
            },
            "colorscale": [
             [
              0,
              "#0d0887"
             ],
             [
              0.1111111111111111,
              "#46039f"
             ],
             [
              0.2222222222222222,
              "#7201a8"
             ],
             [
              0.3333333333333333,
              "#9c179e"
             ],
             [
              0.4444444444444444,
              "#bd3786"
             ],
             [
              0.5555555555555556,
              "#d8576b"
             ],
             [
              0.6666666666666666,
              "#ed7953"
             ],
             [
              0.7777777777777778,
              "#fb9f3a"
             ],
             [
              0.8888888888888888,
              "#fdca26"
             ],
             [
              1,
              "#f0f921"
             ]
            ],
            "type": "heatmap"
           }
          ],
          "histogram": [
           {
            "marker": {
             "pattern": {
              "fillmode": "overlay",
              "size": 10,
              "solidity": 0.2
             }
            },
            "type": "histogram"
           }
          ],
          "histogram2d": [
           {
            "colorbar": {
             "outlinewidth": 0,
             "ticks": ""
            },
            "colorscale": [
             [
              0,
              "#0d0887"
             ],
             [
              0.1111111111111111,
              "#46039f"
             ],
             [
              0.2222222222222222,
              "#7201a8"
             ],
             [
              0.3333333333333333,
              "#9c179e"
             ],
             [
              0.4444444444444444,
              "#bd3786"
             ],
             [
              0.5555555555555556,
              "#d8576b"
             ],
             [
              0.6666666666666666,
              "#ed7953"
             ],
             [
              0.7777777777777778,
              "#fb9f3a"
             ],
             [
              0.8888888888888888,
              "#fdca26"
             ],
             [
              1,
              "#f0f921"
             ]
            ],
            "type": "histogram2d"
           }
          ],
          "histogram2dcontour": [
           {
            "colorbar": {
             "outlinewidth": 0,
             "ticks": ""
            },
            "colorscale": [
             [
              0,
              "#0d0887"
             ],
             [
              0.1111111111111111,
              "#46039f"
             ],
             [
              0.2222222222222222,
              "#7201a8"
             ],
             [
              0.3333333333333333,
              "#9c179e"
             ],
             [
              0.4444444444444444,
              "#bd3786"
             ],
             [
              0.5555555555555556,
              "#d8576b"
             ],
             [
              0.6666666666666666,
              "#ed7953"
             ],
             [
              0.7777777777777778,
              "#fb9f3a"
             ],
             [
              0.8888888888888888,
              "#fdca26"
             ],
             [
              1,
              "#f0f921"
             ]
            ],
            "type": "histogram2dcontour"
           }
          ],
          "mesh3d": [
           {
            "colorbar": {
             "outlinewidth": 0,
             "ticks": ""
            },
            "type": "mesh3d"
           }
          ],
          "parcoords": [
           {
            "line": {
             "colorbar": {
              "outlinewidth": 0,
              "ticks": ""
             }
            },
            "type": "parcoords"
           }
          ],
          "pie": [
           {
            "automargin": true,
            "type": "pie"
           }
          ],
          "scatter": [
           {
            "fillpattern": {
             "fillmode": "overlay",
             "size": 10,
             "solidity": 0.2
            },
            "type": "scatter"
           }
          ],
          "scatter3d": [
           {
            "line": {
             "colorbar": {
              "outlinewidth": 0,
              "ticks": ""
             }
            },
            "marker": {
             "colorbar": {
              "outlinewidth": 0,
              "ticks": ""
             }
            },
            "type": "scatter3d"
           }
          ],
          "scattercarpet": [
           {
            "marker": {
             "colorbar": {
              "outlinewidth": 0,
              "ticks": ""
             }
            },
            "type": "scattercarpet"
           }
          ],
          "scattergeo": [
           {
            "marker": {
             "colorbar": {
              "outlinewidth": 0,
              "ticks": ""
             }
            },
            "type": "scattergeo"
           }
          ],
          "scattergl": [
           {
            "marker": {
             "colorbar": {
              "outlinewidth": 0,
              "ticks": ""
             }
            },
            "type": "scattergl"
           }
          ],
          "scattermap": [
           {
            "marker": {
             "colorbar": {
              "outlinewidth": 0,
              "ticks": ""
             }
            },
            "type": "scattermap"
           }
          ],
          "scattermapbox": [
           {
            "marker": {
             "colorbar": {
              "outlinewidth": 0,
              "ticks": ""
             }
            },
            "type": "scattermapbox"
           }
          ],
          "scatterpolar": [
           {
            "marker": {
             "colorbar": {
              "outlinewidth": 0,
              "ticks": ""
             }
            },
            "type": "scatterpolar"
           }
          ],
          "scatterpolargl": [
           {
            "marker": {
             "colorbar": {
              "outlinewidth": 0,
              "ticks": ""
             }
            },
            "type": "scatterpolargl"
           }
          ],
          "scatterternary": [
           {
            "marker": {
             "colorbar": {
              "outlinewidth": 0,
              "ticks": ""
             }
            },
            "type": "scatterternary"
           }
          ],
          "surface": [
           {
            "colorbar": {
             "outlinewidth": 0,
             "ticks": ""
            },
            "colorscale": [
             [
              0,
              "#0d0887"
             ],
             [
              0.1111111111111111,
              "#46039f"
             ],
             [
              0.2222222222222222,
              "#7201a8"
             ],
             [
              0.3333333333333333,
              "#9c179e"
             ],
             [
              0.4444444444444444,
              "#bd3786"
             ],
             [
              0.5555555555555556,
              "#d8576b"
             ],
             [
              0.6666666666666666,
              "#ed7953"
             ],
             [
              0.7777777777777778,
              "#fb9f3a"
             ],
             [
              0.8888888888888888,
              "#fdca26"
             ],
             [
              1,
              "#f0f921"
             ]
            ],
            "type": "surface"
           }
          ],
          "table": [
           {
            "cells": {
             "fill": {
              "color": "#EBF0F8"
             },
             "line": {
              "color": "white"
             }
            },
            "header": {
             "fill": {
              "color": "#C8D4E3"
             },
             "line": {
              "color": "white"
             }
            },
            "type": "table"
           }
          ]
         },
         "layout": {
          "annotationdefaults": {
           "arrowcolor": "#2a3f5f",
           "arrowhead": 0,
           "arrowwidth": 1
          },
          "autotypenumbers": "strict",
          "coloraxis": {
           "colorbar": {
            "outlinewidth": 0,
            "ticks": ""
           }
          },
          "colorscale": {
           "diverging": [
            [
             0,
             "#8e0152"
            ],
            [
             0.1,
             "#c51b7d"
            ],
            [
             0.2,
             "#de77ae"
            ],
            [
             0.3,
             "#f1b6da"
            ],
            [
             0.4,
             "#fde0ef"
            ],
            [
             0.5,
             "#f7f7f7"
            ],
            [
             0.6,
             "#e6f5d0"
            ],
            [
             0.7,
             "#b8e186"
            ],
            [
             0.8,
             "#7fbc41"
            ],
            [
             0.9,
             "#4d9221"
            ],
            [
             1,
             "#276419"
            ]
           ],
           "sequential": [
            [
             0,
             "#0d0887"
            ],
            [
             0.1111111111111111,
             "#46039f"
            ],
            [
             0.2222222222222222,
             "#7201a8"
            ],
            [
             0.3333333333333333,
             "#9c179e"
            ],
            [
             0.4444444444444444,
             "#bd3786"
            ],
            [
             0.5555555555555556,
             "#d8576b"
            ],
            [
             0.6666666666666666,
             "#ed7953"
            ],
            [
             0.7777777777777778,
             "#fb9f3a"
            ],
            [
             0.8888888888888888,
             "#fdca26"
            ],
            [
             1,
             "#f0f921"
            ]
           ],
           "sequentialminus": [
            [
             0,
             "#0d0887"
            ],
            [
             0.1111111111111111,
             "#46039f"
            ],
            [
             0.2222222222222222,
             "#7201a8"
            ],
            [
             0.3333333333333333,
             "#9c179e"
            ],
            [
             0.4444444444444444,
             "#bd3786"
            ],
            [
             0.5555555555555556,
             "#d8576b"
            ],
            [
             0.6666666666666666,
             "#ed7953"
            ],
            [
             0.7777777777777778,
             "#fb9f3a"
            ],
            [
             0.8888888888888888,
             "#fdca26"
            ],
            [
             1,
             "#f0f921"
            ]
           ]
          },
          "colorway": [
           "#636efa",
           "#EF553B",
           "#00cc96",
           "#ab63fa",
           "#FFA15A",
           "#19d3f3",
           "#FF6692",
           "#B6E880",
           "#FF97FF",
           "#FECB52"
          ],
          "font": {
           "color": "#2a3f5f"
          },
          "geo": {
           "bgcolor": "white",
           "lakecolor": "white",
           "landcolor": "#E5ECF6",
           "showlakes": true,
           "showland": true,
           "subunitcolor": "white"
          },
          "hoverlabel": {
           "align": "left"
          },
          "hovermode": "closest",
          "mapbox": {
           "style": "light"
          },
          "paper_bgcolor": "white",
          "plot_bgcolor": "#E5ECF6",
          "polar": {
           "angularaxis": {
            "gridcolor": "white",
            "linecolor": "white",
            "ticks": ""
           },
           "bgcolor": "#E5ECF6",
           "radialaxis": {
            "gridcolor": "white",
            "linecolor": "white",
            "ticks": ""
           }
          },
          "scene": {
           "xaxis": {
            "backgroundcolor": "#E5ECF6",
            "gridcolor": "white",
            "gridwidth": 2,
            "linecolor": "white",
            "showbackground": true,
            "ticks": "",
            "zerolinecolor": "white"
           },
           "yaxis": {
            "backgroundcolor": "#E5ECF6",
            "gridcolor": "white",
            "gridwidth": 2,
            "linecolor": "white",
            "showbackground": true,
            "ticks": "",
            "zerolinecolor": "white"
           },
           "zaxis": {
            "backgroundcolor": "#E5ECF6",
            "gridcolor": "white",
            "gridwidth": 2,
            "linecolor": "white",
            "showbackground": true,
            "ticks": "",
            "zerolinecolor": "white"
           }
          },
          "shapedefaults": {
           "line": {
            "color": "#2a3f5f"
           }
          },
          "ternary": {
           "aaxis": {
            "gridcolor": "white",
            "linecolor": "white",
            "ticks": ""
           },
           "baxis": {
            "gridcolor": "white",
            "linecolor": "white",
            "ticks": ""
           },
           "bgcolor": "#E5ECF6",
           "caxis": {
            "gridcolor": "white",
            "linecolor": "white",
            "ticks": ""
           }
          },
          "title": {
           "x": 0.05
          },
          "xaxis": {
           "automargin": true,
           "gridcolor": "white",
           "linecolor": "white",
           "ticks": "",
           "title": {
            "standoff": 15
           },
           "zerolinecolor": "white",
           "zerolinewidth": 2
          },
          "yaxis": {
           "automargin": true,
           "gridcolor": "white",
           "linecolor": "white",
           "ticks": "",
           "title": {
            "standoff": 15
           },
           "zerolinecolor": "white",
           "zerolinewidth": 2
          }
         }
        },
        "xaxis": {
         "anchor": "y",
         "domain": [
          0,
          1
         ],
         "title": {
          "text": "pieces"
         }
        },
        "yaxis": {
         "anchor": "x",
         "domain": [
          0,
          1
         ],
         "title": {
          "text": "price"
         }
        }
       }
      },
      "image/png": "[encoded data removed]"
     },
     "metadata": {},
     "output_type": "display_data"
    }
   ],
   "source": [
    "# Part A\n",
    "fig = px.scatter(\n",
    "    DF,\n",
    "    x='pieces',\n",
    "    y='price',\n",
    "    color='theme',\n",
    "    hover_data=['set_name'])\n",
    "\n",
    "fig.show()"
   ]
  },
  {
   "cell_type": "markdown",
   "id": "dfe37c81-174d-476a-af64-9a0fd7116318",
   "metadata": {},
   "source": [
    "#### B) Yes more expensive sets have more pieces due to the upward trend of the graph. The most expensive set is Ocean Exploration Ship. DUPLOS tend to have less pieces as City tend to have more varying amounts of pieces. The DUPLO Cargo Train is a large outlier for that theme."
   ]
  },
  {
   "cell_type": "markdown",
   "id": "250cd24d-4ce0-47b1-8d3e-1917c6e0e15a",
   "metadata": {},
   "source": [
    "## Problem 4 (15 points)\n",
    "Analyze the price differences between the Retail Price and the Amazon Price.\n",
    "\n",
    "(a) Create a new column in the data frame that measures the price difference between Amazon and Retail.\n",
    "\n",
    "Price Difference = Amazon Price - Retail Price\n",
    "\n",
    "If the results of this calculation are positive, what does that mean about the prices?\n",
    "\n",
    "(b) Group the data by Lego Theme and use describe to do statistics on the price difference column you created in part (a). \n",
    "Comment on at least four things that you learned by looking at these statistics.\n",
    "\n",
    "Your result should be a data frame (or table) with the three Lego themes on the left and statistics about the price difference to the right of that.\n",
    "\n",
    "(c) Make a histogram of the price difference and color the bars by the Lego Theme.\n",
    "\n",
    "For help with this one - look at Day4.\n",
    "\n",
    "Your plot should include labels for the axis and a descriptive title"
   ]
  },
  {
   "cell_type": "code",
   "execution_count": 58,
   "id": "c09e7be8-6926-481a-82a3-ab128dfd8b7c",
   "metadata": {},
   "outputs": [
    {
     "data": {
      "text/html": [
       "<!--| quarto-html-table-processing: none -->\n",
       "<table id=\"itables_3daa3cba_10f6_4246_977e_42350508702e\"><tbody><tr>\n",
       "    <td style=\"vertical-align:middle; text-align:left\">\n",
       "    <a href=https://mwouts.github.io/itables/><svg class=\"main-svg\" xmlns=\"http://www.w3.org/2000/svg\" xmlns:xlink=\"http://www.w3.org/1999/xlink\"\n",
       "width=\"64\" viewBox=\"0 0 500 400\" style=\"font-family: 'Droid Sans', sans-serif;\">\n",
       "    <g style=\"fill:#d9d7fc\">\n",
       "        <path d=\"M100,400H500V357H100Z\" />\n",
       "        <path d=\"M100,300H400V257H100Z\" />\n",
       "        <path d=\"M0,200H400V157H0Z\" />\n",
       "        <path d=\"M100,100H500V57H100Z\" />\n",
       "        <path d=\"M100,350H500V307H100Z\" />\n",
       "        <path d=\"M100,250H400V207H100Z\" />\n",
       "        <path d=\"M0,150H400V107H0Z\" />\n",
       "        <path d=\"M100,50H500V7H100Z\" />\n",
       "    </g>\n",
       "    <g style=\"fill:#1a1366;stroke:#1a1366;\">\n",
       "   <rect x=\"100\" y=\"7\" width=\"400\" height=\"43\">\n",
       "    <animate\n",
       "      attributeName=\"width\"\n",
       "      values=\"0;400;0\"\n",
       "      dur=\"5s\"\n",
       "      repeatCount=\"indefinite\" />\n",
       "      <animate\n",
       "      attributeName=\"x\"\n",
       "      values=\"100;100;500\"\n",
       "      dur=\"5s\"\n",
       "      repeatCount=\"indefinite\" />\n",
       "  </rect>\n",
       "        <rect x=\"0\" y=\"107\" width=\"400\" height=\"43\">\n",
       "    <animate\n",
       "      attributeName=\"width\"\n",
       "      values=\"0;400;0\"\n",
       "      dur=\"3.5s\"\n",
       "      repeatCount=\"indefinite\" />\n",
       "    <animate\n",
       "      attributeName=\"x\"\n",
       "      values=\"0;0;400\"\n",
       "      dur=\"3.5s\"\n",
       "      repeatCount=\"indefinite\" />\n",
       "  </rect>\n",
       "        <rect x=\"100\" y=\"207\" width=\"300\" height=\"43\">\n",
       "    <animate\n",
       "      attributeName=\"width\"\n",
       "      values=\"0;300;0\"\n",
       "      dur=\"3s\"\n",
       "      repeatCount=\"indefinite\" />\n",
       "    <animate\n",
       "      attributeName=\"x\"\n",
       "      values=\"100;100;400\"\n",
       "      dur=\"3s\"\n",
       "      repeatCount=\"indefinite\" />\n",
       "  </rect>\n",
       "        <rect x=\"100\" y=\"307\" width=\"400\" height=\"43\">\n",
       "    <animate\n",
       "      attributeName=\"width\"\n",
       "      values=\"0;400;0\"\n",
       "      dur=\"4s\"\n",
       "      repeatCount=\"indefinite\" />\n",
       "      <animate\n",
       "      attributeName=\"x\"\n",
       "      values=\"100;100;500\"\n",
       "      dur=\"4s\"\n",
       "      repeatCount=\"indefinite\" />\n",
       "  </rect>\n",
       "        <g style=\"fill:transparent;stroke-width:8; stroke-linejoin:round\" rx=\"5\">\n",
       "            <g transform=\"translate(45 50) rotate(-45)\">\n",
       "                <circle r=\"33\" cx=\"0\" cy=\"0\" />\n",
       "                <rect x=\"-8\" y=\"32\" width=\"16\" height=\"30\" />\n",
       "            </g>\n",
       "\n",
       "            <g transform=\"translate(450 152)\">\n",
       "                <polyline points=\"-15,-20 -35,-20 -35,40 25,40 25,20\" />\n",
       "                <rect x=\"-15\" y=\"-40\" width=\"60\" height=\"60\" />\n",
       "            </g>\n",
       "\n",
       "            <g transform=\"translate(50 352)\">\n",
       "                <polygon points=\"-35,-5 0,-40 35,-5\" />\n",
       "                <polygon points=\"-35,10 0,45 35,10\" />\n",
       "            </g>\n",
       "\n",
       "            <g transform=\"translate(75 250)\">\n",
       "                <polyline points=\"-30,30 -60,0 -30,-30\" />\n",
       "                <polyline points=\"0,30 -30,0 0,-30\" />\n",
       "            </g>\n",
       "\n",
       "            <g transform=\"translate(425 250) rotate(180)\">\n",
       "                <polyline points=\"-30,30 -60,0 -30,-30\" />\n",
       "                <polyline points=\"0,30 -30,0 0,-30\" />\n",
       "            </g>\n",
       "        </g>\n",
       "    </g>\n",
       "</svg>\n",
       "</a>\n",
       "    Loading ITables v2.5.2 from the internet...\n",
       "    (need <a href=https://mwouts.github.io/itables/troubleshooting.html>help</a>?)</td>\n",
       "    </tr></tbody></table>\n",
       "<link href=\"https://www.unpkg.com/dt_for_itables@2.4.0/dt_bundle.css\" rel=\"stylesheet\">\n",
       "<script type=\"module\">\n",
       "    import { ITable, jQuery as $ } from 'https://www.unpkg.com/dt_for_itables@2.4.0/dt_bundle.js';\n",
       "\n",
       "    document.querySelectorAll(\"#itables_3daa3cba_10f6_4246_977e_42350508702e:not(.dataTable)\").forEach(table => {\n",
       "        if (!(table instanceof HTMLTableElement))\n",
       "            return;\n",
       "\n",
       "        let dt_args = {\"layout\": {\"topStart\": \"pageLength\", \"topEnd\": \"search\", \"bottomStart\": \"info\", \"bottomEnd\": \"paging\"}, \"classes\": [\"display\", \"nowrap\"], \"order\": [], \"style\": {\"table-layout\": \"auto\", \"width\": \"auto\", \"margin\": \"auto\", \"caption-side\": \"bottom\"}, \"text_in_header_can_be_selected\": true, \"table_html\": \"<table><thead>\\n    <tr style=\\\"text-align: right;\\\">\\n      \\n      <th>item_number</th>\\n      <th>set_name</th>\\n      <th>theme</th>\\n      <th>pieces</th>\\n      <th>price</th>\\n      <th>amazon_price</th>\\n      <th>year</th>\\n      <th>ages</th>\\n      <th>pages</th>\\n      <th>minifigures</th>\\n      <th>packaging</th>\\n      <th>weight</th>\\n      <th>unique_pieces</th>\\n      <th>size</th>\\n      <th>price_diff</th>\\n    </tr>\\n  </thead></table>\", \"data_json\": \"[[10859, \\\"My First Ladybird\\\", \\\"DUPLO\\\\u00ae\\\", 6, 4.99, 16.0, 2018, \\\"Ages_1\\\\u00bd-3\\\", 9, \\\"___NaN___\\\", \\\"Box\\\", \\\"NaN\\\", 5, \\\"Large\\\", 11.01], [10860, \\\"My First Race Car\\\", \\\"DUPLO\\\\u00ae\\\", 6, 4.99, 9.45, 2018, \\\"Ages_1\\\\u00bd-3\\\", 9, \\\"___NaN___\\\", \\\"Box\\\", \\\"0.13Kg (0.29 lb)\\\", 6, \\\"Large\\\", 4.46], [10862, \\\"My First Celebration\\\", \\\"DUPLO\\\\u00ae\\\", 41, 14.99, 39.89, 2018, \\\"Ages_1\\\\u00bd-3\\\", 9, \\\"___NaN___\\\", \\\"Box\\\", \\\"NaN\\\", 18, \\\"Large\\\", 24.9], [10864, \\\"Large Playground Brick Box\\\", \\\"DUPLO\\\\u00ae\\\", 71, 49.99, 56.69, 2018, \\\"Ages_2-5\\\", 32, 2.0, \\\"Plastic box\\\", \\\"1.41Kg (3.11 lb)\\\", 49, \\\"Large\\\", 6.7], [10867, \\\"Farmers' Market\\\", \\\"DUPLO\\\\u00ae\\\", 26, 19.99, 36.99, 2018, \\\"Ages_2-5\\\", 9, 3.0, \\\"Box\\\", \\\"NaN\\\", 18, \\\"Large\\\", 17.0], [10870, \\\"Farm Animals\\\", \\\"DUPLO\\\\u00ae\\\", 16, 9.99, 9.99, 2018, \\\"Ages_2-5\\\", 8, \\\"___NaN___\\\", \\\"Box\\\", \\\"NaN\\\", 13, \\\"Large\\\", 0.0], [10872, \\\"Train Bridge and Tracks\\\", \\\"DUPLO\\\\u00ae\\\", 26, 24.99, 21.99, 2018, \\\"Ages_2-5\\\", 16, 1.0, \\\"Box\\\", \\\"0.88Kg (1.95 lb)\\\", 10, \\\"Large\\\", -3.0], [10875, \\\"Cargo Train\\\", \\\"DUPLO\\\\u00ae\\\", 105, 119.99, 128.95, 2018, \\\"Ages_2-5\\\", 64, 3.0, \\\"Box\\\", \\\"2.86Kg (6.31 lb)\\\", 68, \\\"Large\\\", 8.96], [10876, \\\"Spider-Man &amp; Hulk Adventures\\\", \\\"DUPLO\\\\u00ae\\\", 38, 29.99, 74.5, 2018, \\\"Ages_2-5\\\", 20, 3.0, \\\"Box\\\", \\\"0.54Kg (1.19 lb)\\\", 29, \\\"Large\\\", 44.51], [10878, \\\"Rapunzel's Tower\\\", \\\"DUPLO\\\\u00ae\\\", 37, 29.99, 98.99, 2018, \\\"Ages_2-5\\\", 24, 1.0, \\\"Box\\\", \\\"NaN\\\", 26, \\\"Large\\\", 69.0], [10882, \\\"Train Tracks\\\", \\\"DUPLO\\\\u00ae\\\", 23, 19.99, 17.99, 2018, \\\"Ages_2-5\\\", 16, \\\"___NaN___\\\", \\\"Box\\\", \\\"0.66Kg (1.45 lb)\\\", 9, \\\"Large\\\", -2.0], [10885, \\\"My First Fun Puzzle\\\", \\\"DUPLO\\\\u00ae\\\", 15, 19.99, 19.55, 2019, \\\"Ages_1\\\\u00bd+\\\", 9, \\\"___NaN___\\\", \\\"NaN\\\", \\\"NaN\\\", 15, \\\"Large\\\", -0.44], [10886, \\\"My First Car Creations\\\", \\\"DUPLO\\\\u00ae\\\", 34, 19.99, 16.0, 2019, \\\"Ages_1\\\\u00bd+\\\", 10, \\\"___NaN___\\\", \\\"NaN\\\", \\\"0.64Kg (1.41 lb)\\\", 31, \\\"Large\\\", -3.99], [10901, \\\"Fire Truck\\\", \\\"DUPLO\\\\u00ae\\\", 21, 19.99, 17.99, 2019, \\\"Ages_2+\\\", 10, 2.0, \\\"Box\\\", \\\"0.45Kg (0.99 lb)\\\", 16, \\\"Large\\\", -2.0], [10904, \\\"Baby Animals\\\", \\\"DUPLO\\\\u00ae\\\", 9, 9.99, 21.11, 2019, \\\"Ages_2+\\\", 8, \\\"___NaN___\\\", \\\"Box\\\", \\\"NaN\\\", 9, \\\"Large\\\", 11.12], [10906, \\\"Tropical Island\\\", \\\"DUPLO\\\\u00ae\\\", 73, 59.99, 59.99, 2019, \\\"Ages_2+\\\", 40, 3.0, \\\"Box\\\", \\\"NaN\\\", 44, \\\"Large\\\", 0.0], [10908, \\\"Plane\\\", \\\"DUPLO\\\\u00ae\\\", 12, 9.99, 23.27, 2019, \\\"Ages_2+\\\", 10, 1.0, \\\"Box\\\", \\\"NaN\\\", 11, \\\"Large\\\", 13.28], [10910, \\\"Submarine Adventure\\\", \\\"DUPLO\\\\u00ae\\\", 24, 19.99, 17.99, 2019, \\\"Ages_2+\\\", 8, 2.0, \\\"Box\\\", \\\"NaN\\\", 22, \\\"Large\\\", -2.0], [10915, \\\"Alphabet Truck\\\", \\\"DUPLO\\\\u00ae\\\", 36, 24.99, 21.99, 2020, \\\"Ages_1\\\\u00bd+\\\", 1, 2.0, \\\"Box\\\", \\\"NaN\\\", 35, \\\"Large\\\", -3.0], [10918, \\\"Tow Truck\\\", \\\"DUPLO\\\\u00ae\\\", 7, 6.99, 6.29, 2020, \\\"Ages_1\\\\u00bd+\\\", 3, \\\"___NaN___\\\", \\\"Box with backing card\\\", \\\"NaN\\\", 7, \\\"Large\\\", -0.7], [10921, \\\"Super Heroes Lab\\\", \\\"DUPLO\\\\u00ae\\\", 30, 29.99, 26.99, 2020, \\\"Ages_2+\\\", 16, 3.0, \\\"Box\\\", \\\"NaN\\\", 23, \\\"Large\\\", -3.0], [10926, \\\"Bedroom\\\", \\\"DUPLO\\\\u00ae\\\", 16, 14.99, 14.99, 2020, \\\"Ages_2+\\\", 2, 2.0, \\\"Box\\\", \\\"NaN\\\", 16, \\\"Large\\\", 0.0], [10927, \\\"Pizza Stand\\\", \\\"DUPLO\\\\u00ae\\\", 18, 9.99, 8.99, 2020, \\\"Ages_2+\\\", 12, 1.0, \\\"Box\\\", \\\"NaN\\\", 15, \\\"Large\\\", -1.0], [10928, \\\"Bakery\\\", \\\"DUPLO\\\\u00ae\\\", 46, 34.99, 29.99, 2020, \\\"Ages_2+\\\", 20, 2.0, \\\"Box\\\", \\\"NaN\\\", 33, \\\"Large\\\", -5.0], [10929, \\\"Modular Playhouse\\\", \\\"DUPLO\\\\u00ae\\\", 129, 59.99, 59.99, 2020, \\\"Ages_2+\\\", 84, 3.0, \\\"Box\\\", \\\"NaN\\\", 56, \\\"Large\\\", 0.0], [41330, \\\"Stephanie's Soccer Practice\\\", \\\"Friends\\\", 119, 14.99, 40.4, 2018, \\\"Ages_6-12\\\", 48, 1.0, \\\"Box\\\", \\\"NaN\\\", 78, \\\"Small\\\", 25.41], [41333, \\\"Olivia's Mission Vehicle\\\", \\\"Friends\\\", 223, 19.99, 45.95, 2018, \\\"Ages_6-12\\\", 84, 1.0, \\\"Box\\\", \\\"0.32Kg (0.7 lb)\\\", 106, \\\"Small\\\", 25.96], [41335, \\\"Mia's Tree House\\\", \\\"Friends\\\", 351, 29.99, 53.88, 2018, \\\"Ages_6-12\\\", 120, 2.0, \\\"Box\\\", \\\"0.61Kg (1.34 lb)\\\", 151, \\\"Small\\\", 23.89], [41340, \\\"Friendship House\\\", \\\"Friends\\\", 722, 69.99, 184.99, 2018, \\\"Ages_6-12\\\", 164, 3.0, \\\"Box\\\", \\\"1.14Kg (2.51 lb)\\\", 309, \\\"Small\\\", 115.0], [41353, \\\"Friends Advent Calendar\\\", \\\"Friends\\\", 500, 29.99, 34.0, 2018, \\\"Ages_6-12\\\", 4, \\\"___NaN___\\\", \\\"Box\\\", \\\"NaN\\\", 202, \\\"Small\\\", 4.01], [41356, \\\"Stephanie's Heart Box\\\", \\\"Friends\\\", 85, 7.99, 14.99, 2019, \\\"Ages_6+\\\", 32, 1.0, \\\"NaN\\\", \\\"0.13Kg (0.29 lb)\\\", 36, \\\"Small\\\", 7.0], [41358, \\\"Mia's Heart Box\\\", \\\"Friends\\\", 83, 7.99, 18.64, 2019, \\\"Ages_6+\\\", 32, 1.0, \\\"NaN\\\", \\\"0.14Kg (0.31 lb)\\\", 38, \\\"Small\\\", 10.65], [41363, \\\"Mia's Forest Adventures\\\", \\\"Friends\\\", 134, 14.99, 18.95, 2019, \\\"Ages_6+\\\", 44, 1.0, \\\"NaN\\\", \\\"0.15Kg (0.33 lb)\\\", 77, \\\"Small\\\", 3.96], [41367, \\\"Stephanie's Obstacle Course\\\", \\\"Friends\\\", 337, 39.99, 35.99, 2019, \\\"Ages_6+\\\", 100, 2.0, \\\"NaN\\\", \\\"0.59Kg (1.3 lb)\\\", 168, \\\"Small\\\", -4.0], [41369, \\\"Mia's House\\\", \\\"Friends\\\", 715, 69.99, 62.99, 2019, \\\"Ages_6+\\\", 192, 3.0, \\\"NaN\\\", \\\"1.12Kg (2.47 lb)\\\", 274, \\\"Small\\\", -7.0], [41374, \\\"Andrea's Pool Party\\\", \\\"Friends\\\", 468, 49.99, 40.0, 2019, \\\"Ages_6+\\\", 112, 2.0, \\\"Box\\\", \\\"NaN\\\", 221, \\\"Small\\\", -9.99], [41376, \\\"Turtles Rescue Mission\\\", \\\"Friends\\\", 225, 19.99, 31.27, 2019, \\\"Ages_6+\\\", 72, 2.0, \\\"Box\\\", \\\"NaN\\\", 125, \\\"Small\\\", 11.28], [41378, \\\"Dolphins Rescue Mission\\\", \\\"Friends\\\", 363, 39.99, 31.67, 2019, \\\"Ages_6+\\\", 116, 2.0, \\\"Box\\\", \\\"NaN\\\", 192, \\\"Small\\\", -8.32], [41384, \\\"Andrea's Summer Heart Box\\\", \\\"Friends\\\", 83, 7.99, 14.99, 2019, \\\"Ages_6+\\\", 36, 1.0, \\\"Other\\\", \\\"NaN\\\", 46, \\\"Small\\\", 7.0], [41387, \\\"Olivia's Summer Heart Box\\\", \\\"Friends\\\", 93, 7.99, 7.99, 2019, \\\"Ages_6+\\\", 40, 2.0, \\\"Other\\\", \\\"NaN\\\", 48, \\\"Small\\\", 0.0], [41394, \\\"Heartlake City Hospital\\\", \\\"Friends\\\", 379, 49.99, 48.53, 2020, \\\"Ages_6+\\\", 132, 3.0, \\\"Box\\\", \\\"NaN\\\", 154, \\\"Small\\\", -1.46], [41396, \\\"Puppy Playground\\\", \\\"Friends\\\", 57, 9.99, 8.99, 2020, \\\"Ages_4+\\\", 40, 1.0, \\\"Box\\\", \\\"NaN\\\", 41, \\\"Small\\\", -1.0], [41400, \\\"Andrea's Play Cube - Singer\\\", \\\"Friends\\\", 49, 9.99, 18.93, 2020, \\\"Ages_6+\\\", 5, 1.0, \\\"Box\\\", \\\"NaN\\\", 32, \\\"Small\\\", 8.94], [41403, \\\"Mia's Play Cube - Veterinarian\\\", \\\"Friends\\\", 40, 9.99, 17.97, 2020, \\\"Ages_6+\\\", 5, 1.0, \\\"Box\\\", \\\"NaN\\\", 32, \\\"Small\\\", 7.98], [41408, \\\"Mia's Play Cube - Cinema\\\", \\\"Friends\\\", 37, 9.99, 15.32, 2020, \\\"Ages_6+\\\", 5, 1.0, \\\"Box\\\", \\\"NaN\\\", 31, \\\"Small\\\", 5.33], [41421, \\\"Baby Elephant Jungle Rescue\\\", \\\"Friends\\\", 203, 19.99, 19.99, 2020, \\\"Ages_6+\\\", 68, 2.0, \\\"Box\\\", \\\"NaN\\\", 111, \\\"Small\\\", 0.0], [41423, \\\"Tiger Hot Air Balloon Jungle Rescue\\\", \\\"Friends\\\", 302, 39.99, 39.95, 2020, \\\"Ages_7+\\\", 116, 2.0, \\\"Box\\\", \\\"NaN\\\", 145, \\\"Small\\\", -0.04], [41424, \\\"Jungle Rescue Base\\\", \\\"Friends\\\", 648, 79.99, 79.95, 2020, \\\"Ages_8+\\\", 176, 3.0, \\\"Box\\\", \\\"NaN\\\", 251, \\\"Small\\\", -0.04], [41427, \\\"Emma's Fashion Shop\\\", \\\"Friends\\\", 343, 29.99, 29.95, 2020, \\\"Ages_6+\\\", 112, 2.0, \\\"Box\\\", \\\"NaN\\\", 152, \\\"Small\\\", -0.04], [41428, \\\"Beach House\\\", \\\"Friends\\\", 444, 49.99, 49.95, 2020, \\\"Ages_6+\\\", 160, 2.0, \\\"Box\\\", \\\"NaN\\\", 216, \\\"Small\\\", -0.04], [60170, \\\"Off-Road Chase\\\", \\\"City\\\", 37, 6.99, 30.89, 2018, \\\"Ages_5-12\\\", 20, 2.0, \\\"Box\\\", \\\"NaN\\\", 28, \\\"Small\\\", 23.9], [60171, \\\"Mountain Fugitives\\\", \\\"City\\\", 88, 9.99, 16.49, 2018, \\\"Ages_5-12\\\", 36, 4.0, \\\"Box\\\", \\\"NaN\\\", 61, \\\"Small\\\", 6.5], [60172, \\\"Dirt Road Pursuit\\\", \\\"City\\\", 297, 39.99, 64.75, 2018, \\\"Ages_5-12\\\", 116, 3.0, \\\"Box\\\", \\\"0.6Kg (1.32 lb)\\\", 140, \\\"Small\\\", 24.76], [60182, \\\"Pickup &amp; Caravan\\\", \\\"City\\\", 344, 29.99, 65.99, 2018, \\\"Ages_5-12\\\", 140, 3.0, \\\"Box\\\", \\\"0.65Kg (1.43 lb)\\\", 188, \\\"Small\\\", 36.0], [60183, \\\"Heavy Cargo Transport\\\", \\\"City\\\", 310, 29.99, 69.95, 2018, \\\"Ages_5-12\\\", 128, 2.0, \\\"Box\\\", \\\"0.59Kg (1.3 lb)\\\", 161, \\\"Small\\\", 39.96], [60184, \\\"Mining Team\\\", \\\"City\\\", 82, 9.99, 21.99, 2018, \\\"Ages_5-12\\\", 32, 4.0, \\\"Box\\\", \\\"0.13Kg (0.29 lb)\\\", 64, \\\"Small\\\", 12.0], [60202, \\\"People Pack - Outdoor Adventures\\\", \\\"City\\\", 164, 39.99, 69.99, 2018, \\\"Ages_5-12\\\", 64, 15.0, \\\"Box\\\", \\\"0.29Kg (0.64 lb)\\\", 128, \\\"Small\\\", 30.0], [60208, \\\"Parachute Arrest\\\", \\\"City\\\", 218, 39.99, 31.46, 2019, \\\"Ages_5+\\\", 120, 4.0, \\\"Box\\\", \\\"0.48Kg (1.05 lb)\\\", 139, \\\"Small\\\", -8.53], [60213, \\\"Dock Side Fire\\\", \\\"City\\\", 97, 19.99, 23.83, 2019, \\\"Ages_5+\\\", 48, 2.0, \\\"Box\\\", \\\"0.25Kg (0.54 lb)\\\", 63, \\\"Small\\\", 3.84], [60215, \\\"Fire Station\\\", \\\"City\\\", 509, 69.99, 56.0, 2019, \\\"Ages_5+\\\", 184, 4.0, \\\"Box\\\", \\\"1.17Kg (2.57 lb)\\\", 210, \\\"Small\\\", -13.99], [60217, \\\"Fire Plane\\\", \\\"City\\\", 363, 59.99, 53.99, 2019, \\\"Ages_6+\\\", 156, 3.0, \\\"Box\\\", \\\"0.76Kg (1.68 lb)\\\", 151, \\\"Small\\\", -6.0], [60219, \\\"Construction Loader\\\", \\\"City\\\", 88, 9.99, 8.99, 2019, \\\"Ages_5+\\\", 36, 1.0, \\\"Box\\\", \\\"0.16Kg (0.34 lb)\\\", 50, \\\"Small\\\", -1.0], [60221, \\\"Diving Yacht\\\", \\\"City\\\", 148, 19.99, 16.0, 2019, \\\"Ages_5+\\\", 64, 2.0, \\\"Box\\\", \\\"0.34Kg (0.74 lb)\\\", 81, \\\"Small\\\", -3.99], [60223, \\\"Harvester Transport\\\", \\\"City\\\", 358, 29.99, 54.8, 2019, \\\"Ages_5+\\\", 148, 3.0, \\\"Box\\\", \\\"0.65Kg (1.43 lb)\\\", 166, \\\"Small\\\", 24.81], [60226, \\\"Mars Research Shuttle\\\", \\\"City\\\", 273, 39.99, 31.99, 2019, \\\"Ages_5+\\\", 160, 2.0, \\\"Box\\\", \\\"0.61Kg (1.34 lb)\\\", 135, \\\"Small\\\", -8.0], [60243, \\\"Police Helicopter Chase\\\", \\\"City\\\", 212, 39.99, 35.98, 2020, \\\"Ages_5+\\\", 128, 4.0, \\\"Box\\\", \\\"0.52Kg (1.16 lb)\\\", 127, \\\"Small\\\", -4.01], [60245, \\\"Police Monster Truck Heist\\\", \\\"City\\\", 362, 59.99, 52.74, 2020, \\\"Ages_5+\\\", 200, 5.0, \\\"Box\\\", \\\"0.85Kg (1.87 lb)\\\", 198, \\\"Small\\\", -7.25], [60246, \\\"Police Station\\\", \\\"City\\\", 743, 99.99, 99.99, 2020, \\\"Ages_6+\\\", 345, 7.0, \\\"Box\\\", \\\"1.85Kg (4.06 lb)\\\", 298, \\\"Small\\\", 0.0], [60248, \\\"Fire Helicopter Response\\\", \\\"City\\\", 93, 29.99, 23.98, 2020, \\\"Ages_5+\\\", 44, 3.0, \\\"Box\\\", \\\"0.25Kg (0.55 lb)\\\", 61, \\\"Small\\\", -6.01], [60249, \\\"Street Sweeper\\\", \\\"City\\\", 89, 9.99, 8.99, 2020, \\\"Ages_5+\\\", 48, 1.0, \\\"Box\\\", \\\"0.14Kg (0.31 lb)\\\", 55, \\\"Small\\\", -1.0], [60251, \\\"Monster Truck\\\", \\\"City\\\", 55, 9.99, 8.99, 2020, \\\"Ages_5+\\\", 32, 1.0, \\\"Box\\\", \\\"0.14Kg (0.31 lb)\\\", 34, \\\"Small\\\", -1.0], [60252, \\\"Construction Bulldozer\\\", \\\"City\\\", 126, 19.99, 15.99, 2020, \\\"Ages_4+\\\", 84, 2.0, \\\"Box\\\", \\\"0.35Kg (0.78 lb)\\\", 81, \\\"Small\\\", -4.0], [60258, \\\"Tuning Workshop\\\", \\\"City\\\", 897, 99.99, 99.99, 2020, \\\"Ages_6+\\\", 389, 7.0, \\\"Box\\\", \\\"1.63Kg (3.58 lb)\\\", 411, \\\"Small\\\", 0.0], [60266, \\\"Ocean Exploration Ship\\\", \\\"City\\\", 745, 149.99, 149.99, 2020, \\\"Ages_7+\\\", 229, 8.0, \\\"Box\\\", \\\"2.28Kg (5.03 lb)\\\", 314, \\\"Small\\\", 0.0], [60267, \\\"Safari Off-Roader\\\", \\\"City\\\", 168, 19.99, 17.99, 2020, \\\"Ages_5+\\\", 76, 2.0, \\\"Box\\\", \\\"0.34Kg (0.76 lb)\\\", 86, \\\"Small\\\", -2.0]]\"};\n",
       "        new ITable(table, dt_args);\n",
       "    });\n",
       "</script>\n"
      ],
      "text/plain": [
       "<IPython.core.display.HTML object>"
      ]
     },
     "metadata": {},
     "output_type": "display_data"
    }
   ],
   "source": [
    "# Part A\n",
    "DF['price_diff'] = DF['amazon_price'] - DF['price']\n",
    "show(DF)"
   ]
  },
  {
   "cell_type": "code",
   "execution_count": 59,
   "id": "4dd9ce07-bfda-438a-8fe3-171fac9cdb17",
   "metadata": {},
   "outputs": [
    {
     "name": "stdout",
     "output_type": "stream",
     "text": [
      "         count    mean        std    min   25%   50%    75%     max\n",
      "theme                                                              \n",
      "City      25.0  5.3996  15.243677 -13.99 -4.01 -1.00  12.00   39.96\n",
      "DUPLO®    25.0  7.3924  16.996152  -5.00 -2.00  0.00  11.01   69.00\n",
      "Friends   25.0  8.9792  24.047927  -9.99 -0.04  3.96   8.94  115.00\n"
     ]
    }
   ],
   "source": [
    "# Part B\n",
    "theme_stats = DF.groupby('theme')['price_diff'].describe()\n",
    "print(theme_stats)"
   ]
  },
  {
   "cell_type": "markdown",
   "id": "89c38122-d907-4b07-8543-646ed24cf9aa",
   "metadata": {},
   "source": [
    "#### B) There are some amazon_prices that are less than the actual price. Most prices are less than the amazon_price. The std for Lego Friends is MUCH larger than others. The median price dif for DUPLO is 0, they are the same price."
   ]
  },
  {
   "cell_type": "code",
   "execution_count": 60,
   "id": "3482feb1-5d03-488b-85c6-e31adb775414",
   "metadata": {},
   "outputs": [
    {
     "data": {
      "application/vnd.plotly.v1+json": {
       "config": {
        "plotlyServerURL": "https://plot.ly"
       },
       "data": [
        {
         "bingroup": "x",
         "hovertemplate": "theme=DUPLO®<br>price_diff=%{x}<br>count=%{y}<extra></extra>",
         "legendgroup": "DUPLO®",
         "marker": {
          "color": "#636efa",
          "opacity": 0.5,
          "pattern": {
           "shape": ""
          }
         },
         "name": "DUPLO®",
         "orientation": "v",
         "showlegend": true,
         "type": "histogram",
         "x": {
          "bdata": "hetRuB4FJkDWo3A9CtcRQGZmZmZm5jhAyMzMzMzMGkABAAAAAAAxQAAAAAAAAAAAAAAAAAAACMDoUbgeheshQOJ6FK5HQUZAAAAAAABAUUAAAAAAAAAAwABcj8L1KNy/6FG4HoXrD8AAAAAAAAAAwD0K16NwPSZAAAAAAAAAAACPwvUoXI8qQAAAAAAAAADAAAAAAAAACMBoZmZmZmbmvwAAAAAAAAjAAAAAAAAAAAAAAAAAAADwvwQAAAAAABTAAAAAAAAAAAA=",
          "dtype": "f8"
         },
         "xaxis": "x",
         "yaxis": "y"
        },
        {
         "bingroup": "x",
         "hovertemplate": "theme=Friends<br>price_diff=%{x}<br>count=%{y}<extra></extra>",
         "legendgroup": "Friends",
         "marker": {
          "color": "#EF553B",
          "opacity": 0.5,
          "pattern": {
           "shape": ""
          }
         },
         "name": "Friends",
         "orientation": "v",
         "showlegend": true,
         "type": "histogram",
         "x": {
          "bdata": "KFyPwvVoOUD3KFyPwvU5QKVwPQrX4zdAAQAAAADAXEAM16NwPQoQQAAAAAAAABxAzczMzMxMJUCsR+F6FK4PQAAAAAAAABDA+P//////G8B8FK5H4fojwJDC9ShcjyZApHA9CtejIMAAAAAAAAAcQAAAAAAAAAAAYI/C9Shc978AAAAAAADwv+F6FK5H4SFA6lG4HoXrH0BSuB6F61EVQAAAAAAAAAAAABSuR+F6pL8AEK5H4XqkvwAUrkfheqS/ABSuR+F6pL8=",
          "dtype": "f8"
         },
         "xaxis": "x",
         "yaxis": "y"
        },
        {
         "bingroup": "x",
         "hovertemplate": "theme=City<br>price_diff=%{x}<br>count=%{y}<extra></extra>",
         "legendgroup": "City",
         "marker": {
          "color": "#00cc96",
          "opacity": 0.5,
          "pattern": {
           "shape": ""
          }
         },
         "name": "City",
         "orientation": "v",
         "showlegend": true,
         "type": "histogram",
         "x": {
          "bdata": "ZmZmZmbmN0D+//////8ZQML1KFyPwjhAAAAAAAAAQkB8FK5H4fpDQP///////ydA/v//////PUCQwvUoXA8hwLgehetRuA5AeBSuR+H6K8AAAAAAAAAYwAAAAAAAAPC/6FG4HoXrD8CPwvUoXM84QAIAAAAAACDAENejcD0KEMAAAAAAAAAdwAAAAAAAAAAACNejcD0KGMAAAAAAAADwvwAAAAAAAPC//P//////D8AAAAAAAAAAAAAAAAAAAAAAAAAAAAAAAMA=",
          "dtype": "f8"
         },
         "xaxis": "x",
         "yaxis": "y"
        }
       ],
       "layout": {
        "barmode": "overlay",
        "legend": {
         "title": {
          "text": "theme"
         },
         "tracegroupgap": 0
        },
        "template": {
         "data": {
          "bar": [
           {
            "error_x": {
             "color": "#2a3f5f"
            },
            "error_y": {
             "color": "#2a3f5f"
            },
            "marker": {
             "line": {
              "color": "white",
              "width": 0.5
             },
             "pattern": {
              "fillmode": "overlay",
              "size": 10,
              "solidity": 0.2
             }
            },
            "type": "bar"
           }
          ],
          "barpolar": [
           {
            "marker": {
             "line": {
              "color": "white",
              "width": 0.5
             },
             "pattern": {
              "fillmode": "overlay",
              "size": 10,
              "solidity": 0.2
             }
            },
            "type": "barpolar"
           }
          ],
          "carpet": [
           {
            "aaxis": {
             "endlinecolor": "#2a3f5f",
             "gridcolor": "#C8D4E3",
             "linecolor": "#C8D4E3",
             "minorgridcolor": "#C8D4E3",
             "startlinecolor": "#2a3f5f"
            },
            "baxis": {
             "endlinecolor": "#2a3f5f",
             "gridcolor": "#C8D4E3",
             "linecolor": "#C8D4E3",
             "minorgridcolor": "#C8D4E3",
             "startlinecolor": "#2a3f5f"
            },
            "type": "carpet"
           }
          ],
          "choropleth": [
           {
            "colorbar": {
             "outlinewidth": 0,
             "ticks": ""
            },
            "type": "choropleth"
           }
          ],
          "contour": [
           {
            "colorbar": {
             "outlinewidth": 0,
             "ticks": ""
            },
            "colorscale": [
             [
              0,
              "#0d0887"
             ],
             [
              0.1111111111111111,
              "#46039f"
             ],
             [
              0.2222222222222222,
              "#7201a8"
             ],
             [
              0.3333333333333333,
              "#9c179e"
             ],
             [
              0.4444444444444444,
              "#bd3786"
             ],
             [
              0.5555555555555556,
              "#d8576b"
             ],
             [
              0.6666666666666666,
              "#ed7953"
             ],
             [
              0.7777777777777778,
              "#fb9f3a"
             ],
             [
              0.8888888888888888,
              "#fdca26"
             ],
             [
              1,
              "#f0f921"
             ]
            ],
            "type": "contour"
           }
          ],
          "contourcarpet": [
           {
            "colorbar": {
             "outlinewidth": 0,
             "ticks": ""
            },
            "type": "contourcarpet"
           }
          ],
          "heatmap": [
           {
            "colorbar": {
             "outlinewidth": 0,
             "ticks": ""
            },
            "colorscale": [
             [
              0,
              "#0d0887"
             ],
             [
              0.1111111111111111,
              "#46039f"
             ],
             [
              0.2222222222222222,
              "#7201a8"
             ],
             [
              0.3333333333333333,
              "#9c179e"
             ],
             [
              0.4444444444444444,
              "#bd3786"
             ],
             [
              0.5555555555555556,
              "#d8576b"
             ],
             [
              0.6666666666666666,
              "#ed7953"
             ],
             [
              0.7777777777777778,
              "#fb9f3a"
             ],
             [
              0.8888888888888888,
              "#fdca26"
             ],
             [
              1,
              "#f0f921"
             ]
            ],
            "type": "heatmap"
           }
          ],
          "histogram": [
           {
            "marker": {
             "pattern": {
              "fillmode": "overlay",
              "size": 10,
              "solidity": 0.2
             }
            },
            "type": "histogram"
           }
          ],
          "histogram2d": [
           {
            "colorbar": {
             "outlinewidth": 0,
             "ticks": ""
            },
            "colorscale": [
             [
              0,
              "#0d0887"
             ],
             [
              0.1111111111111111,
              "#46039f"
             ],
             [
              0.2222222222222222,
              "#7201a8"
             ],
             [
              0.3333333333333333,
              "#9c179e"
             ],
             [
              0.4444444444444444,
              "#bd3786"
             ],
             [
              0.5555555555555556,
              "#d8576b"
             ],
             [
              0.6666666666666666,
              "#ed7953"
             ],
             [
              0.7777777777777778,
              "#fb9f3a"
             ],
             [
              0.8888888888888888,
              "#fdca26"
             ],
             [
              1,
              "#f0f921"
             ]
            ],
            "type": "histogram2d"
           }
          ],
          "histogram2dcontour": [
           {
            "colorbar": {
             "outlinewidth": 0,
             "ticks": ""
            },
            "colorscale": [
             [
              0,
              "#0d0887"
             ],
             [
              0.1111111111111111,
              "#46039f"
             ],
             [
              0.2222222222222222,
              "#7201a8"
             ],
             [
              0.3333333333333333,
              "#9c179e"
             ],
             [
              0.4444444444444444,
              "#bd3786"
             ],
             [
              0.5555555555555556,
              "#d8576b"
             ],
             [
              0.6666666666666666,
              "#ed7953"
             ],
             [
              0.7777777777777778,
              "#fb9f3a"
             ],
             [
              0.8888888888888888,
              "#fdca26"
             ],
             [
              1,
              "#f0f921"
             ]
            ],
            "type": "histogram2dcontour"
           }
          ],
          "mesh3d": [
           {
            "colorbar": {
             "outlinewidth": 0,
             "ticks": ""
            },
            "type": "mesh3d"
           }
          ],
          "parcoords": [
           {
            "line": {
             "colorbar": {
              "outlinewidth": 0,
              "ticks": ""
             }
            },
            "type": "parcoords"
           }
          ],
          "pie": [
           {
            "automargin": true,
            "type": "pie"
           }
          ],
          "scatter": [
           {
            "fillpattern": {
             "fillmode": "overlay",
             "size": 10,
             "solidity": 0.2
            },
            "type": "scatter"
           }
          ],
          "scatter3d": [
           {
            "line": {
             "colorbar": {
              "outlinewidth": 0,
              "ticks": ""
             }
            },
            "marker": {
             "colorbar": {
              "outlinewidth": 0,
              "ticks": ""
             }
            },
            "type": "scatter3d"
           }
          ],
          "scattercarpet": [
           {
            "marker": {
             "colorbar": {
              "outlinewidth": 0,
              "ticks": ""
             }
            },
            "type": "scattercarpet"
           }
          ],
          "scattergeo": [
           {
            "marker": {
             "colorbar": {
              "outlinewidth": 0,
              "ticks": ""
             }
            },
            "type": "scattergeo"
           }
          ],
          "scattergl": [
           {
            "marker": {
             "colorbar": {
              "outlinewidth": 0,
              "ticks": ""
             }
            },
            "type": "scattergl"
           }
          ],
          "scattermap": [
           {
            "marker": {
             "colorbar": {
              "outlinewidth": 0,
              "ticks": ""
             }
            },
            "type": "scattermap"
           }
          ],
          "scattermapbox": [
           {
            "marker": {
             "colorbar": {
              "outlinewidth": 0,
              "ticks": ""
             }
            },
            "type": "scattermapbox"
           }
          ],
          "scatterpolar": [
           {
            "marker": {
             "colorbar": {
              "outlinewidth": 0,
              "ticks": ""
             }
            },
            "type": "scatterpolar"
           }
          ],
          "scatterpolargl": [
           {
            "marker": {
             "colorbar": {
              "outlinewidth": 0,
              "ticks": ""
             }
            },
            "type": "scatterpolargl"
           }
          ],
          "scatterternary": [
           {
            "marker": {
             "colorbar": {
              "outlinewidth": 0,
              "ticks": ""
             }
            },
            "type": "scatterternary"
           }
          ],
          "surface": [
           {
            "colorbar": {
             "outlinewidth": 0,
             "ticks": ""
            },
            "colorscale": [
             [
              0,
              "#0d0887"
             ],
             [
              0.1111111111111111,
              "#46039f"
             ],
             [
              0.2222222222222222,
              "#7201a8"
             ],
             [
              0.3333333333333333,
              "#9c179e"
             ],
             [
              0.4444444444444444,
              "#bd3786"
             ],
             [
              0.5555555555555556,
              "#d8576b"
             ],
             [
              0.6666666666666666,
              "#ed7953"
             ],
             [
              0.7777777777777778,
              "#fb9f3a"
             ],
             [
              0.8888888888888888,
              "#fdca26"
             ],
             [
              1,
              "#f0f921"
             ]
            ],
            "type": "surface"
           }
          ],
          "table": [
           {
            "cells": {
             "fill": {
              "color": "#EBF0F8"
             },
             "line": {
              "color": "white"
             }
            },
            "header": {
             "fill": {
              "color": "#C8D4E3"
             },
             "line": {
              "color": "white"
             }
            },
            "type": "table"
           }
          ]
         },
         "layout": {
          "annotationdefaults": {
           "arrowcolor": "#2a3f5f",
           "arrowhead": 0,
           "arrowwidth": 1
          },
          "autotypenumbers": "strict",
          "coloraxis": {
           "colorbar": {
            "outlinewidth": 0,
            "ticks": ""
           }
          },
          "colorscale": {
           "diverging": [
            [
             0,
             "#8e0152"
            ],
            [
             0.1,
             "#c51b7d"
            ],
            [
             0.2,
             "#de77ae"
            ],
            [
             0.3,
             "#f1b6da"
            ],
            [
             0.4,
             "#fde0ef"
            ],
            [
             0.5,
             "#f7f7f7"
            ],
            [
             0.6,
             "#e6f5d0"
            ],
            [
             0.7,
             "#b8e186"
            ],
            [
             0.8,
             "#7fbc41"
            ],
            [
             0.9,
             "#4d9221"
            ],
            [
             1,
             "#276419"
            ]
           ],
           "sequential": [
            [
             0,
             "#0d0887"
            ],
            [
             0.1111111111111111,
             "#46039f"
            ],
            [
             0.2222222222222222,
             "#7201a8"
            ],
            [
             0.3333333333333333,
             "#9c179e"
            ],
            [
             0.4444444444444444,
             "#bd3786"
            ],
            [
             0.5555555555555556,
             "#d8576b"
            ],
            [
             0.6666666666666666,
             "#ed7953"
            ],
            [
             0.7777777777777778,
             "#fb9f3a"
            ],
            [
             0.8888888888888888,
             "#fdca26"
            ],
            [
             1,
             "#f0f921"
            ]
           ],
           "sequentialminus": [
            [
             0,
             "#0d0887"
            ],
            [
             0.1111111111111111,
             "#46039f"
            ],
            [
             0.2222222222222222,
             "#7201a8"
            ],
            [
             0.3333333333333333,
             "#9c179e"
            ],
            [
             0.4444444444444444,
             "#bd3786"
            ],
            [
             0.5555555555555556,
             "#d8576b"
            ],
            [
             0.6666666666666666,
             "#ed7953"
            ],
            [
             0.7777777777777778,
             "#fb9f3a"
            ],
            [
             0.8888888888888888,
             "#fdca26"
            ],
            [
             1,
             "#f0f921"
            ]
           ]
          },
          "colorway": [
           "#636efa",
           "#EF553B",
           "#00cc96",
           "#ab63fa",
           "#FFA15A",
           "#19d3f3",
           "#FF6692",
           "#B6E880",
           "#FF97FF",
           "#FECB52"
          ],
          "font": {
           "color": "#2a3f5f"
          },
          "geo": {
           "bgcolor": "white",
           "lakecolor": "white",
           "landcolor": "white",
           "showlakes": true,
           "showland": true,
           "subunitcolor": "#C8D4E3"
          },
          "hoverlabel": {
           "align": "left"
          },
          "hovermode": "closest",
          "mapbox": {
           "style": "light"
          },
          "paper_bgcolor": "white",
          "plot_bgcolor": "white",
          "polar": {
           "angularaxis": {
            "gridcolor": "#EBF0F8",
            "linecolor": "#EBF0F8",
            "ticks": ""
           },
           "bgcolor": "white",
           "radialaxis": {
            "gridcolor": "#EBF0F8",
            "linecolor": "#EBF0F8",
            "ticks": ""
           }
          },
          "scene": {
           "xaxis": {
            "backgroundcolor": "white",
            "gridcolor": "#DFE8F3",
            "gridwidth": 2,
            "linecolor": "#EBF0F8",
            "showbackground": true,
            "ticks": "",
            "zerolinecolor": "#EBF0F8"
           },
           "yaxis": {
            "backgroundcolor": "white",
            "gridcolor": "#DFE8F3",
            "gridwidth": 2,
            "linecolor": "#EBF0F8",
            "showbackground": true,
            "ticks": "",
            "zerolinecolor": "#EBF0F8"
           },
           "zaxis": {
            "backgroundcolor": "white",
            "gridcolor": "#DFE8F3",
            "gridwidth": 2,
            "linecolor": "#EBF0F8",
            "showbackground": true,
            "ticks": "",
            "zerolinecolor": "#EBF0F8"
           }
          },
          "shapedefaults": {
           "line": {
            "color": "#2a3f5f"
           }
          },
          "ternary": {
           "aaxis": {
            "gridcolor": "#DFE8F3",
            "linecolor": "#A2B1C6",
            "ticks": ""
           },
           "baxis": {
            "gridcolor": "#DFE8F3",
            "linecolor": "#A2B1C6",
            "ticks": ""
           },
           "bgcolor": "white",
           "caxis": {
            "gridcolor": "#DFE8F3",
            "linecolor": "#A2B1C6",
            "ticks": ""
           }
          },
          "title": {
           "x": 0.05
          },
          "xaxis": {
           "automargin": true,
           "gridcolor": "#EBF0F8",
           "linecolor": "#EBF0F8",
           "ticks": "",
           "title": {
            "standoff": 15
           },
           "zerolinecolor": "#EBF0F8",
           "zerolinewidth": 2
          },
          "yaxis": {
           "automargin": true,
           "gridcolor": "#EBF0F8",
           "linecolor": "#EBF0F8",
           "ticks": "",
           "title": {
            "standoff": 15
           },
           "zerolinecolor": "#EBF0F8",
           "zerolinewidth": 2
          }
         }
        },
        "title": {
         "text": "Price Difference by Theme"
        },
        "xaxis": {
         "anchor": "y",
         "domain": [
          0,
          1
         ],
         "title": {
          "text": "Price Difference"
         }
        },
        "yaxis": {
         "anchor": "x",
         "domain": [
          0,
          1
         ],
         "title": {
          "text": "Count"
         }
        }
       }
      },
      "image/png": "[encoded data removed]"
     },
     "metadata": {},
     "output_type": "display_data"
    }
   ],
   "source": [
    "# Part C\n",
    "fig = px.histogram(\n",
    "    DF,\n",
    "    x='price_diff', \n",
    "    color='theme',\n",
    "    barmode='overlay',\n",
    "    title='Price Difference by Theme')\n",
    "\n",
    "fig.update_layout(\n",
    "    xaxis_title='Price Difference',\n",
    "    yaxis_title='Count',\n",
    "    template='plotly_white')\n",
    "\n",
    "fig.show()"
   ]
  },
  {
   "cell_type": "markdown",
   "id": "13cf1591-b7f6-4f45-a693-92f69df95670",
   "metadata": {},
   "source": [
    "## Problem 5 (20 points)\n",
    "The goal of this problem is to explore the price of the Lego sets.\n",
    "\n",
    "(a) What was the most expensive set based on Retail price? Show the full data frame information for this observation. Comment on your results comparing Amazon and Retail, number of pieces or minifigs, etc.\n",
    "\n",
    "Hint - a mask might help.\n",
    "\n",
    "(b) What was the most expensive set based on Amazon price? Show the full data frame information for this observation.\n",
    "\n",
    "Hint - a mask might help.\n",
    "\n",
    "(c) How many sets were above $100 on either Retail or Amazon? Show the full data frame information for these observations. \n",
    "\n",
    "Comment on any observations for these sets.\n",
    "\n",
    "Hint - more masking."
   ]
  },
  {
   "cell_type": "code",
   "execution_count": 61,
   "id": "aae35bca-90fe-45e9-a369-f4b18f1179c5",
   "metadata": {
    "scrolled": true
   },
   "outputs": [
    {
     "data": {
      "text/plain": [
       "Index(['item_number', 'set_name', 'theme', 'pieces', 'price', 'amazon_price',\n",
       "       'year', 'ages', 'pages', 'minifigures', 'packaging', 'weight',\n",
       "       'unique_pieces', 'size', 'price_diff'],\n",
       "      dtype='object')"
      ]
     },
     "execution_count": 61,
     "metadata": {},
     "output_type": "execute_result"
    }
   ],
   "source": [
    "DF.keys()"
   ]
  },
  {
   "cell_type": "code",
   "execution_count": 62,
   "id": "63410bf2-06b4-4031-bf1e-92c1523b6cb3",
   "metadata": {},
   "outputs": [
    {
     "data": {
      "text/html": [
       "<div>\n",
       "<style scoped>\n",
       "    .dataframe tbody tr th:only-of-type {\n",
       "        vertical-align: middle;\n",
       "    }\n",
       "\n",
       "    .dataframe tbody tr th {\n",
       "        vertical-align: top;\n",
       "    }\n",
       "\n",
       "    .dataframe thead th {\n",
       "        text-align: right;\n",
       "    }\n",
       "</style>\n",
       "<table border=\"1\" class=\"dataframe\">\n",
       "  <thead>\n",
       "    <tr style=\"text-align: right;\">\n",
       "      <th></th>\n",
       "      <th>item_number</th>\n",
       "      <th>set_name</th>\n",
       "      <th>theme</th>\n",
       "      <th>pieces</th>\n",
       "      <th>price</th>\n",
       "      <th>amazon_price</th>\n",
       "      <th>year</th>\n",
       "      <th>ages</th>\n",
       "      <th>pages</th>\n",
       "      <th>minifigures</th>\n",
       "      <th>packaging</th>\n",
       "      <th>weight</th>\n",
       "      <th>unique_pieces</th>\n",
       "      <th>size</th>\n",
       "      <th>price_diff</th>\n",
       "    </tr>\n",
       "  </thead>\n",
       "  <tbody>\n",
       "    <tr>\n",
       "      <th>73</th>\n",
       "      <td>60266</td>\n",
       "      <td>Ocean Exploration Ship</td>\n",
       "      <td>City</td>\n",
       "      <td>745</td>\n",
       "      <td>149.99</td>\n",
       "      <td>149.99</td>\n",
       "      <td>2020</td>\n",
       "      <td>Ages_7+</td>\n",
       "      <td>229</td>\n",
       "      <td>8.0</td>\n",
       "      <td>Box</td>\n",
       "      <td>2.28Kg (5.03 lb)</td>\n",
       "      <td>314</td>\n",
       "      <td>Small</td>\n",
       "      <td>0.0</td>\n",
       "    </tr>\n",
       "  </tbody>\n",
       "</table>\n",
       "</div>"
      ],
      "text/plain": [
       "    item_number                set_name theme  pieces   price  amazon_price  \\\n",
       "73        60266  Ocean Exploration Ship  City     745  149.99        149.99   \n",
       "\n",
       "    year     ages  pages  minifigures packaging            weight  \\\n",
       "73  2020  Ages_7+    229          8.0       Box  2.28Kg (5.03 lb)   \n",
       "\n",
       "    unique_pieces   size  price_diff  \n",
       "73            314  Small         0.0  "
      ]
     },
     "execution_count": 62,
     "metadata": {},
     "output_type": "execute_result"
    }
   ],
   "source": [
    "# Part A\n",
    "mask = DF['price'] == DF['price'].max()\n",
    "(DF[mask])"
   ]
  },
  {
   "cell_type": "markdown",
   "id": "c7ba5e01-c69f-4374-81c9-a29fbfe8e4ad",
   "metadata": {},
   "source": [
    "#### A) Based off this info the most expensive is \"Ocean Exploration Ship.\" This one has 8.0 minifigs and the retail price is 149.99. The Amazon price happens to be the same meaning that the price difference is 0.0. "
   ]
  },
  {
   "cell_type": "code",
   "execution_count": 63,
   "id": "ae525972-47bd-4145-8e34-0fd0fc7cece3",
   "metadata": {},
   "outputs": [
    {
     "data": {
      "text/html": [
       "<div>\n",
       "<style scoped>\n",
       "    .dataframe tbody tr th:only-of-type {\n",
       "        vertical-align: middle;\n",
       "    }\n",
       "\n",
       "    .dataframe tbody tr th {\n",
       "        vertical-align: top;\n",
       "    }\n",
       "\n",
       "    .dataframe thead th {\n",
       "        text-align: right;\n",
       "    }\n",
       "</style>\n",
       "<table border=\"1\" class=\"dataframe\">\n",
       "  <thead>\n",
       "    <tr style=\"text-align: right;\">\n",
       "      <th></th>\n",
       "      <th>item_number</th>\n",
       "      <th>set_name</th>\n",
       "      <th>theme</th>\n",
       "      <th>pieces</th>\n",
       "      <th>price</th>\n",
       "      <th>amazon_price</th>\n",
       "      <th>year</th>\n",
       "      <th>ages</th>\n",
       "      <th>pages</th>\n",
       "      <th>minifigures</th>\n",
       "      <th>packaging</th>\n",
       "      <th>weight</th>\n",
       "      <th>unique_pieces</th>\n",
       "      <th>size</th>\n",
       "      <th>price_diff</th>\n",
       "    </tr>\n",
       "  </thead>\n",
       "  <tbody>\n",
       "    <tr>\n",
       "      <th>28</th>\n",
       "      <td>41340</td>\n",
       "      <td>Friendship House</td>\n",
       "      <td>Friends</td>\n",
       "      <td>722</td>\n",
       "      <td>69.99</td>\n",
       "      <td>184.99</td>\n",
       "      <td>2018</td>\n",
       "      <td>Ages_6-12</td>\n",
       "      <td>164</td>\n",
       "      <td>3.0</td>\n",
       "      <td>Box</td>\n",
       "      <td>1.14Kg (2.51 lb)</td>\n",
       "      <td>309</td>\n",
       "      <td>Small</td>\n",
       "      <td>115.0</td>\n",
       "    </tr>\n",
       "  </tbody>\n",
       "</table>\n",
       "</div>"
      ],
      "text/plain": [
       "    item_number          set_name    theme  pieces  price  amazon_price  year  \\\n",
       "28        41340  Friendship House  Friends     722  69.99        184.99  2018   \n",
       "\n",
       "         ages  pages  minifigures packaging            weight  unique_pieces  \\\n",
       "28  Ages_6-12    164          3.0       Box  1.14Kg (2.51 lb)            309   \n",
       "\n",
       "     size  price_diff  \n",
       "28  Small       115.0  "
      ]
     },
     "execution_count": 63,
     "metadata": {},
     "output_type": "execute_result"
    }
   ],
   "source": [
    "# Part B\n",
    "mask = DF['amazon_price'] == DF['amazon_price'].max()\n",
    "(DF[mask])"
   ]
  },
  {
   "cell_type": "markdown",
   "id": "de49f437-e6e4-4c2f-bb71-4abac06d84c9",
   "metadata": {},
   "source": [
    "#### B) Based off this info the Lego set with the biggest amazon price is \"Friendship House.\" This means that amazon is upcharging $115.00."
   ]
  },
  {
   "cell_type": "code",
   "execution_count": 64,
   "id": "b8507d89-ab74-42af-baac-ce50a161a16e",
   "metadata": {},
   "outputs": [
    {
     "data": {
      "text/html": [
       "<div>\n",
       "<style scoped>\n",
       "    .dataframe tbody tr th:only-of-type {\n",
       "        vertical-align: middle;\n",
       "    }\n",
       "\n",
       "    .dataframe tbody tr th {\n",
       "        vertical-align: top;\n",
       "    }\n",
       "\n",
       "    .dataframe thead th {\n",
       "        text-align: right;\n",
       "    }\n",
       "</style>\n",
       "<table border=\"1\" class=\"dataframe\">\n",
       "  <thead>\n",
       "    <tr style=\"text-align: right;\">\n",
       "      <th></th>\n",
       "      <th>item_number</th>\n",
       "      <th>set_name</th>\n",
       "      <th>theme</th>\n",
       "      <th>pieces</th>\n",
       "      <th>price</th>\n",
       "      <th>amazon_price</th>\n",
       "      <th>year</th>\n",
       "      <th>ages</th>\n",
       "      <th>pages</th>\n",
       "      <th>minifigures</th>\n",
       "      <th>packaging</th>\n",
       "      <th>weight</th>\n",
       "      <th>unique_pieces</th>\n",
       "      <th>size</th>\n",
       "      <th>price_diff</th>\n",
       "    </tr>\n",
       "  </thead>\n",
       "  <tbody>\n",
       "    <tr>\n",
       "      <th>7</th>\n",
       "      <td>10875</td>\n",
       "      <td>Cargo Train</td>\n",
       "      <td>DUPLO®</td>\n",
       "      <td>105</td>\n",
       "      <td>119.99</td>\n",
       "      <td>128.95</td>\n",
       "      <td>2018</td>\n",
       "      <td>Ages_2-5</td>\n",
       "      <td>64</td>\n",
       "      <td>3.0</td>\n",
       "      <td>Box</td>\n",
       "      <td>2.86Kg (6.31 lb)</td>\n",
       "      <td>68</td>\n",
       "      <td>Large</td>\n",
       "      <td>8.96</td>\n",
       "    </tr>\n",
       "    <tr>\n",
       "      <th>28</th>\n",
       "      <td>41340</td>\n",
       "      <td>Friendship House</td>\n",
       "      <td>Friends</td>\n",
       "      <td>722</td>\n",
       "      <td>69.99</td>\n",
       "      <td>184.99</td>\n",
       "      <td>2018</td>\n",
       "      <td>Ages_6-12</td>\n",
       "      <td>164</td>\n",
       "      <td>3.0</td>\n",
       "      <td>Box</td>\n",
       "      <td>1.14Kg (2.51 lb)</td>\n",
       "      <td>309</td>\n",
       "      <td>Small</td>\n",
       "      <td>115.00</td>\n",
       "    </tr>\n",
       "    <tr>\n",
       "      <th>73</th>\n",
       "      <td>60266</td>\n",
       "      <td>Ocean Exploration Ship</td>\n",
       "      <td>City</td>\n",
       "      <td>745</td>\n",
       "      <td>149.99</td>\n",
       "      <td>149.99</td>\n",
       "      <td>2020</td>\n",
       "      <td>Ages_7+</td>\n",
       "      <td>229</td>\n",
       "      <td>8.0</td>\n",
       "      <td>Box</td>\n",
       "      <td>2.28Kg (5.03 lb)</td>\n",
       "      <td>314</td>\n",
       "      <td>Small</td>\n",
       "      <td>0.00</td>\n",
       "    </tr>\n",
       "  </tbody>\n",
       "</table>\n",
       "</div>"
      ],
      "text/plain": [
       "    item_number                set_name    theme  pieces   price  \\\n",
       "7         10875             Cargo Train   DUPLO®     105  119.99   \n",
       "28        41340        Friendship House  Friends     722   69.99   \n",
       "73        60266  Ocean Exploration Ship     City     745  149.99   \n",
       "\n",
       "    amazon_price  year       ages  pages  minifigures packaging  \\\n",
       "7         128.95  2018   Ages_2-5     64          3.0       Box   \n",
       "28        184.99  2018  Ages_6-12    164          3.0       Box   \n",
       "73        149.99  2020    Ages_7+    229          8.0       Box   \n",
       "\n",
       "              weight  unique_pieces   size  price_diff  \n",
       "7   2.86Kg (6.31 lb)             68  Large        8.96  \n",
       "28  1.14Kg (2.51 lb)            309  Small      115.00  \n",
       "73  2.28Kg (5.03 lb)            314  Small        0.00  "
      ]
     },
     "execution_count": 64,
     "metadata": {},
     "output_type": "execute_result"
    }
   ],
   "source": [
    "# Part C\n",
    "mask = (DF['price'] > 100) | (DF['amazon_price'] > 100)\n",
    "(DF[mask])"
   ]
  },
  {
   "cell_type": "markdown",
   "id": "9c7b469c-4b6b-4d22-ba55-f649f74c6186",
   "metadata": {},
   "source": [
    "#### C) There are only 3 sets over $100 retail price or amazon price."
   ]
  },
  {
   "cell_type": "markdown",
   "id": "bcd0a165-9a22-4d4d-b5a3-73143f671f23",
   "metadata": {},
   "source": [
    "## Problem 6 (20 points)\n",
    "Below are questions that you should to use the data to find the answer to. Here I am giving you less guidance so you will have to come up with your own way of finding the answer.\n",
    "\n",
    "(a) On average is the price of Legos increasing, decreasing, or staying the same over the three years?\n",
    "\n",
    "(b) On average are the number of pieces increase, decreasing, or staying the same over the three years?\n",
    "\n",
    "(c) Which set has the most minifigures and how many sets have zero or an unknown number of minifigures?\n",
    "\n",
    "Hint - the second question is more challenging that it first appears."
   ]
  },
  {
   "cell_type": "code",
   "execution_count": 65,
   "id": "47713e4d-9715-4593-a7f5-73a350782bcc",
   "metadata": {},
   "outputs": [
    {
     "data": {
      "text/plain": [
       "year\n",
       "2018    28.772609\n",
       "2019    28.670000\n",
       "2020    38.212222\n",
       "Name: price, dtype: float64"
      ]
     },
     "execution_count": 65,
     "metadata": {},
     "output_type": "execute_result"
    }
   ],
   "source": [
    "# Part A\n",
    "DF.groupby('year')['price'].mean()"
   ]
  },
  {
   "cell_type": "markdown",
   "id": "e88ef0b4-cdf8-42b6-9c0b-9de74f13c60e",
   "metadata": {},
   "source": [
    "#### A) Based off of this info we can determine that the price is increasing over the years due to the increase in mean price from the year 2019 to 2020."
   ]
  },
  {
   "cell_type": "code",
   "execution_count": 66,
   "id": "7352cc4b-f3b8-48a4-86f2-0cfe77bbdbe3",
   "metadata": {},
   "outputs": [
    {
     "data": {
      "text/plain": [
       "year\n",
       "2018    157.913043\n",
       "2019    193.120000\n",
       "2020    232.370370\n",
       "Name: pieces, dtype: float64"
      ]
     },
     "execution_count": 66,
     "metadata": {},
     "output_type": "execute_result"
    }
   ],
   "source": [
    "# Part B\n",
    "DF.groupby('year')['pieces'].mean()"
   ]
  },
  {
   "cell_type": "markdown",
   "id": "dfa13aa5-abb0-4fbd-9672-c7529e57f998",
   "metadata": {},
   "source": [
    "#### B) Based off of this info we can determine that the number of pieces is increasing over the years due to the increasing in mean amount of pieces from 2018-2020."
   ]
  },
  {
   "cell_type": "code",
   "execution_count": 67,
   "id": "9e0c7ba0-c497-4f89-85be-d4b4b99e1684",
   "metadata": {},
   "outputs": [
    {
     "data": {
      "text/html": [
       "<div>\n",
       "<style scoped>\n",
       "    .dataframe tbody tr th:only-of-type {\n",
       "        vertical-align: middle;\n",
       "    }\n",
       "\n",
       "    .dataframe tbody tr th {\n",
       "        vertical-align: top;\n",
       "    }\n",
       "\n",
       "    .dataframe thead th {\n",
       "        text-align: right;\n",
       "    }\n",
       "</style>\n",
       "<table border=\"1\" class=\"dataframe\">\n",
       "  <thead>\n",
       "    <tr style=\"text-align: right;\">\n",
       "      <th></th>\n",
       "      <th>item_number</th>\n",
       "      <th>set_name</th>\n",
       "      <th>theme</th>\n",
       "      <th>pieces</th>\n",
       "      <th>price</th>\n",
       "      <th>amazon_price</th>\n",
       "      <th>year</th>\n",
       "      <th>ages</th>\n",
       "      <th>pages</th>\n",
       "      <th>minifigures</th>\n",
       "      <th>packaging</th>\n",
       "      <th>weight</th>\n",
       "      <th>unique_pieces</th>\n",
       "      <th>size</th>\n",
       "      <th>price_diff</th>\n",
       "    </tr>\n",
       "  </thead>\n",
       "  <tbody>\n",
       "    <tr>\n",
       "      <th>56</th>\n",
       "      <td>60202</td>\n",
       "      <td>People Pack - Outdoor Adventures</td>\n",
       "      <td>City</td>\n",
       "      <td>164</td>\n",
       "      <td>39.99</td>\n",
       "      <td>69.99</td>\n",
       "      <td>2018</td>\n",
       "      <td>Ages_5-12</td>\n",
       "      <td>64</td>\n",
       "      <td>15.0</td>\n",
       "      <td>Box</td>\n",
       "      <td>0.29Kg (0.64 lb)</td>\n",
       "      <td>128</td>\n",
       "      <td>Small</td>\n",
       "      <td>30.0</td>\n",
       "    </tr>\n",
       "  </tbody>\n",
       "</table>\n",
       "</div>"
      ],
      "text/plain": [
       "    item_number                          set_name theme  pieces  price  \\\n",
       "56        60202  People Pack - Outdoor Adventures  City     164  39.99   \n",
       "\n",
       "    amazon_price  year       ages  pages  minifigures packaging  \\\n",
       "56         69.99  2018  Ages_5-12     64         15.0       Box   \n",
       "\n",
       "              weight  unique_pieces   size  price_diff  \n",
       "56  0.29Kg (0.64 lb)            128  Small        30.0  "
      ]
     },
     "execution_count": 67,
     "metadata": {},
     "output_type": "execute_result"
    }
   ],
   "source": [
    "# Part C\n",
    "mask = DF['minifigures'] == DF['minifigures'].max()\n",
    "(DF[mask])"
   ]
  },
  {
   "cell_type": "code",
   "execution_count": 68,
   "id": "747c1f78-3b05-48ad-a894-47c7187d366e",
   "metadata": {},
   "outputs": [
    {
     "data": {
      "text/html": [
       "<div>\n",
       "<style scoped>\n",
       "    .dataframe tbody tr th:only-of-type {\n",
       "        vertical-align: middle;\n",
       "    }\n",
       "\n",
       "    .dataframe tbody tr th {\n",
       "        vertical-align: top;\n",
       "    }\n",
       "\n",
       "    .dataframe thead th {\n",
       "        text-align: right;\n",
       "    }\n",
       "</style>\n",
       "<table border=\"1\" class=\"dataframe\">\n",
       "  <thead>\n",
       "    <tr style=\"text-align: right;\">\n",
       "      <th></th>\n",
       "      <th>item_number</th>\n",
       "      <th>set_name</th>\n",
       "      <th>theme</th>\n",
       "      <th>pieces</th>\n",
       "      <th>price</th>\n",
       "      <th>amazon_price</th>\n",
       "      <th>year</th>\n",
       "      <th>ages</th>\n",
       "      <th>pages</th>\n",
       "      <th>minifigures</th>\n",
       "      <th>packaging</th>\n",
       "      <th>weight</th>\n",
       "      <th>unique_pieces</th>\n",
       "      <th>size</th>\n",
       "      <th>price_diff</th>\n",
       "    </tr>\n",
       "  </thead>\n",
       "  <tbody>\n",
       "    <tr>\n",
       "      <th>6</th>\n",
       "      <td>10872</td>\n",
       "      <td>Train Bridge and Tracks</td>\n",
       "      <td>DUPLO®</td>\n",
       "      <td>26</td>\n",
       "      <td>24.99</td>\n",
       "      <td>21.99</td>\n",
       "      <td>2018</td>\n",
       "      <td>Ages_2-5</td>\n",
       "      <td>16</td>\n",
       "      <td>1.0</td>\n",
       "      <td>Box</td>\n",
       "      <td>0.88Kg (1.95 lb)</td>\n",
       "      <td>10</td>\n",
       "      <td>Large</td>\n",
       "      <td>-3.00</td>\n",
       "    </tr>\n",
       "    <tr>\n",
       "      <th>9</th>\n",
       "      <td>10878</td>\n",
       "      <td>Rapunzel's Tower</td>\n",
       "      <td>DUPLO®</td>\n",
       "      <td>37</td>\n",
       "      <td>29.99</td>\n",
       "      <td>98.99</td>\n",
       "      <td>2018</td>\n",
       "      <td>Ages_2-5</td>\n",
       "      <td>24</td>\n",
       "      <td>1.0</td>\n",
       "      <td>Box</td>\n",
       "      <td>NaN</td>\n",
       "      <td>26</td>\n",
       "      <td>Large</td>\n",
       "      <td>69.00</td>\n",
       "    </tr>\n",
       "    <tr>\n",
       "      <th>16</th>\n",
       "      <td>10908</td>\n",
       "      <td>Plane</td>\n",
       "      <td>DUPLO®</td>\n",
       "      <td>12</td>\n",
       "      <td>9.99</td>\n",
       "      <td>23.27</td>\n",
       "      <td>2019</td>\n",
       "      <td>Ages_2+</td>\n",
       "      <td>10</td>\n",
       "      <td>1.0</td>\n",
       "      <td>Box</td>\n",
       "      <td>NaN</td>\n",
       "      <td>11</td>\n",
       "      <td>Large</td>\n",
       "      <td>13.28</td>\n",
       "    </tr>\n",
       "    <tr>\n",
       "      <th>22</th>\n",
       "      <td>10927</td>\n",
       "      <td>Pizza Stand</td>\n",
       "      <td>DUPLO®</td>\n",
       "      <td>18</td>\n",
       "      <td>9.99</td>\n",
       "      <td>8.99</td>\n",
       "      <td>2020</td>\n",
       "      <td>Ages_2+</td>\n",
       "      <td>12</td>\n",
       "      <td>1.0</td>\n",
       "      <td>Box</td>\n",
       "      <td>NaN</td>\n",
       "      <td>15</td>\n",
       "      <td>Large</td>\n",
       "      <td>-1.00</td>\n",
       "    </tr>\n",
       "    <tr>\n",
       "      <th>25</th>\n",
       "      <td>41330</td>\n",
       "      <td>Stephanie's Soccer Practice</td>\n",
       "      <td>Friends</td>\n",
       "      <td>119</td>\n",
       "      <td>14.99</td>\n",
       "      <td>40.40</td>\n",
       "      <td>2018</td>\n",
       "      <td>Ages_6-12</td>\n",
       "      <td>48</td>\n",
       "      <td>1.0</td>\n",
       "      <td>Box</td>\n",
       "      <td>NaN</td>\n",
       "      <td>78</td>\n",
       "      <td>Small</td>\n",
       "      <td>25.41</td>\n",
       "    </tr>\n",
       "    <tr>\n",
       "      <th>26</th>\n",
       "      <td>41333</td>\n",
       "      <td>Olivia's Mission Vehicle</td>\n",
       "      <td>Friends</td>\n",
       "      <td>223</td>\n",
       "      <td>19.99</td>\n",
       "      <td>45.95</td>\n",
       "      <td>2018</td>\n",
       "      <td>Ages_6-12</td>\n",
       "      <td>84</td>\n",
       "      <td>1.0</td>\n",
       "      <td>Box</td>\n",
       "      <td>0.32Kg (0.7 lb)</td>\n",
       "      <td>106</td>\n",
       "      <td>Small</td>\n",
       "      <td>25.96</td>\n",
       "    </tr>\n",
       "    <tr>\n",
       "      <th>30</th>\n",
       "      <td>41356</td>\n",
       "      <td>Stephanie's Heart Box</td>\n",
       "      <td>Friends</td>\n",
       "      <td>85</td>\n",
       "      <td>7.99</td>\n",
       "      <td>14.99</td>\n",
       "      <td>2019</td>\n",
       "      <td>Ages_6+</td>\n",
       "      <td>32</td>\n",
       "      <td>1.0</td>\n",
       "      <td>NaN</td>\n",
       "      <td>0.13Kg (0.29 lb)</td>\n",
       "      <td>36</td>\n",
       "      <td>Small</td>\n",
       "      <td>7.00</td>\n",
       "    </tr>\n",
       "    <tr>\n",
       "      <th>31</th>\n",
       "      <td>41358</td>\n",
       "      <td>Mia's Heart Box</td>\n",
       "      <td>Friends</td>\n",
       "      <td>83</td>\n",
       "      <td>7.99</td>\n",
       "      <td>18.64</td>\n",
       "      <td>2019</td>\n",
       "      <td>Ages_6+</td>\n",
       "      <td>32</td>\n",
       "      <td>1.0</td>\n",
       "      <td>NaN</td>\n",
       "      <td>0.14Kg (0.31 lb)</td>\n",
       "      <td>38</td>\n",
       "      <td>Small</td>\n",
       "      <td>10.65</td>\n",
       "    </tr>\n",
       "    <tr>\n",
       "      <th>32</th>\n",
       "      <td>41363</td>\n",
       "      <td>Mia's Forest Adventures</td>\n",
       "      <td>Friends</td>\n",
       "      <td>134</td>\n",
       "      <td>14.99</td>\n",
       "      <td>18.95</td>\n",
       "      <td>2019</td>\n",
       "      <td>Ages_6+</td>\n",
       "      <td>44</td>\n",
       "      <td>1.0</td>\n",
       "      <td>NaN</td>\n",
       "      <td>0.15Kg (0.33 lb)</td>\n",
       "      <td>77</td>\n",
       "      <td>Small</td>\n",
       "      <td>3.96</td>\n",
       "    </tr>\n",
       "    <tr>\n",
       "      <th>38</th>\n",
       "      <td>41384</td>\n",
       "      <td>Andrea's Summer Heart Box</td>\n",
       "      <td>Friends</td>\n",
       "      <td>83</td>\n",
       "      <td>7.99</td>\n",
       "      <td>14.99</td>\n",
       "      <td>2019</td>\n",
       "      <td>Ages_6+</td>\n",
       "      <td>36</td>\n",
       "      <td>1.0</td>\n",
       "      <td>Other</td>\n",
       "      <td>NaN</td>\n",
       "      <td>46</td>\n",
       "      <td>Small</td>\n",
       "      <td>7.00</td>\n",
       "    </tr>\n",
       "    <tr>\n",
       "      <th>41</th>\n",
       "      <td>41396</td>\n",
       "      <td>Puppy Playground</td>\n",
       "      <td>Friends</td>\n",
       "      <td>57</td>\n",
       "      <td>9.99</td>\n",
       "      <td>8.99</td>\n",
       "      <td>2020</td>\n",
       "      <td>Ages_4+</td>\n",
       "      <td>40</td>\n",
       "      <td>1.0</td>\n",
       "      <td>Box</td>\n",
       "      <td>NaN</td>\n",
       "      <td>41</td>\n",
       "      <td>Small</td>\n",
       "      <td>-1.00</td>\n",
       "    </tr>\n",
       "    <tr>\n",
       "      <th>42</th>\n",
       "      <td>41400</td>\n",
       "      <td>Andrea's Play Cube - Singer</td>\n",
       "      <td>Friends</td>\n",
       "      <td>49</td>\n",
       "      <td>9.99</td>\n",
       "      <td>18.93</td>\n",
       "      <td>2020</td>\n",
       "      <td>Ages_6+</td>\n",
       "      <td>5</td>\n",
       "      <td>1.0</td>\n",
       "      <td>Box</td>\n",
       "      <td>NaN</td>\n",
       "      <td>32</td>\n",
       "      <td>Small</td>\n",
       "      <td>8.94</td>\n",
       "    </tr>\n",
       "    <tr>\n",
       "      <th>43</th>\n",
       "      <td>41403</td>\n",
       "      <td>Mia's Play Cube - Veterinarian</td>\n",
       "      <td>Friends</td>\n",
       "      <td>40</td>\n",
       "      <td>9.99</td>\n",
       "      <td>17.97</td>\n",
       "      <td>2020</td>\n",
       "      <td>Ages_6+</td>\n",
       "      <td>5</td>\n",
       "      <td>1.0</td>\n",
       "      <td>Box</td>\n",
       "      <td>NaN</td>\n",
       "      <td>32</td>\n",
       "      <td>Small</td>\n",
       "      <td>7.98</td>\n",
       "    </tr>\n",
       "    <tr>\n",
       "      <th>44</th>\n",
       "      <td>41408</td>\n",
       "      <td>Mia's Play Cube - Cinema</td>\n",
       "      <td>Friends</td>\n",
       "      <td>37</td>\n",
       "      <td>9.99</td>\n",
       "      <td>15.32</td>\n",
       "      <td>2020</td>\n",
       "      <td>Ages_6+</td>\n",
       "      <td>5</td>\n",
       "      <td>1.0</td>\n",
       "      <td>Box</td>\n",
       "      <td>NaN</td>\n",
       "      <td>31</td>\n",
       "      <td>Small</td>\n",
       "      <td>5.33</td>\n",
       "    </tr>\n",
       "    <tr>\n",
       "      <th>61</th>\n",
       "      <td>60219</td>\n",
       "      <td>Construction Loader</td>\n",
       "      <td>City</td>\n",
       "      <td>88</td>\n",
       "      <td>9.99</td>\n",
       "      <td>8.99</td>\n",
       "      <td>2019</td>\n",
       "      <td>Ages_5+</td>\n",
       "      <td>36</td>\n",
       "      <td>1.0</td>\n",
       "      <td>Box</td>\n",
       "      <td>0.16Kg (0.34 lb)</td>\n",
       "      <td>50</td>\n",
       "      <td>Small</td>\n",
       "      <td>-1.00</td>\n",
       "    </tr>\n",
       "    <tr>\n",
       "      <th>69</th>\n",
       "      <td>60249</td>\n",
       "      <td>Street Sweeper</td>\n",
       "      <td>City</td>\n",
       "      <td>89</td>\n",
       "      <td>9.99</td>\n",
       "      <td>8.99</td>\n",
       "      <td>2020</td>\n",
       "      <td>Ages_5+</td>\n",
       "      <td>48</td>\n",
       "      <td>1.0</td>\n",
       "      <td>Box</td>\n",
       "      <td>0.14Kg (0.31 lb)</td>\n",
       "      <td>55</td>\n",
       "      <td>Small</td>\n",
       "      <td>-1.00</td>\n",
       "    </tr>\n",
       "    <tr>\n",
       "      <th>70</th>\n",
       "      <td>60251</td>\n",
       "      <td>Monster Truck</td>\n",
       "      <td>City</td>\n",
       "      <td>55</td>\n",
       "      <td>9.99</td>\n",
       "      <td>8.99</td>\n",
       "      <td>2020</td>\n",
       "      <td>Ages_5+</td>\n",
       "      <td>32</td>\n",
       "      <td>1.0</td>\n",
       "      <td>Box</td>\n",
       "      <td>0.14Kg (0.31 lb)</td>\n",
       "      <td>34</td>\n",
       "      <td>Small</td>\n",
       "      <td>-1.00</td>\n",
       "    </tr>\n",
       "  </tbody>\n",
       "</table>\n",
       "</div>"
      ],
      "text/plain": [
       "    item_number                        set_name    theme  pieces  price  \\\n",
       "6         10872         Train Bridge and Tracks   DUPLO®      26  24.99   \n",
       "9         10878                Rapunzel's Tower   DUPLO®      37  29.99   \n",
       "16        10908                           Plane   DUPLO®      12   9.99   \n",
       "22        10927                     Pizza Stand   DUPLO®      18   9.99   \n",
       "25        41330     Stephanie's Soccer Practice  Friends     119  14.99   \n",
       "26        41333        Olivia's Mission Vehicle  Friends     223  19.99   \n",
       "30        41356           Stephanie's Heart Box  Friends      85   7.99   \n",
       "31        41358                 Mia's Heart Box  Friends      83   7.99   \n",
       "32        41363         Mia's Forest Adventures  Friends     134  14.99   \n",
       "38        41384       Andrea's Summer Heart Box  Friends      83   7.99   \n",
       "41        41396                Puppy Playground  Friends      57   9.99   \n",
       "42        41400     Andrea's Play Cube - Singer  Friends      49   9.99   \n",
       "43        41403  Mia's Play Cube - Veterinarian  Friends      40   9.99   \n",
       "44        41408        Mia's Play Cube - Cinema  Friends      37   9.99   \n",
       "61        60219             Construction Loader     City      88   9.99   \n",
       "69        60249                  Street Sweeper     City      89   9.99   \n",
       "70        60251                   Monster Truck     City      55   9.99   \n",
       "\n",
       "    amazon_price  year       ages  pages  minifigures packaging  \\\n",
       "6          21.99  2018   Ages_2-5     16          1.0       Box   \n",
       "9          98.99  2018   Ages_2-5     24          1.0       Box   \n",
       "16         23.27  2019    Ages_2+     10          1.0       Box   \n",
       "22          8.99  2020    Ages_2+     12          1.0       Box   \n",
       "25         40.40  2018  Ages_6-12     48          1.0       Box   \n",
       "26         45.95  2018  Ages_6-12     84          1.0       Box   \n",
       "30         14.99  2019    Ages_6+     32          1.0       NaN   \n",
       "31         18.64  2019    Ages_6+     32          1.0       NaN   \n",
       "32         18.95  2019    Ages_6+     44          1.0       NaN   \n",
       "38         14.99  2019    Ages_6+     36          1.0     Other   \n",
       "41          8.99  2020    Ages_4+     40          1.0       Box   \n",
       "42         18.93  2020    Ages_6+      5          1.0       Box   \n",
       "43         17.97  2020    Ages_6+      5          1.0       Box   \n",
       "44         15.32  2020    Ages_6+      5          1.0       Box   \n",
       "61          8.99  2019    Ages_5+     36          1.0       Box   \n",
       "69          8.99  2020    Ages_5+     48          1.0       Box   \n",
       "70          8.99  2020    Ages_5+     32          1.0       Box   \n",
       "\n",
       "              weight  unique_pieces   size  price_diff  \n",
       "6   0.88Kg (1.95 lb)             10  Large       -3.00  \n",
       "9                NaN             26  Large       69.00  \n",
       "16               NaN             11  Large       13.28  \n",
       "22               NaN             15  Large       -1.00  \n",
       "25               NaN             78  Small       25.41  \n",
       "26   0.32Kg (0.7 lb)            106  Small       25.96  \n",
       "30  0.13Kg (0.29 lb)             36  Small        7.00  \n",
       "31  0.14Kg (0.31 lb)             38  Small       10.65  \n",
       "32  0.15Kg (0.33 lb)             77  Small        3.96  \n",
       "38               NaN             46  Small        7.00  \n",
       "41               NaN             41  Small       -1.00  \n",
       "42               NaN             32  Small        8.94  \n",
       "43               NaN             32  Small        7.98  \n",
       "44               NaN             31  Small        5.33  \n",
       "61  0.16Kg (0.34 lb)             50  Small       -1.00  \n",
       "69  0.14Kg (0.31 lb)             55  Small       -1.00  \n",
       "70  0.14Kg (0.31 lb)             34  Small       -1.00  "
      ]
     },
     "execution_count": 68,
     "metadata": {},
     "output_type": "execute_result"
    }
   ],
   "source": [
    "# Part C\n",
    "mask = DF['minifigures'] == DF['minifigures'].min()\n",
    "(DF[mask])"
   ]
  },
  {
   "cell_type": "markdown",
   "id": "088c11a5-a766-4583-924a-d9219510950e",
   "metadata": {},
   "source": [
    "#### C) The set with the most minfigures with 15.0 is \"People Pack - Outdoor Adventures.\" Using the chart above we see that ther are 17 sets with 1.0 minifigures which is the least amount of minifigures in any set."
   ]
  },
  {
   "cell_type": "markdown",
   "id": "cf1d2d26-1daf-423d-a5f6-6b36da0649f0",
   "metadata": {},
   "source": [
    "## Problem 7 (10 points)\n",
    "Do an analysis that answers the question below. (free form)\n",
    "\n",
    "I want to buy some Legos for my 6 year old cousin, which Lego set is the best deal?\n",
    "\n",
    "First you will have to describe in words what makes a good deal. Is is price per piece, price per minifig, price per number of unique pieces, price per page, is it some combination of these things? Should you use Retail or Amazon Price?\n",
    "\n",
    "Then you will have to decide what age ranges are appropriate and select just that data.\n",
    "\n",
    "Then you will need to do a calculation and add that column to your data frame.\n",
    "\n",
    "Finally sort your deal column to find the best purchase."
   ]
  },
  {
   "cell_type": "markdown",
   "id": "6ef69d9d-5064-4dcc-9b05-0d7703f02994",
   "metadata": {},
   "source": [
    "#### What I would do is use a column we already have, price difference. I would look at what the lowest price differemce on Amazon is so I can get better value for my dollar saving money from the retail price. I would do so using the code below. Using the code below we can see Amazon saves us $13.99 when purchacing through them, it also fits your cousin\"s age range at 5+ years old."
   ]
  },
  {
   "cell_type": "code",
   "execution_count": 69,
   "id": "befcc106-9e6b-479d-a58a-f1d0a0154997",
   "metadata": {},
   "outputs": [
    {
     "data": {
      "text/html": [
       "<div>\n",
       "<style scoped>\n",
       "    .dataframe tbody tr th:only-of-type {\n",
       "        vertical-align: middle;\n",
       "    }\n",
       "\n",
       "    .dataframe tbody tr th {\n",
       "        vertical-align: top;\n",
       "    }\n",
       "\n",
       "    .dataframe thead th {\n",
       "        text-align: right;\n",
       "    }\n",
       "</style>\n",
       "<table border=\"1\" class=\"dataframe\">\n",
       "  <thead>\n",
       "    <tr style=\"text-align: right;\">\n",
       "      <th></th>\n",
       "      <th>item_number</th>\n",
       "      <th>set_name</th>\n",
       "      <th>theme</th>\n",
       "      <th>pieces</th>\n",
       "      <th>price</th>\n",
       "      <th>amazon_price</th>\n",
       "      <th>year</th>\n",
       "      <th>ages</th>\n",
       "      <th>pages</th>\n",
       "      <th>minifigures</th>\n",
       "      <th>packaging</th>\n",
       "      <th>weight</th>\n",
       "      <th>unique_pieces</th>\n",
       "      <th>size</th>\n",
       "      <th>price_diff</th>\n",
       "    </tr>\n",
       "  </thead>\n",
       "  <tbody>\n",
       "    <tr>\n",
       "      <th>59</th>\n",
       "      <td>60215</td>\n",
       "      <td>Fire Station</td>\n",
       "      <td>City</td>\n",
       "      <td>509</td>\n",
       "      <td>69.99</td>\n",
       "      <td>56.0</td>\n",
       "      <td>2019</td>\n",
       "      <td>Ages_5+</td>\n",
       "      <td>184</td>\n",
       "      <td>4.0</td>\n",
       "      <td>Box</td>\n",
       "      <td>1.17Kg (2.57 lb)</td>\n",
       "      <td>210</td>\n",
       "      <td>Small</td>\n",
       "      <td>-13.99</td>\n",
       "    </tr>\n",
       "  </tbody>\n",
       "</table>\n",
       "</div>"
      ],
      "text/plain": [
       "    item_number      set_name theme  pieces  price  amazon_price  year  \\\n",
       "59        60215  Fire Station  City     509  69.99          56.0  2019   \n",
       "\n",
       "       ages  pages  minifigures packaging            weight  unique_pieces  \\\n",
       "59  Ages_5+    184          4.0       Box  1.17Kg (2.57 lb)            210   \n",
       "\n",
       "     size  price_diff  \n",
       "59  Small      -13.99  "
      ]
     },
     "execution_count": 69,
     "metadata": {},
     "output_type": "execute_result"
    }
   ],
   "source": [
    "mask = DF['price_diff'] == DF['price_diff'].min()\n",
    "(DF[mask])"
   ]
  }
 ],
 "metadata": {
  "kernelspec": {
   "display_name": "Python [conda env:base] *",
   "language": "python",
   "name": "conda-base-py"
  },
  "language_info": {
   "codemirror_mode": {
    "name": "ipython",
    "version": 3
   },
   "file_extension": ".py",
   "mimetype": "text/x-python",
   "name": "python",
   "nbconvert_exporter": "python",
   "pygments_lexer": "ipython3",
   "version": "3.13.5"
  }
 },
 "nbformat": 4,
 "nbformat_minor": 5
}
